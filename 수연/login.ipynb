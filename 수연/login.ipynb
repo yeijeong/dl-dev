{
 "cells": [
  {
   "cell_type": "code",
   "execution_count": 11,
   "metadata": {},
   "outputs": [],
   "source": [
    "import win32com.client\n",
    "import pythoncom\n",
    "\n",
    "class XASessionEventHandler:\n",
    "    login_state = 0\n",
    "\n",
    "    def OnLogin(self, code, msg):\n",
    "        if code == \"0000\":\n",
    "            print(\"로그인 성공\")\n",
    "            XASessionEventHandler.login_state = 1\n",
    "        else:\n",
    "            print(\"로그인 실패\")\n",
    "\n",
    "instXASession = win32com.client.DispatchWithEvents(\"XA_Session.XASession\", XASessionEventHandler)"
   ]
  },
  {
   "cell_type": "code",
   "execution_count": 13,
   "metadata": {},
   "outputs": [
    {
     "name": "stdout",
     "output_type": "stream",
     "text": [
      "로그인 성공\n"
     ]
    }
   ],
   "source": [
    "id = \"ssuyan\"\n",
    "passwd = \"tndus1!!\"\n",
    "cert_passwd = \"qkrtndus1!!\"\n",
    "\n",
    "instXASession.ConnectServer('demo.ebestsec.co.kr', 20001)\n",
    "instXASession.Login(id, passwd, cert_passwd, 0, 0)\n",
    "\n",
    "while XASessionEventHandler.login_state == 0:\n",
    "    pythoncom.PumpWaitingMessages()"
   ]
  }
 ],
 "metadata": {
  "kernelspec": {
   "display_name": "traiding",
   "language": "python",
   "name": "python3"
  },
  "language_info": {
   "codemirror_mode": {
    "name": "ipython",
    "version": 3
   },
   "file_extension": ".py",
   "mimetype": "text/x-python",
   "name": "python",
   "nbconvert_exporter": "python",
   "pygments_lexer": "ipython3",
   "version": "3.7.13"
  },
  "orig_nbformat": 4
 },
 "nbformat": 4,
 "nbformat_minor": 2
}
