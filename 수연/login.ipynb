{
 "cells": [
  {
   "cell_type": "code",
   "execution_count": 16,
   "metadata": {},
   "outputs": [
    {
     "ename": "NameError",
     "evalue": "name 'winAPI' is not defined",
     "output_type": "error",
     "traceback": [
      "\u001b[1;31m---------------------------------------------------------------------------\u001b[0m",
      "\u001b[1;31mNameError\u001b[0m                                 Traceback (most recent call last)",
      "\u001b[1;32m~\\AppData\\Local\\Temp\\ipykernel_9892\\3206701140.py\u001b[0m in \u001b[0;36m<module>\u001b[1;34m\u001b[0m\n\u001b[0;32m      1\u001b[0m \u001b[0mTR\u001b[0m \u001b[1;33m=\u001b[0m \u001b[1;34m\"t8430\"\u001b[0m\u001b[1;33m\u001b[0m\u001b[1;33m\u001b[0m\u001b[0m\n\u001b[1;32m----> 2\u001b[1;33m \u001b[0mxa_query\u001b[0m \u001b[1;33m=\u001b[0m \u001b[0mwinAPI\u001b[0m\u001b[1;33m.\u001b[0m\u001b[0mDispatchWithEvents\u001b[0m\u001b[1;33m(\u001b[0m\u001b[1;34m\"XA_DataSet.XAQuery\"\u001b[0m\u001b[1;33m,\u001b[0m \u001b[0mXAQueryEvents\u001b[0m\u001b[1;33m)\u001b[0m\u001b[1;33m\u001b[0m\u001b[1;33m\u001b[0m\u001b[0m\n\u001b[0m\u001b[0;32m      3\u001b[0m \u001b[0mxa_query\u001b[0m\u001b[1;33m.\u001b[0m\u001b[0mResFileName\u001b[0m \u001b[1;33m=\u001b[0m \u001b[1;34m\"C:\\\\eBEST\\\\xingAPI\\\\Res\\\\\"\u001b[0m \u001b[1;33m+\u001b[0m \u001b[0mTR\u001b[0m \u001b[1;33m+\u001b[0m \u001b[1;34m\".res\"\u001b[0m\u001b[1;33m\u001b[0m\u001b[1;33m\u001b[0m\u001b[0m\n\u001b[0;32m      4\u001b[0m \u001b[1;33m\u001b[0m\u001b[0m\n\u001b[0;32m      5\u001b[0m \u001b[0mxa_query\u001b[0m\u001b[1;33m.\u001b[0m\u001b[0mSetFieldData\u001b[0m\u001b[1;33m(\u001b[0m\u001b[1;34m\"t8430InBlock\"\u001b[0m\u001b[1;33m,\u001b[0m \u001b[1;34m\"gubun\"\u001b[0m\u001b[1;33m,\u001b[0m \u001b[1;36m0\u001b[0m\u001b[1;33m,\u001b[0m \u001b[1;36m1\u001b[0m\u001b[1;33m)\u001b[0m\u001b[1;33m\u001b[0m\u001b[1;33m\u001b[0m\u001b[0m\n",
      "\u001b[1;31mNameError\u001b[0m: name 'winAPI' is not defined"
     ]
    }
   ],
   "source": [
    "TR = \"t8430\"\n",
    "xa_query = winAPI.DispatchWithEvents(\"XA_DataSet.XAQuery\", XAQueryEvents)\n",
    "xa_query.ResFileName = \"C:\\\\eBEST\\\\xingAPI\\\\Res\\\\\" + TR + \".res\"\n",
    "\n",
    "xa_query.SetFieldData(\"t8430InBlock\", \"gubun\", 0, 1)\n",
    "\n",
    "while True:\n",
    "    ret = xa_query.Request(False)\n",
    "    \"\"\" Receiving error message, keep requesting until accepted \"\"\"\n",
    "    if ret is TRANSACTION_REQUEST_EXCESS:  # -34\n",
    "        time.sleep(0.8)\n",
    "    else:\n",
    "        break\n",
    "\"\"\" Wait window's event message \"\"\"\n",
    "while XAQueryEvents.query_state is STAND_BY:\n",
    "    pythoncom.PumpWaitingMessages()\n",
    "XAQueryEvents.query_state = STAND_BY"
   ]
  },
  {
   "cell_type": "code",
   "execution_count": null,
   "metadata": {},
   "outputs": [],
   "source": []
  }
 ],
 "metadata": {
  "kernelspec": {
   "display_name": "traiding",
   "language": "python",
   "name": "python3"
  },
  "language_info": {
   "codemirror_mode": {
    "name": "ipython",
    "version": 3
   },
   "file_extension": ".py",
   "mimetype": "text/x-python",
   "name": "python",
   "nbconvert_exporter": "python",
   "pygments_lexer": "ipython3",
   "version": "3.7.13"
  },
  "orig_nbformat": 4
 },
 "nbformat": 4,
 "nbformat_minor": 2
}
