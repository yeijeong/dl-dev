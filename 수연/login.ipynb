{
 "cells": [
  {
   "cell_type": "code",
   "execution_count": 14,
   "metadata": {},
   "outputs": [],
   "source": [
    "import win32com.client\n",
    "import pythoncom\n",
    "\n",
    "class XASessionEventHandler:\n",
    "    login_state = 0\n",
    "\n",
    "    def OnLogin(self, code, msg):\n",
    "        if code == \"0000\":\n",
    "            print(\"로그인 성공\")\n",
    "            XASessionEventHandler.login_state = 1\n",
    "        else:\n",
    "            print(\"로그인 실패\")\n",
    "\n",
    "instXASession = win32com.client.DispatchWithEvents(\"XA_Session.XASession\", XASessionEventHandler)"
   ]
  },
  {
   "cell_type": "code",
   "execution_count": 15,
   "metadata": {},
   "outputs": [
    {
     "name": "stdout",
     "output_type": "stream",
     "text": [
      "로그인 성공\n"
     ]
    }
   ],
   "source": [
    "id = \"ssuyan\"\n",
    "passwd = \"tndus1!!\"\n",
    "cert_passwd = \"qkrtndus1!!\"\n",
    "\n",
    "instXASession.ConnectServer('demo.ebestsec.co.kr', 20001)\n",
    "instXASession.Login(id, passwd, cert_passwd, 0, 0)\n",
    "\n",
    "while XASessionEventHandler.login_state == 0:\n",
    "    pythoncom.PumpWaitingMessages()"
   ]
  },
  {
   "attachments": {},
   "cell_type": "markdown",
   "metadata": {},
   "source": [
    "---\n",
    "##### GetAccountListCount() : 계좌의 개수를 가져오는 메소드\n",
    "##### GetAccountList() : 계좌 번호를 가져오는 메소드\n",
    "---"
   ]
  },
  {
   "attachments": {},
   "cell_type": "markdown",
   "metadata": {},
   "source": [
    "---\n",
    "- 상시모의투자 국내주식\n",
    "\n",
    "- 개인공매도 모의거래 이수용 국내주식\n",
    "\n",
    "- 상시모의투자 국내선물옵션\n",
    "\n",
    "- 상시모의투자 해외선물\n",
    "---"
   ]
  },
  {
   "cell_type": "code",
   "execution_count": 16,
   "metadata": {},
   "outputs": [
    {
     "name": "stdout",
     "output_type": "stream",
     "text": [
      "55501866501\n",
      "55501866601\n",
      "55501463751\n",
      "55501600271\n"
     ]
    }
   ],
   "source": [
    "num_account = instXASession.GetAccountListCount()\n",
    "for i in range(num_account):\n",
    "    account = instXASession.GetAccountList(i)\n",
    "    print(account)"
   ]
  }
 ],
 "metadata": {
  "kernelspec": {
   "display_name": "traiding",
   "language": "python",
   "name": "python3"
  },
  "language_info": {
   "codemirror_mode": {
    "name": "ipython",
    "version": 3
   },
   "file_extension": ".py",
   "mimetype": "text/x-python",
   "name": "python",
   "nbconvert_exporter": "python",
   "pygments_lexer": "ipython3",
   "version": "3.7.13"
  },
  "orig_nbformat": 4
 },
 "nbformat": 4,
 "nbformat_minor": 2
}
