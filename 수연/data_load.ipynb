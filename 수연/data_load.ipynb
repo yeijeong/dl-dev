{
 "cells": [
  {
   "cell_type": "code",
   "execution_count": 1,
   "metadata": {},
   "outputs": [],
   "source": [
    "import sys\n",
    "import platform\n",
    "assert sys.platform == 'win32', 'xingAPI는 Windows 환경에서 사용 가능합니다.'\n",
    "assert platform.architecture()[0] == '32bit', 'xingAPI는 32bit 환경에서 사용 가능합니다.'\n",
    "\n",
    "import os\n",
    "import pandas as pd\n",
    "import pytz\n",
    "import re\n",
    "import time\n",
    "from datetime import date, datetime, timedelta\n",
    "from getpass import getpass\n",
    "from pythoncom import PumpWaitingMessages\n",
    "from win32com.client import DispatchWithEvents\n",
    "\n",
    "import logging\n",
    "logger = logging.getLogger(__name__)\n",
    "logger.setLevel(logging.DEBUG)\n",
    "_h = logging.StreamHandler()\n",
    "_h.setLevel(logging.DEBUG)\n",
    "logger.addHandler(_h)"
   ]
  },
  {
   "cell_type": "code",
   "execution_count": 3,
   "metadata": {},
   "outputs": [],
   "source": [
    "XINGAPI_PATH = '/eBEST/xingAPI/'"
   ]
  },
  {
   "cell_type": "code",
   "execution_count": 13,
   "metadata": {},
   "outputs": [],
   "source": [
    "class _SessionHandler:\n",
    "    def OnLogin(self, code, msg):\n",
    "        \"\"\" 서버와의 로그인이 끝나면 실행되는 함수\n",
    "\n",
    "            @arg code[str] 서버에서 받은 메시지 코드\n",
    "            @arg msg[str] 서버에서 받은 메시지 정보\n",
    "        \"\"\"\n",
    "        self.waiting = False\n",
    "    \n",
    "        if code == '0000':\n",
    "            logger.info('[*] 로그인 성공')\n",
    "        else:\n",
    "            logger.warning('[*] 로그인 실패 : {}'.format(msg))\n",
    "    \n",
    "    def OnDisconnect(self):\n",
    "        \"\"\" 서버와의 연결이 끊어졌을 때 실행되는 함수\n",
    "        \"\"\"\n",
    "        self.waiting = False\n",
    "        \n",
    "        logger.info('[*] 서버와의 연결이 끊어졌습니다')\n"
   ]
  },
  {
   "cell_type": "code",
   "execution_count": 14,
   "metadata": {},
   "outputs": [],
   "source": [
    "_session = DispatchWithEvents('XA_Session.XASession', _SessionHandler)"
   ]
  },
  {
   "cell_type": "code",
   "execution_count": 18,
   "metadata": {},
   "outputs": [
    {
     "data": {
      "text/plain": [
       "True"
      ]
     },
     "execution_count": 18,
     "metadata": {},
     "output_type": "execute_result"
    }
   ],
   "source": [
    "_session.ConnectServer('hts.ebestsec.co.kr', 20001)"
   ]
  },
  {
   "cell_type": "code",
   "execution_count": 15,
   "metadata": {},
   "outputs": [],
   "source": [
    "def login(\n",
    "    server='https://www.ebestsec.co.kr/',\n",
    "    username='박수연',\n",
    "    password='tndus1!!',\n",
    "):\n",
    "    \"\"\" 로그인\n",
    "    \"\"\"\n",
    "    # 기존에 연결되어 있는 서버가 있으면, 연결을 끊는다\n",
    "    if _session.IsConnected():\n",
    "        _session.DisconnectServer()\n",
    "    \n",
    "    # 로그인 시 필요한 정보를 입력받는다\n",
    "    login_server = (server or input('[*] 접속 서버 ((r)eal / (D)emo / (a)ce) : ')).lower()[:1]\n",
    "    login_server = {\n",
    "        'r': 'hts.ebestsec.co.kr',\n",
    "        'd': 'demo.ebestsec.co.kr',\n",
    "        'a': '127.0.0.1'\n",
    "    }.get(login_server, 'demo.ebestsec.co.kr')\n",
    "    login_port = 20001\n",
    "    login_id = username or input('[*] 아이디 : ')\n",
    "    login_pw = password or getpass('[*] 패스워드 : ')\n",
    "    login_cert = '' if login_server == 'demo.ebestsec.co.kr' else getpass('[*] 공인인증서 암호 : ')\n",
    "    \n",
    "    # 로그인 요청을 보낸다\n",
    "    _session.waiting = True\n",
    "    _session.ConnectServer(login_server, login_port)\n",
    "    _session.Login(login_id, login_pw, login_cert, 0, 0)\n",
    "    while _session.waiting:\n",
    "        PumpWaitingMessages()\n",
    "        time.sleep(0.05)"
   ]
  },
  {
   "cell_type": "code",
   "execution_count": 19,
   "metadata": {},
   "outputs": [],
   "source": [
    "def query(res, send, cont=False, timeout=10):\n",
    "    \"\"\" Query 요청\n",
    "\n",
    "        @arg res[str]`t1102` 사용할 res 파일명\n",
    "        @arg send[dict] 전송할 데이터\n",
    "            {\n",
    "                'Block1': [{'Field1': 'Value1', 'Field2': 'Value2'}, {...}, {...}],\n",
    "                'Block2': {'Field3': 'Value3', 'Field4': 'Value4'}\n",
    "            }\n",
    "    \n",
    "            단일 InBlock의 경우에는 아래와 같이 간단한 형식도 입력받음\n",
    "            {'Field1': 'Value1', 'Field2': 'Value2'}\n",
    "        @arg cont[*bool=False] 연속조회 여부\n",
    "        @arg timeout[*int=10] 서버 응답 최대 대기 시간, -1인 경우 infinite time\n",
    "    \"\"\""
   ]
  },
  {
   "cell_type": "code",
   "execution_count": 20,
   "metadata": {},
   "outputs": [],
   "source": [
    "query('t1101', {'shcode': '000020'})\n",
    "query('t1104', {\n",
    "  't1104InBlock': {'code': '000020', 'nrec': 2},\n",
    "  't1104InBlock1': [\n",
    "    {'dat1': '2', 'dat2': '2', 'gubn': '1', 'indx': '0'},\n",
    "    {'dat1': '1', 'dat2': '1', 'gubn': '2', 'indx': '1'}\n",
    "  ]\n",
    "})"
   ]
  },
  {
   "cell_type": "code",
   "execution_count": 21,
   "metadata": {},
   "outputs": [],
   "source": [
    "_query_status = {}"
   ]
  },
  {
   "cell_type": "code",
   "execution_count": 22,
   "metadata": {},
   "outputs": [],
   "source": [
    "def query(res, send, cont=False, timeout=10):\n",
    "    \"\"\" Query 요청\n",
    "\n",
    "        @arg res[str]`t1102` 사용할 res 파일명\n",
    "        @arg send[dict] 전송할 데이터\n",
    "            {\n",
    "                'Block1': [{'Field1': 'Value1', 'Field2': 'Value2'}, {...}, {...}],\n",
    "                'Block2': {'Field3': 'Value3', 'Field4': 'Value4'}\n",
    "            }\n",
    "    \n",
    "            단일 InBlock의 경우에는 아래와 같이 간단한 형식도 입력받음\n",
    "            {'Field1': 'Value1', 'Field2': 'Value2'}\n",
    "        @arg cont[*bool=False] 연속조회 여부\n",
    "        @arg timeout[*int=10] 서버 응답 최대 대기 시간, -1인 경우 infinite time\n",
    "    \"\"\"\n",
    "    # res 파일 로드\n",
    "    _query = DispatchWithEvents('XA_DataSet.XAQuery', _QueryHandler)\n",
    "    _query.init(res)\n",
    "    \n",
    "    if not cont:\n",
    "        # 전송 현황 업데이트\n",
    "        if not res in _query_status:\n",
    "            _query_status[res] = []\n",
    "        \n",
    "        while _query_status[res] and _query_status[res][-1] + 1 < time.time():\n",
    "            _query_status[res].pop()\n",
    "        \n",
    "        # 초당 전송 횟수를 고려\n",
    "        tr_count_per_sec = _query.GetTRCountPerSec(res)\n",
    "        if len(_query_status[res]) >= tr_count_per_sec:\n",
    "            delay = max(_query_status[res][-1] + 1.05 - time.time(), 0)\n",
    "            time.sleep(delay)\n",
    "        \n",
    "        # 기간(10분)당 전송 횟수를 고려\n",
    "        # TODO : 10분 제한이 걸리면 blocking state 진입\n",
    "        tr_count_limit = _query.GetTRCountLimit(res)\n",
    "        while tr_count_limit and _query.GetTRCountRequest(res) >= tr_count_limit:\n",
    "            time.sleep(1)\n",
    "            _query = DispatchWithEvents('XA_DataSet.XAQuery', _QueryHandler)\n",
    "            _query.init(res)\n",
    "    \n",
    "    # simplified 된 input를 받았을 경우\n",
    "    send_first_value = list(send.values())[0]\n",
    "    if not (\n",
    "        isinstance (send_first_value, list) or\n",
    "        isinstance (send_first_value, dict)\n",
    "    ):\n",
    "        send = { '{}InBlock'.format(res): send }\n",
    "    \n",
    "    # 전송할 데이터를 설정\n",
    "    for block in send.keys():\n",
    "        if isinstance(send[block], dict):\n",
    "            for (k, v) in send[block].items():\n",
    "                _query.set_data(block, k, v)\n",
    "        elif isinstance(send[block], list):\n",
    "            for i in range(len(send[block])):\n",
    "                for (k, v) in send[block][i].items():\n",
    "                    _query.set_data(block, k, v, i)\n",
    "        else:\n",
    "            raise ValueError('알 수 없는 형태의 데이터입니다')\n",
    "    \n",
    "    else:\n",
    "        time.sleep(0.05)\n",
    "    \n",
    "    # 데이터 요청\n",
    "    _query.Request(cont)\n",
    "    \n",
    "    now = time.time()\n",
    "    if not cont:\n",
    "        _query_status[res].insert(0, now)\n",
    "    _query.waiting = True\n",
    "    while _query.waiting:\n",
    "        if timeout >= 0 and now + timeout < time.time():\n",
    "            _query.waiting = False\n",
    "            raise TimeoutError('Query Timeout')\n",
    "        PumpWaitingMessages()\n",
    "    \n",
    "    return _query.response"
   ]
  },
  {
   "cell_type": "code",
   "execution_count": 23,
   "metadata": {},
   "outputs": [],
   "source": [
    "class _QueryHandler:\n",
    "    def __init__(self):\n",
    "        self.response = {}\n",
    "        self.decomp = False\n",
    "        self.qrycnt = None\n",
    "        self.waiting = False\n",
    "        self.res = None\n",
    "    \n",
    "    def init(self, res):\n",
    "        self.LoadFromResFile('/Res/{}.res'.format(res))\n",
    "        self.res = res\n",
    "    \n",
    "    def set_data(self, block, k, v, index=0):\n",
    "        if k == 'comp_yn' and v.lower() == 'y':\n",
    "            self.decomp = True\n",
    "        elif k == 'qrycnt':\n",
    "            self.qrycnt = int(v)\n",
    "        \n",
    "        self.SetFieldData(block, k, index, v)"
   ]
  },
  {
   "cell_type": "code",
   "execution_count": 24,
   "metadata": {},
   "outputs": [],
   "source": [
    "class _QueryHandler:\n",
    "  # (... continued)\n",
    "  \n",
    "    def get_block_data(self, block, index=0):\n",
    "        block_data = {}\n",
    "        for field in meta_res[self.res]['output'][block]['fields']:\n",
    "            data = self.GetFieldData(block, field['name'], index)\n",
    "            \n",
    "            if field['type'] == 'long':\n",
    "                if data == '-':\n",
    "                    data = 0\n",
    "                data = int(data or 0)\n",
    "            elif field['type'] == 'double' or field['type'] == 'float':\n",
    "                data = float(data or 0.0)\n",
    "            \n",
    "            block_data[field['name']] = data\n",
    "        \n",
    "        return block_data\n",
    "    \n",
    "    def OnReceiveData(self, res):\n",
    "        \"\"\" 요청 데이터 도착 Listener\n",
    "            \n",
    "            self.GetFieldData(...)를 통해 전송받은 데이터 확인이 가능하다.\n",
    "\n",
    "            @arg res[str] 요청 res 파일명\n",
    "        \"\"\"\n",
    "        # decompress가 필요한 경우 압축해제\n",
    "        # TODO : OutBlock1 말고 다른 occurs가 있는 케이스 (ex. FOCCQ33600)\n",
    "        if self.decomp:\n",
    "            self.Decompress(res + 'OutBlock1')\n",
    "        \n",
    "        for block in meta_res[res]['output'].keys():\n",
    "            # 해당 블럭이 occurs인 경우,\n",
    "            if meta_res[res]['output'][block]['occurs']:\n",
    "                row_res = []\n",
    "                for i in range(self.GetBlockCount(block)):\n",
    "                    row_res.append(self.get_block_data(block, i))\n",
    "            # 해당 블럭이 단일 데이터인 경우,\n",
    "            else:\n",
    "                row_res = self.get_block_data(block)\n",
    "        \n",
    "            self.response[block] = row_res\n",
    "        \n",
    "        self.waiting = False\n"
   ]
  },
  {
   "attachments": {},
   "cell_type": "markdown",
   "metadata": {},
   "source": [
    "---\n",
    "## Wrapper Functions 부터"
   ]
  },
  {
   "cell_type": "code",
   "execution_count": 27,
   "metadata": {},
   "outputs": [
    {
     "name": "stdout",
     "output_type": "stream",
     "text": [
      "<function query at 0x0BD2F2B8>\n"
     ]
    }
   ],
   "source": []
  }
 ],
 "metadata": {
  "kernelspec": {
   "display_name": "traiding",
   "language": "python",
   "name": "python3"
  },
  "language_info": {
   "codemirror_mode": {
    "name": "ipython",
    "version": 3
   },
   "file_extension": ".py",
   "mimetype": "text/x-python",
   "name": "python",
   "nbconvert_exporter": "python",
   "pygments_lexer": "ipython3",
   "version": "3.7.13"
  },
  "orig_nbformat": 4
 },
 "nbformat": 4,
 "nbformat_minor": 2
}
