{
 "cells": [
  {
   "cell_type": "code",
   "execution_count": 99,
   "metadata": {},
   "outputs": [],
   "source": [
    "# Module Imports\n",
    "import mariadb\n",
    "import sys"
   ]
  },
  {
   "cell_type": "code",
   "execution_count": 100,
   "metadata": {},
   "outputs": [],
   "source": [
    "import pymysql\n",
    "conn = pymysql.connect(\n",
    "    host='34.64.240.96'\n",
    "    , user='root'\n",
    "    , password='tndusWkd1.'\n",
    "    , db='final_project'\n",
    "    , charset='utf8'\n",
    ")\n",
    "cur = conn.cursor()"
   ]
  },
  {
   "attachments": {},
   "cell_type": "markdown",
   "metadata": {},
   "source": [
    "---\n",
    "##### 커서 생성\n",
    "\n",
    "    - 순차적으로 엑세스 할 때 검색 및 현재 위치를 포함하는 데이터 요소\n",
    "---"
   ]
  },
  {
   "cell_type": "code",
   "execution_count": 101,
   "metadata": {},
   "outputs": [],
   "source": [
    "cur = conn.cursor()"
   ]
  },
  {
   "attachments": {},
   "cell_type": "markdown",
   "metadata": {},
   "source": [
    "---\n",
    "##### 입력 데이터 저장\n",
    "---"
   ]
  },
  {
   "cell_type": "code",
   "execution_count": 102,
   "metadata": {},
   "outputs": [],
   "source": [
    "# Connect to MariaDB Platform\n",
    "\n",
    "# try:\n",
    "#     conn = mariadb.connect(\n",
    "#         user=\"root\",\n",
    "#         password=\"tndusWkd1.\",\n",
    "#         host=\"34.64.240.96\",\n",
    "#         port=3306,\n",
    "#         database=\"final_project\"\n",
    "#     )\n"
   ]
  },
  {
   "cell_type": "code",
   "execution_count": 103,
   "metadata": {},
   "outputs": [],
   "source": [
    "# import pymysql \n",
    " \n",
    "# def dbconnect() : \n",
    "#     conn = pymysql.connect (host='34.64.240.96',user ='root',password='tndusWkd1.',db='final_project',charset='utf8')\n",
    "#     return conn \n",
    "\n",
    "# def search_data(conn):\n",
    "#     cur = conn.cursor()\n",
    "#     sql = 'SELECT * FROM real_news'\n",
    "#     cur.execute(sql)\n",
    "#     results = cur.fetchall()\n",
    "#     print(results)\n",
    "    \n",
    "# def main():\n",
    "#     conn = dbconnect()  # DB 연결\n",
    "#     print('연결완료')\n",
    "#     search_data(conn)\n",
    "    \n",
    "# if __name__==\"__main__\" :\n",
    "#     main()\n",
    "\n",
    "# conn.commit()\n",
    "# conn.close()"
   ]
  },
  {
   "cell_type": "code",
   "execution_count": 104,
   "metadata": {},
   "outputs": [
    {
     "name": "stdout",
     "output_type": "stream",
     "text": [
      "INSERT INTO real_news (NewsDates,NewsTitles,NewsUrls,NewsContents) VALUES ('2023-07-02', '아', '하하', '안녕하세요')\n",
      "INSERT INTO real_news (NewsDates,NewsTitles,NewsUrls,NewsContents) VALUES ('2023-07-03', '너무', '호호', '하이')\n",
      "INSERT INTO real_news (NewsDates,NewsTitles,NewsUrls,NewsContents) VALUES ('2023-07-04', '졸립다', '히히', '하잉')\n"
     ]
    }
   ],
   "source": [
    "date1 = ['2023-07-02', '2023-07-03', '2023-07-04']\n",
    "title1 = ['아', '너무', '졸립다']\n",
    "url1 = ['하하', '호호', '히히']\n",
    "content1 = ['안녕하세요','하이','하잉']\n",
    "for date,title,url,content in zip(date1, title1, url1, content1):\n",
    "    sql = \"INSERT INTO real_news (NewsDates,NewsTitles,NewsUrls,NewsContents) VALUES (%s, %s, %s, %s)\" % (\"'\"+date+\"'\", \"'\"+title+\"'\", \"'\"+url+\"'\", \"'\"+content+\"'\")\n",
    "    print(sql)\n",
    "    cur.execute(sql)\n",
    "conn.commit()\n",
    "conn.close()"
   ]
  },
  {
   "cell_type": "code",
   "execution_count": null,
   "metadata": {},
   "outputs": [],
   "source": []
  }
 ],
 "metadata": {
  "kernelspec": {
   "display_name": "dl-dev-cpu",
   "language": "python",
   "name": "python3"
  },
  "language_info": {
   "codemirror_mode": {
    "name": "ipython",
    "version": 3
   },
   "file_extension": ".py",
   "mimetype": "text/x-python",
   "name": "python",
   "nbconvert_exporter": "python",
   "pygments_lexer": "ipython3",
   "version": "3.10.10"
  },
  "orig_nbformat": 4
 },
 "nbformat": 4,
 "nbformat_minor": 2
}
