{
 "cells": [
  {
   "cell_type": "code",
   "execution_count": 2,
   "metadata": {},
   "outputs": [],
   "source": [
    "# Module Imports\n",
    "import mariadb\n",
    "import sys"
   ]
  },
  {
   "cell_type": "code",
   "execution_count": 3,
   "metadata": {},
   "outputs": [],
   "source": [
    "import pymysql\n",
    "conn = pymysql.connect(\n",
    "    host='34.64.240.96'\n",
    "    , user='root'\n",
    "    , password='tndusWkd1.'\n",
    "    , db='big16'\n",
    "    , charset='utf8'\n",
    ")\n",
    "\n",
    "conn.close()"
   ]
  },
  {
   "attachments": {},
   "cell_type": "markdown",
   "metadata": {},
   "source": [
    "---\n",
    "##### 커서 생성\n",
    "\n",
    "    - 순차적으로 엑세스 할 때 검색 및 현재 위치를 포함하는 데이터 요소\n",
    "---"
   ]
  },
  {
   "cell_type": "code",
   "execution_count": 4,
   "metadata": {},
   "outputs": [],
   "source": [
    "cur = conn.cursor()"
   ]
  },
  {
   "attachments": {},
   "cell_type": "markdown",
   "metadata": {},
   "source": [
    "---\n",
    "##### 입력 데이터 저장\n",
    "---"
   ]
  },
  {
   "cell_type": "code",
   "execution_count": null,
   "metadata": {},
   "outputs": [],
   "source": []
  },
  {
   "cell_type": "code",
   "execution_count": 5,
   "metadata": {},
   "outputs": [],
   "source": [
    "# Connect to MariaDB Platform\n",
    "try:\n",
    "    conn = mariadb.connect(\n",
    "        user=\"root\",\n",
    "        password=\"tndusWkd1.\",\n",
    "        host=\"34.64.240.96\",\n",
    "        port=3306,\n",
    "        database=\"big16\"\n",
    "    )\n",
    "except mariadb.Error as e:\n",
    "    print(f\"Error connecting to MariaDB Platform: {e}\")\n",
    "    sys.exit(1)\n",
    "\n",
    "# Get Cursor\n",
    "cur = conn.cursor()"
   ]
  },
  {
   "cell_type": "code",
   "execution_count": 7,
   "metadata": {},
   "outputs": [
    {
     "name": "stdout",
     "output_type": "stream",
     "text": [
      "연결완료\n",
      "(('20230703', 'd', 'd', 'd'),)\n",
      "연결해제\n"
     ]
    }
   ],
   "source": [
    "import pymysql \n",
    " \n",
    "def dbconnect() : \n",
    "    conn = pymysql.connect (host='34.64.240.96',user ='root',password='tndusWkd1.',db='big16',charset='utf8')\n",
    "    return conn \n",
    "\n",
    "def search_data(conn):\n",
    "    cur = conn.cursor()\n",
    "    sql = 'SELECT * FROM newsdata'\n",
    "    cur.execute(sql)\n",
    "    results = cur.fetchall()\n",
    "    print(results)\n",
    "    \n",
    "def main():\n",
    "    conn = dbconnect()  # DB 연결\n",
    "    print('연결완료')\n",
    "    search_data(conn)\n",
    "    conn.close()        # DB 연결 끊기 \n",
    "    print('연결해제')\n",
    "    \n",
    "if __name__==\"__main__\" :\n",
    "    main()\n",
    "\n",
    "conn.commit()"
   ]
  },
  {
   "cell_type": "code",
   "execution_count": 17,
   "metadata": {},
   "outputs": [
    {
     "ename": "ProgrammingError",
     "evalue": "Invalid connection or not connected",
     "output_type": "error",
     "traceback": [
      "\u001b[1;31m---------------------------------------------------------------------------\u001b[0m",
      "\u001b[1;31mProgrammingError\u001b[0m                          Traceback (most recent call last)",
      "Cell \u001b[1;32mIn[17], line 16\u001b[0m\n\u001b[0;32m     13\u001b[0m     \u001b[39mprint\u001b[39m(sql)\n\u001b[0;32m     14\u001b[0m     cursor\u001b[39m.\u001b[39mexecute(sql)\n\u001b[1;32m---> 16\u001b[0m conn\u001b[39m.\u001b[39;49mcommit()\n\u001b[0;32m     17\u001b[0m conn\u001b[39m.\u001b[39mclose()\n",
      "File \u001b[1;32mc:\\Users\\green\\anaconda3\\envs\\maria\\lib\\site-packages\\mariadb\\connections.py:169\u001b[0m, in \u001b[0;36mConnection.commit\u001b[1;34m(self)\u001b[0m\n\u001b[0;32m    164\u001b[0m \u001b[39mdef\u001b[39;00m \u001b[39mcommit\u001b[39m(\u001b[39mself\u001b[39m):\n\u001b[0;32m    165\u001b[0m \u001b[39m    \u001b[39m\u001b[39m\"\"\"\u001b[39;00m\n\u001b[0;32m    166\u001b[0m \u001b[39m    Commit any pending transaction to the database.\u001b[39;00m\n\u001b[0;32m    167\u001b[0m \u001b[39m    \"\"\"\u001b[39;00m\n\u001b[1;32m--> 169\u001b[0m     \u001b[39mself\u001b[39;49m\u001b[39m.\u001b[39;49m_check_closed()\n\u001b[0;32m    170\u001b[0m     \u001b[39mif\u001b[39;00m \u001b[39mself\u001b[39m\u001b[39m.\u001b[39mtpc_state \u001b[39m>\u001b[39m TPC_STATE\u001b[39m.\u001b[39mNONE:\n\u001b[0;32m    171\u001b[0m         \u001b[39mraise\u001b[39;00m mariadb\u001b[39m.\u001b[39mProgrammingError(\u001b[39m\"\u001b[39m\u001b[39mcommit() is not allowed if \u001b[39m\u001b[39m\"\u001b[39m\n\u001b[0;32m    172\u001b[0m                                        \u001b[39m\"\u001b[39m\u001b[39ma TPC transaction is active\u001b[39m\u001b[39m\"\u001b[39m)\n",
      "File \u001b[1;32mc:\\Users\\green\\anaconda3\\envs\\maria\\lib\\site-packages\\mariadb\\connections.py:44\u001b[0m, in \u001b[0;36mConnection._check_closed\u001b[1;34m(self)\u001b[0m\n\u001b[0;32m     42\u001b[0m \u001b[39mdef\u001b[39;00m \u001b[39m_check_closed\u001b[39m(\u001b[39mself\u001b[39m):\n\u001b[0;32m     43\u001b[0m     \u001b[39mif\u001b[39;00m \u001b[39mself\u001b[39m\u001b[39m.\u001b[39m_closed:\n\u001b[1;32m---> 44\u001b[0m         \u001b[39mraise\u001b[39;00m mariadb\u001b[39m.\u001b[39mProgrammingError(\u001b[39m\"\u001b[39m\u001b[39mInvalid connection or \u001b[39m\u001b[39m\"\u001b[39m\n\u001b[0;32m     45\u001b[0m                                        \u001b[39m\"\u001b[39m\u001b[39mnot connected\u001b[39m\u001b[39m\"\u001b[39m)\n",
      "\u001b[1;31mProgrammingError\u001b[0m: Invalid connection or not connected"
     ]
    }
   ],
   "source": [
    "import requests\n",
    "from bs4 import BeautifulSoup\n",
    "\n",
    "res = requests.get('https://finance.naver.com/news/mainnews.naver')\n",
    "soup = BeautifulSoup(res.content, 'html.parser')\n",
    "\n",
    "titles = soup.select('li a.itemname')\n",
    "for title in titles:\n",
    "    text=title.get_text()\n",
    "    if(text==''):\n",
    "        continue\n",
    "    sql=\"\"\"INSERT INTO item(title) VALUES('\"\"\" + text+ \"\"\"')\"\"\"\n",
    "    print(sql)\n",
    "    cursor.execute(sql)\n",
    "\n",
    "conn.commit()\n",
    "conn.close()"
   ]
  },
  {
   "cell_type": "code",
   "execution_count": 16,
   "metadata": {},
   "outputs": [
    {
     "data": {
      "text/plain": [
       "0"
      ]
     },
     "execution_count": 16,
     "metadata": {},
     "output_type": "execute_result"
    }
   ],
   "source": [
    "newslist = soup.select(\".rankingnews_list\")\n",
    "len(newslist)"
   ]
  },
  {
   "cell_type": "code",
   "execution_count": null,
   "metadata": {},
   "outputs": [],
   "source": []
  },
  {
   "cell_type": "code",
   "execution_count": null,
   "metadata": {},
   "outputs": [],
   "source": []
  }
 ],
 "metadata": {
  "kernelspec": {
   "display_name": "dl-dev-cpu",
   "language": "python",
   "name": "python3"
  },
  "language_info": {
   "codemirror_mode": {
    "name": "ipython",
    "version": 3
   },
   "file_extension": ".py",
   "mimetype": "text/x-python",
   "name": "python",
   "nbconvert_exporter": "python",
   "pygments_lexer": "ipython3",
   "version": "3.10.11"
  },
  "orig_nbformat": 4
 },
 "nbformat": 4,
 "nbformat_minor": 2
}
