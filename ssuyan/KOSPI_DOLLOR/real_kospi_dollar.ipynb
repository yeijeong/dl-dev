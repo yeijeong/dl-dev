{
 "cells": [
  {
   "cell_type": "code",
   "execution_count": 1,
   "metadata": {},
   "outputs": [
    {
     "ename": "AttributeError",
     "evalue": "'DataFrame' object has no attribute 'append'",
     "output_type": "error",
     "traceback": [
      "\u001b[1;31m---------------------------------------------------------------------------\u001b[0m",
      "\u001b[1;31mAttributeError\u001b[0m                            Traceback (most recent call last)",
      "Cell \u001b[1;32mIn[1], line 51\u001b[0m\n\u001b[0;32m     48\u001b[0m now \u001b[39m=\u001b[39m pd\u001b[39m.\u001b[39mTimestamp\u001b[39m.\u001b[39mnow()\u001b[39m.\u001b[39mstrftime(\u001b[39m'\u001b[39m\u001b[39m%\u001b[39m\u001b[39mY-\u001b[39m\u001b[39m%\u001b[39m\u001b[39mm-\u001b[39m\u001b[39m%d\u001b[39;00m\u001b[39m \u001b[39m\u001b[39m%\u001b[39m\u001b[39mH:\u001b[39m\u001b[39m%\u001b[39m\u001b[39mM:\u001b[39m\u001b[39m%\u001b[39m\u001b[39mS\u001b[39m\u001b[39m'\u001b[39m)\n\u001b[0;32m     49\u001b[0m exresult \u001b[39m=\u001b[39m exchange\n\u001b[1;32m---> 51\u001b[0m df \u001b[39m=\u001b[39m df\u001b[39m.\u001b[39;49mappend({\u001b[39m'\u001b[39m\u001b[39mtime\u001b[39m\u001b[39m'\u001b[39m: now, \u001b[39m'\u001b[39m\u001b[39mkospi\u001b[39m\u001b[39m'\u001b[39m: result, \u001b[39m'\u001b[39m\u001b[39mexchange\u001b[39m\u001b[39m'\u001b[39m: exresult}, ignore_index\u001b[39m=\u001b[39m\u001b[39mTrue\u001b[39;00m)\n\u001b[0;32m     52\u001b[0m \u001b[39mprint\u001b[39m(df)\n\u001b[0;32m     54\u001b[0m time\u001b[39m.\u001b[39msleep(\u001b[39m1\u001b[39m)\n",
      "File \u001b[1;32mc:\\Users\\green\\anaconda3\\envs\\pandas-dev\\lib\\site-packages\\pandas\\core\\generic.py:5989\u001b[0m, in \u001b[0;36mNDFrame.__getattr__\u001b[1;34m(self, name)\u001b[0m\n\u001b[0;32m   5982\u001b[0m \u001b[39mif\u001b[39;00m (\n\u001b[0;32m   5983\u001b[0m     name \u001b[39mnot\u001b[39;00m \u001b[39min\u001b[39;00m \u001b[39mself\u001b[39m\u001b[39m.\u001b[39m_internal_names_set\n\u001b[0;32m   5984\u001b[0m     \u001b[39mand\u001b[39;00m name \u001b[39mnot\u001b[39;00m \u001b[39min\u001b[39;00m \u001b[39mself\u001b[39m\u001b[39m.\u001b[39m_metadata\n\u001b[0;32m   5985\u001b[0m     \u001b[39mand\u001b[39;00m name \u001b[39mnot\u001b[39;00m \u001b[39min\u001b[39;00m \u001b[39mself\u001b[39m\u001b[39m.\u001b[39m_accessors\n\u001b[0;32m   5986\u001b[0m     \u001b[39mand\u001b[39;00m \u001b[39mself\u001b[39m\u001b[39m.\u001b[39m_info_axis\u001b[39m.\u001b[39m_can_hold_identifiers_and_holds_name(name)\n\u001b[0;32m   5987\u001b[0m ):\n\u001b[0;32m   5988\u001b[0m     \u001b[39mreturn\u001b[39;00m \u001b[39mself\u001b[39m[name]\n\u001b[1;32m-> 5989\u001b[0m \u001b[39mreturn\u001b[39;00m \u001b[39mobject\u001b[39;49m\u001b[39m.\u001b[39;49m\u001b[39m__getattribute__\u001b[39;49m(\u001b[39mself\u001b[39;49m, name)\n",
      "\u001b[1;31mAttributeError\u001b[0m: 'DataFrame' object has no attribute 'append'"
     ]
    }
   ],
   "source": [
    "import urllib.request\n",
    "from bs4 import BeautifulSoup\n",
    "from urllib import parse\n",
    "from datetime import datetime\n",
    "import datetime\n",
    "\n",
    "basic_url = \"https://finance.naver.com/sise/\"\n",
    "exchange_url = \"https://finance.naver.com/marketindex/\"\n",
    "\n",
    "import pandas as pd\n",
    "import time\n",
    "\n",
    "# 빈 데이터프레임 생성\n",
    "import pandas as pd\n",
    "\n",
    "# 현재 시간을 기록\n",
    "now = datetime.datetime.now()\n",
    "stoptime = datetime.datetime.now().time()\n",
    "#df 생성\n",
    "df = pd.DataFrame({'time': [now.strftime(\"%Y-%m-%d %H:%M:%S\")], 'kospi': '', 'exchange':''})\n",
    "\n",
    "while True:\n",
    "    if stoptime.strftime('%p') == 'PM' and stoptime.hour == 3 and stoptime.minute >= 30: # 오후 3시 반 이후인지 확인\n",
    "        break\n",
    "    fp = urllib.request.urlopen(basic_url)\n",
    "    source = fp.read()\n",
    "    fp.close()\n",
    "\n",
    "    soup = BeautifulSoup(source, 'html.parser')\n",
    "    soup = soup.findAll(\"span\",class_=\"num\")\n",
    "    # 결과값을 변수에 저장\n",
    "    kospi_value = soup[1].string #코스피 지수\n",
    "\n",
    "    now = pd.Timestamp.now().strftime('%Y-%m-%d %H:%M:%S')\n",
    "    result = kospi_value\n",
    "    \n",
    "    #환율 실시간\n",
    "    exchange_url = \"https://finance.naver.com/marketindex/\"\n",
    "    fp = urllib.request.urlopen(exchange_url)\n",
    "    source = fp.read()\n",
    "    fp.close()\n",
    "\n",
    "    soup = BeautifulSoup(source, 'html.parser')\n",
    "    soup = soup.findAll(\"span\",class_=\"value\")\n",
    "    # 결과값을 변수에 저장\n",
    "    exchange = soup[0].string #미국환율 지수\n",
    "\n",
    "    now = pd.Timestamp.now().strftime('%Y-%m-%d %H:%M:%S')\n",
    "    exresult = exchange\n",
    "\n",
    "    df = df.append({'time': now, 'kospi': result, 'exchange': exresult}, ignore_index=True)\n",
    "    print(df)\n",
    "\n",
    "    time.sleep(1)\n",
    "\n",
    "df.to_csv('kospi_exchange'.csv, index=False)  # DataFrame을 CSV 파일로 저장"
   ]
  }
 ],
 "metadata": {
  "kernelspec": {
   "display_name": "pandas-dev",
   "language": "python",
   "name": "python3"
  },
  "language_info": {
   "codemirror_mode": {
    "name": "ipython",
    "version": 3
   },
   "file_extension": ".py",
   "mimetype": "text/x-python",
   "name": "python",
   "nbconvert_exporter": "python",
   "pygments_lexer": "ipython3",
   "version": "3.10.10"
  },
  "orig_nbformat": 4
 },
 "nbformat": 4,
 "nbformat_minor": 2
}
