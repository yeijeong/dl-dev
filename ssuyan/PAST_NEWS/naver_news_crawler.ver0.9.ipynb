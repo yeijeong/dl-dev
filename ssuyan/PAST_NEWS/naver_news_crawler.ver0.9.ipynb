{
 "cells": [
  {
   "cell_type": "code",
   "execution_count": 25,
   "id": "2ff443cc-acc4-470c-8775-401a946e045f",
   "metadata": {},
   "outputs": [],
   "source": [
    "#크롤링시 필요한 라이브러리 불러오기\n",
    "from bs4 import BeautifulSoup\n",
    "import requests"
   ]
  },
  {
   "cell_type": "code",
   "execution_count": 26,
   "id": "f2a42b35-2678-40bc-981d-1aaaa5275748",
   "metadata": {},
   "outputs": [
    {
     "name": "stdout",
     "output_type": "stream",
     "text": [
      "크롤링할 페이지:  1000 페이지\n",
      "생성url:  https://search.naver.com/search.naver?where=news&sm=tab_pge&query=전쟁&start=9991\n"
     ]
    }
   ],
   "source": [
    "#검색어 입력\n",
    "search = input(\"검색할 키워드를 입력해주세요:\")\n",
    "#검색할 페이지 입력\n",
    "page = int(input(\"크롤링할 페이지를 입력해주세요. ex)1(숫자만입력):\")) # ex)1 =1페이지,2=2페이지...\n",
    "print(\"크롤링할 페이지: \",page,\"페이지\")   \n",
    "#start수를 1, 11, 21, 31 ...만들어 주는 함수\n",
    "page_num = 0\n",
    "\n",
    "if page == 1:\n",
    "    page_num =1\n",
    "elif page == 0:\n",
    "    page_num =1\n",
    "else:\n",
    "    page_num = page+9*(page-1)\n",
    "    \n",
    "#url 생성\n",
    "url = \"https://search.naver.com/search.naver?where=news&sm=tab_pge&query=\" + search + \"&start=\" + str(page_num)\n",
    "print(\"생성url: \",url)\n"
   ]
  },
  {
   "cell_type": "code",
   "execution_count": 27,
   "id": "323148cb-f301-409d-96d1-24ac5db0bd76",
   "metadata": {},
   "outputs": [],
   "source": [
    "# ConnectionError방지\n",
    "headers = { \"User-Agent\": \"Mozilla/5.0 (Windows NT 10.0; Win64; x64) Chrome/100.0.48496.75\" }\n",
    "\n",
    "#html불러오기\n",
    "original_html = requests.get(url, headers=headers)\n",
    "html = BeautifulSoup(original_html.text, \"html.parser\")"
   ]
  },
  {
   "cell_type": "code",
   "execution_count": 28,
   "id": "bfd3b504-d371-4897-ae5a-c2282e9ae780",
   "metadata": {},
   "outputs": [
    {
     "name": "stdout",
     "output_type": "stream",
     "text": [
      "[<a class=\"news_tit\" href=\"http://www.osen.co.kr/article/G1112125348\" onclick=\"return goOtherCR(this, 'a=nws*e.tit&amp;r=1&amp;i=8800011B_000000000000000004870649&amp;g=109.0004870649&amp;u='+urlencode(this.href));\" target=\"_blank\" title=\"[사진]김민재,'맨유-뮌헨 영입 전쟁 훈련소에서 느긋하게 기다립니다'\">[사진]김민재,'맨유-뮌헨 영입 <mark>전쟁</mark> 훈련소에서 느긋하게 기다립니다'</a>, <a class=\"news_tit\" href=\"http://www.edaily.co.kr/news/newspath.asp?newsid=01102086635643360\" onclick=\"return goOtherCR(this, 'a=nws*e.tit&amp;r=2&amp;i=880000E7_000000000000000005511658&amp;g=018.0005511658&amp;u='+urlencode(this.href));\" target=\"_blank\" title=\"6월 중순, 벌써 ‘폭염과의 전쟁’…서울, 취약계층에 냉방비 긴급지원\">6월 중순, 벌써 ‘폭염과의 <mark>전쟁</mark>’…서울, 취약계층에 냉방비 긴급지원</a>, <a class=\"news_tit\" href=\"https://news.kbs.co.kr/news/view.do?ncd=7691932&amp;ref=A\" onclick=\"return goOtherCR(this, 'a=nws*e.tit&amp;r=3&amp;i=88000114_000000000000000011498556&amp;g=056.0011498556&amp;u='+urlencode(this.href));\" target=\"_blank\" title=\"법무부 ‘6·25 전쟁 순직’ 교정공무원 충혼탑 건립\">법무부 ‘6·25 <mark>전쟁</mark> 순직’ 교정공무원 충혼탑 건립</a>, <a class=\"news_tit\" href=\"https://www.munhwa.com/news/view.html?no=2023061601039921313001\" onclick=\"return goOtherCR(this, 'a=nws*e.tit&amp;r=4&amp;i=880000C4_000000000000000002577562&amp;g=021.0002577562&amp;u='+urlencode(this.href));\" target=\"_blank\" title=\"한국전쟁 민간인 학살 유족들 “국가범죄 옹호 김광동 진실화해위원장 사퇴”\">한국<mark>전쟁</mark> 민간인 학살 유족들 “국가범죄 옹호 김광동 진실화해위원장 사퇴”</a>, <a class=\"news_tit\" href=\"http://www.enewstoday.co.kr/news/articleView.html?idxno=2007914\" onclick=\"return goOtherCR(this, 'a=nws*b.tit&amp;r=5&amp;i=880003FD_000000000000000000810827&amp;g=5038.0000810827&amp;u='+urlencode(this.href));\" target=\"_blank\" title='윤석열 대통령 \"반도체 경쟁, 산업 전쟁이자 국가 총력전\"'>윤석열 대통령 \"반도체 경쟁, 산업 <mark>전쟁</mark>이자 국가 총력전\"</a>, <a class=\"news_tit\" href=\"http://sports.khan.co.kr/news/sk_index.html?art_id=202306082130013&amp;sec_id=540201&amp;pt=nv\" onclick=\"return goOtherCR(this, 'a=nws*a.tit&amp;r=10&amp;i=8800006D_000000000000000000892216&amp;g=144.0000892216&amp;u='+urlencode(this.href));\" target=\"_blank\" title=\"‘소년판타지’ 1등 자리 놓고 혈전···유준원 VS 홍성민 팬들의 전쟁\">‘소년판타지’ 1등 자리 놓고 혈전···유준원 VS 홍성민 팬들의 <mark>전쟁</mark></a>, <a class=\"news_tit\" href=\"http://www.newsworks.co.kr/news/articleView.html?idxno=718736\" onclick=\"return goOtherCR(this, 'a=nws*f.tit&amp;r=12&amp;i=8817ca74_000000000000000000332299&amp;g=5525.0000332299&amp;u='+urlencode(this.href));\" target=\"_blank\" title=\"[수원소식] 44개 전체 동 하반기 주민총회·6.25전쟁 참전 유공자 유족에 화랑무공훈장 전수·자동차관리과 특사경 '아·야·토' 수사민원실 운영\">[수원소식] 44개 전체 동 하반기 주민총회·6.25<mark>전쟁</mark> 참전 유공자 유족에 화랑...</a>, <a class=\"news_tit\" href=\"https://kookbang.dema.mil.kr/newsWeb/20230626/1/ATCE_CTGR_0020040002/view.do\" onclick=\"return goOtherCR(this, 'a=nws*f.tit&amp;r=13&amp;i=8813C2F9_000000000000000000158567&amp;g=5249.0000158567&amp;u='+urlencode(this.href));\" target=\"_blank\" title=\"[전투식량 EP15] 6·25전쟁에서 승패를 가른 건… 주먹밥?\">[전투식량 EP15] 6·25<mark>전쟁</mark>에서 승패를 가른 건… 주먹밥?</a>, <a class=\"news_tit\" href=\"http://www.seoulwire.com/news/articleView.html?idxno=506242\" onclick=\"return goOtherCR(this, 'a=nws*f.tit&amp;r=14&amp;i=8817ca73_000000000000000000334310&amp;g=5526.0000334310&amp;u='+urlencode(this.href));\" target=\"_blank\" title=\"[식음료 '핫' 열전 ②] 여름면 전쟁~ 매콤달콤 '한판승부'\">[식음료 '핫' 열전 ②] 여름면 <mark>전쟁</mark>~ 매콤달콤 '한판승부'</a>, <a class=\"news_tit\" href=\"http://www.jnilbo.com/70794780669\" onclick=\"return goOtherCR(this, 'a=nws*f.tit&amp;r=15&amp;i=88155e55_000000000000000000208805&amp;g=5379.0000208805&amp;u='+urlencode(this.href));\" target=\"_blank\" title=\"[전남일보]우크라이나 전쟁과 고려인&gt;헝가리 정부, 자국 디아스포라에 이중 국적 부여\">[전남일보]우크라이나 <mark>전쟁</mark>과 고려인&gt;헝가리 정부, 자국 디아스포라에 이중 국...</a>]\n",
      "10 개의 기사가 검색됌.\n"
     ]
    }
   ],
   "source": [
    "# 검색결과\n",
    "articles = html.select(\"div.group_news > ul.list_news > li div.news_area > a\")\n",
    "print(articles)\n",
    "# 검색된 기사의 갯수\n",
    "print(len(articles),\"개의 기사가 검색됌.\")"
   ]
  },
  {
   "cell_type": "code",
   "execution_count": 29,
   "id": "dba32590-73d1-4946-a77e-8ac666eccff8",
   "metadata": {},
   "outputs": [
    {
     "data": {
      "text/plain": [
       "[\"[사진]김민재,'맨유-뮌헨 영입 전쟁 훈련소에서 느긋하게 기다립니다'\",\n",
       " '6월 중순, 벌써 ‘폭염과의 전쟁’…서울, 취약계층에 냉방비 긴급지원',\n",
       " '법무부 ‘6·25 전쟁 순직’ 교정공무원 충혼탑 건립',\n",
       " '한국전쟁 민간인 학살 유족들 “국가범죄 옹호 김광동 진실화해위원장 사퇴”',\n",
       " '윤석열 대통령 \"반도체 경쟁, 산업 전쟁이자 국가 총력전\"',\n",
       " '‘소년판타지’ 1등 자리 놓고 혈전···유준원 VS 홍성민 팬들의 전쟁',\n",
       " \"[수원소식] 44개 전체 동 하반기 주민총회·6.25전쟁 참전 유공자 유족에 화랑무공훈장 전수·자동차관리과 특사경 '아·야·토' 수사민원실 운영\",\n",
       " '[전투식량 EP15] 6·25전쟁에서 승패를 가른 건… 주먹밥?',\n",
       " \"[식음료 '핫' 열전 ②] 여름면 전쟁~ 매콤달콤 '한판승부'\",\n",
       " '[전남일보]우크라이나 전쟁과 고려인>헝가리 정부, 자국 디아스포라에 이중 국적 부여']"
      ]
     },
     "execution_count": 29,
     "metadata": {},
     "output_type": "execute_result"
    }
   ],
   "source": [
    "#뉴스기사 제목 가져오기\n",
    "news_title = []\n",
    "for i in articles:\n",
    "    news_title.append(i.attrs['title'])\n",
    "news_title"
   ]
  },
  {
   "cell_type": "code",
   "execution_count": 30,
   "id": "41385527-5727-4320-b3b0-898151baef61",
   "metadata": {},
   "outputs": [
    {
     "data": {
      "text/plain": [
       "['http://www.osen.co.kr/article/G1112125348',\n",
       " 'http://www.edaily.co.kr/news/newspath.asp?newsid=01102086635643360',\n",
       " 'https://news.kbs.co.kr/news/view.do?ncd=7691932&ref=A',\n",
       " 'https://www.munhwa.com/news/view.html?no=2023061601039921313001',\n",
       " 'http://www.enewstoday.co.kr/news/articleView.html?idxno=2007914',\n",
       " 'http://sports.khan.co.kr/news/sk_index.html?art_id=202306082130013&sec_id=540201&pt=nv',\n",
       " 'http://www.newsworks.co.kr/news/articleView.html?idxno=718736',\n",
       " 'https://kookbang.dema.mil.kr/newsWeb/20230626/1/ATCE_CTGR_0020040002/view.do',\n",
       " 'http://www.seoulwire.com/news/articleView.html?idxno=506242',\n",
       " 'http://www.jnilbo.com/70794780669']"
      ]
     },
     "execution_count": 30,
     "metadata": {},
     "output_type": "execute_result"
    }
   ],
   "source": [
    "#뉴스기사 URL 가져오기\n",
    "news_url = []\n",
    "for i in articles:\n",
    "    news_url.append(i.attrs['href'])\n",
    "news_url"
   ]
  },
  {
   "cell_type": "code",
   "execution_count": 32,
   "id": "97f0fa79-30e9-4ce4-964b-a3709604c371",
   "metadata": {},
   "outputs": [
    {
     "data": {
      "text/plain": [
       "[[<div id=\"articleBody\" itemprop=\"articleBody\">\n",
       "  <html><head></head><body><p>[OSEN=논산, 이대선 기자] 김민재는 15일 오후 2시 충남 논산 육군훈련소를 통해 입소했다.</p><p>김민재는 별도의 행사 없이 흰색 대형 차량을 타고 훈련소로 입소했다.</p><p>김민재는 지난 2018 자카르타-팔렘방 아시안게임 축구 금메달 획득으로 병역의무 면제 혜택을 받았다. 입소를 앞둔 김민재는 6월 국가대표팀 평가전 소집에서도 제외됐다.</p><p>맨유행이 유력했던 김민재 영입전에 뮌헨이 가세하면서 그의 가치는 더욱 높아질 것으로 보인다. 결국 더 좋은 조건을 제시한 빅클럽이 김민재 쟁탈전에서 승자가 될 수 있다. 김민재는 우선 느긋한 마음으로 기초군사훈련을 소화하면서 협상을 진행할 전망이다. 2023.06.15 /sunday@osen.co.kr</p><br/><div align=\"center\"><img alt=\"\" class=\"view_photo up\" src=\"http://file.osen.co.kr/article/2023/06/15/202306151525774097_648aaf106df5d_1024x.jpg\"/></div></body></html>\n",
       "  </div>],\n",
       " [],\n",
       " [],\n",
       " [],\n",
       " [],\n",
       " [<div class=\"art_body\" id=\"articleBody\" itemprop=\"articleBody\">\n",
       "  <div class=\"art_photo photo_center\" style=\"width:700px;\">\n",
       "  <div class=\"art_photo_wrap\">\n",
       "  <img alt=\"펑키스튜디오\" src=\"https://images.khan.co.kr/article/2023/06/08/news-p.v1.20230608.8ace7f16f54d446c9a4771b3a2ec35a7_P1.jpg\" width=\"700\">\n",
       "  <p class=\"caption\">펑키스튜디오</p>\n",
       "  </img></div>\n",
       "  </div>\n",
       "  <p class=\"content_text text-l\">MBC ‘소년판타지’가 파이널 방송만을 남겨두고 있다.</p><p class=\"content_text text-l\">8일 생방송으로 진행되는 ‘소년판타지 - 방과후 설렘 시즌2’(이하 ‘소년판타지’) 최종회에서는 데뷔조 12인을 향한 마지막 무대가 공개되며 투표 결과와 함께 12명의 데뷔 멤버가 정해진다. 누가 1등을 차지할지에 대한 궁금증이 최고조에 달하고 있다.</p><p class=\"content_text text-l\">지난 방송에는 만년 2위 유준원이 첫 1위를 차지하며 홍성민의 독주를 막아 이목을 집중시켰다.</p><p class=\"content_text text-l\">1위를 차지한 유준원은 마지막회 예고 영상을 통해 “라이벌 성민이를 무조건 이기겠다”고 말했고, 홍성민은 “라이벌로서 승리해 보도록 하겠다”라며 긴장감을 한껏 높였다.</p><p class=\"content_text text-l\">선의의 경쟁을 펼쳐온 유준원과 홍성민의 리더전이 파이널 미션인 만큼 유준원은 “저희 팀에서 한 명의 탈락자도 없이 데뷔를 하겠다”며 각오를 다지기도 했다.</p><!-- AD. 기사면 본문 배너 (250x250) --> <div class=\"article_bottom_ad\" id=\"ads5\"></div>\n",
       "  <!-- 기사면 본문 배너 -->\n",
       "  <div id=\"ads5PgPv\"></div>\n",
       "  <script>\n",
       "          createIframe('//adv.khan.co.kr/RealMedia/ads/adstream_sx.ads/sports.khan.co.kr/news@x07', '250', '250', '본문 배너', 'ads5', '0', ''); createIframe('//adv.khan.co.kr/RealMedia/ads/adstream_sx.ads/sports.khan.co.kr/pvcheck@x01', '1', '1', '본문 배너 통계', 'ads5PgPv', '0', 'style=\"display:block; width:0; height:0;\" allowtransparency=\"true\"');\n",
       "      </script>\n",
       "  <!-- // 기사면 본문 배너 --><p class=\"content_text text-l\">‘소년판타지’를 통해 탄생할 새로운 그룹의 12명 멤버는 누가 될지 8일 MBC와 네이버 나우, 일본 OTT 아베마에서 오후 10시 생방송으로 확인할 수 있다.</p> </div>],\n",
       " [<div class=\"cont-body\" id=\"articleBody\">\n",
       "  <div style=\"text-align:center\">\n",
       "  <div style=\"position:relative;\"><figure class=\"photo-layout image photo_640086 float-center\" data-idxno=\"640086\" data-type=\"photo\" style=\"display:inline-block; max-width:350px\"><div class=\"IMGFLOATING\" style=\"position:relative;\">\n",
       "  <img alt=\"주민총회 일정.(사진제공=수원시)\" src=\"https://cdn.newsworks.co.kr/news/photo/202306/718736_640086_4713.jpg\"/></div>\n",
       "  <figcaption>주민총회 일정.(사진제공=수원시)</figcaption>\n",
       "  </figure></div>\n",
       "  </div>\n",
       "  <p style=\"text-align: justify;\">[뉴스웍스=최윤희 기자] 수원시 44개 전체 동이 6월부터 하반기까지 주민총회를 개최한다.\n",
       "  \n",
       "  <p style=\"text-align: justify;\">지난해 12월 주민자치회 전면 전환에 따라 올해 수원시 최초로 44개 전체 동에서 주민총회가 열린다.<div style=\"float:right; padding:10px 0 15px 15px;\">\n",
       "  <!-- 5\t고정박스배너\t기사본문내상단 -->\n",
       "  <script src=\"//ad.adjw.co.kr/cgi-bin/PelicanC.dll?impr?pageid=02Rl&amp;out=script\"></script> </div>\n",
       "  <p style=\"text-align: justify;\">주민총회는 주민이 직접 마을 사업을 제안하고, 토론하는 ‘주민 참여의 장’이다. 해당 동에 거주하거나 동에 소재한 사업장에 다니는 주민은 누구나 참여할 수 있다.\n",
       "  \n",
       "  <p style=\"text-align: justify;\">이번 주민총회에서는 ‘2024년도 마을사업 계획안’을 포함한 지역현안, 주민자치·민관협력 등에 관한 종합계획인 ‘마을자치계획’을 주민들이 함께 이야기하고 결정한다.\n",
       "  \n",
       "  <p style=\"text-align: justify;\">하반기에 열리는 주민총회에서는 7월부터 정식 서비스되는 모바일 시민참여 플랫폼 ‘새빛톡톡’을 활용해 마을사업·마을자치계획 등 방향을 결정하는 현장 투표도 진행할 예정이다.\n",
       "  \n",
       "  <p style=\"text-align: justify;\">6월 10일 금곡동을 시작으로 구운동·서둔동·평동에서 마을축제와 주민총회를 함께 개최했고, 6월 22일부터 7월 26일까지 화서2동·매탄4동·입북동, 원천동·영통3동·세류2동 등 21개 동에서 주민총회가 열린다. 또 8월 24일 매교동을 시작으로 지동·우만2동 등 19개 동에서 주민총회를 개최한다.\n",
       "  \n",
       "  <p style=\"text-align: justify;\">◆<strong>6.25전쟁 참전 유공자 유족에 화랑무공훈장 전수</strong>\n",
       "  <p style=\"text-align: justify;\">수원시가 6·25전쟁 참전해 공을 세운 고 황복동 병장, 고 윤영철 상병의 유족에게 화랑무공훈장을 전수했다. 전수식은 21일 수원시 복지여성국장 집무실에서 열렸다.\n",
       "  \n",
       "  <p style=\"text-align: justify;\">화랑무공훈장은 대한민국 4번째 무공훈장으로 전투에 참여해 높은 공을 세운 유공자에게 수여하는 무공훈장이다.\n",
       "  \n",
       "  <p style=\"text-align: justify;\">1950년 입대한 고 황복동 병장은 경기 연천지구 전투에 참전해 공적을 인정받았고, 1950년 입대한 고 윤영철 상병은 평안남도 평지지구 전투에 참전한 공적을 인정받아 무공훈장 수훈자로 선정됐다.\n",
       "  \n",
       "  <p style=\"text-align: justify;\">최승래 복지여성국장은 고 황복동 병장 조카 황도현씨, 고 윤영철 상병 조카 윤춘수씨에게 무공훈장을 전수했다.\n",
       "  \n",
       "  <p style=\"text-align: justify;\">두 사람은 국방부가 지방자치단체와 협력해 추진하는 ‘무공훈장 주인공 찾아주기 사업’으로 무공훈장을 받게 됐다. 2019년 7월 시작된 ‘무공훈장 주인공 찾아주기 사업’은 6·25 전쟁 당시 공으로 무공훈장 서훈 대상자로 결정됐지만, 지금까지 실제 훈장을 전달받지 못한 공로자(유가족)를 찾아 훈장을 수여하는 것이다.\n",
       "  \n",
       "  <p style=\"text-align: justify;\">◆<strong>자동차관리과 특사경, '아·야·토' 수사민원실 운영</strong>\n",
       "  <p style=\"text-align: justify;\">수원시 자동차관리과 특별사법경찰팀이 의무보험 미가입 차량을 운행한 수사대상자들에게 출석 편의를 제공하고, 신속하게 사건을 처리하기 위해 ‘아·야·토(아침·야간·토요일) 수사민원실’을 운영한다.\n",
       "  \n",
       "  <p style=\"text-align: justify;\">수원시 도로교통관리사업소 특별사법경찰팀 사무실에서 아침(평일 7~9시), 야간(셋째 주 목요일 오후 6~9시), 토요일(첫째 주 토요일 오전 9시~오후 1시)에 수사민원실을 열어 일과 시간에 출석해 조사받기 어려운 수사대상자에게 편의를 제공한다.\n",
       "  \n",
       "  <p style=\"text-align: justify;\">지난해 아·야·토 수사민원실에서 총 21명을 소환조사해서 13명을 검찰에 송치했고 8명에게는 ‘통고’ 처분을 했다.\n",
       "  \n",
       "  <p style=\"text-align: justify;\">◆<strong>수원시-공무직노동조합, '2023년 임금·단체협약' 체결</strong>\n",
       "  <p style=\"text-align: justify;\">수원시와 수원시공무직노동조합은 지난 21일 시청 영상회의실에서 ‘2023년 공무직 임금·단체협약’을 체결했다.\n",
       "  \n",
       "  <p style=\"text-align: justify;\">주요 내용은 ▲2023년 공무직 임금 연 1.7% 인상, 월 2만5000원 추가 인상 ▲2023년 연구용역에 기반해 2024년 성과평가·성과상여금 도입 ▲출장 여비 지급기준 상향 조정 ▲청소·경비 직종 고용연장(기간제) 합의 등이다.\n",
       "  \n",
       "  <p style=\"text-align: justify;\">교섭대표 노동조합인 수원시공무직노동조합이 지난해 12월 말 수원시에 교섭을 요구했고 이후 9차례 본 교섭·실무회의를 거쳐 최종 합의안을 마련했다.\n",
       "  \n",
       "  <p style=\"text-align: justify;\">이날 협약 체결식에는 박용민 수원시 행정지원과장, 김규동 수원시공무직노동조합 위원장, 허경재 전국민주연합노동조합 수원지부장, 호윤정 공공연대노동조합 수원아동복지교사 지회장 등이 참석했다.<!--PC 본문 중앙 (20201123)//-->\n",
       "  <style>#AD160610740275.ad-template { margin:auto; position:relative; display:block; clear:both; z-index:1; }\n",
       "  #AD160610740275.ad-template .col { text-align:center; }\n",
       "  #AD160610740275.ad-template .col .ad-view { position:relative; }</style>\n",
       "  <!-- AD Manager | AD160610740275 //-->\n",
       "  <div class=\"ad-template\" id=\"AD160610740275\">\n",
       "  <div class=\"col\"><div class=\"ad-view\">\n",
       "  <!-- 뉴스웍스_뉴스웍스_기사_인터플레이_640X360_중앙중단 -->\n",
       "  <div data-ad=\"{'id':'87C8A7CF', 'site': 'newsworks_www.newsworks.co.kr_NEWS_IP_640X360_CMTF', 'page':'page'}\" id=\"iwmads\" style=\"display:none;\"></div> <script async=\"\" src=\"//cdn.interworksmedia.co.kr/js/tm/ip/latest/interplay.js\" type=\"text/javascript\"></script></div></div>\n",
       "  </div>\n",
       "  <!--// AD Manager | AD160610740275 -->\n",
       "  <p style=\"text-align: justify;\">◆<strong>황인국 제2부시장, 침수방지 대책 점검</strong>\n",
       "  <p style=\"text-align: justify;\">황인국 수원시 제2부시장이 수원시 자연재해 특별점검 기간인 21일 지난해 침수 피해가 있었던 지역을 찾아 자연재해 예방대책 진행 상황을 점검했다.\n",
       "  \n",
       "  <p style=\"text-align: justify;\">이날 현장 점검에는 황인국 제2부시장, 김용덕 영통구청장, 최상규 장안구청장, 박미숙 팔달구청장 등 30여 명이 함께했다.\n",
       "  \n",
       "  <p style=\"text-align: justify;\">먼저 지난해 집중호우로 침수됐던 장안구 효원빌라와 정자시장 일원을 점검했다. 수원시는 침수를 방지하기 위해 가정에 빗물이 역류하는 것을 막아주는 옥내 역류방지밸브 109개와 차수판 10개를 마련했다.\n",
       "  \n",
       "  <p style=\"text-align: justify;\">또 우수 배수불량 문제를 해결하기 위해 경사진 도로를 따라 빗물이 흘러 내려가는 것을 막아주는 차수거를 2개소에 설치하고, 빗물받이 6개소를 추가 설치했다.\n",
       "  \n",
       "  <p style=\"text-align: justify;\">황 부시장은 이어 팔달구 화서동 먹거리촌을 방문했다. 이 일대도 지난해 8월 집중호우로 침수 피해를 봤다. 수원시는 역류방지 밸브 180개와 수중펌프 2개를 설치했다.\n",
       "  \n",
       "  <p style=\"text-align: justify;\">마지막으로 경관녹지 배수로 내 토사가 유입돼 우수가 범람했던 광교의 한 아파트단지 경관녹지를 찾았다. 수원시는 토사 유실을 방지하고 유속을 완화할 수 있도록 경관녹지 내에 석축을 쌓고 배수로를 확대 조성했다.\n",
       "  \n",
       "  <p style=\"text-align: justify;\">◆<strong>1인 가구 릴레이 간담회 '현장 노크앤토크' 개최</strong>\n",
       "  <p style=\"text-align: justify;\">수원시가 맞춤형 1인 가구 종합 대책을 마련하기 위해 지난 5월 23일부터 6월 20일까지 3회에 걸쳐 1인 가구 시민의 이야기를 듣는 간담회 ‘현장 노크앤토크(Knock &amp; Talk)’를 열었다.\n",
       "  \n",
       "  <p style=\"text-align: justify;\">현장 노크앤토크는 연령대별로 1인 가구 밀집 지역(20대 율천동, 30대 매탄3동, 40~50대 인계동)을 찾아가 1인 가구 시민의 이야기와 정책 아이디어를 듣는 간담회다.\n",
       "  \n",
       "  <p style=\"text-align: justify;\">황인국 수원시 제2부시장과 1인 가구 참석자(연령대별 10명)들은 1인 가구 통계 현황과 수원시민 정책 설문조사 결과를 듣고, 1인 가구 정책에 대한 다양한 의견을 제시했다.\n",
       "  \n",
       "  <p style=\"text-align: justify;\">20대 1인 가구들은 ▲1인 가구 정책을 한눈에 알아보기 쉬운 정보전달 체계 ▲1인 가구를 위한 소분 또는 공동구매 등 역할을 할 수 있는 커뮤니티 구축 ▲전세 사기 등 주거 문제 해결을 위한 계약 지원 등을 원하는 것으로 나타났다.\n",
       "  \n",
       "  <p style=\"text-align: justify;\">30대는 ▲현관문 이중 잠금장치, 창문 잠금 장치 등 1인 가구 안심 세트 제공 ▲지역 안심 안내도 ▲각종 생활 불편 문제와 생활을 공유하는 주거 기반 공동체 구성 등을 제안했다.\n",
       "  \n",
       "  <p style=\"text-align: justify;\">40~50대는 ▲건강 증진과 생활 불편 해소를 위한 지역별 품앗이 커뮤니티 구성 ▲생활 법률·재무 교육 ▲중장년 1인 가구의 사회 재능 기부 등 의견을 제시했다.\n",
       "  \n",
       "  <p style=\"text-align: justify;\">◆<strong>2023년 성별영향평가 대상 과제 50건 선정</strong>\n",
       "  <p style=\"text-align: justify;\">수원시는 ‘2023년 제1회 수원시 성별영향평가위원회’를 열고, 올해 성별영향평가 대상 과제 50건을 선정했다.\n",
       "  \n",
       "  <p style=\"text-align: justify;\">수원시 성별영향평가위원회는 2023년도 세출예산 세부 사업 599건 중 전문가·공직자·시민이 참여하는 ‘2023년 성별영향평가 과제선정 회의’에서 선정한 과제 50건을 심의했고, 모든 과제를 성별영향평가 대상으로 선정했다.\n",
       "  \n",
       "  <p style=\"text-align: justify;\">성별영향평가(Gender Impact Assessment)는 주요 정책을 수립·실행 과정에서 여성과 남성의 특성, 사회·경제적 차이 등 요인을 체계적으로 평가해 성평등을 위해 필요한 개선 조치를 도출하는 것이다.\n",
       "  \n",
       "  <p style=\"text-align: justify;\">이날 선정한 성별영향평가 대상 사업은 ▲청년 행정체험 ▲50+ 액티브 시니어 축제 ▲수원시청년지원센터 운영 ▲‘시민참여 플랫폼’ 운영 ▲취약계층 아동통합서비스 지원 ▲시민 안전 방범 CCTV 확대 구축 ▲찾아가는 생활안전교육 등이다.\n",
       "  \n",
       "  <p style=\"text-align: justify;\">수원시는 선정된 사업의 담당자를 대상으로 성별영향평가 교육을 한 후 전문가와 사업 담당자 간 1:1 컨설팅을 추진할 예정이다.</p></p></p></p></p></p></p></p></p></p></p></p></p></p></p></p></p></p></p></p></p></p></p></p></p></p></p></p></p></p></p></p></p></p></p></p></p></p></p></p></p></div>],\n",
       " [],\n",
       " [],\n",
       " []]"
      ]
     },
     "execution_count": 32,
     "metadata": {},
     "output_type": "execute_result"
    }
   ],
   "source": [
    "#뉴스기사 내용 크롤링하기\n",
    "\n",
    "import requests\n",
    "from requests.adapters import HTTPAdapter\n",
    "from urllib3.util.retry import Retry\n",
    "import warnings\n",
    "warnings.filterwarnings('ignore')\n",
    "\n",
    "\n",
    "# session = requests.Session()\n",
    "# retry = Retry(connect=3, backoff_factor=0.5)\n",
    "# adapter = HTTPAdapter(max_retries=retry)\n",
    "# session.mount('http://', adapter)\n",
    "# session.mount('https://', adapter)\n",
    "\n",
    "# session.get(news_url)\n",
    "\n",
    "if contents == []:\n",
    "    for i in news_url:\n",
    "        #각 기사 html get하기\n",
    "        response = requests.get(url,headers=headers, verify=False)\n",
    "        html = response.text\n",
    "        headers = {'user-agent' : 'Mozilla/5.0 (Windows NT 10.0; Win64; x64) AppleWebKit/537.36 (KHTML, like Gecko) Chrome/100.0.4896.127 Safari/537.36'}\n",
    "        news = requests.get(i,headers = {\"User-Agent\": \"Mozilla/5.0 (Windows NT 10.0; Win64; x64) Chrome/98.0.4758.102\"})\n",
    "        news_html = BeautifulSoup(news.text,\"html.parser\")\n",
    "        #기사 내용 가져오기 (p태그의 내용 모두 가져오기) \n",
    "        contents.append(news_html.select('#articleBody'))\n",
    "contents"
   ]
  },
  {
   "cell_type": "code",
   "execution_count": null,
   "id": "5c1f89f0",
   "metadata": {},
   "outputs": [],
   "source": []
  }
 ],
 "metadata": {
  "kernelspec": {
   "display_name": "Python 3 (ipykernel)",
   "language": "python",
   "name": "python3"
  },
  "language_info": {
   "codemirror_mode": {
    "name": "ipython",
    "version": 3
   },
   "file_extension": ".py",
   "mimetype": "text/x-python",
   "name": "python",
   "nbconvert_exporter": "python",
   "pygments_lexer": "ipython3",
   "version": "3.10.11"
  }
 },
 "nbformat": 4,
 "nbformat_minor": 5
}
