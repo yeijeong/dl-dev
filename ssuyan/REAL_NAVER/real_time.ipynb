{
 "cells": [
  {
   "cell_type": "code",
   "execution_count": 112,
   "metadata": {},
   "outputs": [],
   "source": [
    "import requests\n",
    "from bs4 import BeautifulSoup\n",
    "import math\n",
    "import pandas\n",
    "import re\n",
    "\n",
    "\n",
    "resultList = []\n",
    "\n",
    "url = \"https://search.naver.com/search.naver?\"\n",
    "\n",
    "params = {\n",
    "    \"where\": 'news',\n",
    "\n",
    "    # 네이버 기사 검색 값\n",
    "    \"query\": '방위',\n",
    "\n",
    "    # 페이지네이션 값\n",
    "    \"start\": 0,\n",
    "\n",
    "    \"nso\": 'so:r,p:1y,a:all'\n",
    "}\n",
    "\n",
    "# nso: so: r, p: 1y, a: all -> 최근 1년\n",
    "# nso: so: r, p: 6m, a: all -> 최근 6개월\n",
    "# nso: so: r, p: 1d, a: all -> 1일\n",
    "# 없으면 전체 검색"
   ]
  },
  {
   "cell_type": "code",
   "execution_count": 113,
   "metadata": {},
   "outputs": [],
   "source": [
    "# headers={'User-Agent': 'Mozilla/5.0'} -> 안티 크롤링 회피\n",
    "raw = requests.get(url\n",
    "                   , headers = {\"User-Agent\": \"Mozilla/5.0 (Windows NT 10.0; Win64; x64) Chrome/98.0.4758.102\"}\n",
    "                   , params=params)\n",
    "html = BeautifulSoup(raw.text, \"html.parser\")\n"
   ]
  },
  {
   "cell_type": "code",
   "execution_count": 114,
   "metadata": {},
   "outputs": [],
   "source": [
    "# 검색결과 html body\n",
    "articles = html.select(\"ul.type01 > li\")\n"
   ]
  },
  {
   "cell_type": "code",
   "execution_count": 115,
   "metadata": {},
   "outputs": [
    {
     "ename": "IndexError",
     "evalue": "list index out of range",
     "output_type": "error",
     "traceback": [
      "\u001b[1;31m---------------------------------------------------------------------------\u001b[0m",
      "\u001b[1;31mIndexError\u001b[0m                                Traceback (most recent call last)",
      "Cell \u001b[1;32mIn[115], line 2\u001b[0m\n\u001b[0;32m      1\u001b[0m \u001b[39m# 전체 기사 수\u001b[39;00m\n\u001b[1;32m----> 2\u001b[0m totalCount \u001b[39m=\u001b[39m html\u001b[39m.\u001b[39;49mselect(\u001b[39m'\u001b[39;49m\u001b[39mdiv#head > div#content > div#article_body\u001b[39;49m\u001b[39m'\u001b[39;49m)[\u001b[39m0\u001b[39;49m]\u001b[39m.\u001b[39mtext\u001b[39m.\u001b[39msplit(\u001b[39m'\u001b[39m\u001b[39m / \u001b[39m\u001b[39m'\u001b[39m)[\u001b[39m1\u001b[39m][:\u001b[39m-\u001b[39m\u001b[39m1\u001b[39m]\n\u001b[0;32m      4\u001b[0m \u001b[39mfor\u001b[39;00m i \u001b[39min\u001b[39;00m \u001b[39mrange\u001b[39m(\u001b[39m0\u001b[39m, math\u001b[39m.\u001b[39mfloor(\u001b[39mint\u001b[39m(totalCount)\u001b[39m/\u001b[39m\u001b[39m10\u001b[39m)\u001b[39m+\u001b[39m\u001b[39m1\u001b[39m):\n\u001b[0;32m      5\u001b[0m     \u001b[39mif\u001b[39;00m i \u001b[39m==\u001b[39m \u001b[39m0\u001b[39m:\n",
      "\u001b[1;31mIndexError\u001b[0m: list index out of range"
     ]
    }
   ],
   "source": [
    "# 전체 기사 수\n",
    "totalCount = html.select('div#head > div#content > div#article_body')[0].text.split(' / ')[1][:-1]\n",
    "\n",
    "for i in range(0, math.floor(int(totalCount)/10)+1):\n",
    "    if i == 0:\n",
    "        params['start'] = i\n",
    "    else:\n",
    "        params['start'] = i * 10 + 1\n",
    "\n",
    "    raw = requests.get(url\n",
    "                       , headers = {\"User-Agent\": \"Mozilla/5.0 (Windows NT 10.0; Win64; x64) Chrome/98.0.4758.102\"}\n",
    "                       , params=params)\n",
    "    html = BeautifulSoup(raw.text, \"html.parser\")\n",
    "    articles = html.select(\"ul.type01 > li\")\n",
    "\n",
    "    for ar in articles:\n",
    "        # 제목 값\n",
    "        title = ar.select_one(\"a._sp_each_title\").text\n",
    "\n",
    "        # 검색된 기사의 url을 가져와서 다시 html을 get\n",
    "        articleUrl = ar.find(\"a\")[\"href\"]\n",
    "        innerRaw = requests.get(articleUrl, headers = {\"User-Agent\": \"Mozilla/5.0 (Windows NT 10.0; Win64; x64) Chrome/98.0.4758.102\"})\n",
    "\n",
    "\n",
    "        # 가져온 기사 html중 '기사', '@' string을 모두 가져온다\n",
    "        innerHtml = BeautifulSoup(innerRaw.text, \"html.parser\")\n",
    "        reporter = innerArticles = innerHtml(text=re.compile(\"기자\"))\n",
    "        reporterEmail = innerArticles = innerHtml(text=re.compile(\"@\"))\n",
    "\n",
    "        # 언론사 값\n",
    "        source = ar.select_one(\"span._sp_each_source\").text\n",
    "\n",
    "        # 등록일 값\n",
    "        date = ar.select_one(\"dd.txt_inline\").text.split(\"  \")[1]\n",
    "\n",
    "        res = {\"title\": title, \"company\": source,\n",
    "               \"url\": articleUrl, \"date\": date, \"reporter\": reporter, \"reporterEmail\": reporterEmail}\n",
    "        resultList.append(res)\n"
   ]
  },
  {
   "cell_type": "code",
   "execution_count": null,
   "metadata": {},
   "outputs": [],
   "source": [
    "# 검색된 기사 갯수\n",
    "resultList.append({\"totalCount\": totalCount})\n",
    "\n",
    "df = pandas.DataFrame(resultList)\n",
    "\n",
    "df.to_csv('blockChain_articles.csv')\n",
    "df.to_excel('blockChain_articles.xlsx')"
   ]
  },
  {
   "cell_type": "code",
   "execution_count": null,
   "metadata": {},
   "outputs": [],
   "source": []
  },
  {
   "cell_type": "code",
   "execution_count": null,
   "metadata": {},
   "outputs": [],
   "source": []
  },
  {
   "cell_type": "code",
   "execution_count": null,
   "metadata": {},
   "outputs": [],
   "source": []
  },
  {
   "cell_type": "code",
   "execution_count": null,
   "metadata": {},
   "outputs": [],
   "source": []
  },
  {
   "cell_type": "code",
   "execution_count": null,
   "metadata": {},
   "outputs": [],
   "source": []
  }
 ],
 "metadata": {
  "kernelspec": {
   "display_name": "pandas-dev",
   "language": "python",
   "name": "python3"
  },
  "language_info": {
   "codemirror_mode": {
    "name": "ipython",
    "version": 3
   },
   "file_extension": ".py",
   "mimetype": "text/x-python",
   "name": "python",
   "nbconvert_exporter": "python",
   "pygments_lexer": "ipython3",
   "version": "3.10.11"
  },
  "orig_nbformat": 4
 },
 "nbformat": 4,
 "nbformat_minor": 2
}
