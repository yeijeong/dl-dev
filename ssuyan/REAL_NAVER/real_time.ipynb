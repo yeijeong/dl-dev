{
 "cells": [
  {
   "cell_type": "code",
   "execution_count": 8,
   "metadata": {},
   "outputs": [
    {
     "ename": "SyntaxError",
     "evalue": "incomplete input (2690085397.py, line 11)",
     "output_type": "error",
     "traceback": [
      "\u001b[1;36m  Cell \u001b[1;32mIn[8], line 11\u001b[1;36m\u001b[0m\n\u001b[1;33m    @bot.command()\u001b[0m\n\u001b[1;37m                  ^\u001b[0m\n\u001b[1;31mSyntaxError\u001b[0m\u001b[1;31m:\u001b[0m incomplete input\n"
     ]
    }
   ],
   "source": [
    "import schedule\n",
    "import time\n",
    "import sys\n",
    "import io\n",
    "from bs4 import BeautifulSoup\n",
    "import requests\n",
    "from random import sample\n",
    "import pytz\n",
    "import datetime"
   ]
  },
  {
   "cell_type": "code",
   "execution_count": 7,
   "metadata": {},
   "outputs": [
    {
     "ename": "NameError",
     "evalue": "name 'commands' is not defined",
     "output_type": "error",
     "traceback": [
      "\u001b[1;31m---------------------------------------------------------------------------\u001b[0m",
      "\u001b[1;31mNameError\u001b[0m                                 Traceback (most recent call last)",
      "Cell \u001b[1;32mIn[7], line 31\u001b[0m\n\u001b[0;32m     28\u001b[0m \u001b[39m# 1초 마다 실행\u001b[39;00m\n\u001b[0;32m     29\u001b[0m schedule\u001b[39m.\u001b[39mevery(\u001b[39m1\u001b[39m)\u001b[39m.\u001b[39mseconds\u001b[39m.\u001b[39mdo(job)\n\u001b[1;32m---> 31\u001b[0m bot \u001b[39m=\u001b[39m commands\u001b[39m.\u001b[39mBot(\n\u001b[0;32m     32\u001b[0m \tcommand_prefix\u001b[39m=\u001b[39m\u001b[39m\"\u001b[39m\u001b[39m!\u001b[39m\u001b[39m\"\u001b[39m,  \u001b[39m# Change to desired prefix\u001b[39;00m\n\u001b[0;32m     33\u001b[0m \tcase_insensitive\u001b[39m=\u001b[39m\u001b[39mTrue\u001b[39;00m  \u001b[39m# Commands aren't case-sensitive\u001b[39;00m\n\u001b[0;32m     34\u001b[0m )\n\u001b[0;32m     36\u001b[0m bot\u001b[39m.\u001b[39msendMessage(chat_id\u001b[39m=\u001b[39mchat_id, text\u001b[39m=\u001b[39m\u001b[39m\"\u001b[39m\u001b[39m감시 시작\u001b[39m\u001b[39m\"\u001b[39m)\n\u001b[0;32m     38\u001b[0m \u001b[39m# 파이썬 스케줄러\u001b[39;00m\n",
      "\u001b[1;31mNameError\u001b[0m: name 'commands' is not defined"
     ]
    }
   ],
   "source": [
    "def job():\n",
    "    global recentSubject\n",
    "\n",
    "    now = datetime.datetime.now(pytz.timezone('Asia/Seoul'))\n",
    "    if now.hour >= 16 or now.hour <= 8:\n",
    "        return\n",
    "\n",
    "    sys.stderr = io.TextIOWrapper(sys.stderr.detach(), encoding='utf-8')\n",
    "    sys.stdout = io.TextIOWrapper(sys.stdout.detach(), encoding='utf-8')\n",
    "\n",
    "    BASE_URL = \"https://news.naver.com/main/list.naver?mode=LSD&mid=sec&listType=title&sid1=001\"\n",
    "\n",
    "    with requests.Session() as s:\n",
    "        res = s.get(BASE_URL, headers={'User-Agent': 'Mozilla/5.0'})\n",
    "        if res.status_code == requests.codes.ok:\n",
    "            soup = BeautifulSoup(res.text, 'html.parser')\n",
    "            article = soup.select_one(\n",
    "                '#main_content > div.list_body.newsflash_body > ul:nth-child(1) > li:nth-child(1) > a')\n",
    "            articleText = article.text\n",
    "            articleHref = article.attrs['href']\n",
    "            for i in range(0, len(newsFilter)):\n",
    "                if (newsFilter[i] in articleText) and (articleText != recentSubject):\n",
    "                    bot.sendMessage(chat_id=chat_id,\n",
    "                                    text=articleText + articleHref)\n",
    "                    recentSubject = articleText\n",
    "\n",
    "\n",
    "# 1초 마다 실행\n",
    "schedule.every(1).seconds.do(job)\n",
    "bot = commands.Bot(\n",
    "\tcommand_prefix=\"!\",  # Change to desired prefix\n",
    "\tcase_insensitive=True  # Commands aren't case-sensitive\n",
    ")\n",
    "\n",
    "bot.sendMessage(chat_id=chat_id, text=\"감시 시작\")\n",
    "\n",
    "# 파이썬 스케줄러\n",
    "while True:\n",
    "    schedule.run_pending()\n",
    "    time.sleep(1)"
   ]
  },
  {
   "cell_type": "code",
   "execution_count": null,
   "metadata": {},
   "outputs": [],
   "source": []
  },
  {
   "cell_type": "code",
   "execution_count": null,
   "metadata": {},
   "outputs": [],
   "source": []
  },
  {
   "cell_type": "code",
   "execution_count": null,
   "metadata": {},
   "outputs": [],
   "source": []
  },
  {
   "cell_type": "code",
   "execution_count": null,
   "metadata": {},
   "outputs": [],
   "source": []
  }
 ],
 "metadata": {
  "kernelspec": {
   "display_name": "pandas-dev",
   "language": "python",
   "name": "python3"
  },
  "language_info": {
   "codemirror_mode": {
    "name": "ipython",
    "version": 3
   },
   "file_extension": ".py",
   "mimetype": "text/x-python",
   "name": "python",
   "nbconvert_exporter": "python",
   "pygments_lexer": "ipython3",
   "version": "3.10.11"
  },
  "orig_nbformat": 4
 },
 "nbformat": 4,
 "nbformat_minor": 2
}
