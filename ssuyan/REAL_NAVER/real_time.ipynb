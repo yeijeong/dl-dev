{
 "cells": [
  {
   "cell_type": "code",
   "execution_count": 2,
   "metadata": {},
   "outputs": [],
   "source": [
    "#크롤링시 필요한 라이브러리 불러오기\n",
    "from bs4 import BeautifulSoup\n",
    "import requests\n",
    "import re\n",
    "import datetime\n",
    "from tqdm import tqdm\n",
    "import sys"
   ]
  },
  {
   "cell_type": "code",
   "execution_count": 3,
   "metadata": {},
   "outputs": [
    {
     "ename": "NameError",
     "evalue": "name 'news_link' is not defined",
     "output_type": "error",
     "traceback": [
      "\u001b[1;31m---------------------------------------------------------------------------\u001b[0m",
      "\u001b[1;31mNameError\u001b[0m                                 Traceback (most recent call last)",
      "Cell \u001b[1;32mIn[3], line 3\u001b[0m\n\u001b[0;32m      1\u001b[0m headers \u001b[39m=\u001b[39m {\u001b[39m\"\u001b[39m\u001b[39mUser-Agent\u001b[39m\u001b[39m\"\u001b[39m: \u001b[39m\"\u001b[39m\u001b[39mMozilla/5.0 (Windows NT 10.0; Win64; x64) Chrome/98.0.4758.102\u001b[39m\u001b[39m\"\u001b[39m}\n\u001b[1;32m----> 3\u001b[0m res \u001b[39m=\u001b[39m requests\u001b[39m.\u001b[39mget(news_link, headers \u001b[39m=\u001b[39m headers)\n\u001b[0;32m      4\u001b[0m \u001b[39mprint\u001b[39m(res\u001b[39m.\u001b[39mtext)\n",
      "\u001b[1;31mNameError\u001b[0m: name 'news_link' is not defined"
     ]
    }
   ],
   "source": [
    "headers = {\"User-Agent\": \"Mozilla/5.0 (Windows NT 10.0; Win64; x64) Chrome/98.0.4758.102\"}"
   ]
  },
  {
   "cell_type": "code",
   "execution_count": 4,
   "metadata": {},
   "outputs": [
    {
     "name": "stdout",
     "output_type": "stream",
     "text": [
      "section url :  https://news.naver.com/main/list.nhn?mode=LSD&mid=sec&sid1=100\n",
      "section url :  https://news.naver.com/main/list.nhn?mode=LSD&mid=sec&sid1=101\n",
      "section url :  https://news.naver.com/main/list.nhn?mode=LSD&mid=sec&sid1=102\n"
     ]
    }
   ],
   "source": [
    "for sid in ['100', '101', '102']:\n",
    "    # 해당 분야 상위 뉴스 목록 주소\n",
    "    sec_url = \"https://news.naver.com/main/list.nhn?mode=LSD&mid=sec\" \\\n",
    "                + \"&sid1=\" \\\n",
    "                + sid \\\n",
    "             \n",
    "    print(\"section url : \", sec_url)"
   ]
  },
  {
   "cell_type": "code",
   "execution_count": 17,
   "metadata": {},
   "outputs": [
    {
     "name": "stderr",
     "output_type": "stream",
     "text": [
      "0it [00:00, ?it/s]"
     ]
    },
    {
     "name": "stderr",
     "output_type": "stream",
     "text": [
      "\n"
     ]
    },
    {
     "ename": "TypeError",
     "evalue": "'NoneType' object is not iterable",
     "output_type": "error",
     "traceback": [
      "\u001b[1;31m---------------------------------------------------------------------------\u001b[0m",
      "\u001b[1;31mTypeError\u001b[0m                                 Traceback (most recent call last)",
      "Cell \u001b[1;32mIn[17], line 37\u001b[0m\n\u001b[0;32m     34\u001b[0m     \u001b[39mreturn\u001b[39;00m new_links\n\u001b[0;32m     36\u001b[0m \u001b[39m# 날짜 가져오기\u001b[39;00m\n\u001b[1;32m---> 37\u001b[0m \u001b[39mfor\u001b[39;00m i \u001b[39min\u001b[39;00m tqdm():\n\u001b[0;32m     38\u001b[0m     \u001b[39m#각 기사 html get하기\u001b[39;00m\n\u001b[0;32m     39\u001b[0m     headers \u001b[39m=\u001b[39m {\u001b[39m'\u001b[39m\u001b[39muser-agent\u001b[39m\u001b[39m'\u001b[39m : \u001b[39m'\u001b[39m\u001b[39mMozilla/5.0 (Windows NT 10.0; Win64; x64) AppleWebKit/537.36 (KHTML, like Gecko) Chrome/100.0.4896.127 Safari/537.36\u001b[39m\u001b[39m'\u001b[39m}\n\u001b[0;32m     40\u001b[0m     news \u001b[39m=\u001b[39m requests\u001b[39m.\u001b[39mget(i, headers\u001b[39m=\u001b[39mheaders, verify\u001b[39m=\u001b[39m\u001b[39mFalse\u001b[39;00m)\n",
      "File \u001b[1;32mc:\\Users\\green\\anaconda3\\envs\\pandas-dev\\lib\\site-packages\\tqdm\\std.py:1178\u001b[0m, in \u001b[0;36mtqdm.__iter__\u001b[1;34m(self)\u001b[0m\n\u001b[0;32m   1175\u001b[0m time \u001b[39m=\u001b[39m \u001b[39mself\u001b[39m\u001b[39m.\u001b[39m_time\n\u001b[0;32m   1177\u001b[0m \u001b[39mtry\u001b[39;00m:\n\u001b[1;32m-> 1178\u001b[0m     \u001b[39mfor\u001b[39;00m obj \u001b[39min\u001b[39;00m iterable:\n\u001b[0;32m   1179\u001b[0m         \u001b[39myield\u001b[39;00m obj\n\u001b[0;32m   1180\u001b[0m         \u001b[39m# Update and possibly print the progressbar.\u001b[39;00m\n\u001b[0;32m   1181\u001b[0m         \u001b[39m# Note: does not call self.update(1) for speed optimisation.\u001b[39;00m\n",
      "\u001b[1;31mTypeError\u001b[0m: 'NoneType' object is not iterable"
     ]
    }
   ],
   "source": [
    "import requests\n",
    "from bs4 import BeautifulSoup\n",
    "import bs4.element\n",
    "import datetime\n",
    "\n",
    "# BeautifulSoup 객체 생성\n",
    "def get_soup_obj(url):\n",
    "    headers = {\"User-Agent\": \"Mozilla/5.0 (Windows NT 10.0; Win64; x64) Chrome/98.0.4758.102\"} \n",
    "    res = requests.get(url, headers = headers)\n",
    "    soup = BeautifulSoup(res.text,'lxml')\n",
    "    \n",
    "    return soup\n",
    "\n",
    "def get_news_link(self):\n",
    "    new_links = []\n",
    "\n",
    "    for keword in self.kewords :\n",
    "        # 가장 최신의 뉴스 페이지 url\n",
    "        url = f\"https://m.search.naver.com/search.naver?where=m_news&query=경제&sm=mtb_opt&sort=1&photo=0&field=0&pd=0&ds=&de=&docid=&related=0&mynews=0&office_type=0&office_section_code=0&news_office_checked=&nso=so%3Add%2Cp%3Aall&is_sug_officeid=0\"\n",
    "\n",
    "        response = requests.get(url,headers=headers)\n",
    "        if response.ok :\n",
    "            html = response.text\n",
    "            soup = BeautifulSoup(html,'html.parser')\n",
    "\n",
    "            news_titles = soup.select('a.news_tit',limit=5)\n",
    "\n",
    "            # 요소에서 링크만 추출해서 리스트로 저장\n",
    "            link_list = [i.attrs['href'] for i in news_titles]\n",
    "\n",
    "            links = [link for link in link_list if link not in self.old_links]\n",
    "\n",
    "            new_links.append(links)\n",
    "    return new_links\n",
    "\n",
    "# 날짜 가져오기\n",
    "for i in tqdm():\n",
    "    #각 기사 html get하기\n",
    "    headers = {'user-agent' : 'Mozilla/5.0 (Windows NT 10.0; Win64; x64) AppleWebKit/537.36 (KHTML, like Gecko) Chrome/100.0.4896.127 Safari/537.36'}\n",
    "    news = requests.get(i, headers=headers, verify=False)\n",
    "    news_html = BeautifulSoup(news.text,\"html.parser\")\n",
    "    \n",
    "    html_date = news_html.select_one(\"div#ct > div.media_end_head > div.media_end_head_info > div span\")\n",
    "    news_date = html_date.attrs['data-date-time']\n",
    "    news_dates.append(news_date)\n",
    "\n",
    "# default_img = \"https://search.naver.com/search.naver?where=image&sm=tab_jum&query=naver#\"\n",
    "# for sid in ['100','101','102']:#, '101', '102']:\n",
    "#     # 해당 분야 상위 뉴스 목록 주소\n",
    "#     sec_url = \"https://news.naver.com/main/list.nhn?mode=LSD&mid=sec\" \\\n",
    "#                 + \"&sid1=\" \\\n",
    "#                 + sid\n",
    "#     print(\"section url : \", sec_url)\n",
    "    \n",
    "#     # 해당 분야 상위 뉴스 HTML 가져오기\n",
    "#     soup = get_soup_obj(sec_url)\n",
    "  \n",
    "#     # 해당 분야 상위 뉴스 3개 가져오기\n",
    "#     lis3 = soup.find('ul', class_='type06_headline').find_all(\"li\", limit=3)\n",
    "#     for li in lis3:\n",
    "#         # title : 뉴스 제목, news_url : 뉴스 URL, image_url : 이미지 URL\n",
    "#         news_info = {\n",
    "#             \"title\" : li.img.attrs.get('alt') if li.img else li.a.text.replace(\"\\n\", \"\").replace(\"\\t\",\"\").replace(\"\\r\",\"\") , \n",
    "#             \"date\" : li.find(class_=\"date\").text,\n",
    "#             \"news_url\" : li.a.attrs.get('href'),\n",
    "#             \"image_url\" :  li.img.attrs.get('src') if li.img else default_img\n",
    "#         }\n",
    "#         print(news_info)"
   ]
  },
  {
   "cell_type": "code",
   "execution_count": 12,
   "metadata": {},
   "outputs": [],
   "source": []
  },
  {
   "cell_type": "code",
   "execution_count": null,
   "metadata": {},
   "outputs": [],
   "source": []
  },
  {
   "cell_type": "code",
   "execution_count": null,
   "metadata": {},
   "outputs": [],
   "source": []
  },
  {
   "cell_type": "code",
   "execution_count": null,
   "metadata": {},
   "outputs": [],
   "source": []
  }
 ],
 "metadata": {
  "kernelspec": {
   "display_name": "pandas-dev",
   "language": "python",
   "name": "python3"
  },
  "language_info": {
   "codemirror_mode": {
    "name": "ipython",
    "version": 3
   },
   "file_extension": ".py",
   "mimetype": "text/x-python",
   "name": "python",
   "nbconvert_exporter": "python",
   "pygments_lexer": "ipython3",
   "version": "3.10.10"
  },
  "orig_nbformat": 4
 },
 "nbformat": 4,
 "nbformat_minor": 2
}
