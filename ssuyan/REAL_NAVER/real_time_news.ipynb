{
 "cells": [
  {
   "attachments": {},
   "cell_type": "markdown",
   "metadata": {},
   "source": [
    "- sections : '정치', '경제', '사회'\n",
    "- sections = [\"pol\", \"eco\",\"soc\"]\n",
    "- section_ids = [\"100\", \"101\",\"102\"]"
   ]
  },
  {
   "cell_type": "code",
   "execution_count": 25,
   "metadata": {},
   "outputs": [],
   "source": [
    "import requests\n",
    "from bs4 import BeautifulSoup\n",
    "import bs4.element\n",
    "import datetime\n",
    "import warnings\n",
    "warnings.filterwarnings('ignore')\n",
    "import re\n",
    "import pandas as pd\n",
    "import time"
   ]
  },
  {
   "cell_type": "code",
   "execution_count": 26,
   "metadata": {},
   "outputs": [],
   "source": [
    "# ConnectionError방지\n",
    "headers = {'user-agent' : 'Mozilla/5.0 (Windows NT 10.0; Win64; x64) AppleWebKit/537.36 (KHTML, like Gecko) Chrome/100.0.4896.127 Safari/537.36'}\n",
    "\n",
    "# BeautifulSoup 객체 생성\n",
    "def get_soup_obj(url):\n",
    "    res = requests.get(url, headers = headers, verify=False)\n",
    "    soup = BeautifulSoup(res.text,'lxml')\n",
    "    \n",
    "    return soup"
   ]
  },
  {
   "cell_type": "code",
   "execution_count": 27,
   "metadata": {},
   "outputs": [],
   "source": [
    "news_titles = []\n",
    "news_urls =[]\n",
    "news_contents =[]\n",
    "news_dates = []"
   ]
  },
  {
   "cell_type": "code",
   "execution_count": 28,
   "metadata": {},
   "outputs": [],
   "source": [
    "# 뉴스의 기본 정보 가져오기\n",
    "def get_top3_news_info():\n",
    "    # 해당 분야 상위 뉴스 목록 주소\n",
    "    sec_url = \"https://news.naver.com/main/list.nhn?mode=LSD&mid=sec&sid1=101\"\n",
    "    \n",
    "    # 해당 분야 상위 뉴스 HTML 가져오기\n",
    "    soup = get_soup_obj(sec_url)\n",
    "  \n",
    "    # 해당 분야 상위 뉴스 3개 가져오기\n",
    "\n",
    "    lis3 = soup.find('ul', class_='type06_headline').find_all(\"li\", limit=3)\n",
    "    for li in lis3:\n",
    "        \n",
    "        title = li.img.attrs.get('alt') if li.img else li.a.text.replace(\"\\n\", \"\").replace(\"\\t\",\"\").replace(\"\\r\",\"\")\n",
    "        news_url = li.a.attrs.get('href')\n",
    "        \n",
    "        news_titles.append(title)\n",
    "        news_urls.append(news_url)\n",
    "        \n",
    "    return news_urls"
   ]
  },
  {
   "cell_type": "code",
   "execution_count": 29,
   "metadata": {},
   "outputs": [],
   "source": [
    "# 뉴스 본문 가져오기\n",
    "# def get_news_contents(url):\n",
    "#     soup = get_soup_obj(url)\n",
    "#     body = soup.find('div', class_=\"_article_body_contents\")\n",
    "\n",
    "#     news_contents = ''\n",
    "#     for content in body:\n",
    "#         if type(content) is bs4.element.NavigableString and len(content) > 50:\n",
    "#             # content.strip() : whitepace 제거 (참고 : https://www.tutorialspoint.com/python3/string_strip.htm)\n",
    "#             # 뉴스 요약을 위하여 '.' 마침표 뒤에 한칸을 띄워 문장을 구분하도록 함\n",
    "#             news_contents += content.strip() + ' '\n",
    "         \n",
    "#     return news_contents"
   ]
  },
  {
   "cell_type": "code",
   "execution_count": 30,
   "metadata": {},
   "outputs": [],
   "source": [
    "def get_news_contents(url):\n",
    "    news_html = get_soup_obj(url)\n",
    "    content = news_html.select(\"div#dic_area\")\n",
    "    if content == []:\n",
    "        content = news_html.select(\"#articeBody\")\n",
    "        \n",
    "    # 기사 텍스트만 가져오기\n",
    "    # list합치기\n",
    "    content = ''.join(str(content))\n",
    "\n",
    "    # html태그제거 및 텍스트 다듬기\n",
    "    pattern1 = '<[^>]*>'\n",
    "    content = re.sub(pattern=pattern1, repl='', string=content)\n",
    "    pattern2 = \"\"\"[\\n\\n\\n\\n\\n// flash 오류를 우회하기 위한 함수 추가\\nfunction _flash_removeCallback() {}\"\"\"\n",
    "    content = content.replace(pattern2, '')\n",
    "\n",
    "    news_contents.append(content)\n",
    "\n",
    "    html_date = news_html.select_one(\"div#ct > div.media_end_head > div.media_end_head_info > div span\")\n",
    "    news_date = html_date.attrs['data-date-time']\n",
    "    news_dates.append(news_date)"
   ]
  },
  {
   "cell_type": "code",
   "execution_count": 31,
   "metadata": {},
   "outputs": [],
   "source": [
    "# # 상위 3개 뉴스 크롤링\n",
    "# def get_naver_news_top3():\n",
    "#     # 뉴스 결과를 담아낼 dictionary\n",
    "#     news_dic = dict()\n",
    " \n",
    "#     # 뉴스의 기본 정보 가져오기\n",
    "#     news_url_a = get_top3_news_info()\n",
    "#     # print(news_info)\n",
    "#     for i in news_url_a:\n",
    "#         # 뉴스 본문 가져오기\n",
    "#         get_news_contents(i)"
   ]
  },
  {
   "cell_type": "code",
   "execution_count": 32,
   "metadata": {},
   "outputs": [],
   "source": [
    "def make_pd() :\n",
    "    news_df = pd.DataFrame({'date':news_dates,'title':news_titles,'link':news_urls,'content':news_contents})\n",
    "\n",
    "    #중복 행 지우기\n",
    "    news_df = news_df.drop_duplicates(keep='first',ignore_index=True)\n",
    "    print(\"중복 제거 후 행 개수: \",len(news_df))\n",
    "\n",
    "    print(news_df.head())"
   ]
  },
  {
   "cell_type": "code",
   "execution_count": 37,
   "metadata": {},
   "outputs": [],
   "source": [
    "t=1\n",
    "while t<5 :\n",
    "\n",
    "    # news_dic=dict()\n",
    "    # 뉴스의 기본 정보 가져오기\n",
    "    news_url_a = news_contents\n",
    "\n",
    "    for i in news_url_a:\n",
    "        # 뉴스 본문 가져오기\n",
    "        news_contents(i)\n",
    "\n",
    "    # 뉴스 결과를 담아낼 dictionary\n",
    "    news_dic = pd.DataFrame.from_dict({'date':news_dates\n",
    "                                       ,'title':news_titles\n",
    "                                       ,'link':news_urls\n",
    "                                       ,'content':news_contents}\n",
    "                                       , orient='index').T\n",
    "    \n",
    "    news_dic.head()\n",
    "\n",
    "    t += 1\n",
    "    time.sleep(10)"
   ]
  },
  {
   "cell_type": "code",
   "execution_count": null,
   "metadata": {},
   "outputs": [],
   "source": [
    "# # 함수 호출 - '정치', '경제', '사회' 분야의 상위 3개 뉴스 크롤링\n",
    "# i=1\n",
    "# while i<5 :\n",
    "#     get_naver_news_top3()\n",
    "#     make_pd()\n",
    "#     i += 1"
   ]
  }
 ],
 "metadata": {
  "kernelspec": {
   "display_name": "ml-dev",
   "language": "python",
   "name": "python3"
  },
  "language_info": {
   "codemirror_mode": {
    "name": "ipython",
    "version": 3
   },
   "file_extension": ".py",
   "mimetype": "text/x-python",
   "name": "python",
   "nbconvert_exporter": "python",
   "pygments_lexer": "ipython3",
   "version": "3.10.10"
  },
  "orig_nbformat": 4
 },
 "nbformat": 4,
 "nbformat_minor": 2
}
