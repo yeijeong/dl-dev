{
 "cells": [
  {
   "cell_type": "code",
   "execution_count": 1,
   "metadata": {},
   "outputs": [],
   "source": [
    "# coding=utf-8\n",
    "import datetime\n",
    "\n",
    "\n",
    "def call_printer(original_func):\n",
    "    \"\"\"original 함수 call 시, 현재 시간과 함수 명을 출력하는 데코레이터\"\"\"\n",
    "    def wrapper(*args, **kwargs):\n",
    "        timestamp = datetime.datetime.now().strftime('%Y-%m-%d %H:%M:%S.%f')\n",
    "        print('[{:.22s}] func `{}` is called'.format(timestamp, original_func.__name__))\n",
    "        return original_func(*args, **kwargs)\n",
    "\n",
    "    return wrapper\n",
    "\n",
    "\n",
    "def return_status_msg_setter(original_func):\n",
    "    \"\"\"\n",
    "    original 함수 exit 후, QMainWindow 인스턴스의 statusbar에 표시할 문자열을 수정하는 데코레이터\n",
    "    이 데코레이터는 QMainWindow 클래스의 메소드에만 사용하여야 함\n",
    "    args[0]는 self 를 참조하게 된다\n",
    "    \"\"\"\n",
    "    def wrapper(*args, **kwargs):\n",
    "        ret = original_func(*args, **kwargs)\n",
    "\n",
    "        timestamp = datetime.datetime.now().strftime('%H:%M:%S')\n",
    "        msg = '`{}` 완료됨[{}]'.format(original_func.__name__, timestamp)\n",
    "        print(msg)\n",
    "        args[0].return_status_msg = msg\n",
    "\n",
    "        return ret\n",
    "\n",
    "    return wrapper\n"
   ]
  }
 ],
 "metadata": {
  "kernelspec": {
   "display_name": "project",
   "language": "python",
   "name": "python3"
  },
  "language_info": {
   "codemirror_mode": {
    "name": "ipython",
    "version": 3
   },
   "file_extension": ".py",
   "mimetype": "text/x-python",
   "name": "python",
   "nbconvert_exporter": "python",
   "pygments_lexer": "ipython3",
   "version": "3.7.13"
  },
  "orig_nbformat": 4
 },
 "nbformat": 4,
 "nbformat_minor": 2
}
