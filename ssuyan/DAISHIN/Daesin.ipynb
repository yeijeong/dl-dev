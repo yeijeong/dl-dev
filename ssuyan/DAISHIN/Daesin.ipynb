{
 "cells": [
  {
   "cell_type": "code",
   "execution_count": 24,
   "metadata": {},
   "outputs": [
    {
     "name": "stdout",
     "output_type": "stream",
     "text": [
      "1\n"
     ]
    }
   ],
   "source": [
    "import win32com.client\n",
    "instCpCybos = win32com.client.Dispatch(\"CpUtil.CpCybos\")\n",
    "print(instCpCybos.IsConnect)"
   ]
  },
  {
   "cell_type": "code",
   "execution_count": 25,
   "metadata": {},
   "outputs": [
    {
     "name": "stdout",
     "output_type": "stream",
     "text": [
      "동화약품\n"
     ]
    }
   ],
   "source": [
    "import win32com.client\n",
    "instCpStockCode = win32com.client.Dispatch(\"CpUtil.CpStockCode\")\n",
    "print(instCpStockCode.GetData(1, 0))"
   ]
  },
  {
   "cell_type": "code",
   "execution_count": 26,
   "metadata": {},
   "outputs": [],
   "source": [
    "# import win32com.client\n",
    "\n",
    "# # Create object\n",
    "# instStockChart = win32com.client.Dispatch(\"CpSysDib.StockChart\")\n",
    "\n",
    "# # SetInputValue\n",
    "# instStockChart.SetInputValue(0, \"A012450\") #한화에어로스페이스\n",
    "# instStockChart.SetInputValue(1, ord('1'))\n",
    "# instStockChart.SetInputValue(2, 20230627)\n",
    "# instStockChart.SetInputValue(3, 20210627)\n",
    "# instStockChart.SetInputValue(4, 2000)\n",
    "# instStockChart.SetInputValue(5, (0, 1, 2, 3, 4, 5, 6,7,8))\n",
    "# instStockChart.SetInputValue(6, ord('d')) #분 당\n",
    "# instStockChart.SetInputValue(9, ord('1')) #1 분\n",
    "\n",
    "# # BlockRequest\n",
    "# instStockChart.BlockRequest()\n",
    "\n",
    "# # GetHeaderValue\n",
    "# numData = instStockChart.GetHeaderValue(3)\n",
    "# numField = instStockChart.GetHeaderValue(1)\n",
    "\n",
    "# # GetDataValue\n",
    "# for i in range(numData):\n",
    "#     for j in range(numField):\n",
    "#         print(instStockChart.GetDataValue(j, i), end=\" \")\n",
    "#     print(\"\")"
   ]
  },
  {
   "cell_type": "code",
   "execution_count": 27,
   "metadata": {},
   "outputs": [],
   "source": [
    "# #종목정보 가져오기(최초)\n",
    "\n",
    "# import win32com.client\n",
    "# import pandas as pd \n",
    "\n",
    "# rows = list()\n",
    "\n",
    "# CPE_MARKET_KIND = {'KOSPI':1,  'KOSDAQ':2}\n",
    "# instCpCodeMgr = win32com.client.Dispatch(\"CpUtil.CpCodeMgr\")\n",
    "\n",
    "# for key, value in CPE_MARKET_KIND.items():\n",
    "#     codeList = instCpCodeMgr.GetStockListByMarket(value)\n",
    "#     for code in codeList:\n",
    "#         name = instCpCodeMgr.CodeToName(code)\n",
    "#         sectionKind = instCpCodeMgr.GetStockSectionKind(code)\n",
    "#         row = [code, name, key, sectionKind]\n",
    "        \n",
    "#         rows.append(row)\n",
    "\n",
    "# print('모든 종목을 불러왔습니다')\n",
    "\n",
    "# stockitems = pd.DataFrame(data= rows, columns=['code','name', 'section','sectionKind'])\n",
    "# stockitems.loc[stockitems['sectionKind'] == 10, 'section'] =   'ETF'\n",
    "# stockitems.to_csv('stockitems.csv', index=False)\n",
    "\n",
    "# print('파일을 저장하였습니다.')"
   ]
  },
  {
   "cell_type": "code",
   "execution_count": 30,
   "metadata": {},
   "outputs": [
    {
     "name": "stdout",
     "output_type": "stream",
     "text": [
      "A012450 한화에어로스페이스 남은 요청 :  60\n",
      "데이터를 모두 불러왔습니다.\n",
      "모든 데이터를 저장하였습니다.\n"
     ]
    }
   ],
   "source": [
    "##주가정보 가져오기  (최초 생성)\n",
    "\n",
    "import win32com.client\n",
    "import pandas as pd \n",
    "import time\n",
    "import datetime\n",
    "\n",
    "column_dailychart = ['code', 'section', 'date', 'open', 'high', 'low', 'close',\n",
    "                     'vol', 'value', 'n_stock', 'agg_price', 'foreign_rate','agency_buy', 'agency_netbuy']\n",
    "\n",
    "stockitems = pd.read_csv('stockitems.csv')\n",
    "\n",
    "instStockChart = win32com.client.Dispatch(\"CpSysDib.StockChart\")\n",
    "nCpCybos = win32com.client.Dispatch(\"CpUtil.CpCybos\")\n",
    "\n",
    "row = list(range(len(column_dailychart)))\n",
    "rows = list()\n",
    "\n",
    "# instStockChart.SetInputValue(0, \"A012450\")\n",
    "instStockChart.SetInputValue(1, ord('1'))\n",
    "# instStockChart.SetInputValue(2, (datetime.datetime.today() - datetime.timedelta(days=1)).strftime(\"%Y%m%d\"))\n",
    "instStockChart.SetInputValue(2, '20210628')\n",
    "instStockChart.SetInputValue(3, '20210628')\n",
    "instStockChart.SetInputValue(5, (0, 1, 2, 3, 4, 5, 8, 9, 12, 13, 17, 20, 21))\n",
    "instStockChart.SetInputValue(6, ord('m'))\n",
    "instStockChart.SetInputValue(9, ord('1'))\n",
    "    \n",
    "for idx, stockitem in stockitems.iterrows():\n",
    "\n",
    "    remain_request_count =  nCpCybos.GetLimitRemainCount(1)\n",
    "    print(stockitem['code'], stockitem['name'], '남은 요청 : ', remain_request_count)\n",
    "    \n",
    "    if remain_request_count == 0:\n",
    "        print('남은 요청이 모두 소진되었습니다. 잠시 대기합니다.')\n",
    "\n",
    "        while True:\n",
    "            time.sleep(2)\n",
    "            remain_request_count =  nCpCybos.GetLimitRemainCount(1)\n",
    "            if  remain_request_count > 0:\n",
    "                print('작업을 재개합니다. (남은 요청 : {0})'.format(remain_request_count))\n",
    "                break\n",
    "            print('대기 중...')\n",
    "            \n",
    "    instStockChart.SetInputValue(0, stockitem['code'])\n",
    "\n",
    "    # BlockRequest\n",
    "    instStockChart.BlockRequest()\n",
    "\n",
    "    # GetHeaderValue\n",
    "    numData = instStockChart.GetHeaderValue(3)\n",
    "    numField = instStockChart.GetHeaderValue(1)\n",
    "\n",
    "    # GetDataValue\n",
    "    for i in range(numData):\n",
    "        row[0] =  stockitem['code']\n",
    "        row[1] = stockitem['section']  # 코스피, 코스닥, ETF 여부\n",
    "        row[2] = instStockChart.GetDataValue(0, i)  # 날짜\n",
    "        row[3] = instStockChart.GetDataValue(1, i)  # 시가\n",
    "        row[4] = instStockChart.GetDataValue(2, i)  # 고가\n",
    "        row[5] = instStockChart.GetDataValue(3, i)  # 저가\n",
    "        row[6] = instStockChart.GetDataValue(4, i)  # 종가\n",
    "        row[7] = instStockChart.GetDataValue(5, i)  # 거래량\n",
    "        row[8] = instStockChart.GetDataValue(6, i)  # 거래대금\n",
    "        row[9] = instStockChart.GetDataValue(7, i)  # 상장주식수\n",
    "        row[10] = instStockChart.GetDataValue(8, i)  # 시가총액\n",
    "        row[11] = instStockChart.GetDataValue(9, i)  # 외국인 보율비율\n",
    "        row[12] = instStockChart.GetDataValue(10, i)  # 기관순매수\n",
    "        row[13] = instStockChart.GetDataValue(11, i)  # 기관누적순매수\n",
    "        rows.append(list(row))  \n",
    "        \n",
    "print('데이터를 모두 불러왔습니다.')\n",
    "\n",
    "dailychart= pd.DataFrame(data = rows, columns= column_dailychart)\n",
    "dailychart[['value' ,'agg_price']] = (dailychart[['value' ,'agg_price']]/1000000).astype(int)\n",
    "dailychart = dailychart.sort_values(by=['code','date'])\n",
    "dailychart.to_csv('dailychart.csv', index=False)\n",
    "\n",
    "print('모든 데이터를 저장하였습니다.')\n",
    "\n",
    "\n",
    "\n",
    "# dailychart = pd.DataFrame(data = rows, columns= column_dailychart)\n",
    "\n",
    "# dailychart[['value' ,'agg_price']] /= 1000000\n",
    "# dailychart[['value' ,'agg_price']] = dailychart[['value' ,'agg_price']].astype(int)\n",
    "# dailychart = dailychart.append(dailychart_prev)\n",
    "# dailychart = dailychart.sort_values(by=['code','date'])\n",
    "\n",
    "# dailychart.to_csv('dailychart.csv', index=False)\n",
    "# print('데이터를 모두 불러왔습니다.')"
   ]
  },
  {
   "cell_type": "code",
   "execution_count": null,
   "metadata": {},
   "outputs": [],
   "source": []
  },
  {
   "cell_type": "code",
   "execution_count": null,
   "metadata": {},
   "outputs": [],
   "source": []
  },
  {
   "cell_type": "code",
   "execution_count": null,
   "metadata": {},
   "outputs": [],
   "source": []
  }
 ],
 "metadata": {
  "kernelspec": {
   "display_name": "project",
   "language": "python",
   "name": "python3"
  },
  "language_info": {
   "codemirror_mode": {
    "name": "ipython",
    "version": 3
   },
   "file_extension": ".py",
   "mimetype": "text/x-python",
   "name": "python",
   "nbconvert_exporter": "python",
   "pygments_lexer": "ipython3",
   "version": "3.7.13"
  },
  "orig_nbformat": 4
 },
 "nbformat": 4,
 "nbformat_minor": 2
}
