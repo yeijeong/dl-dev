{
 "cells": [
  {
   "cell_type": "code",
<<<<<<< HEAD
   "execution_count": 1,
=======
   "execution_count": 8,
>>>>>>> a8a63f5562156785fd71ee186ca717b22d8330e3
   "metadata": {},
   "outputs": [
    {
     "name": "stdout",
     "output_type": "stream",
     "text": [
      "already connected.\n",
      "get ohlcv by date\n",
<<<<<<< HEAD
      "code: ['A088800', 'A009540', 'A065450', 'A076080', 'A005870', 'A108380', 'A038060', 'A103140', 'A005810', 'A024740', 'A077970', 'A011210', 'A015710', 'A095270', 'A003010', 'A361390', 'A095190', 'A003570', 'A013810', 'A068790', 'A041190', 'A090080', 'A012450', 'A119500', 'A377330', 'A230980', 'A040300', 'A372910']\n",
      "start_date: 20210629\n",
      "last_date: 20230628\n"
     ]
    },
    {
     "ename": "com_error",
     "evalue": "(-2147352567, '예외가 발생했습니다.', (0, None, 'Module:CpSysDib\\nObj:StockChart\\nFun:SetInputValue\\nType:0\\nDescription:형식이 일치하지 않습니다.', None, 0, -2147024809), None)",
     "output_type": "error",
     "traceback": [
      "\u001b[1;31m---------------------------------------------------------------------------\u001b[0m",
      "\u001b[1;31mcom_error\u001b[0m                                 Traceback (most recent call last)",
      "\u001b[1;32m~\\AppData\\Local\\Temp\\ipykernel_10340\\803261038.py\u001b[0m in \u001b[0;36m<module>\u001b[1;34m\u001b[0m\n\u001b[0;32m    126\u001b[0m \u001b[0mlast_date\u001b[0m \u001b[1;33m=\u001b[0m \u001b[1;34m'20230628'\u001b[0m\u001b[1;33m\u001b[0m\u001b[1;33m\u001b[0m\u001b[0m\n\u001b[0;32m    127\u001b[0m \u001b[0mchart_gb\u001b[0m \u001b[1;33m=\u001b[0m \u001b[1;34m'm'\u001b[0m\u001b[1;33m\u001b[0m\u001b[1;33m\u001b[0m\u001b[0m\n\u001b[1;32m--> 128\u001b[1;33m \u001b[0mdf\u001b[0m \u001b[1;33m=\u001b[0m \u001b[0mget_ohlcv_by_date\u001b[0m\u001b[1;33m(\u001b[0m\u001b[0mcode\u001b[0m\u001b[1;33m,\u001b[0m \u001b[0mlast_date\u001b[0m\u001b[1;33m,\u001b[0m \u001b[0mstart_date\u001b[0m\u001b[1;33m,\u001b[0m \u001b[0mchart_gb\u001b[0m\u001b[1;33m)\u001b[0m\u001b[1;33m\u001b[0m\u001b[1;33m\u001b[0m\u001b[0m\n\u001b[0m\u001b[0;32m    129\u001b[0m \u001b[0mprint\u001b[0m\u001b[1;33m(\u001b[0m\u001b[0mdf\u001b[0m\u001b[1;33m)\u001b[0m\u001b[1;33m\u001b[0m\u001b[1;33m\u001b[0m\u001b[0m\n",
      "\u001b[1;32m~\\AppData\\Local\\Temp\\ipykernel_10340\\803261038.py\u001b[0m in \u001b[0;36mget_ohlcv_by_date\u001b[1;34m(code, last_date, start_date, chart_gb, modified, field)\u001b[0m\n\u001b[0;32m     92\u001b[0m \u001b[1;33m\u001b[0m\u001b[0m\n\u001b[0;32m     93\u001b[0m     df = _get_ohlcv_by_date(StockChart, code, last_date, start_date,\n\u001b[1;32m---> 94\u001b[1;33m                             chart_gb, modified=modified, field=field)\n\u001b[0m\u001b[0;32m     95\u001b[0m \u001b[1;33m\u001b[0m\u001b[0m\n\u001b[0;32m     96\u001b[0m     \u001b[0mlast_date\u001b[0m \u001b[1;33m=\u001b[0m \u001b[0mdf\u001b[0m\u001b[1;33m[\u001b[0m\u001b[1;34m'date'\u001b[0m\u001b[1;33m]\u001b[0m\u001b[1;33m.\u001b[0m\u001b[0miloc\u001b[0m\u001b[1;33m[\u001b[0m\u001b[1;33m-\u001b[0m\u001b[1;36m1\u001b[0m\u001b[1;33m]\u001b[0m\u001b[1;33m\u001b[0m\u001b[1;33m\u001b[0m\u001b[0m\n",
      "\u001b[1;32m~\\AppData\\Local\\Temp\\ipykernel_10340\\803261038.py\u001b[0m in \u001b[0;36m_get_ohlcv_by_date\u001b[1;34m(StockChart, code, last_date, start_date, chart_gb, modified, field)\u001b[0m\n\u001b[0;32m     43\u001b[0m \u001b[1;33m\u001b[0m\u001b[0m\n\u001b[0;32m     44\u001b[0m \u001b[1;32mdef\u001b[0m \u001b[0m_get_ohlcv_by_date\u001b[0m\u001b[1;33m(\u001b[0m\u001b[0mStockChart\u001b[0m\u001b[1;33m,\u001b[0m \u001b[0mcode\u001b[0m\u001b[1;33m,\u001b[0m \u001b[0mlast_date\u001b[0m\u001b[1;33m,\u001b[0m \u001b[0mstart_date\u001b[0m\u001b[1;33m,\u001b[0m \u001b[0mchart_gb\u001b[0m\u001b[1;33m,\u001b[0m \u001b[0mmodified\u001b[0m\u001b[1;33m=\u001b[0m\u001b[1;34m'1'\u001b[0m\u001b[1;33m,\u001b[0m \u001b[0mfield\u001b[0m\u001b[1;33m=\u001b[0m\u001b[1;33m(\u001b[0m\u001b[1;36m0\u001b[0m\u001b[1;33m,\u001b[0m \u001b[1;36m1\u001b[0m\u001b[1;33m,\u001b[0m \u001b[1;36m2\u001b[0m\u001b[1;33m,\u001b[0m \u001b[1;36m3\u001b[0m\u001b[1;33m,\u001b[0m \u001b[1;36m4\u001b[0m\u001b[1;33m,\u001b[0m \u001b[1;36m5\u001b[0m\u001b[1;33m,\u001b[0m \u001b[1;36m8\u001b[0m\u001b[1;33m,\u001b[0m \u001b[1;36m9\u001b[0m\u001b[1;33m)\u001b[0m\u001b[1;33m)\u001b[0m\u001b[1;33m:\u001b[0m\u001b[1;33m\u001b[0m\u001b[1;33m\u001b[0m\u001b[0m\n\u001b[1;32m---> 45\u001b[1;33m     \u001b[0mStockChart\u001b[0m\u001b[1;33m.\u001b[0m\u001b[0mSetInputValue\u001b[0m\u001b[1;33m(\u001b[0m\u001b[1;36m0\u001b[0m\u001b[1;33m,\u001b[0m \u001b[0mcode\u001b[0m\u001b[1;33m)\u001b[0m\u001b[1;33m\u001b[0m\u001b[1;33m\u001b[0m\u001b[0m\n\u001b[0m\u001b[0;32m     46\u001b[0m     \u001b[0mStockChart\u001b[0m\u001b[1;33m.\u001b[0m\u001b[0mSetInputValue\u001b[0m\u001b[1;33m(\u001b[0m\u001b[1;36m1\u001b[0m\u001b[1;33m,\u001b[0m \u001b[0mord\u001b[0m\u001b[1;33m(\u001b[0m\u001b[1;34m'1'\u001b[0m\u001b[1;33m)\u001b[0m\u001b[1;33m)\u001b[0m\u001b[1;33m\u001b[0m\u001b[1;33m\u001b[0m\u001b[0m\n\u001b[0;32m     47\u001b[0m     \u001b[0mStockChart\u001b[0m\u001b[1;33m.\u001b[0m\u001b[0mSetInputValue\u001b[0m\u001b[1;33m(\u001b[0m\u001b[1;36m2\u001b[0m\u001b[1;33m,\u001b[0m \u001b[0mlast_date\u001b[0m\u001b[1;33m)\u001b[0m\u001b[1;33m\u001b[0m\u001b[1;33m\u001b[0m\u001b[0m\n",
      "\u001b[1;32mc:\\Users\\green\\anaconda3\\envs\\trading_32\\lib\\site-packages\\win32com\\client\\dynamic.py\u001b[0m in \u001b[0;36mSetInputValue\u001b[1;34m(self, _MIDL__ISysDib0004_, newVal)\u001b[0m\n",
      "\u001b[1;31mcom_error\u001b[0m: (-2147352567, '예외가 발생했습니다.', (0, None, 'Module:CpSysDib\\nObj:StockChart\\nFun:SetInputValue\\nType:0\\nDescription:형식이 일치하지 않습니다.', None, 0, -2147024809), None)"
=======
      "code: A368770\n",
      "start_date: 20210622\n",
      "last_date: 20230630\n",
      "            date  time  open  high   low  close  volume       value\n",
      "0       20230630  1530  4910  4910  4910   4910  217196  1066431000\n",
      "1       20230630  1520  4925  4925  4915   4925   38841   191184000\n",
      "2       20230630  1519  4910  4925  4905   4925   25264   124200000\n",
      "3       20230630  1518  4915  4920  4905   4910   25825   126888000\n",
      "4       20230630  1517  4925  4925  4915   4920   33907   166803000\n",
      "...          ...   ...   ...   ...   ...    ...     ...         ...\n",
      "123391  20210622   905  2297  2297  2271   2271   14585    33208000\n",
      "123392  20210622   904  2286  2302  2276   2302    7881    17967000\n",
      "123393  20210622   903  2297  2297  2281   2286     917     2093000\n",
      "123394  20210622   902  2302  2302  2281   2302    1526     3482000\n",
      "123395  20210622   901  2286  2286  2286   2286   20111    45984000\n",
      "\n",
      "[123396 rows x 8 columns]\n"
>>>>>>> a8a63f5562156785fd71ee186ca717b22d8330e3
     ]
    }
   ],
   "source": [
    "import os\n",
    "import win32com.client\n",
    "from pywinauto import application\n",
    "import time\n",
    "import pandas as pd\n",
    "\n",
    "# from datetime import time\n",
    "\n",
    "\n",
    "def connect(reconnect=True):\n",
    "    # 재연결이라면 기존 연결을 강제로 kill\n",
    "    if reconnect:\n",
    "        try:\n",
    "            os.system('taskkill /IM ncStarter* /F /T')\n",
    "            os.system('taskkill /IM CpStart* /F /T')\n",
    "            os.system('taskkill /IM DibServer* /F /T')\n",
    "            os.system('wmic process where \"name like \\'%ncStarter%\\'\" call terminate')\n",
    "            os.system('wmic process where \"name like \\'%CpStart%\\'\" call terminate')\n",
    "            os.system('wmic process where \"name like \\'%DibServer%\\'\" call terminate')\n",
    "        except:\n",
    "            pass\n",
    "\n",
    "    CpCybos = win32com.client.Dispatch(\"CpUtil.CpCybos\")\n",
    "\n",
    "    if CpCybos.IsConnect:\n",
    "        print('already connected.')\n",
    "\n",
    "    else:\n",
    "        app = application.Application()\n",
    "        app.start(\n",
    "            'C:\\Daishin\\Starter\\\\ncStarter.exe /prj:cp /id:{id} /pwd:{pwd} /pwdcert:{pwdcert} /autostart'.format(\n",
    "                id='ssuyan', pwd='tndus1!!', pwdcert='qkrtndus1!!')\n",
    "        )\n",
    "        # 연결 될때까지 무한루프\n",
    "        while True:\n",
    "            if CpCybos.IsConnect:\n",
    "                break\n",
    "            time.sleep(1)\n",
    "\n",
    "        print('connected.')\n",
    "    return CpCybos\n",
    "\n",
    "\n",
    "def _get_ohlcv_by_date(StockChart, code, last_date, start_date, chart_gb, modified='1', field=(0, 1, 2, 3, 4, 5, 8, 9)):\n",
    "    StockChart.SetInputValue(0, code)\n",
    "    StockChart.SetInputValue(1, ord('1'))\n",
    "    StockChart.SetInputValue(2, last_date)\n",
    "    StockChart.SetInputValue(3, start_date)\n",
    "    StockChart.SetInputValue(5, field)\n",
    "    StockChart.SetInputValue(6, ord(chart_gb))\n",
    "    StockChart.SetInputValue(9, ord(modified))\n",
    "    StockChart.BlockRequest()\n",
    "    return _get_df_from_stock_chart(StockChart)\n",
    "\n",
    "def initIndexInfo(self):\n",
    "    # 지표 기본 정보, 지표 이름 = 지표 라인 리스트\n",
    "    self.indexList = {}\n",
    "    self.indexList['지표선택 없음'] =['없음']\n",
    "    self.indexList['이동평균(라인1개)'] =['이동평균']\n",
    "    self.indexList['Stochastic Slow'] = ['SLOW K', 'SLOW D']\n",
    "    self.indexList['MACD'] = ['MACD', 'SIGNAL', 'OSCILLATOR']\n",
    "    self.indexList['RSI'] = ['RSI', 'SIGNAL']\n",
    "    self.indexList['Binary Wave MACD'] = ['BWMACD','SIGNAL', 'OSCILLATOR']\n",
    "    self.indexList['TSF'] = ['TSF','SIGNAL']\n",
    "    self.indexList['ZigZag'] = ['ZigZag1', 'ZigZag2']\n",
    "    self.indexList['Bollinger Band'] = ['Bol상', 'Bol하', 'Bol중']\n",
    "\n",
    "\n",
    "def _get_df_from_stock_chart(StockChart):\n",
    "    time.sleep(0.25)\n",
    "    df = []\n",
    "    num_col = StockChart.GetHeaderValue(1)\n",
    "    num_row = StockChart.GetHeaderValue(3)\n",
    "\n",
    "    for r_idx in range(num_row):\n",
    "        curr_data = []\n",
    "\n",
    "        for c_idx in range(num_col):\n",
    "            curr_data.append(StockChart.GetDataValue(c_idx, r_idx))\n",
    "        df.append(curr_data)\n",
    "\n",
    "    df = pd.DataFrame(df, columns=['date', 'time', 'open', 'high', 'low', 'close','volume', 'value'])\n",
    "    return df\n",
    "\n",
    "\n",
    "def get_ohlcv_by_date(code, last_date, start_date, chart_gb, modified='1', field=(0, 1, 2, 3, 4, 5, 8 ,9)):\n",
    "   \n",
    "\n",
    "    print('get ohlcv by date')\n",
    "    print(f'code: {code}\\nstart_date: {start_date}\\nlast_date: {last_date}')\n",
    "    StockChart = win32com.client.Dispatch(\"CpSysDib.StockChart\")\n",
    "\n",
    "    df = _get_ohlcv_by_date(StockChart, code, last_date, start_date,\n",
    "                            chart_gb, modified=modified, field=field)\n",
    "\n",
    "    last_date = df['date'].iloc[-1]\n",
    "    last_min = df['time'].iloc[-1]\n",
    "\n",
    "    df_list = [df]\n",
    "\n",
    "    while True:\n",
    "        df = _get_ohlcv_by_date(StockChart, code, int(last_date), start_date,\n",
    "                            chart_gb, modified=modified, field=field)\n",
    "\n",
    "        curr_date = df['date'].iloc[-1]\n",
    "        curr_min = df['time'].iloc[-1]\n",
    "\n",
    "        if curr_date == last_date and curr_min == last_min:\n",
    "            break\n",
    "\n",
    "        last_date = curr_date\n",
    "        last_min = curr_min\n",
    "\n",
    "        df_list.append(df)\n",
    "\n",
    "    df = pd.concat(df_list).drop_duplicates(['date', 'time']).reset_index(drop=True)\n",
    "    return df\n",
    "\n",
    "\n",
    "# 이미 연결되어있다면 재연결 x\n",
    "CpCybos = connect(False)\n",
    "\n",
<<<<<<< HEAD
    "code = ['A088800', 'A009540', 'A065450', 'A076080', 'A005870', 'A108380', 'A038060', 'A103140', 'A005810', 'A024740', 'A077970', 'A011210', 'A015710', 'A095270', 'A003010', 'A361390', 'A095190', 'A003570', 'A013810', 'A068790', 'A041190', 'A090080', 'A012450', 'A119500', 'A377330', 'A230980', 'A040300', 'A372910']\n",
    "# 분봉은 최대 2년 데이터 제공\n",
    "start_date = '20210628'\n",
    "last_date = '20230629'\n",
=======
    "code = 'A368770'\n",
    "# 분봉은 최대 2년 데이터 제공\n",
    "start_date = '20210622'\n",
    "last_date = '20230630'\n",
>>>>>>> a8a63f5562156785fd71ee186ca717b22d8330e3
    "chart_gb = 'm'\n",
    "df = get_ohlcv_by_date(code, last_date, start_date, chart_gb)\n",
    "print(df)"
   ]
  },
  {
   "cell_type": "code",
<<<<<<< HEAD
   "execution_count": null,
=======
   "execution_count": 9,
>>>>>>> a8a63f5562156785fd71ee186ca717b22d8330e3
   "metadata": {},
   "outputs": [],
   "source": [
    "###데이터 프레임으로 만들기###\n",
    "import pandas as pd\n",
    "\n",
    "#데이터 프레임 만들기\n",
    "stock_df = pd.DataFrame({'date':df['date'],'time':df['time'],'open':df['open'],'high':df['high'], 'low':df['low'],'close':df['close'],'value':df['value'], 'volume':df['volume']})\n",
    "stock_df\n",
    "\n",
<<<<<<< HEAD
    "stock_df.to_csv('8.csv', index=False)"
=======
    "stock_df.to_csv('3.csv', index=False)"
>>>>>>> a8a63f5562156785fd71ee186ca717b22d8330e3
   ]
  },
  {
   "cell_type": "code",
   "execution_count": null,
   "metadata": {},
   "outputs": [],
   "source": []
  }
 ],
 "metadata": {
  "kernelspec": {
   "display_name": "py36_32",
   "language": "python",
   "name": "python3"
  },
  "language_info": {
   "codemirror_mode": {
    "name": "ipython",
    "version": 3
   },
   "file_extension": ".py",
   "mimetype": "text/x-python",
   "name": "python",
   "nbconvert_exporter": "python",
   "pygments_lexer": "ipython3",
   "version": "3.7.13"
  },
  "orig_nbformat": 4
 },
 "nbformat": 4,
 "nbformat_minor": 2
}
