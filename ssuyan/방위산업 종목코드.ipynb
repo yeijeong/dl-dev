{
 "cells": [
  {
   "cell_type": "code",
   "execution_count": 3,
   "metadata": {},
   "outputs": [
    {
     "ename": "SessionNotCreatedException",
     "evalue": "Message: session not created\nfrom no such execution context: loader has changed while resolving nodes\n  (Session info: chrome=114.0.5735.199)\nStacktrace:\nBacktrace:\n\tGetHandleVerifier [0x0040A813+48355]\n\t(No symbol) [0x0039C4B1]\n\t(No symbol) [0x002A5358]\n\t(No symbol) [0x002A7D86]\n\t(No symbol) [0x002A99E1]\n\t(No symbol) [0x002A9A80]\n\t(No symbol) [0x002F1F1B]\n\t(No symbol) [0x002F093C]\n\t(No symbol) [0x002EA536]\n\t(No symbol) [0x002C82DC]\n\t(No symbol) [0x002C93DD]\n\tGetHandleVerifier [0x0066AABD+2539405]\n\tGetHandleVerifier [0x006AA78F+2800735]\n\tGetHandleVerifier [0x006A456C+2775612]\n\tGetHandleVerifier [0x004951E0+616112]\n\t(No symbol) [0x003A5F8C]\n\t(No symbol) [0x003A2328]\n\t(No symbol) [0x003A240B]\n\t(No symbol) [0x00394FF7]\n\tBaseThreadInitThunk [0x76B27D59+25]\n\tRtlInitializeExceptionChain [0x77AFB74B+107]\n\tRtlClearBits [0x77AFB6CF+191]\n",
     "output_type": "error",
     "traceback": [
      "\u001b[1;31m---------------------------------------------------------------------------\u001b[0m",
      "\u001b[1;31mSessionNotCreatedException\u001b[0m                Traceback (most recent call last)",
      "Cell \u001b[1;32mIn[3], line 5\u001b[0m\n\u001b[0;32m      3\u001b[0m \u001b[39mfrom\u001b[39;00m \u001b[39mselenium\u001b[39;00m \u001b[39mimport\u001b[39;00m webdriver\n\u001b[0;32m      4\u001b[0m \u001b[39mfrom\u001b[39;00m \u001b[39mselenium\u001b[39;00m\u001b[39m.\u001b[39;00m\u001b[39mwebdriver\u001b[39;00m\u001b[39m.\u001b[39;00m\u001b[39mcommon\u001b[39;00m\u001b[39m.\u001b[39;00m\u001b[39mby\u001b[39;00m \u001b[39mimport\u001b[39;00m By \n\u001b[1;32m----> 5\u001b[0m driver \u001b[39m=\u001b[39m webdriver\u001b[39m.\u001b[39;49mChrome()\n",
      "File \u001b[1;32mc:\\Users\\green\\anaconda3\\envs\\dl-dev-cpu\\lib\\site-packages\\selenium\\webdriver\\chrome\\webdriver.py:49\u001b[0m, in \u001b[0;36mWebDriver.__init__\u001b[1;34m(self, options, service, keep_alive)\u001b[0m\n\u001b[0;32m     45\u001b[0m \u001b[39mself\u001b[39m\u001b[39m.\u001b[39mkeep_alive \u001b[39m=\u001b[39m keep_alive\n\u001b[0;32m     47\u001b[0m \u001b[39mself\u001b[39m\u001b[39m.\u001b[39mservice\u001b[39m.\u001b[39mpath \u001b[39m=\u001b[39m DriverFinder\u001b[39m.\u001b[39mget_path(\u001b[39mself\u001b[39m\u001b[39m.\u001b[39mservice, \u001b[39mself\u001b[39m\u001b[39m.\u001b[39moptions)\n\u001b[1;32m---> 49\u001b[0m \u001b[39msuper\u001b[39;49m()\u001b[39m.\u001b[39;49m\u001b[39m__init__\u001b[39;49m(\n\u001b[0;32m     50\u001b[0m     DesiredCapabilities\u001b[39m.\u001b[39;49mCHROME[\u001b[39m\"\u001b[39;49m\u001b[39mbrowserName\u001b[39;49m\u001b[39m\"\u001b[39;49m],\n\u001b[0;32m     51\u001b[0m     \u001b[39m\"\u001b[39;49m\u001b[39mgoog\u001b[39;49m\u001b[39m\"\u001b[39;49m,\n\u001b[0;32m     52\u001b[0m     \u001b[39mself\u001b[39;49m\u001b[39m.\u001b[39;49moptions,\n\u001b[0;32m     53\u001b[0m     \u001b[39mself\u001b[39;49m\u001b[39m.\u001b[39;49mservice,\n\u001b[0;32m     54\u001b[0m     \u001b[39mself\u001b[39;49m\u001b[39m.\u001b[39;49mkeep_alive,\n\u001b[0;32m     55\u001b[0m )\n",
      "File \u001b[1;32mc:\\Users\\green\\anaconda3\\envs\\dl-dev-cpu\\lib\\site-packages\\selenium\\webdriver\\chromium\\webdriver.py:54\u001b[0m, in \u001b[0;36mChromiumDriver.__init__\u001b[1;34m(self, browser_name, vendor_prefix, options, service, keep_alive)\u001b[0m\n\u001b[0;32m     51\u001b[0m \u001b[39mself\u001b[39m\u001b[39m.\u001b[39mservice\u001b[39m.\u001b[39mstart()\n\u001b[0;32m     53\u001b[0m \u001b[39mtry\u001b[39;00m:\n\u001b[1;32m---> 54\u001b[0m     \u001b[39msuper\u001b[39;49m()\u001b[39m.\u001b[39;49m\u001b[39m__init__\u001b[39;49m(\n\u001b[0;32m     55\u001b[0m         command_executor\u001b[39m=\u001b[39;49mChromiumRemoteConnection(\n\u001b[0;32m     56\u001b[0m             remote_server_addr\u001b[39m=\u001b[39;49m\u001b[39mself\u001b[39;49m\u001b[39m.\u001b[39;49mservice\u001b[39m.\u001b[39;49mservice_url,\n\u001b[0;32m     57\u001b[0m             browser_name\u001b[39m=\u001b[39;49mbrowser_name,\n\u001b[0;32m     58\u001b[0m             vendor_prefix\u001b[39m=\u001b[39;49mvendor_prefix,\n\u001b[0;32m     59\u001b[0m             keep_alive\u001b[39m=\u001b[39;49mkeep_alive,\n\u001b[0;32m     60\u001b[0m             ignore_proxy\u001b[39m=\u001b[39;49m\u001b[39mself\u001b[39;49m\u001b[39m.\u001b[39;49moptions\u001b[39m.\u001b[39;49m_ignore_local_proxy,\n\u001b[0;32m     61\u001b[0m         ),\n\u001b[0;32m     62\u001b[0m         options\u001b[39m=\u001b[39;49m\u001b[39mself\u001b[39;49m\u001b[39m.\u001b[39;49moptions,\n\u001b[0;32m     63\u001b[0m     )\n\u001b[0;32m     64\u001b[0m \u001b[39mexcept\u001b[39;00m \u001b[39mException\u001b[39;00m:\n\u001b[0;32m     65\u001b[0m     \u001b[39mself\u001b[39m\u001b[39m.\u001b[39mquit()\n",
      "File \u001b[1;32mc:\\Users\\green\\anaconda3\\envs\\dl-dev-cpu\\lib\\site-packages\\selenium\\webdriver\\remote\\webdriver.py:206\u001b[0m, in \u001b[0;36mWebDriver.__init__\u001b[1;34m(self, command_executor, keep_alive, file_detector, options)\u001b[0m\n\u001b[0;32m    204\u001b[0m \u001b[39mself\u001b[39m\u001b[39m.\u001b[39m_authenticator_id \u001b[39m=\u001b[39m \u001b[39mNone\u001b[39;00m\n\u001b[0;32m    205\u001b[0m \u001b[39mself\u001b[39m\u001b[39m.\u001b[39mstart_client()\n\u001b[1;32m--> 206\u001b[0m \u001b[39mself\u001b[39;49m\u001b[39m.\u001b[39;49mstart_session(capabilities)\n",
      "File \u001b[1;32mc:\\Users\\green\\anaconda3\\envs\\dl-dev-cpu\\lib\\site-packages\\selenium\\webdriver\\remote\\webdriver.py:291\u001b[0m, in \u001b[0;36mWebDriver.start_session\u001b[1;34m(self, capabilities)\u001b[0m\n\u001b[0;32m    283\u001b[0m \u001b[39m\u001b[39m\u001b[39m\"\"\"Creates a new session with the desired capabilities.\u001b[39;00m\n\u001b[0;32m    284\u001b[0m \n\u001b[0;32m    285\u001b[0m \u001b[39m:Args:\u001b[39;00m\n\u001b[0;32m    286\u001b[0m \u001b[39m - capabilities - a capabilities dict to start the session with.\u001b[39;00m\n\u001b[0;32m    287\u001b[0m \u001b[39m - browser_profile - A selenium.webdriver.firefox.firefox_profile.FirefoxProfile object. Only used if Firefox is requested.\u001b[39;00m\n\u001b[0;32m    288\u001b[0m \u001b[39m\"\"\"\u001b[39;00m\n\u001b[0;32m    290\u001b[0m caps \u001b[39m=\u001b[39m _create_caps(capabilities)\n\u001b[1;32m--> 291\u001b[0m response \u001b[39m=\u001b[39m \u001b[39mself\u001b[39;49m\u001b[39m.\u001b[39;49mexecute(Command\u001b[39m.\u001b[39;49mNEW_SESSION, caps)[\u001b[39m\"\u001b[39m\u001b[39mvalue\u001b[39m\u001b[39m\"\u001b[39m]\n\u001b[0;32m    292\u001b[0m \u001b[39mself\u001b[39m\u001b[39m.\u001b[39msession_id \u001b[39m=\u001b[39m response\u001b[39m.\u001b[39mget(\u001b[39m\"\u001b[39m\u001b[39msessionId\u001b[39m\u001b[39m\"\u001b[39m)\n\u001b[0;32m    293\u001b[0m \u001b[39mself\u001b[39m\u001b[39m.\u001b[39mcaps \u001b[39m=\u001b[39m response\u001b[39m.\u001b[39mget(\u001b[39m\"\u001b[39m\u001b[39mcapabilities\u001b[39m\u001b[39m\"\u001b[39m)\n",
      "File \u001b[1;32mc:\\Users\\green\\anaconda3\\envs\\dl-dev-cpu\\lib\\site-packages\\selenium\\webdriver\\remote\\webdriver.py:346\u001b[0m, in \u001b[0;36mWebDriver.execute\u001b[1;34m(self, driver_command, params)\u001b[0m\n\u001b[0;32m    344\u001b[0m response \u001b[39m=\u001b[39m \u001b[39mself\u001b[39m\u001b[39m.\u001b[39mcommand_executor\u001b[39m.\u001b[39mexecute(driver_command, params)\n\u001b[0;32m    345\u001b[0m \u001b[39mif\u001b[39;00m response:\n\u001b[1;32m--> 346\u001b[0m     \u001b[39mself\u001b[39;49m\u001b[39m.\u001b[39;49merror_handler\u001b[39m.\u001b[39;49mcheck_response(response)\n\u001b[0;32m    347\u001b[0m     response[\u001b[39m\"\u001b[39m\u001b[39mvalue\u001b[39m\u001b[39m\"\u001b[39m] \u001b[39m=\u001b[39m \u001b[39mself\u001b[39m\u001b[39m.\u001b[39m_unwrap_value(response\u001b[39m.\u001b[39mget(\u001b[39m\"\u001b[39m\u001b[39mvalue\u001b[39m\u001b[39m\"\u001b[39m, \u001b[39mNone\u001b[39;00m))\n\u001b[0;32m    348\u001b[0m     \u001b[39mreturn\u001b[39;00m response\n",
      "File \u001b[1;32mc:\\Users\\green\\anaconda3\\envs\\dl-dev-cpu\\lib\\site-packages\\selenium\\webdriver\\remote\\errorhandler.py:245\u001b[0m, in \u001b[0;36mErrorHandler.check_response\u001b[1;34m(self, response)\u001b[0m\n\u001b[0;32m    243\u001b[0m         alert_text \u001b[39m=\u001b[39m value[\u001b[39m\"\u001b[39m\u001b[39malert\u001b[39m\u001b[39m\"\u001b[39m]\u001b[39m.\u001b[39mget(\u001b[39m\"\u001b[39m\u001b[39mtext\u001b[39m\u001b[39m\"\u001b[39m)\n\u001b[0;32m    244\u001b[0m     \u001b[39mraise\u001b[39;00m exception_class(message, screen, stacktrace, alert_text)  \u001b[39m# type: ignore[call-arg]  # mypy is not smart enough here\u001b[39;00m\n\u001b[1;32m--> 245\u001b[0m \u001b[39mraise\u001b[39;00m exception_class(message, screen, stacktrace)\n",
      "\u001b[1;31mSessionNotCreatedException\u001b[0m: Message: session not created\nfrom no such execution context: loader has changed while resolving nodes\n  (Session info: chrome=114.0.5735.199)\nStacktrace:\nBacktrace:\n\tGetHandleVerifier [0x0040A813+48355]\n\t(No symbol) [0x0039C4B1]\n\t(No symbol) [0x002A5358]\n\t(No symbol) [0x002A7D86]\n\t(No symbol) [0x002A99E1]\n\t(No symbol) [0x002A9A80]\n\t(No symbol) [0x002F1F1B]\n\t(No symbol) [0x002F093C]\n\t(No symbol) [0x002EA536]\n\t(No symbol) [0x002C82DC]\n\t(No symbol) [0x002C93DD]\n\tGetHandleVerifier [0x0066AABD+2539405]\n\tGetHandleVerifier [0x006AA78F+2800735]\n\tGetHandleVerifier [0x006A456C+2775612]\n\tGetHandleVerifier [0x004951E0+616112]\n\t(No symbol) [0x003A5F8C]\n\t(No symbol) [0x003A2328]\n\t(No symbol) [0x003A240B]\n\t(No symbol) [0x00394FF7]\n\tBaseThreadInitThunk [0x76B27D59+25]\n\tRtlInitializeExceptionChain [0x77AFB74B+107]\n\tRtlClearBits [0x77AFB6CF+191]\n"
     ]
    }
   ],
   "source": [
    "import pandas\n",
    "import numpy as np\n",
    "from selenium import webdriver\n",
    "from selenium.webdriver.common.by import By \n",
    "driver = webdriver.Chrome()"
   ]
  },
  {
   "cell_type": "code",
   "execution_count": null,
   "metadata": {},
   "outputs": [],
   "source": [
    "driver.get('https://finance.naver.com/sise/sise_group_detail.naver?type=theme&no=144') # 네이버 증권 방위산업 테마 "
   ]
  },
  {
   "cell_type": "code",
   "execution_count": null,
   "metadata": {},
   "outputs": [],
   "source": [
    "tbody = driver.find_element(By.XPATH, '//*[@id=\"contentarea\"]/div[4]/table/tbody') # find tbody tag"
   ]
  },
  {
   "cell_type": "code",
   "execution_count": null,
   "metadata": {},
   "outputs": [
    {
     "name": "stdout",
     "output_type": "stream",
     "text": [
      "['파이버프로 *', '기산텔레콤 *', '켄코아에어로스페이스 *', '삼영이엔씨 *', '한화시스템', 'SNT모티브', '아이쓰리시스템 *', '미래아이앤지', '덕산하이메탈 *', '에스코넥 *', 'LIG넥스원', 'STX', '한국항공우주', '국영지앤엠 *', '퍼스텍', '대한항공', '한화오션', '광림 *', '쌍용정보통신 *', '휴센텍 *', '비츠로테크 *', '기아', '현대로템', '한화', 'HJ중공업', '에이스테크 *', 'HD한국조선해양', '빅텍 *', '웰크론 *', '휴니드', '대양전기공업 *', '루멘스 *', '풍산', '풍산홀딩스', '한일단조 *', 'STX엔진', '현대위아', '코콤 *', '웨이브일렉트로 *', '혜인', '제노코 *', '이엠코리아 *', 'SNT다이내믹스', '스페코 *', 'DMS *', '우리기술 *', '평화산업', '한화에어로스페이스', '포메탈 *', '이지트로닉스 *', '에이트원 *', 'YTN *', '한컴라이프케어']\n"
     ]
    }
   ],
   "source": [
    "lst = []\n",
    "name_area_tags = driver.find_elements(By.CLASS_NAME, 'name_area')\n",
    "for name in name_area_tags:\n",
    "    lst.append(name.text)\n",
    "print(lst)"
   ]
  },
  {
   "cell_type": "code",
   "execution_count": null,
   "metadata": {},
   "outputs": [
    {
     "name": "stdout",
     "output_type": "stream",
     "text": [
      "['파이버프로', '기산텔레콤', '켄코아에어로스페이스', '삼영이엔씨', '한화시스템', 'SNT모티브', '아이쓰리시스템', '미래아이앤지', '덕산하이메탈', '에스코넥', 'LIG넥스원', 'STX', '한국항공우주', '국영지앤엠', '퍼스텍', '대한항공', '한화오션', '광림', '쌍용정보통신', '휴센텍', '비츠로테크', '기아', '현대로템', '한화', 'HJ중공업', '에이스테크', 'HD한국조선해양', '빅텍', '웰크론', '휴니드', '대양전기공업', '루멘스', '풍산', '풍산홀딩스', '한일단조', 'STX엔진', '현대위아', '코콤', '웨이브일렉트로', '혜인', '제노코', '이엠코리아', 'SNT다이내믹스', '스페코', 'DMS', '우리기술', '평화산업', '한화에어로스페이스', '포메탈', '이지트로닉스', '에이트원', 'YTN', '한컴라이프케어']\n"
     ]
    }
   ],
   "source": [
    "import re\n",
    "final_names = []\n",
    "for weapon in lst:\n",
    "    result=re.sub('\\s\\*','',str(weapon))\n",
    "    final_names.append(result)\n",
    "print(final_names)"
   ]
  },
  {
   "cell_type": "code",
   "execution_count": null,
   "metadata": {},
   "outputs": [
    {
     "name": "stderr",
     "output_type": "stream",
     "text": [
      "100%|██████████| 53/53 [01:08<00:00,  1.29s/it]"
     ]
    },
    {
     "name": "stdout",
     "output_type": "stream",
     "text": [
      "['368770', '035460', '274090', '065570', '272210', '064960', '214430', '007120', '077360', '096630', '079550', '011810', '047810', '006050', '010820', '003490', '042660', '014200', '010280', '215090', '042370', '000270', '064350', '012450', '097230', '088800', '009540', '065450', '076080', '005870', '108380', '038060', '103140', '005810', '024740', '077970', '011210', '015710', '095270', '003010', '361390', '095190', '003570', '013810', '068790', '041190', '090080', '012450', '119500', '377330', '230980', '040300', '372910']\n"
     ]
    },
    {
     "name": "stderr",
     "output_type": "stream",
     "text": [
      "\n"
     ]
    }
   ],
   "source": [
    "from selenium.webdriver.common.keys import Keys \n",
    "import time\n",
    "from tqdm import tqdm\n",
    "ticker_list = []\n",
    "for name in tqdm(final_names):\n",
    "    search_box = driver.find_element(By.ID,'stock_items')\n",
    "    search_box.send_keys(name)\n",
    "    time.sleep(0.2)\n",
    "    search_box.send_keys(Keys.SPACE)\n",
    "    time.sleep(.3)\n",
    "    search_box.find_element(By.XPATH, '//*[@id=\"atcmp\"]/div/div/ul/li/a').click()\n",
    "    time.sleep(.3)\n",
    "    ticker = driver.find_element(By.XPATH, '/html/body/div[3]/div[2]/div[1]/div[1]/div/span[1]').text\n",
    "    ticker_list.append(ticker)"
   ]
  },
  {
   "cell_type": "code",
   "execution_count": null,
   "metadata": {},
   "outputs": [
    {
     "name": "stdout",
     "output_type": "stream",
     "text": [
      "['368770', '035460', '274090', '065570', '272210', '064960', '214430', '007120', '077360', '096630', '079550', '011810', '047810', '006050', '010820', '003490', '042660', '014200', '010280', '215090', '042370', '000270', '064350', '012450', '097230', '088800', '009540', '065450', '076080', '005870', '108380', '038060', '103140', '005810', '024740', '077970', '011210', '015710', '095270', '003010', '361390', '095190', '003570', '013810', '068790', '041190', '090080', '012450', '119500', '377330', '230980', '040300', '372910']\n"
     ]
    }
   ],
   "source": [
    "print(ticker_list)"
   ]
  },
  {
   "cell_type": "code",
   "execution_count": null,
   "metadata": {},
   "outputs": [
    {
     "ename": "NameError",
     "evalue": "name 'ticker_list' is not defined",
     "output_type": "error",
     "traceback": [
      "\u001b[1;31m---------------------------------------------------------------------------\u001b[0m",
      "\u001b[1;31mNameError\u001b[0m                                 Traceback (most recent call last)",
      "Cell \u001b[1;32mIn[1], line 1\u001b[0m\n\u001b[1;32m----> 1\u001b[0m ticker_list[\u001b[39m26\u001b[39m:]\n",
      "\u001b[1;31mNameError\u001b[0m: name 'ticker_list' is not defined"
     ]
    }
   ],
   "source": [
    "ticker_list[26:]"
   ]
  }
 ],
 "metadata": {
  "kernelspec": {
   "display_name": "trading_final",
   "language": "python",
   "name": "python3"
  },
  "language_info": {
   "codemirror_mode": {
    "name": "ipython",
    "version": 3
   },
   "file_extension": ".py",
   "mimetype": "text/x-python",
   "name": "python",
   "nbconvert_exporter": "python",
   "pygments_lexer": "ipython3",
   "version": "3.10.11"
  },
  "orig_nbformat": 4
 },
 "nbformat": 4,
 "nbformat_minor": 2
}
