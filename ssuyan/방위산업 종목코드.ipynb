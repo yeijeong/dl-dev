{
 "cells": [
  {
   "cell_type": "code",
   "execution_count": 2,
   "metadata": {},
   "outputs": [],
   "source": [
    "import pandas\n",
    "import numpy as np\n",
    "from selenium import webdriver\n",
    "from selenium.webdriver.common.by import By \n",
    "driver = webdriver.Chrome()"
   ]
  },
  {
   "cell_type": "code",
   "execution_count": 3,
   "metadata": {},
   "outputs": [],
   "source": [
    "driver.get('https://finance.naver.com/sise/sise_group_detail.naver?type=theme&no=144') # 네이버 증권 방위산업 테마 "
   ]
  },
  {
   "cell_type": "code",
   "execution_count": 5,
   "metadata": {},
   "outputs": [],
   "source": [
    "tbody = driver.find_element(By.XPATH, '//*[@id=\"contentarea\"]/div[4]/table/tbody') # find tbody tag"
   ]
  },
  {
   "cell_type": "code",
   "execution_count": 18,
   "metadata": {},
   "outputs": [
    {
     "name": "stdout",
     "output_type": "stream",
     "text": [
      "['파이버프로 *', '기산텔레콤 *', '켄코아에어로스페이스 *', '삼영이엔씨 *', '한화시스템', 'SNT모티브', '아이쓰리시스템 *', '미래아이앤지', '덕산하이메탈 *', '에스코넥 *', 'LIG넥스원', 'STX', '한국항공우주', '국영지앤엠 *', '퍼스텍', '대한항공', '한화오션', '광림 *', '쌍용정보통신 *', '휴센텍 *', '비츠로테크 *', '기아', '현대로템', '한화', 'HJ중공업', '에이스테크 *', 'HD한국조선해양', '빅텍 *', '웰크론 *', '휴니드', '대양전기공업 *', '루멘스 *', '풍산', '풍산홀딩스', '한일단조 *', 'STX엔진', '현대위아', '코콤 *', '웨이브일렉트로 *', '혜인', '제노코 *', '이엠코리아 *', 'SNT다이내믹스', '스페코 *', 'DMS *', '우리기술 *', '평화산업', '한화에어로스페이스', '포메탈 *', '이지트로닉스 *', '에이트원 *', 'YTN *', '한컴라이프케어']\n"
     ]
    }
   ],
   "source": [
    "lst = []\n",
    "name_area_tags = driver.find_elements(By.CLASS_NAME, 'name_area')\n",
    "for name in name_area_tags:\n",
    "    lst.append(name.text)\n",
    "print(lst)"
   ]
  },
  {
   "cell_type": "code",
   "execution_count": 19,
   "metadata": {},
   "outputs": [
    {
     "name": "stdout",
     "output_type": "stream",
     "text": [
      "['파이버프로', '기산텔레콤', '켄코아에어로스페이스', '삼영이엔씨', '한화시스템', 'SNT모티브', '아이쓰리시스템', '미래아이앤지', '덕산하이메탈', '에스코넥', 'LIG넥스원', 'STX', '한국항공우주', '국영지앤엠', '퍼스텍', '대한항공', '한화오션', '광림', '쌍용정보통신', '휴센텍', '비츠로테크', '기아', '현대로템', '한화', 'HJ중공업', '에이스테크', 'HD한국조선해양', '빅텍', '웰크론', '휴니드', '대양전기공업', '루멘스', '풍산', '풍산홀딩스', '한일단조', 'STX엔진', '현대위아', '코콤', '웨이브일렉트로', '혜인', '제노코', '이엠코리아', 'SNT다이내믹스', '스페코', 'DMS', '우리기술', '평화산업', '한화에어로스페이스', '포메탈', '이지트로닉스', '에이트원', 'YTN', '한컴라이프케어']\n"
     ]
    }
   ],
   "source": [
    "import re\n",
    "final_names = []\n",
    "for weapon in lst:\n",
    "    result=re.sub('\\s\\*','',str(weapon))\n",
    "    final_names.append(result)\n",
    "print(final_names)"
   ]
  },
  {
   "cell_type": "code",
   "execution_count": 21,
   "metadata": {},
   "outputs": [
    {
     "name": "stderr",
     "output_type": "stream",
     "text": [
      "100%|██████████| 53/53 [01:08<00:00,  1.29s/it]"
     ]
    },
    {
     "name": "stdout",
     "output_type": "stream",
     "text": [
      "['368770', '035460', '274090', '065570', '272210', '064960', '214430', '007120', '077360', '096630', '079550', '011810', '047810', '006050', '010820', '003490', '042660', '014200', '010280', '215090', '042370', '000270', '064350', '012450', '097230', '088800', '009540', '065450', '076080', '005870', '108380', '038060', '103140', '005810', '024740', '077970', '011210', '015710', '095270', '003010', '361390', '095190', '003570', '013810', '068790', '041190', '090080', '012450', '119500', '377330', '230980', '040300', '372910']\n"
     ]
    },
    {
     "name": "stderr",
     "output_type": "stream",
     "text": [
      "\n"
     ]
    }
   ],
   "source": [
    "from selenium.webdriver.common.keys import Keys \n",
    "import time\n",
    "from tqdm import tqdm\n",
    "ticker_list = []\n",
    "for name in tqdm(final_names):\n",
    "    search_box = driver.find_element(By.ID,'stock_items')\n",
    "    search_box.send_keys(name)\n",
    "    time.sleep(0.2)\n",
    "    search_box.send_keys(Keys.SPACE)\n",
    "    time.sleep(.3)\n",
    "    search_box.find_element(By.XPATH, '//*[@id=\"atcmp\"]/div/div/ul/li/a').click()\n",
    "    time.sleep(.3)\n",
    "    ticker = driver.find_element(By.XPATH, '/html/body/div[3]/div[2]/div[1]/div[1]/div/span[1]').text\n",
    "    ticker_list.append(ticker)"
   ]
  },
  {
   "cell_type": "code",
   "execution_count": 22,
   "metadata": {},
   "outputs": [
    {
     "name": "stdout",
     "output_type": "stream",
     "text": [
      "['368770', '035460', '274090', '065570', '272210', '064960', '214430', '007120', '077360', '096630', '079550', '011810', '047810', '006050', '010820', '003490', '042660', '014200', '010280', '215090', '042370', '000270', '064350', '012450', '097230', '088800', '009540', '065450', '076080', '005870', '108380', '038060', '103140', '005810', '024740', '077970', '011210', '015710', '095270', '003010', '361390', '095190', '003570', '013810', '068790', '041190', '090080', '012450', '119500', '377330', '230980', '040300', '372910']\n"
     ]
    }
   ],
   "source": [
    "print(ticker_list)"
   ]
  },
  {
   "cell_type": "code",
   "execution_count": null,
   "metadata": {},
   "outputs": [],
   "source": []
  }
 ],
 "metadata": {
  "kernelspec": {
   "display_name": "trading_final",
   "language": "python",
   "name": "python3"
  },
  "language_info": {
   "codemirror_mode": {
    "name": "ipython",
    "version": 3
   },
   "file_extension": ".py",
   "mimetype": "text/x-python",
   "name": "python",
   "nbconvert_exporter": "python",
   "pygments_lexer": "ipython3",
   "version": "3.10.11"
  },
  "orig_nbformat": 4
 },
 "nbformat": 4,
 "nbformat_minor": 2
}
