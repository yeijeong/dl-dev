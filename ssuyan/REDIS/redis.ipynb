{
 "cells": [
  {
   "cell_type": "code",
   "execution_count": 2,
   "metadata": {},
   "outputs": [
    {
     "name": "stdout",
     "output_type": "stream",
     "text": [
      "{'type': 'subscribe', 'pattern': None, 'channel': b'Real-Jusik', 'data': 1}\n"
     ]
    }
   ],
   "source": [
    "import redis\n",
    "\n",
    "# Redis 클라이언트 생성\n",
    "redis_client = redis.Redis(host='34.64.240.96', port=6379,db=0)\n",
    "\n",
    "# 채널 구독\n",
    "pubsub = redis_client.pubsub()\n",
    "pubsub.subscribe('Real-Jusik')\n",
    "# pubsub.subscribe('Web')\n",
    "# pubsub.subscribe('Re')\n",
    "\n",
    "# 메시지 수신 대기\n",
    "for message in pubsub.listen():\n",
    "    print(message)"
   ]
  },
  {
   "cell_type": "code",
   "execution_count": null,
   "metadata": {},
   "outputs": [],
   "source": []
  }
 ],
 "metadata": {
  "kernelspec": {
   "display_name": "test",
   "language": "python",
   "name": "python3"
  },
  "language_info": {
   "codemirror_mode": {
    "name": "ipython",
    "version": 3
   },
   "file_extension": ".py",
   "mimetype": "text/x-python",
   "name": "python",
   "nbconvert_exporter": "python",
   "pygments_lexer": "ipython3",
   "version": "3.10.10"
  },
  "orig_nbformat": 4
 },
 "nbformat": 4,
 "nbformat_minor": 2
}
