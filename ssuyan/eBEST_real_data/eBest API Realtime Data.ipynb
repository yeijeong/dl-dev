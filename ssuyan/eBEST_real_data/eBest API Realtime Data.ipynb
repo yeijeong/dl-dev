{
 "cells": [
  {
   "cell_type": "code",
   "execution_count": 57,
   "metadata": {},
   "outputs": [],
   "source": [
    "import pythoncom\n",
    "import win32com.client as winAPI\n",
    "import time"
   ]
  },
  {
   "cell_type": "code",
   "execution_count": 58,
   "metadata": {},
   "outputs": [],
   "source": [
    "STAND_BY = 0\n",
    "RECEIVED = 1\n",
    "\n",
    "\n",
    "class XASessionEvents:\n",
    "    login_state = STAND_BY\n",
    "\n",
    "    def OnLogin(self, code, msg):\n",
    "        XASessionEvents.login_state = RECEIVED\n",
    "        print(msg)\n",
    "\n",
    "    def OnDisconnect(self, code, msg):\n",
    "        pass\n",
    "\n",
    "\n",
    "class XAQueryEvents:\n",
    "    query_state = STAND_BY\n",
    "\n",
    "    def OnReceiveData(self, code):\n",
    "        XAQueryEvents.query_state = RECEIVED\n",
    "\n",
    "    def OnReceiveMessage(self, error, nMessageCode, szMessage):\n",
    "        print(szMessage)"
   ]
  },
  {
   "cell_type": "code",
   "execution_count": 59,
   "metadata": {},
   "outputs": [
    {
     "name": "stdout",
     "output_type": "stream",
     "text": [
      "로그인 성공\n"
     ]
    }
   ],
   "source": [
    "import datetime\n",
    "import time\n",
    "\n",
    "SERVER_PORT = 20001\n",
    "SHOW_CERTIFICATE_ERROR_DIALOG = False\n",
    "REPEATED_DATA_QUERY = 1\n",
    "TRANSACTION_REQUEST_EXCESS = -21\n",
    "TODAY = datetime.datetime.now().strftime('%Y%m%d')\n",
    "\n",
    "if __name__ == \"__main__\":\n",
    "    id = \"ssuyan\"\n",
    "    password = \"tndus1!!\"\n",
    "    certificate_password = \"qkrtndus1!!\"\n",
    "    xa_session = winAPI.DispatchWithEvents(\"XA_Session.XASession\", XASessionEvents)\n",
    "\n",
    "    # demo.ebestsec.co.kr => 모의투자 \n",
    "    # hts.ebestsec.co.kr => 실투자\n",
    "    xa_session.ConnectServer(\"hts.ebestsec.co.kr\", SERVER_PORT)\n",
    "    xa_session.Login(id, password, certificate_password, SERVER_PORT, SHOW_CERTIFICATE_ERROR_DIALOG)\n",
    "\n",
    "    while XASessionEvents.login_state is STAND_BY:\n",
    "        pythoncom.PumpWaitingMessages()\n",
    "    XASessionEvents.login_state = STAND_BY"
   ]
  },
  {
   "cell_type": "code",
   "execution_count": 60,
   "metadata": {},
   "outputs": [
    {
     "name": "stdout",
     "output_type": "stream",
     "text": [
      "정상적으로 조회가 완료되었습니다.\n"
     ]
    }
   ],
   "source": [
    "TR = \"t8430\"\n",
    "xa_query = winAPI.DispatchWithEvents(\"XA_DataSet.XAQuery\", XAQueryEvents)\n",
    "xa_query.ResFileName = \"C:\\\\eBEST\\\\xingAPI\\\\Res\\\\\" + TR + \".res\"\n",
    "\n",
    "xa_query.SetFieldData(\"t8430InBlock\", \"gubun\", 0, 1)\n",
    "\n",
    "while True:\n",
    "    ret = xa_query.Request(False)\n",
    "    \"\"\" Receiving error message, keep requesting until accepted \"\"\"\n",
    "    if ret is TRANSACTION_REQUEST_EXCESS:  # -34\n",
    "        time.sleep(0.8)\n",
    "    else:\n",
    "        break\n",
    "\"\"\" Wait window's event message \"\"\"\n",
    "while XAQueryEvents.query_state is STAND_BY:\n",
    "    pythoncom.PumpWaitingMessages()\n",
    "XAQueryEvents.query_state = STAND_BY"
   ]
  },
  {
   "cell_type": "code",
   "execution_count": 63,
   "metadata": {},
   "outputs": [
    {
     "name": "stdout",
     "output_type": "stream",
     "text": [
      "종목;한화에어로스페이스,수신시간;11252648, 현재가;138200,시가;142600,고가;142700,누적거래량;303189,매도호가수량10;560,매수호가수량10;1330,매도호가수량합;2785,매수호가수량합;9535"
     ]
    },
    {
     "name": "stdout",
     "output_type": "stream",
     "text": [
      "\n",
      "TR code => t1101\n",
      "1 012450 112533  138300 142600 142700 303190    \n",
      "2 012450 112544  138300 142600 142700 303197    \n",
      "3 012450 112544  138300 142600 142700 303198    \n",
      "4 012450 112545  138300 142600 142700 303200    \n",
      "5 012450 112548  138300 142600 142700 303201    \n"
     ]
    },
    {
     "ename": "KeyboardInterrupt",
     "evalue": "",
     "output_type": "error",
     "traceback": [
      "\u001b[1;31m---------------------------------------------------------------------------\u001b[0m",
      "\u001b[1;31mKeyboardInterrupt\u001b[0m                         Traceback (most recent call last)",
      "\u001b[1;32m~\\AppData\\Local\\Temp\\ipykernel_5104\\660553415.py\u001b[0m in \u001b[0;36m<module>\u001b[1;34m\u001b[0m\n\u001b[0;32m    113\u001b[0m \u001b[1;33m\u001b[0m\u001b[0m\n\u001b[0;32m    114\u001b[0m     \u001b[0mget_single_data\u001b[0m\u001b[1;33m(\u001b[0m\u001b[1;33m)\u001b[0m\u001b[1;33m\u001b[0m\u001b[1;33m\u001b[0m\u001b[0m\n\u001b[1;32m--> 115\u001b[1;33m     \u001b[0mget_real_data\u001b[0m\u001b[1;33m(\u001b[0m\u001b[1;33m)\u001b[0m\u001b[1;33m\u001b[0m\u001b[1;33m\u001b[0m\u001b[0m\n\u001b[0m\u001b[0;32m    116\u001b[0m \u001b[1;33m\u001b[0m\u001b[0m\n",
      "\u001b[1;32m~\\AppData\\Local\\Temp\\ipykernel_5104\\660553415.py\u001b[0m in \u001b[0;36mget_real_data\u001b[1;34m()\u001b[0m\n\u001b[0;32m    110\u001b[0m         \u001b[1;32mwhile\u001b[0m \u001b[1;32mTrue\u001b[0m\u001b[1;33m:\u001b[0m\u001b[1;33m\u001b[0m\u001b[1;33m\u001b[0m\u001b[0m\n\u001b[0;32m    111\u001b[0m             \u001b[0mpythoncom\u001b[0m\u001b[1;33m.\u001b[0m\u001b[0mPumpWaitingMessages\u001b[0m\u001b[1;33m(\u001b[0m\u001b[1;33m)\u001b[0m\u001b[1;33m\u001b[0m\u001b[1;33m\u001b[0m\u001b[0m\n\u001b[1;32m--> 112\u001b[1;33m             \u001b[0mxreal\u001b[0m\u001b[1;33m.\u001b[0m\u001b[0madd_item\u001b[0m\u001b[1;33m(\u001b[0m\u001b[1;34m\"012450\"\u001b[0m\u001b[1;33m)\u001b[0m  \u001b[1;31m# 한화에어로스페이스 주식\u001b[0m\u001b[1;33m\u001b[0m\u001b[1;33m\u001b[0m\u001b[0m\n\u001b[0m\u001b[0;32m    113\u001b[0m \u001b[1;33m\u001b[0m\u001b[0m\n\u001b[0;32m    114\u001b[0m     \u001b[0mget_single_data\u001b[0m\u001b[1;33m(\u001b[0m\u001b[1;33m)\u001b[0m\u001b[1;33m\u001b[0m\u001b[1;33m\u001b[0m\u001b[0m\n",
      "\u001b[1;32m~\\AppData\\Local\\Temp\\ipykernel_5104\\660553415.py\u001b[0m in \u001b[0;36madd_item\u001b[1;34m(self, stockcode)\u001b[0m\n\u001b[0;32m     79\u001b[0m         \u001b[1;31m# 실시간데이터 요청 종목 추가\u001b[0m\u001b[1;33m\u001b[0m\u001b[1;33m\u001b[0m\u001b[1;33m\u001b[0m\u001b[0m\n\u001b[0;32m     80\u001b[0m         \u001b[0mself\u001b[0m\u001b[1;33m.\u001b[0m\u001b[0mSetFieldData\u001b[0m\u001b[1;33m(\u001b[0m\u001b[1;34m\"InBlock\"\u001b[0m\u001b[1;33m,\u001b[0m \u001b[1;34m\"shcode\"\u001b[0m\u001b[1;33m,\u001b[0m \u001b[0mstockcode\u001b[0m\u001b[1;33m)\u001b[0m\u001b[1;33m\u001b[0m\u001b[1;33m\u001b[0m\u001b[0m\n\u001b[1;32m---> 81\u001b[1;33m         \u001b[0mself\u001b[0m\u001b[1;33m.\u001b[0m\u001b[0mAdviseRealData\u001b[0m\u001b[1;33m(\u001b[0m\u001b[1;33m)\u001b[0m\u001b[1;33m\u001b[0m\u001b[1;33m\u001b[0m\u001b[0m\n\u001b[0m\u001b[0;32m     82\u001b[0m \u001b[1;33m\u001b[0m\u001b[0m\n\u001b[0;32m     83\u001b[0m     \u001b[1;32mdef\u001b[0m \u001b[0mremove_item\u001b[0m\u001b[1;33m(\u001b[0m\u001b[0mself\u001b[0m\u001b[1;33m,\u001b[0m \u001b[0mstockcode\u001b[0m\u001b[1;33m)\u001b[0m\u001b[1;33m:\u001b[0m\u001b[1;33m\u001b[0m\u001b[1;33m\u001b[0m\u001b[0m\n",
      "\u001b[1;32m~\\AppData\\Local\\Temp\\gen_py\\3.7\\CAA15009-CF22-4D1D-AF40-093DBC5A6A0Fx0x1x0.py\u001b[0m in \u001b[0;36mAdviseRealData\u001b[1;34m(self)\u001b[0m\n\u001b[0;32m    248\u001b[0m         \u001b[1;32mdef\u001b[0m \u001b[0mAdviseRealData\u001b[0m\u001b[1;33m(\u001b[0m\u001b[0mself\u001b[0m\u001b[1;33m)\u001b[0m\u001b[1;33m:\u001b[0m\u001b[1;33m\u001b[0m\u001b[1;33m\u001b[0m\u001b[0m\n\u001b[0;32m    249\u001b[0m                 \u001b[1;34m'method AdviseRealData'\u001b[0m\u001b[1;33m\u001b[0m\u001b[1;33m\u001b[0m\u001b[0m\n\u001b[1;32m--> 250\u001b[1;33m                 \u001b[1;32mreturn\u001b[0m \u001b[0mself\u001b[0m\u001b[1;33m.\u001b[0m\u001b[0m_oleobj_\u001b[0m\u001b[1;33m.\u001b[0m\u001b[0mInvokeTypes\u001b[0m\u001b[1;33m(\u001b[0m\u001b[1;36m12\u001b[0m\u001b[1;33m,\u001b[0m \u001b[0mLCID\u001b[0m\u001b[1;33m,\u001b[0m \u001b[1;36m1\u001b[0m\u001b[1;33m,\u001b[0m \u001b[1;33m(\u001b[0m\u001b[1;36m24\u001b[0m\u001b[1;33m,\u001b[0m \u001b[1;36m0\u001b[0m\u001b[1;33m)\u001b[0m\u001b[1;33m,\u001b[0m \u001b[1;33m(\u001b[0m\u001b[1;33m)\u001b[0m\u001b[1;33m,\u001b[0m\u001b[1;33m)\u001b[0m\u001b[1;33m\u001b[0m\u001b[1;33m\u001b[0m\u001b[0m\n\u001b[0m\u001b[0;32m    251\u001b[0m \u001b[1;33m\u001b[0m\u001b[0m\n\u001b[0;32m    252\u001b[0m         \u001b[1;32mdef\u001b[0m \u001b[0mGetBlockData\u001b[0m\u001b[1;33m(\u001b[0m\u001b[0mself\u001b[0m\u001b[1;33m,\u001b[0m \u001b[0mszBlockName\u001b[0m\u001b[1;33m=\u001b[0m\u001b[0mdefaultNamedNotOptArg\u001b[0m\u001b[1;33m)\u001b[0m\u001b[1;33m:\u001b[0m\u001b[1;33m\u001b[0m\u001b[1;33m\u001b[0m\u001b[0m\n",
      "\u001b[1;31mKeyboardInterrupt\u001b[0m: "
     ]
    }
   ],
   "source": [
    "import win32com.client\n",
    "import pythoncom\n",
    "import time\n",
    "\n",
    "class XQuery_t1101:\n",
    "    def __init__(self):\n",
    "        super().__init__()\n",
    "        self.is_data_received = False\n",
    "\n",
    "    def OnReceiveData(self, tr_code):\n",
    "        \"\"\"\n",
    "        이베스트 서버에서 ReceiveData 이벤트 받으면 실행되는 event handler\n",
    "        \"\"\"\n",
    "        self.is_data_received = True\n",
    "        name = self.GetFieldData(\"t1101OutBlock\", \"hname\", 0)\n",
    "        hotime = self.GetFieldData(\"t1101OutBlock\", \"hotime\", 0)\n",
    "        price = self.GetFieldData(\"t1101OutBlock\", \"price\", 0)\n",
    "        open = self.GetFieldData(\"t1101OutBlock\", \"open\", 0)\n",
    "        high = self.GetFieldData(\"t1101OutBlock\", \"high\", 0)\n",
    "        volume = self.GetFieldData(\"t1101OutBlock\", \"volume\", 0)\n",
    "        offerrem10 = self.GetFieldData(\"t1101OutBlock\", \"offerrem10\", 0)\n",
    "        bidrem10 = self.GetFieldData(\"t1101OutBlock\", \"bidrem10\", 0)\n",
    "        offer = self.GetFieldData(\"t1101OutBlock\", \"offer\", 0)\n",
    "        bid = self.GetFieldData(\"t1101OutBlock\", \"bid\", 0)\n",
    "        print(\"종목;{0},수신시간;{1}, 현재가;{2},시가;{3},고가;{4},누적거래량;{5},매도호가수량10;{6},매수호가수량10;{7},매도호가수량합;{8},매수호가수량합;{9}\".format(name, hotime, price, open, high, volume,offerrem10,bidrem10,offer,bid))\n",
    "        print(\"TR code => {0}\".format(tr_code))\n",
    "\n",
    "    def request(self):\n",
    "    # 매수 매도 체결 수량 컬럼추가\n",
    "\n",
    "        \"\"\"\n",
    "        이베스트 서버에 일회성 TR data 요청함.\n",
    "        \"\"\"\n",
    "        self.ResFileName = \"C:\\\\eBEST\\\\xingAPI\\\\Res\\\\t1101.res\"  # RES 파일 등록\n",
    "        self.SetFieldData(\"t1101InBlock\", \"shcode\", 0, \"012450\")  # 한화에어로스페이스\n",
    "        err_code = self.Request(False)  # data 요청하기 --  연속조회인경우만 True\n",
    "\n",
    "        if err_code < 0:\n",
    "            print(\"error... {0}\".format(err_code)) # data 요청하기 --  연속조회인경우만 True\n",
    "\n",
    "    @classmethod\n",
    "    def get_instance(cls):\n",
    "        xq_t1101 = win32com.client.DispatchWithEvents(\"XA_DataSet.XAQuery\", cls)\n",
    "        return xq_t1101\n",
    "\n",
    "\n",
    "class XReal_S3_:\n",
    "    def __init__(self):\n",
    "        super().__init__()\n",
    "        self.count = 0\n",
    "\n",
    "    def OnReceiveRealData(self, tr_code):  # event handler\n",
    "        \"\"\"\n",
    "        이베스트 서버에서 ReceiveRealData 이벤트 받으면 실행되는 event handler\n",
    "        \"\"\"\n",
    "        self.count += 1\n",
    "        stockcode = self.GetFieldData(\"OutBlock\", \"shcode\")\n",
    "        chetime = self.GetFieldData(\"OutBlock\", \"chetime\")\n",
    "        hotime = self.GetFieldData(\"OutBlock\", \"hotime\")\n",
    "        price = self.GetFieldData(\"OutBlock\", \"price\")\n",
    "        open = self.GetFieldData(\"OutBlock\", \"open\")\n",
    "        high = self.GetFieldData(\"OutBlock\", \"high\")\n",
    "        volume = self.GetFieldData(\"OutBlock\", \"volume\")\n",
    "        offerrem10 = self.GetFieldData(\"OutBlock\", \"offerrem10\")\n",
    "        bidrem10 = self.GetFieldData(\"OutBlock\", \"bidrem10\")\n",
    "        offer = self.GetFieldData(\"OutBlock\", \"offer\")\n",
    "        bid = self.GetFieldData(\"OutBlock\", \"bid\")\n",
    "        print(self.count, stockcode, chetime, hotime, price, open, high, volume, offerrem10, bidrem10, offer, bid)\n",
    "\n",
    "    def start(self):\n",
    "        \"\"\"\n",
    "        이베스트 서버에 실시간 data 요청함.\n",
    "        \"\"\"\n",
    "        self.ResFileName = \"C:\\\\eBEST\\\\xingAPI\\\\Res\\\\S3_.res\"  # RES 파일 등록\n",
    "        self.SetFieldData(\"InBlock\", \"shcode\", \"012450\")\n",
    "        self.AdviseRealData()   # 실시간데이터 요청\n",
    "\n",
    "    def add_item(self, stockcode):\n",
    "        # 실시간데이터 요청 종목 추가\n",
    "        self.SetFieldData(\"InBlock\", \"shcode\", stockcode)\n",
    "        self.AdviseRealData()\n",
    "\n",
    "    def remove_item(self, stockcode):\n",
    "        # stockcode 종목만 실시간데이터 요청 취소\n",
    "        self.UnadviseRealDataWithKey(stockcode)\n",
    "\n",
    "    def end(self):\n",
    "        self.UnadviseRealData()  # 실시간데이터 요청 모두 취소\n",
    "\n",
    "    @classmethod\n",
    "    def get_instance(cls):\n",
    "        xreal = win32com.client.DispatchWithEvents(\"XA_DataSet.XAReal\", cls)\n",
    "        return xreal\n",
    "\n",
    "\n",
    "\n",
    "if __name__ == \"__main__\":\n",
    "    def get_single_data():\n",
    "        xq_t1101 = XQuery_t1101.get_instance()\n",
    "        xq_t1101.request()\n",
    "\n",
    "        while xq_t1101.is_data_received == False:\n",
    "            pythoncom.PumpWaitingMessages()\n",
    "\n",
    "\n",
    "    def get_real_data():\n",
    "        xreal = XReal_S3_.get_instance()\n",
    "        xreal.start()\n",
    "\n",
    "        while True:\n",
    "            pythoncom.PumpWaitingMessages()\n",
    "            xreal.add_item(\"012450\")  # 한화에어로스페이스 주식\n",
    "\n",
    "    get_single_data()\n",
    "    get_real_data()\n",
    "    "
   ]
  }
 ],
 "metadata": {
  "kernelspec": {
   "display_name": "trading",
   "language": "python",
   "name": "python3"
  },
  "language_info": {
   "codemirror_mode": {
    "name": "ipython",
    "version": 3
   },
   "file_extension": ".py",
   "mimetype": "text/x-python",
   "name": "python",
   "nbconvert_exporter": "python",
   "pygments_lexer": "ipython3",
   "version": "3.7.13"
  },
  "orig_nbformat": 4
 },
 "nbformat": 4,
 "nbformat_minor": 2
}
