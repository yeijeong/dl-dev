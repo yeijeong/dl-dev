{
 "cells": [
  {
   "cell_type": "code",
   "execution_count": 148,
   "metadata": {},
   "outputs": [],
   "source": [
    "from pyxing.session import *\n",
    "from pyxing.query import *\n",
    "\n",
    "import pandas as pd\n",
    "import numpy as np\n",
    "\n",
    "import threading\n",
    "\n",
    "import time\n",
    "from datetime import datetime\n",
    "\n",
    "import pythoncom\n",
    "import win32com.client as winAPI"
   ]
  },
  {
   "cell_type": "code",
   "execution_count": 149,
   "metadata": {},
   "outputs": [],
   "source": [
    "shcode_list = ['A033780', 'A064350', 'A017670', 'A005490', 'A014680', 'A012450', 'A051900', 'A009150', 'A066570', 'A108320', 'A047810', 'A000660', 'A010140', 'A035420', 'A005380', 'A009830', 'A052690', 'A034020', 'A005070', 'A005420', 'A042700', 'A028050', 'A068270', 'A137310', 'A005930', 'A017960', 'A075580', 'A003490']"
   ]
  },
  {
   "cell_type": "code",
   "execution_count": 150,
   "metadata": {},
   "outputs": [],
   "source": [
    "for shcode in shcode_list:\n",
    "    globals()['df_{}'.format(shcode)] = pd.DataFrame(columns=['종목코드','시간','현재가','체결수량', '거래량', '매도체결수량', '매수체결수량'])"
   ]
  },
  {
   "cell_type": "code",
   "execution_count": 151,
   "metadata": {},
   "outputs": [],
   "source": [
    "receive_list = ['shcode','chetime','price','cvolume','volume','mdvolume','msvolume']"
   ]
  },
  {
   "cell_type": "code",
   "execution_count": 152,
   "metadata": {},
   "outputs": [],
   "source": [
    "import win32com.client\n",
    "import pythoncom\n",
    "\n",
    "class XingRealTime(object):\n",
    "    realTime = None\n",
    "\n",
    "    def __init__(self):\n",
    "        self.realTime = win32com.client.DispatchWithEvents(\"XA_DataSet.XAReal\", RealTimeDataHandler)\n",
    "        RealTimeDataHandler.realTime = self.realTime\n",
    "    #def end\n",
    "\n",
    "    \n",
    "\n",
    "    def subscribeRealTimeData(self, shcode_list):\n",
    "        # 실시간 데이터 요청 \n",
    "        self.realTime.LoadFromResFile(\"C:\\\\eBEST\\\\xingAPI\\\\Res\\\\S3_.res\")\n",
    "        self.realTime.SetFieldData('InBlock', 'shcode', shcode_list)\n",
    "        self.realTime.AdviseRealData()\n",
    "    #def end\n",
    "\n",
    "    def add_item(self, shcode):\n",
    "    # 실시간데이터 요청 종목 추가\n",
    "        self.SetFieldData(\"InBlock\", \"shcode\", shcode)\n",
    "        self.AdviseRealData()\n",
    "\n",
    "    def waitEvent(self):\n",
    "        # Waiting query event\n",
    "        while RealTimeDataHandler.realTimeState == 0:\n",
    "            pythoncom.PumpWaitingMessages()\n",
    "    #def end\n",
    "\n",
    "\n",
    "# 전송시간에 따른 시간 정보 가져오기\n",
    "def recieve_dt(self,shcode,i):\n",
    "    xaquery = XAQuery()\n",
    "    re_df = self.realTime.ReceivedRealData('S3_',shcode=shcode)\n",
    "    re_time = xaquery.set_field_data('t0167',id=re_df[0]['chetime'])\n",
    "\n",
    "\n",
    "    dttime = (re_time[0]['dt']+re_time[0]['time']).values[0]\n",
    "    re_df = re_df[0][receive_list[1:]].values[0].tolist()\n",
    "\n",
    "    df = globals()['df_{}'.format(shcode)]\n",
    "\n",
    "    df.loc[i, 'Datetime'] = dttime\n",
    "    df.iloc[i,1:] = re_df\n",
    "#class end\n",
    "\n",
    "\n",
    "class RealTimeDataHandler:\n",
    "    realTimeState = 0\n",
    "    realTime = None\n",
    "\n",
    "    def OnReceiveRealData(self,XingRealTime):\n",
    "        shcode = self.realTime.GetFieldData('OutBlock', 'shcode')\n",
    "        chetime = self.realTime.GetFieldData('OutBlock', 'chetime')\n",
    "        price = self.realTime.GetFieldData('OutBlock', 'price')\n",
    "        cvolume = self.realTime.GetFieldData('OutBlock', 'cvolume')\n",
    "        volume = self.realTime.GetFieldData('OutBlock', 'cvolume')\n",
    "        mdvolume = self.realTime.GetFieldData('OutBlock', 'mdvolume')\n",
    "        msvolume = self.realTime.GetFieldData('OutBlock', 'msvolume')\n",
    "        print(\"종목;{0},시간;{1}, 현재가;{2}, 체결수량;{3}, 거래량;{4}, 매도누적체결수량;{5}, 매수누적체결수량;{6}\".format(shcode, chetime, price, cvolume, volume, mdvolume, msvolume))\n",
    "        \n",
    "    #def end\n",
    "# class end\n",
    "\n",
    "    @classmethod\n",
    "    def get_instance(cls):\n",
    "        xreal = win32com.client.DispatchWithEvents(\"XA_DataSet.XAReal\", cls)\n",
    "        return xreal"
   ]
  },
  {
   "cell_type": "code",
   "execution_count": 153,
   "metadata": {},
   "outputs": [],
   "source": [
    "def multithreading_xing(i):\n",
    "    start = time.perf_counter()\n",
    "    threads=[]\n",
    "\n",
    "    for shcode in shcode_list:\n",
    "        t = threading.Thread(target=recieve_dt(shcode,i))\n",
    "        t.start()\n",
    "        threads.append(t)\n",
    "\n",
    "    for thread in threads:\n",
    "        thread.join()\n",
    "\n",
    "    finish = time.perf_counter()\n"
   ]
  },
  {
   "cell_type": "code",
   "execution_count": 154,
   "metadata": {},
   "outputs": [
    {
     "data": {
      "text/plain": [
       "'40'"
      ]
     },
     "execution_count": 154,
     "metadata": {},
     "output_type": "execute_result"
    }
   ],
   "source": [
    "datetime.now().strftime('%M')"
   ]
  },
  {
   "cell_type": "code",
   "execution_count": 155,
   "metadata": {},
   "outputs": [
    {
     "ename": "TypeError",
     "evalue": "recieve_dt() missing 1 required positional argument: 'i'",
     "output_type": "error",
     "traceback": [
      "\u001b[1;31m---------------------------------------------------------------------------\u001b[0m",
      "\u001b[1;31mTypeError\u001b[0m                                 Traceback (most recent call last)",
      "\u001b[1;32m~\\AppData\\Local\\Temp\\ipykernel_14472\\2673977009.py\u001b[0m in \u001b[0;36m<module>\u001b[1;34m\u001b[0m\n\u001b[0;32m      1\u001b[0m \u001b[0mi\u001b[0m \u001b[1;33m=\u001b[0m \u001b[1;36m0\u001b[0m\u001b[1;33m\u001b[0m\u001b[1;33m\u001b[0m\u001b[0m\n\u001b[0;32m      2\u001b[0m \u001b[1;32mwhile\u001b[0m \u001b[1;32mTrue\u001b[0m\u001b[1;33m:\u001b[0m\u001b[1;33m\u001b[0m\u001b[1;33m\u001b[0m\u001b[0m\n\u001b[1;32m----> 3\u001b[1;33m     \u001b[0mmultithreading_xing\u001b[0m\u001b[1;33m(\u001b[0m\u001b[0mi\u001b[0m\u001b[1;33m)\u001b[0m\u001b[1;33m\u001b[0m\u001b[1;33m\u001b[0m\u001b[0m\n\u001b[0m\u001b[0;32m      4\u001b[0m \u001b[1;33m\u001b[0m\u001b[0m\n\u001b[0;32m      5\u001b[0m     \u001b[0mtime\u001b[0m\u001b[1;33m.\u001b[0m\u001b[0msleep\u001b[0m\u001b[1;33m(\u001b[0m\u001b[1;36m60\u001b[0m\u001b[1;33m)\u001b[0m\u001b[1;33m\u001b[0m\u001b[1;33m\u001b[0m\u001b[0m\n",
      "\u001b[1;32m~\\AppData\\Local\\Temp\\ipykernel_14472\\3427492536.py\u001b[0m in \u001b[0;36mmultithreading_xing\u001b[1;34m(i)\u001b[0m\n\u001b[0;32m      4\u001b[0m \u001b[1;33m\u001b[0m\u001b[0m\n\u001b[0;32m      5\u001b[0m     \u001b[1;32mfor\u001b[0m \u001b[0mshcode\u001b[0m \u001b[1;32min\u001b[0m \u001b[0mshcode_list\u001b[0m\u001b[1;33m:\u001b[0m\u001b[1;33m\u001b[0m\u001b[1;33m\u001b[0m\u001b[0m\n\u001b[1;32m----> 6\u001b[1;33m         \u001b[0mt\u001b[0m \u001b[1;33m=\u001b[0m \u001b[0mthreading\u001b[0m\u001b[1;33m.\u001b[0m\u001b[0mThread\u001b[0m\u001b[1;33m(\u001b[0m\u001b[0mtarget\u001b[0m\u001b[1;33m=\u001b[0m\u001b[0mrecieve_dt\u001b[0m\u001b[1;33m(\u001b[0m\u001b[0mshcode\u001b[0m\u001b[1;33m,\u001b[0m\u001b[0mi\u001b[0m\u001b[1;33m)\u001b[0m\u001b[1;33m)\u001b[0m\u001b[1;33m\u001b[0m\u001b[1;33m\u001b[0m\u001b[0m\n\u001b[0m\u001b[0;32m      7\u001b[0m         \u001b[0mt\u001b[0m\u001b[1;33m.\u001b[0m\u001b[0mstart\u001b[0m\u001b[1;33m(\u001b[0m\u001b[1;33m)\u001b[0m\u001b[1;33m\u001b[0m\u001b[1;33m\u001b[0m\u001b[0m\n\u001b[0;32m      8\u001b[0m         \u001b[0mthreads\u001b[0m\u001b[1;33m.\u001b[0m\u001b[0mappend\u001b[0m\u001b[1;33m(\u001b[0m\u001b[0mt\u001b[0m\u001b[1;33m)\u001b[0m\u001b[1;33m\u001b[0m\u001b[1;33m\u001b[0m\u001b[0m\n",
      "\u001b[1;31mTypeError\u001b[0m: recieve_dt() missing 1 required positional argument: 'i'"
     ]
    }
   ],
   "source": [
    "i = 0\n",
    "while True:\n",
    "    multithreading_xing(i)\n",
    "    \n",
    "    time.sleep(60)\n",
    "    \n",
    "    i+=1\n",
    "\n",
    "    # 매시 정각 마다 출력 \n",
    "    if datetime.now().strftime('%M') == '00': \n",
    "        print(i)\n",
    "\n",
    "\n",
    "    # 15시30분 수집 종료\n",
    "    if datetime.now().strftime('%H:%M') == '15:30':\n",
    "        # print(i)\n",
    "        break"
   ]
  }
 ],
 "metadata": {
  "kernelspec": {
   "display_name": "best",
   "language": "python",
   "name": "python3"
  },
  "language_info": {
   "codemirror_mode": {
    "name": "ipython",
    "version": 3
   },
   "file_extension": ".py",
   "mimetype": "text/x-python",
   "name": "python",
   "nbconvert_exporter": "python",
   "pygments_lexer": "ipython3",
   "version": "3.7.13"
  },
  "orig_nbformat": 4
 },
 "nbformat": 4,
 "nbformat_minor": 2
}
