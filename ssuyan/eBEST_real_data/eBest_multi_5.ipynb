{
 "cells": [
  {
   "cell_type": "code",
   "execution_count": 6,
   "metadata": {},
   "outputs": [],
   "source": [
    "from pyxing.session import *\n",
    "from pyxing.query import *\n",
    "from pyxing.real import *\n",
    "from threading import Thread\n",
    "import pandas as pd\n",
    "\n",
    "import threading\n",
    "\n",
    "import time\n",
    "from datetime import datetime\n",
    "\n",
    "import pythoncom\n",
    "import win32com.client as winAPI\n",
    "import numpy as np"
   ]
  },
  {
   "cell_type": "code",
   "execution_count": 7,
   "metadata": {},
   "outputs": [],
   "source": [
    "shcode_list = ['A033780', 'A064350', 'A017670', 'A005490', 'A014680', 'A012450', 'A051900', 'A009150', 'A066570', 'A108320', 'A047810', 'A000660', 'A010140', 'A035420', 'A005380', 'A009830', 'A052690', 'A034020', 'A005070', 'A005420', 'A042700', 'A028050', 'A068270', 'A137310', 'A005930', 'A017960', 'A075580', 'A003490']\n",
    "\n",
    "tablename = ['jusik_real_A033780', 'jusik_real_A064350', 'jusik_real_A017670', 'jusik_real_A005490', 'jusik_real_A014680', 'jusik_real_A012450', 'jusik_real_A051900', 'jusik_real_A009150', 'jusik_real_A066570', 'jusik_real_A108320', 'jusik_real_A047810', 'jusik_real_A000660', 'jusik_real_A010140', 'jusik_real_A035420', 'jusik_real_A005380', 'jusik_real_A009830', 'jusik_real_A052690', 'jusik_real_A034020', 'jusik_real_A005070', 'jusik_real_A005420', 'jusik_real_A042700', 'jusik_real_A028050', 'jusik_real_A068270', 'jusik_real_A137310', 'jusik_real_A005930', 'jusik_real_A017960', 'jusik_real_A075580', 'jusik_real_A003490']"
   ]
  },
  {
   "cell_type": "code",
   "execution_count": 8,
   "metadata": {},
   "outputs": [],
   "source": [
    "for shcode in shcode_list:\n",
    "    globals()['df_{}'.format(shcode)] = pd.DataFrame(columns=['종목코드','시간','현재가','체결수량', '거래량', '매도누적체결수량', '매수누적체결수량'])"
   ]
  },
  {
   "cell_type": "code",
   "execution_count": 9,
   "metadata": {},
   "outputs": [],
   "source": [
    "receive_list = ['stockcode','chetime','price','cvolume','volume','mdvolume','msvolume']"
   ]
  },
  {
   "cell_type": "code",
   "execution_count": 10,
   "metadata": {},
   "outputs": [
    {
     "ename": "KeyboardInterrupt",
     "evalue": "",
     "output_type": "error",
     "traceback": [
      "\u001b[1;31m---------------------------------------------------------------------------\u001b[0m",
      "\u001b[1;31mKeyboardInterrupt\u001b[0m                         Traceback (most recent call last)",
      "\u001b[1;32m~\\AppData\\Local\\Temp\\ipykernel_14836\\3935709060.py\u001b[0m in \u001b[0;36m<module>\u001b[1;34m\u001b[0m\n\u001b[0;32m      1\u001b[0m \u001b[1;31m# login\u001b[0m\u001b[1;33m\u001b[0m\u001b[1;33m\u001b[0m\u001b[1;33m\u001b[0m\u001b[0m\n\u001b[0;32m      2\u001b[0m \u001b[0mxasession\u001b[0m \u001b[1;33m=\u001b[0m \u001b[0mXASession\u001b[0m\u001b[1;33m(\u001b[0m\u001b[1;33m)\u001b[0m\u001b[1;33m\u001b[0m\u001b[1;33m\u001b[0m\u001b[0m\n\u001b[1;32m----> 3\u001b[1;33m \u001b[0mxasession\u001b[0m\u001b[1;33m.\u001b[0m\u001b[0mlogin\u001b[0m\u001b[1;33m(\u001b[0m\u001b[0mid\u001b[0m\u001b[1;33m=\u001b[0m\u001b[1;34m'ssuyan'\u001b[0m\u001b[1;33m,\u001b[0m\u001b[0mpassword\u001b[0m\u001b[1;33m=\u001b[0m\u001b[1;34m'tndus1!!'\u001b[0m\u001b[1;33m,\u001b[0m\u001b[0mcert\u001b[0m\u001b[1;33m=\u001b[0m\u001b[1;34m'qkrtndus1!!'\u001b[0m\u001b[1;33m,\u001b[0m\u001b[0mblock\u001b[0m\u001b[1;33m=\u001b[0m\u001b[1;32mTrue\u001b[0m\u001b[1;33m)\u001b[0m\u001b[1;33m\u001b[0m\u001b[1;33m\u001b[0m\u001b[0m\n\u001b[0m\u001b[0;32m      4\u001b[0m \u001b[0mprint\u001b[0m\u001b[1;33m(\u001b[0m\u001b[1;34m'연결상태:'\u001b[0m\u001b[1;33m,\u001b[0m\u001b[0mxasession\u001b[0m\u001b[1;33m.\u001b[0m\u001b[0mis_connected\u001b[0m\u001b[1;33m(\u001b[0m\u001b[1;33m)\u001b[0m\u001b[1;33m)\u001b[0m\u001b[1;33m\u001b[0m\u001b[1;33m\u001b[0m\u001b[0m\n",
      "\u001b[1;32mc:\\Users\\green\\anaconda3\\envs\\trading_32\\lib\\site-packages\\pyxing\\session.py\u001b[0m in \u001b[0;36mlogin\u001b[1;34m(self, id, password, cert, block)\u001b[0m\n\u001b[0;32m     54\u001b[0m         \u001b[1;32mif\u001b[0m \u001b[0mblock\u001b[0m\u001b[1;33m:\u001b[0m\u001b[1;33m\u001b[0m\u001b[1;33m\u001b[0m\u001b[0m\n\u001b[0;32m     55\u001b[0m             \u001b[1;32mwhile\u001b[0m \u001b[1;32mnot\u001b[0m \u001b[0mself\u001b[0m\u001b[1;33m.\u001b[0m\u001b[0mconnected\u001b[0m\u001b[1;33m:\u001b[0m\u001b[1;33m\u001b[0m\u001b[1;33m\u001b[0m\u001b[0m\n\u001b[1;32m---> 56\u001b[1;33m                 \u001b[0mpythoncom\u001b[0m\u001b[1;33m.\u001b[0m\u001b[0mPumpWaitingMessages\u001b[0m\u001b[1;33m(\u001b[0m\u001b[1;33m)\u001b[0m\u001b[1;33m\u001b[0m\u001b[1;33m\u001b[0m\u001b[0m\n\u001b[0m\u001b[0;32m     57\u001b[0m \u001b[1;33m\u001b[0m\u001b[0m\n\u001b[0;32m     58\u001b[0m     \u001b[1;32mdef\u001b[0m \u001b[0mdisconnect_server\u001b[0m\u001b[1;33m(\u001b[0m\u001b[0mself\u001b[0m\u001b[1;33m)\u001b[0m\u001b[1;33m:\u001b[0m\u001b[1;33m\u001b[0m\u001b[1;33m\u001b[0m\u001b[0m\n",
      "\u001b[1;31mKeyboardInterrupt\u001b[0m: "
     ]
    }
   ],
   "source": [
    "# login\n",
    "xasession = XASession()\n",
    "xasession.login(id='ssuyan',password='tndus1!!',cert='qkrtndus1!!',block=True)\n",
    "print('연결상태:',xasession.is_connected())"
   ]
  },
  {
   "cell_type": "code",
   "execution_count": null,
   "metadata": {},
   "outputs": [],
   "source": [
    "list = []\n",
    "ebset_df = pd.DataFrame(columns=['종목코드', '시간', '현재가', '체결수량', '거래량', '매도체결수량', '매수체결수량'])\n",
    "\n",
    "class XReal_S3_:\n",
    "    def __init__(self):\n",
    "        super().__init__()\n",
    "        self.count = 0\n",
    "                \n",
    "    def OnReceiveRealData(self, tr_code):  # event handler\n",
    "        \"\"\"\n",
    "        이베스트 서버에서 ReceiveRealData 이벤트 받으면 실행되는 event handler\n",
    "        \"\"\"\n",
    "        self.count += 1\n",
    "        stockcode = self.GetFieldData(\"OutBlock\", \"shcode\")\n",
    "        chetime = self.GetFieldData(\"OutBlock\", \"chetime\")\n",
    "        price = self.GetFieldData(\"OutBlock\", \"price\")\n",
    "        cvolume = self.GetFieldData(\"OutBlock\", \"cvolume\")\n",
    "        volume = self.GetFieldData(\"OutBlock\", \"volume\")\n",
    "        mdvolume = self.GetFieldData(\"OutBlock\", \"mdvolume\")\n",
    "        msvolume = self.GetFieldData(\"OutBlock\", \"msvolume\")\n",
    "        print(\"종목코드;{0}, 시간;{1}, 현재가;{2}, 체결수량;{3}, 거래량;{4}, 매도체결수량;{5}, 매수체결수량;{6}\".format(stockcode, chetime, price, cvolume, volume, mdvolume, msvolume))\n",
    "        print(self.count, stockcode, chetime, price, cvolume, volume, mdvolume, msvolume)\n",
    "        \n",
    "\n",
    "    def start(self):\n",
    "        \"\"\"\n",
    "        이베스트 서버에 실시간 data 요청함.\n",
    "        \"\"\"\n",
    "        self.ResFileName = \"C:\\\\eBEST\\\\xingAPI\\\\Res\\\\S3_.res\"  # RES 파일 등록\n",
    "        self.SetFieldData(\"InBlock\", \"shcode\", \"012450\")\n",
    "        self.AdviseRealData()   # 실시간데이터 요청\n",
    "\n",
    "    def add_item(self, stockcode):\n",
    "        # 실시간데이터 요청 종목 추가\n",
    "        self.SetFieldData(\"InBlock\", \"shcode\", stockcode)\n",
    "        self.AdviseRealData()\n",
    "\n",
    "    def remove_item(self, stockcode):\n",
    "        # stockcode 종목만 실시간데이터 요청 취소\n",
    "        self.UnadviseRealDataWithKey(stockcode)\n",
    "\n",
    "    def end(self):\n",
    "        self.UnadviseRealData()  # 실시간데이터 요청 모두 취소\n",
    "\n",
    "    @classmethod\n",
    "    def get_instance(cls):\n",
    "        xreal = win32com.client.DispatchWithEvents(\"XA_DataSet.XAReal\", cls)\n",
    "        return xreal\n"
   ]
  },
  {
   "cell_type": "code",
   "execution_count": null,
   "metadata": {},
   "outputs": [],
   "source": [
    "shcode_list = ['A033780', 'A064350', 'A017670', 'A005490', 'A014680', 'A012450', 'A051900', 'A009150', 'A066570', 'A108320', 'A047810', 'A000660', 'A010140', 'A035420', 'A005380', 'A009830', 'A052690', 'A034020', 'A005070', 'A005420', 'A042700', 'A028050', 'A068270', 'A137310', 'A005930', 'A017960', 'A075580', 'A003490']\n",
    "\n",
    "tablename = ['jusik_real_A033780', 'jusik_real_A064350', 'jusik_real_A017670', 'jusik_real_A005490', 'jusik_real_A014680', 'jusik_real_A012450', 'jusik_real_A051900', 'jusik_real_A009150', 'jusik_real_A066570', 'jusik_real_A108320', 'jusik_real_A047810', 'jusik_real_A000660', 'jusik_real_A010140', 'jusik_real_A035420', 'jusik_real_A005380', 'jusik_real_A009830', 'jusik_real_A052690', 'jusik_real_A034020', 'jusik_real_A005070', 'jusik_real_A005420', 'jusik_real_A042700', 'jusik_real_A028050', 'jusik_real_A068270', 'jusik_real_A137310', 'jusik_real_A005930', 'jusik_real_A017960', 'jusik_real_A075580', 'jusik_real_A003490']\n",
    "\n",
    "for i, n in zip(shcode_list, tablename):\n",
    "        code = i\n",
    "        name = n\n",
    "\n",
    "        list.append([stockcode, chetime, price, cvolume, volume, mdvolume, msvolume])\n",
    "        app_df = pd.DataFrame(data=list, columns=['종목코드', '시간', '현재가', '체결수량', '거래량', '매도체결수량', '매수체결수량'])\n",
    "        df = pd.concat([ebset_df,app_df], ignore_index=True)\n",
    "        print(df)\n",
    "\n",
    "        StockCode = df['종목코드'].to_list()\n",
    "        CheTime = df['시간'].to_list()\n",
    "        Price = df['현재가'].to_list()\n",
    "        CVolume = df['체결수량'].to_list()\n",
    "        Volume = df['거래량'].to_list()\n",
    "        MdVolume = df['매도체결수량'].to_list()\n",
    "        MsVolume = df['매수체결수량'].to_list()\n",
    "        print(StockCode)\n",
    "        \n",
    "        for stockcode, chetime, price, cvolume, volume, mdvolume, msvolume in zip(StockCode, CheTime, Price, CVolume, Volume, MdVolume, MsVolume):\n",
    "            sql = f\"INSERT INTO {n} (StockCode, CheTime, Price, CVolume, Volume, MdVolume, MsVolume) VALUES (%s, %s, %s, %s, %s, %s, %s)\" % (\"'\"+str(stockcode)+\"'\", \"'\"+str(chetime)+\"'\", \"'\"+str(price)+\"'\", \"'\"+str(cvolume)+\"'\",\"'\"+str(volume)+\"'\",\"'\"+str(mdvolume)+\"'\",\"'\"+str(msvolume)+\"'\")\n",
    "            print(sql)\n",
    "            cur.execute(sql)\n",
    "        conn.commit()"
   ]
  },
  {
   "cell_type": "code",
   "execution_count": null,
   "metadata": {},
   "outputs": [],
   "source": [
    "if __name__ == \"__main__\":\n",
    "    def get_real_data():\n",
    "        xreal = XReal_S3_.get_instance()\n",
    "        xreal.start()\n",
    "\n",
    "        while True:\n",
    "            pythoncom.PumpWaitingMessages()\n",
    "            xreal.add_item(stockcode)  # 한화에어로스페이스 주식\n",
    "\n",
    "    get_real_data()"
   ]
  }
 ],
 "metadata": {
  "kernelspec": {
   "display_name": "trading_32",
   "language": "python",
   "name": "python3"
  },
  "language_info": {
   "codemirror_mode": {
    "name": "ipython",
    "version": 3
   },
   "file_extension": ".py",
   "mimetype": "text/x-python",
   "name": "python",
   "nbconvert_exporter": "python",
   "pygments_lexer": "ipython3",
   "version": "3.7.13"
  },
  "orig_nbformat": 4
 },
 "nbformat": 4,
 "nbformat_minor": 2
}
