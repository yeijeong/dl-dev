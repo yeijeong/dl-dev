{
 "cells": [
  {
   "cell_type": "code",
   "execution_count": 237,
   "metadata": {},
   "outputs": [],
   "source": [
    "from pyxing.session import *\n",
    "from pyxing.query import *\n",
    "from pyxing.real import *\n",
    "from threading import Thread\n",
    "import pandas as pd\n",
    "\n",
    "import threading\n",
    "\n",
    "import time\n",
    "from datetime import datetime\n",
    "\n",
    "import pythoncom\n",
    "import win32com.client as winAPI\n",
    "import numpy as np"
   ]
  },
  {
   "cell_type": "code",
   "execution_count": 238,
   "metadata": {},
   "outputs": [],
   "source": [
    "shcode_list = ['A033780', 'A064350', 'A017670', 'A005490', 'A014680', 'A012450', 'A051900', 'A009150', 'A066570', 'A108320', 'A047810', 'A000660', 'A010140', 'A035420', 'A005380', 'A009830', 'A052690', 'A034020', 'A005070', 'A005420', 'A042700', 'A028050', 'A068270', 'A137310', 'A005930', 'A017960', 'A075580', 'A003490']"
   ]
  },
  {
   "cell_type": "code",
   "execution_count": 239,
   "metadata": {},
   "outputs": [],
   "source": [
    "for shcode in shcode_list:\n",
    "    globals()['df_{}'.format(shcode)] = pd.DataFrame(columns=['종목코드','시간','현재가','체결수량', '거래량', '매도누적체결수량', '매수누적체결수량'])"
   ]
  },
  {
   "cell_type": "code",
   "execution_count": 240,
   "metadata": {},
   "outputs": [],
   "source": [
    "receive_list = ['shcode','chetime','price','cvolume','volume','mdvolume','msvolume']"
   ]
  },
  {
   "cell_type": "code",
   "execution_count": 241,
   "metadata": {},
   "outputs": [
    {
     "name": "stdout",
     "output_type": "stream",
     "text": [
      "연결상태: True\n"
     ]
    }
   ],
   "source": [
    "# login\n",
    "xasession = XASession()\n",
    "xasession.login(id='ssuyan',password='tndus1!!',cert='qkrtndus1!!',block=True)\n",
    "print('연결상태:',xasession.is_connected())"
   ]
  },
  {
   "cell_type": "code",
   "execution_count": 242,
   "metadata": {},
   "outputs": [],
   "source": [
    "# query = XAQuery('t1310')\n",
    "# data = query(shcode='shcode', cnt=900)\n",
    "\n",
    "# query = XAQuery('t1310')\n",
    "# data1 = query.call(shcode='shcode', cnt=100).data\n",
    "# data2 = query.nextcall(\n",
    "#     cts_time=data1['t1310OutBlock']['시간CTS'][0]\n",
    "# ).data\n",
    "\n",
    "# query = XAQuery('t1310')\n",
    "# data3 = query.call(shcode='shcode', cnt=100).data\n",
    "# data4 = query.nextcall(\n",
    "#     shcode='shcode', \n",
    "#     cnt=100, \n",
    "#     cts_time=data1['t1310OutBlock']['시간CTS'][0]\n",
    "# ).data\n",
    "\n",
    "# query = XAQuery('t1310')\n",
    "# data = query.call(shcode='shcode', cnt=100).next(keypairs={'time':'cts_time'})"
   ]
  },
  {
   "cell_type": "code",
   "execution_count": 243,
   "metadata": {},
   "outputs": [],
   "source": [
    "import win32com.client\n",
    "import pythoncom\n",
    "\n",
    "# XingRealTime(object)\n",
    "\n",
    "class XingRealTime(object):\n",
    "    realTime = None\n",
    "\n",
    "    def __init__(self):\n",
    "        super().__init__()\n",
    "\n",
    "        self.realTime = win32com.client.DispatchWithEvents(\"XA_DataSet.XAReal\", RealTimeDataHandler)\n",
    "        RealTimeDataHandler.realTime = self.realTime\n",
    "    #def end\n",
    "\n",
    "    def OnReceiveRealData(self, XAReal):\n",
    "        shcode = self.realTime.GetFieldData('OutBlock', 'shcode')\n",
    "        chetime = self.realTime.GetFieldData('OutBlock', 'chetime')\n",
    "        price = self.realTime.GetFieldData('OutBlock', 'price')\n",
    "        cvolume = self.realTime.GetFieldData('OutBlock', 'cvolume')\n",
    "        volume = self.realTime.GetFieldData('OutBlock', 'cvolume')\n",
    "        mdvolume = self.realTime.GetFieldData('OutBlock', 'mdvolume')\n",
    "        msvolume = self.realTime.GetFieldData('OutBlock', 'msvolume')\n",
    "        print(\"종목;{0},시간;{1}, 현재가;{2}, 체결수량;{3}, 거래량;{4}, 매도누적체결수량;{5}, 매수누적체결수량;{6}\".format(shcode, chetime, price, cvolume, volume, mdvolume, msvolume))\n",
    "\n",
    "    def subscribeRealTimeData(self, shcode):\n",
    "        self.realTime.LoadFromResFile(\"C:\\\\eBEST\\\\xingAPI\\\\Res\\\\S3_.res\")\n",
    "        self.realTime.SetFieldData('InBlock', 'shcode', shcode)\n",
    "        self.realTime.AdviseRealData()\n",
    "    #def end\n",
    "\n",
    "    def add_item(self, shcode_list):\n",
    "    # 실시간데이터 요청 종목 추가\n",
    "        self.SetFieldData(\"InBlock\", \"shcode\", shcode_list)\n",
    "        self.AdviseRealData()\n",
    "\n",
    "    def waitEvent(self):\n",
    "        # Waiting query event\n",
    "        while RealTimeDataHandler.realTimeState == 0:\n",
    "            pythoncom.PumpWaitingMessages()\n",
    "    #def end\n",
    "\n",
    "# def recieve_dt(self,shcode,shcode_list):\n",
    "#     xaquery = XAQuery()\n",
    "#     re_df = self.realTime.ReceivedRealData('S3_',shcode=shcode)\n",
    "    # re_time = xaquery.set_field_data('t0167',id=re_df[0]['chetime'])\n",
    "\n",
    "\n",
    "    # dttime = (re_time[0]['dt']+re_time[0]['time']).values[0]\n",
    "    # re_df = re_df[0][receive_list[1:]].values[0].tolist()\n",
    "\n",
    "    # df = globals()['df_{}'.format(shcode)]\n",
    "\n",
    "    # df.loc[i, 'Datetime'] = dttime\n",
    "    # df.iloc[i,1:] = re_df\n",
    "# #class end\n",
    "\n",
    "\n",
    "class RealTimeDataHandler:\n",
    "    realTimeState = 0\n",
    "    realTime = None\n",
    "\n",
    "    def OnReceiveRealData(self, XAReal):\n",
    "        shcode = self.realTime.GetFieldData('OutBlock', 'shcode')\n",
    "        chetime = self.realTime.GetFieldData('OutBlock', 'chetime')\n",
    "        price = self.realTime.GetFieldData('OutBlock', 'price')\n",
    "        cvolume = self.realTime.GetFieldData('OutBlock', 'cvolume')\n",
    "        volume = self.realTime.GetFieldData('OutBlock', 'cvolume')\n",
    "        mdvolume = self.realTime.GetFieldData('OutBlock', 'mdvolume')\n",
    "        msvolume = self.realTime.GetFieldData('OutBlock', 'msvolume')\n",
    "        print(\"종목;{0},시간;{1}, 현재가;{2}, 체결수량;{3}, 거래량;{4}, 매도누적체결수량;{5}, 매수누적체결수량;{6}\".format(shcode, chetime, price, cvolume, volume, mdvolume, msvolume))\n",
    "        \n",
    "    #def end\n",
    "# class end\n"
   ]
  },
  {
   "cell_type": "code",
   "execution_count": 244,
   "metadata": {},
   "outputs": [],
   "source": [
    "queue = Queue()\n",
    "xareal = XAReal(queue)\n",
    "xareal.register_res(\"S3_.res\")\n",
    "xareal.set_field_data(\"shcode\",shcode)\n",
    "xareal.advise_real_data()\n"
   ]
  },
  {
   "cell_type": "code",
   "execution_count": 245,
   "metadata": {},
   "outputs": [
    {
     "name": "stderr",
     "output_type": "stream",
     "text": [
      "Exception in thread Thread-15:\n",
      "Traceback (most recent call last):\n",
      "  File \"c:\\Users\\tj\\anaconda3\\envs\\best\\lib\\threading.py\", line 926, in _bootstrap_inner\n",
      "    self.run()\n",
      "  File \"c:\\Users\\tj\\anaconda3\\envs\\best\\lib\\threading.py\", line 870, in run\n",
      "    self._target(*self._args, **self._kwargs)\n",
      "TypeError: __init__() takes 1 positional argument but 2 were given\n",
      "\n"
     ]
    },
    {
     "ename": "AttributeError",
     "evalue": "'XAReal' object has no attribute 'add_item'",
     "output_type": "error",
     "traceback": [
      "\u001b[1;31m---------------------------------------------------------------------------\u001b[0m",
      "\u001b[1;31mAttributeError\u001b[0m                            Traceback (most recent call last)",
      "\u001b[1;32m~\\AppData\\Local\\Temp\\ipykernel_7236\\1399655583.py\u001b[0m in \u001b[0;36m<module>\u001b[1;34m\u001b[0m\n\u001b[0;32m      4\u001b[0m \u001b[1;32mwhile\u001b[0m \u001b[1;32mTrue\u001b[0m\u001b[1;33m:\u001b[0m\u001b[1;33m\u001b[0m\u001b[1;33m\u001b[0m\u001b[0m\n\u001b[0;32m      5\u001b[0m     \u001b[0mpythoncom\u001b[0m\u001b[1;33m.\u001b[0m\u001b[0mPumpWaitingMessages\u001b[0m\u001b[1;33m(\u001b[0m\u001b[1;33m)\u001b[0m\u001b[1;33m\u001b[0m\u001b[1;33m\u001b[0m\u001b[0m\n\u001b[1;32m----> 6\u001b[1;33m     \u001b[0mxareal\u001b[0m\u001b[1;33m.\u001b[0m\u001b[0madd_item\u001b[0m\u001b[1;33m(\u001b[0m\u001b[0mshcode\u001b[0m\u001b[1;33m)\u001b[0m\u001b[1;33m\u001b[0m\u001b[1;33m\u001b[0m\u001b[0m\n\u001b[0m",
      "\u001b[1;31mAttributeError\u001b[0m: 'XAReal' object has no attribute 'add_item'"
     ]
    }
   ],
   "source": [
    "t2 = Thread(target=XingRealTime, args=(queue,))\n",
    "t2.start()\n",
    "\n",
    "while True:\n",
    "    pythoncom.PumpWaitingMessages()\n",
    "    xareal.add_item(shcode) "
   ]
  },
  {
   "cell_type": "code",
   "execution_count": null,
   "metadata": {},
   "outputs": [],
   "source": [
    "# def multithreading_xing(i):\n",
    "#     start = time.perf_counter()\n",
    "#     threads=[]\n",
    "\n",
    "#     for shcode in shcode_list:\n",
    "#         t = threading.Thread(target=recieve_dt(shcode,i))\n",
    "#         t.start()\n",
    "#         threads.append(t)\n",
    "\n",
    "#     for thread in threads:\n",
    "#         thread.join()\n",
    "\n",
    "#     finish = time.perf_counter()\n"
   ]
  }
 ],
 "metadata": {
  "kernelspec": {
   "display_name": "best",
   "language": "python",
   "name": "python3"
  },
  "language_info": {
   "codemirror_mode": {
    "name": "ipython",
    "version": 3
   },
   "file_extension": ".py",
   "mimetype": "text/x-python",
   "name": "python",
   "nbconvert_exporter": "python",
   "pygments_lexer": "ipython3",
   "version": "3.7.13"
  },
  "orig_nbformat": 4
 },
 "nbformat": 4,
 "nbformat_minor": 2
}
