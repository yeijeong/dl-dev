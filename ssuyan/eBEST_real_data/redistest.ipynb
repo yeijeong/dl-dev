{
 "cells": [
  {
   "cell_type": "code",
   "execution_count": 7,
   "metadata": {},
   "outputs": [
    {
     "name": "stdout",
     "output_type": "stream",
     "text": [
      "Set Record: True\n",
      "Get Record: b'Nice to meet you'\n",
      "Delete Record: 1\n",
      "Get Deleted Record: None\n"
     ]
    }
   ],
   "source": [
    "import redis\n",
    "\n",
    "try:\n",
    "\n",
    "    conn = redis.StrictRedis(\n",
    "\n",
    "        host='34.64.240.96',\n",
    "\n",
    "        port=6379,\n",
    "\n",
    "        db=0)\n",
    "\n",
    "    print ('Set Record:', conn.set(\"test\", \"Nice to meet you\"))\n",
    "\n",
    "    print ('Get Record:', conn.get(\"test\"))\n",
    "\n",
    "    print ('Delete Record:', conn.delete(\"test\"))\n",
    "\n",
    "    print ('Get Deleted Record:', conn.get(\"test\"))\n",
    "\n",
    "except Exception as ex:\n",
    "\n",
    "    print ('Error:', ex)"
   ]
  },
  {
   "cell_type": "code",
   "execution_count": 8,
   "metadata": {},
   "outputs": [
    {
     "name": "stdout",
     "output_type": "stream",
     "text": [
      "{'type': 'subscribe', 'pattern': None, 'channel': b'my_channel', 'data': 1}\n"
     ]
    },
    {
     "ename": "KeyboardInterrupt",
     "evalue": "",
     "output_type": "error",
     "traceback": [
      "\u001b[1;31m---------------------------------------------------------------------------\u001b[0m",
      "\u001b[1;31mKeyboardInterrupt\u001b[0m                         Traceback (most recent call last)",
      "Cell \u001b[1;32mIn[8], line 8\u001b[0m\n\u001b[0;32m      6\u001b[0m s\u001b[39m.\u001b[39msubscribe(\u001b[39m'\u001b[39m\u001b[39mmy_channel\u001b[39m\u001b[39m'\u001b[39m)\n\u001b[0;32m      7\u001b[0m \u001b[39mwhile\u001b[39;00m \u001b[39mTrue\u001b[39;00m :\n\u001b[1;32m----> 8\u001b[0m     res \u001b[39m=\u001b[39m s\u001b[39m.\u001b[39;49mget_message()\n\u001b[0;32m      9\u001b[0m     \u001b[39mif\u001b[39;00m res \u001b[39mis\u001b[39;00m \u001b[39mnot\u001b[39;00m \u001b[39mNone\u001b[39;00m :\n\u001b[0;32m     10\u001b[0m         \u001b[39mprint\u001b[39m(res)\n",
      "File \u001b[1;32mc:\\Users\\green\\anaconda3\\envs\\pandas-dev\\lib\\site-packages\\redis\\client.py:1690\u001b[0m, in \u001b[0;36mPubSub.get_message\u001b[1;34m(self, ignore_subscribe_messages, timeout)\u001b[0m\n\u001b[0;32m   1685\u001b[0m     \u001b[39melse\u001b[39;00m:\n\u001b[0;32m   1686\u001b[0m         \u001b[39m# The connection isn't subscribed to any channels or patterns,\u001b[39;00m\n\u001b[0;32m   1687\u001b[0m         \u001b[39m# so no messages are available\u001b[39;00m\n\u001b[0;32m   1688\u001b[0m         \u001b[39mreturn\u001b[39;00m \u001b[39mNone\u001b[39;00m\n\u001b[1;32m-> 1690\u001b[0m response \u001b[39m=\u001b[39m \u001b[39mself\u001b[39;49m\u001b[39m.\u001b[39;49mparse_response(block\u001b[39m=\u001b[39;49m(timeout \u001b[39mis\u001b[39;49;00m \u001b[39mNone\u001b[39;49;00m), timeout\u001b[39m=\u001b[39;49mtimeout)\n\u001b[0;32m   1691\u001b[0m \u001b[39mif\u001b[39;00m response:\n\u001b[0;32m   1692\u001b[0m     \u001b[39mreturn\u001b[39;00m \u001b[39mself\u001b[39m\u001b[39m.\u001b[39mhandle_message(response, ignore_subscribe_messages)\n",
      "File \u001b[1;32mc:\\Users\\green\\anaconda3\\envs\\pandas-dev\\lib\\site-packages\\redis\\client.py:1542\u001b[0m, in \u001b[0;36mPubSub.parse_response\u001b[1;34m(self, block, timeout)\u001b[0m\n\u001b[0;32m   1539\u001b[0m         conn\u001b[39m.\u001b[39mconnect()\n\u001b[0;32m   1540\u001b[0m     \u001b[39mreturn\u001b[39;00m conn\u001b[39m.\u001b[39mread_response(disconnect_on_error\u001b[39m=\u001b[39m\u001b[39mFalse\u001b[39;00m)\n\u001b[1;32m-> 1542\u001b[0m response \u001b[39m=\u001b[39m \u001b[39mself\u001b[39;49m\u001b[39m.\u001b[39;49m_execute(conn, try_read)\n\u001b[0;32m   1544\u001b[0m \u001b[39mif\u001b[39;00m \u001b[39mself\u001b[39m\u001b[39m.\u001b[39mis_health_check_response(response):\n\u001b[0;32m   1545\u001b[0m     \u001b[39m# ignore the health check message as user might not expect it\u001b[39;00m\n\u001b[0;32m   1546\u001b[0m     \u001b[39mself\u001b[39m\u001b[39m.\u001b[39mhealth_check_response_counter \u001b[39m-\u001b[39m\u001b[39m=\u001b[39m \u001b[39m1\u001b[39m\n",
      "File \u001b[1;32mc:\\Users\\green\\anaconda3\\envs\\pandas-dev\\lib\\site-packages\\redis\\client.py:1518\u001b[0m, in \u001b[0;36mPubSub._execute\u001b[1;34m(self, conn, command, *args, **kwargs)\u001b[0m\n\u001b[0;32m   1510\u001b[0m \u001b[39mdef\u001b[39;00m \u001b[39m_execute\u001b[39m(\u001b[39mself\u001b[39m, conn, command, \u001b[39m*\u001b[39margs, \u001b[39m*\u001b[39m\u001b[39m*\u001b[39mkwargs):\n\u001b[0;32m   1511\u001b[0m \u001b[39m    \u001b[39m\u001b[39m\"\"\"\u001b[39;00m\n\u001b[0;32m   1512\u001b[0m \u001b[39m    Connect manually upon disconnection. If the Redis server is down,\u001b[39;00m\n\u001b[0;32m   1513\u001b[0m \u001b[39m    this will fail and raise a ConnectionError as desired.\u001b[39;00m\n\u001b[1;32m   (...)\u001b[0m\n\u001b[0;32m   1516\u001b[0m \u001b[39m    patterns we were previously listening to\u001b[39;00m\n\u001b[0;32m   1517\u001b[0m \u001b[39m    \"\"\"\u001b[39;00m\n\u001b[1;32m-> 1518\u001b[0m     \u001b[39mreturn\u001b[39;00m conn\u001b[39m.\u001b[39;49mretry\u001b[39m.\u001b[39;49mcall_with_retry(\n\u001b[0;32m   1519\u001b[0m         \u001b[39mlambda\u001b[39;49;00m: command(\u001b[39m*\u001b[39;49margs, \u001b[39m*\u001b[39;49m\u001b[39m*\u001b[39;49mkwargs),\n\u001b[0;32m   1520\u001b[0m         \u001b[39mlambda\u001b[39;49;00m error: \u001b[39mself\u001b[39;49m\u001b[39m.\u001b[39;49m_disconnect_raise_connect(conn, error),\n\u001b[0;32m   1521\u001b[0m     )\n",
      "File \u001b[1;32mc:\\Users\\green\\anaconda3\\envs\\pandas-dev\\lib\\site-packages\\redis\\retry.py:46\u001b[0m, in \u001b[0;36mRetry.call_with_retry\u001b[1;34m(self, do, fail)\u001b[0m\n\u001b[0;32m     44\u001b[0m \u001b[39mwhile\u001b[39;00m \u001b[39mTrue\u001b[39;00m:\n\u001b[0;32m     45\u001b[0m     \u001b[39mtry\u001b[39;00m:\n\u001b[1;32m---> 46\u001b[0m         \u001b[39mreturn\u001b[39;00m do()\n\u001b[0;32m     47\u001b[0m     \u001b[39mexcept\u001b[39;00m \u001b[39mself\u001b[39m\u001b[39m.\u001b[39m_supported_errors \u001b[39mas\u001b[39;00m error:\n\u001b[0;32m     48\u001b[0m         failures \u001b[39m+\u001b[39m\u001b[39m=\u001b[39m \u001b[39m1\u001b[39m\n",
      "File \u001b[1;32mc:\\Users\\green\\anaconda3\\envs\\pandas-dev\\lib\\site-packages\\redis\\client.py:1519\u001b[0m, in \u001b[0;36mPubSub._execute.<locals>.<lambda>\u001b[1;34m()\u001b[0m\n\u001b[0;32m   1510\u001b[0m \u001b[39mdef\u001b[39;00m \u001b[39m_execute\u001b[39m(\u001b[39mself\u001b[39m, conn, command, \u001b[39m*\u001b[39margs, \u001b[39m*\u001b[39m\u001b[39m*\u001b[39mkwargs):\n\u001b[0;32m   1511\u001b[0m \u001b[39m    \u001b[39m\u001b[39m\"\"\"\u001b[39;00m\n\u001b[0;32m   1512\u001b[0m \u001b[39m    Connect manually upon disconnection. If the Redis server is down,\u001b[39;00m\n\u001b[0;32m   1513\u001b[0m \u001b[39m    this will fail and raise a ConnectionError as desired.\u001b[39;00m\n\u001b[1;32m   (...)\u001b[0m\n\u001b[0;32m   1516\u001b[0m \u001b[39m    patterns we were previously listening to\u001b[39;00m\n\u001b[0;32m   1517\u001b[0m \u001b[39m    \"\"\"\u001b[39;00m\n\u001b[0;32m   1518\u001b[0m     \u001b[39mreturn\u001b[39;00m conn\u001b[39m.\u001b[39mretry\u001b[39m.\u001b[39mcall_with_retry(\n\u001b[1;32m-> 1519\u001b[0m         \u001b[39mlambda\u001b[39;00m: command(\u001b[39m*\u001b[39margs, \u001b[39m*\u001b[39m\u001b[39m*\u001b[39mkwargs),\n\u001b[0;32m   1520\u001b[0m         \u001b[39mlambda\u001b[39;00m error: \u001b[39mself\u001b[39m\u001b[39m.\u001b[39m_disconnect_raise_connect(conn, error),\n\u001b[0;32m   1521\u001b[0m     )\n",
      "File \u001b[1;32mc:\\Users\\green\\anaconda3\\envs\\pandas-dev\\lib\\site-packages\\redis\\client.py:1536\u001b[0m, in \u001b[0;36mPubSub.parse_response.<locals>.try_read\u001b[1;34m()\u001b[0m\n\u001b[0;32m   1534\u001b[0m \u001b[39mdef\u001b[39;00m \u001b[39mtry_read\u001b[39m():\n\u001b[0;32m   1535\u001b[0m     \u001b[39mif\u001b[39;00m \u001b[39mnot\u001b[39;00m block:\n\u001b[1;32m-> 1536\u001b[0m         \u001b[39mif\u001b[39;00m \u001b[39mnot\u001b[39;00m conn\u001b[39m.\u001b[39;49mcan_read(timeout\u001b[39m=\u001b[39;49mtimeout):\n\u001b[0;32m   1537\u001b[0m             \u001b[39mreturn\u001b[39;00m \u001b[39mNone\u001b[39;00m\n\u001b[0;32m   1538\u001b[0m     \u001b[39melse\u001b[39;00m:\n",
      "File \u001b[1;32mc:\\Users\\green\\anaconda3\\envs\\pandas-dev\\lib\\site-packages\\redis\\connection.py:869\u001b[0m, in \u001b[0;36mAbstractConnection.can_read\u001b[1;34m(self, timeout)\u001b[0m\n\u001b[0;32m    866\u001b[0m host_error \u001b[39m=\u001b[39m \u001b[39mself\u001b[39m\u001b[39m.\u001b[39m_host_error()\n\u001b[0;32m    868\u001b[0m \u001b[39mtry\u001b[39;00m:\n\u001b[1;32m--> 869\u001b[0m     \u001b[39mreturn\u001b[39;00m \u001b[39mself\u001b[39;49m\u001b[39m.\u001b[39;49m_parser\u001b[39m.\u001b[39;49mcan_read(timeout)\n\u001b[0;32m    870\u001b[0m \u001b[39mexcept\u001b[39;00m \u001b[39mOSError\u001b[39;00m \u001b[39mas\u001b[39;00m e:\n\u001b[0;32m    871\u001b[0m     \u001b[39mself\u001b[39m\u001b[39m.\u001b[39mdisconnect()\n",
      "File \u001b[1;32mc:\\Users\\green\\anaconda3\\envs\\pandas-dev\\lib\\site-packages\\redis\\connection.py:344\u001b[0m, in \u001b[0;36mPythonParser.can_read\u001b[1;34m(self, timeout)\u001b[0m\n\u001b[0;32m    343\u001b[0m \u001b[39mdef\u001b[39;00m \u001b[39mcan_read\u001b[39m(\u001b[39mself\u001b[39m, timeout):\n\u001b[1;32m--> 344\u001b[0m     \u001b[39mreturn\u001b[39;00m \u001b[39mself\u001b[39m\u001b[39m.\u001b[39m_buffer \u001b[39mand\u001b[39;00m \u001b[39mself\u001b[39;49m\u001b[39m.\u001b[39;49m_buffer\u001b[39m.\u001b[39;49mcan_read(timeout)\n",
      "File \u001b[1;32mc:\\Users\\green\\anaconda3\\envs\\pandas-dev\\lib\\site-packages\\redis\\connection.py:242\u001b[0m, in \u001b[0;36mSocketBuffer.can_read\u001b[1;34m(self, timeout)\u001b[0m\n\u001b[0;32m    241\u001b[0m \u001b[39mdef\u001b[39;00m \u001b[39mcan_read\u001b[39m(\u001b[39mself\u001b[39m, timeout: \u001b[39mfloat\u001b[39m) \u001b[39m-\u001b[39m\u001b[39m>\u001b[39m \u001b[39mbool\u001b[39m:\n\u001b[1;32m--> 242\u001b[0m     \u001b[39mreturn\u001b[39;00m \u001b[39mbool\u001b[39m(\u001b[39mself\u001b[39m\u001b[39m.\u001b[39munread_bytes()) \u001b[39mor\u001b[39;00m \u001b[39mself\u001b[39;49m\u001b[39m.\u001b[39;49m_read_from_socket(\n\u001b[0;32m    243\u001b[0m         timeout\u001b[39m=\u001b[39;49mtimeout, raise_on_timeout\u001b[39m=\u001b[39;49m\u001b[39mFalse\u001b[39;49;00m\n\u001b[0;32m    244\u001b[0m     )\n",
      "File \u001b[1;32mc:\\Users\\green\\anaconda3\\envs\\pandas-dev\\lib\\site-packages\\redis\\connection.py:239\u001b[0m, in \u001b[0;36mSocketBuffer._read_from_socket\u001b[1;34m(self, length, timeout, raise_on_timeout)\u001b[0m\n\u001b[0;32m    237\u001b[0m buf\u001b[39m.\u001b[39mseek(current_pos)\n\u001b[0;32m    238\u001b[0m \u001b[39mif\u001b[39;00m custom_timeout:\n\u001b[1;32m--> 239\u001b[0m     sock\u001b[39m.\u001b[39;49msettimeout(\u001b[39mself\u001b[39;49m\u001b[39m.\u001b[39;49msocket_timeout)\n",
      "\u001b[1;31mKeyboardInterrupt\u001b[0m: "
     ]
    }
   ],
   "source": [
    "r = redis.Redis(host='34.64.240.96', port=6379, db=0)\n",
    "\n",
    "\n",
    "# subscribe\n",
    "s = r.pubsub()\n",
    "s.subscribe('my_channel')\n",
    "while True :\n",
    "    res = s.get_message()\n",
    "    if res is not None :\n",
    "        print(res)"
   ]
  },
  {
   "cell_type": "code",
   "execution_count": null,
   "metadata": {},
   "outputs": [],
   "source": []
  }
 ],
 "metadata": {
  "kernelspec": {
   "display_name": "pandas-dev",
   "language": "python",
   "name": "python3"
  },
  "language_info": {
   "codemirror_mode": {
    "name": "ipython",
    "version": 3
   },
   "file_extension": ".py",
   "mimetype": "text/x-python",
   "name": "python",
   "nbconvert_exporter": "python",
   "pygments_lexer": "ipython3",
   "version": "3.10.10"
  },
  "orig_nbformat": 4
 },
 "nbformat": 4,
 "nbformat_minor": 2
}
