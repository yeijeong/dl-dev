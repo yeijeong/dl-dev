{
 "cells": [
  {
   "cell_type": "code",
   "execution_count": 22,
   "metadata": {},
   "outputs": [],
   "source": [
    "def rq_min_chart_data(self, itemcode, tic, justify):\n",
    "\tself.kiwoom.dynamicCall(\"SetInputValue(QString, QString)\", \"종목코드\", itemcode)\n",
    "\tself.kiwoom.dynamicCall(\"SetInputValue(QString, QString)\", \"틱범위\", tic)\n",
    "\tself.kiwoom.dynamicCall(\"SetInputValue(QString, QString)\", \"수정주가구분\", justify)\n",
    "\tself.kiwoom.dynamicCall(\"CommRqData(QString, QString, int, QString)\", \"rqname_opt10080\", \"opt10080\", 0, \"0101\")\n",
    "\tself.tr_event_loop = QEventLoop()\n",
    "\tself.tr_event_loop.exec_()\n",
    " \n",
    "\twhile self.remained_data == True:\n",
    "\t\tself.kiwoom.dynamicCall(\"SetInputValue(QString, QString)\", \"종목코드\", itemcode)\n",
    "\t\tself.kiwoom.dynamicCall(\"SetInputValue(QString, QString)\", \"틱범위\", tic)\n",
    "\t\tself.kiwoom.dynamicCall(\"SetInputValue(QString, QString)\", \"수정주가구분\", justify)\n",
    "\t\tself.kiwoom.dynamicCall(\"CommRqData(QString, QString, int, QString)\", \"rqname_opt10080\", \"opt10080\", 2, \"0101\")\n",
    "\t\tself.tr_event_loop = QEventLoop()\n",
    "\t\tself.tr_event_loop.exec_()\n",
    " "
   ]
  },
  {
   "cell_type": "code",
   "execution_count": 24,
   "metadata": {},
   "outputs": [
    {
     "ename": "NameError",
     "evalue": "name 'rqname' is not defined",
     "output_type": "error",
     "traceback": [
      "\u001b[1;31m---------------------------------------------------------------------------\u001b[0m",
      "\u001b[1;31mNameError\u001b[0m                                 Traceback (most recent call last)",
      "\u001b[1;32m~\\AppData\\Local\\Temp\\ipykernel_8332\\2612152707.py\u001b[0m in \u001b[0;36m<module>\u001b[1;34m\u001b[0m\n\u001b[1;32m----> 1\u001b[1;33m \u001b[1;32mif\u001b[0m \u001b[0mrqname\u001b[0m \u001b[1;33m==\u001b[0m \u001b[1;34m'rqname_opt10080'\u001b[0m\u001b[1;33m:\u001b[0m\u001b[1;33m\u001b[0m\u001b[1;33m\u001b[0m\u001b[0m\n\u001b[0m\u001b[0;32m      2\u001b[0m         \u001b[0mself\u001b[0m\u001b[1;33m.\u001b[0m\u001b[0mopt10080\u001b[0m\u001b[1;33m(\u001b[0m\u001b[0mtrcode\u001b[0m\u001b[1;33m,\u001b[0m \u001b[0mrecordname\u001b[0m\u001b[1;33m)\u001b[0m\u001b[1;33m\u001b[0m\u001b[1;33m\u001b[0m\u001b[0m\n",
      "\u001b[1;31mNameError\u001b[0m: name 'rqname' is not defined"
     ]
    }
   ],
   "source": [
    "if rqname == 'rqname_opt10080':\n",
    "\tself.opt10080(trcode, recordname)"
   ]
  },
  {
   "cell_type": "code",
   "execution_count": null,
   "metadata": {},
   "outputs": [],
   "source": []
  },
  {
   "cell_type": "code",
   "execution_count": null,
   "metadata": {},
   "outputs": [],
   "source": []
  },
  {
   "cell_type": "code",
   "execution_count": null,
   "metadata": {},
   "outputs": [],
   "source": []
  },
  {
   "cell_type": "code",
   "execution_count": null,
   "metadata": {},
   "outputs": [],
   "source": []
  },
  {
   "cell_type": "code",
   "execution_count": null,
   "metadata": {},
   "outputs": [],
   "source": []
  },
  {
   "cell_type": "code",
   "execution_count": null,
   "metadata": {},
   "outputs": [],
   "source": []
  },
  {
   "cell_type": "code",
   "execution_count": null,
   "metadata": {},
   "outputs": [],
   "source": []
  },
  {
   "cell_type": "code",
   "execution_count": null,
   "metadata": {},
   "outputs": [],
   "source": []
  }
 ],
 "metadata": {
  "kernelspec": {
   "display_name": "traiding",
   "language": "python",
   "name": "python3"
  },
  "language_info": {
   "codemirror_mode": {
    "name": "ipython",
    "version": 3
   },
   "file_extension": ".py",
   "mimetype": "text/x-python",
   "name": "python",
   "nbconvert_exporter": "python",
   "pygments_lexer": "ipython3",
   "version": "3.7.13"
  },
  "orig_nbformat": 4
 },
 "nbformat": 4,
 "nbformat_minor": 2
}
