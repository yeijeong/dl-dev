{
 "cells": [
  {
   "attachments": {},
   "cell_type": "markdown",
   "metadata": {},
   "source": [
    "---\n",
    "### pip install finance-datareader\n",
    "---"
   ]
  },
  {
   "cell_type": "code",
   "execution_count": 1,
   "metadata": {},
   "outputs": [],
   "source": [
    "import FinanceDataReader as fdr "
   ]
  },
  {
   "cell_type": "code",
   "execution_count": 2,
   "metadata": {},
   "outputs": [
    {
     "name": "stderr",
     "output_type": "stream",
     "text": [
      "100%|██████████| 4250/4250 [00:13<00:00, 315.42it/s]\n"
     ]
    }
   ],
   "source": [
    "krx = fdr.StockListing('KRX')\n",
    "NASDAQ = fdr.StockListing('NASDAQ')"
   ]
  },
  {
   "cell_type": "code",
   "execution_count": 3,
   "metadata": {},
   "outputs": [],
   "source": [
    "AAPL = fdr.DataReader('AAPL') ## 애플\n",
    "AAPL_2023 = fdr.DataReader('AAPL','2023')\n",
    "AAPL_1990_2023 = fdr.DataReader('AAPL','1990-01-01','2023-06-22')"
   ]
  },
  {
   "cell_type": "code",
   "execution_count": 4,
   "metadata": {},
   "outputs": [],
   "source": [
    "IXIC = fdr.DataReader('IXIC') ## 나스닥 종합\n",
    "IXIC_2023 = fdr.DataReader('IXIC','2023')\n",
    "IXIC_1990_2023 = fdr.DataReader('IXIC','1990-01-01','2023-06-22')"
   ]
  },
  {
   "cell_type": "code",
   "execution_count": 5,
   "metadata": {},
   "outputs": [],
   "source": [
    "BTC_KRW = fdr.DataReader('BTC/KRW') # 비트코인 원화 가격\n",
    "ETH_KRW = fdr.DataReader('ETH/KRW') # 이더리움 원화 가격\n",
    "XRP_KRW = fdr.DataReader('XRP/KRW') # 리플 원화 가격"
   ]
  },
  {
   "cell_type": "code",
   "execution_count": 6,
   "metadata": {},
   "outputs": [],
   "source": [
    "USD_KRW = fdr.DataReader('USD/KRW') # 달러당 원화 환율\n",
    "USD_EUR = fdr.DataReader('USD/EUR') # 달러당 유로화 환율\n",
    "JPY_KRW = fdr.DataReader('JPY/KRW') # 엔화당 원화 환율\n",
    "EUR_KRW = fdr.DataReader('EUR/KRW') # 유로화 원화 환율"
   ]
  },
  {
   "cell_type": "code",
   "execution_count": 7,
   "metadata": {},
   "outputs": [],
   "source": [
    "NG = fdr.DataReader('ng') # 천연가스 선물\n",
    "ZG = fdr.DataReader('zg') # 금 선물\n",
    "ZI = fdr.DataReader('zi') # 은 선물\n",
    "# HG = fdr.DataReader('hg') # 구리 선물\n",
    "CL = fdr.DataReader('cl') # WTI유 선물"
   ]
  },
  {
   "cell_type": "code",
   "execution_count": 8,
   "metadata": {},
   "outputs": [],
   "source": [
    "# import time\n",
    "\n",
    "# for N in [1,2,3,4,5,10,20,30,50]:\n",
    "#     df = fdr.DataReader('KR{}YT==RR'.format(N), '2016-09-01', '2021-08-31')\n",
    "#     df.reset_index(inplace=True)\n",
    "#     df.to_csv('{}년만기_한국국채수익률.csv'.format(N), index=False)\n",
    "#     time.sleep(1)"
   ]
  },
  {
   "cell_type": "code",
   "execution_count": 9,
   "metadata": {},
   "outputs": [],
   "source": [
    "# for N in [1,2,3,4,5,7,10,30]:\n",
    "#     df = fdr.DataReader('US{}YT==X'.format(N), '2016-09-01', '2021-08-31')\n",
    "#     df.reset_index(inplace=True)\n",
    "#     df.to_csv('{}년만기_미국국채수익률.csv'.format(N), index=False)\n",
    "#     time.sleep(1)"
   ]
  },
  {
   "cell_type": "code",
   "execution_count": 10,
   "metadata": {},
   "outputs": [
    {
     "data": {
      "text/html": [
       "<div>\n",
       "<style scoped>\n",
       "    .dataframe tbody tr th:only-of-type {\n",
       "        vertical-align: middle;\n",
       "    }\n",
       "\n",
       "    .dataframe tbody tr th {\n",
       "        vertical-align: top;\n",
       "    }\n",
       "\n",
       "    .dataframe thead th {\n",
       "        text-align: right;\n",
       "    }\n",
       "</style>\n",
       "<table border=\"1\" class=\"dataframe\">\n",
       "  <thead>\n",
       "    <tr style=\"text-align: right;\">\n",
       "      <th></th>\n",
       "      <th>Open</th>\n",
       "      <th>High</th>\n",
       "      <th>Low</th>\n",
       "      <th>Close</th>\n",
       "      <th>Adj Close</th>\n",
       "      <th>Volume</th>\n",
       "    </tr>\n",
       "    <tr>\n",
       "      <th>Date</th>\n",
       "      <th></th>\n",
       "      <th></th>\n",
       "      <th></th>\n",
       "      <th></th>\n",
       "      <th></th>\n",
       "      <th></th>\n",
       "    </tr>\n",
       "  </thead>\n",
       "  <tbody>\n",
       "    <tr>\n",
       "      <th>1980-01-02</th>\n",
       "      <td>148.169998</td>\n",
       "      <td>148.169998</td>\n",
       "      <td>148.169998</td>\n",
       "      <td>148.169998</td>\n",
       "      <td>148.169998</td>\n",
       "      <td>0</td>\n",
       "    </tr>\n",
       "    <tr>\n",
       "      <th>1980-01-03</th>\n",
       "      <td>145.970001</td>\n",
       "      <td>145.970001</td>\n",
       "      <td>145.970001</td>\n",
       "      <td>145.970001</td>\n",
       "      <td>145.970001</td>\n",
       "      <td>0</td>\n",
       "    </tr>\n",
       "    <tr>\n",
       "      <th>1980-01-04</th>\n",
       "      <td>148.020004</td>\n",
       "      <td>148.020004</td>\n",
       "      <td>148.020004</td>\n",
       "      <td>148.020004</td>\n",
       "      <td>148.020004</td>\n",
       "      <td>0</td>\n",
       "    </tr>\n",
       "    <tr>\n",
       "      <th>1980-01-07</th>\n",
       "      <td>148.619995</td>\n",
       "      <td>148.619995</td>\n",
       "      <td>148.619995</td>\n",
       "      <td>148.619995</td>\n",
       "      <td>148.619995</td>\n",
       "      <td>0</td>\n",
       "    </tr>\n",
       "    <tr>\n",
       "      <th>1980-01-08</th>\n",
       "      <td>150.679993</td>\n",
       "      <td>150.679993</td>\n",
       "      <td>150.679993</td>\n",
       "      <td>150.679993</td>\n",
       "      <td>150.679993</td>\n",
       "      <td>0</td>\n",
       "    </tr>\n",
       "    <tr>\n",
       "      <th>...</th>\n",
       "      <td>...</td>\n",
       "      <td>...</td>\n",
       "      <td>...</td>\n",
       "      <td>...</td>\n",
       "      <td>...</td>\n",
       "      <td>...</td>\n",
       "    </tr>\n",
       "    <tr>\n",
       "      <th>2023-06-15</th>\n",
       "      <td>13572.879883</td>\n",
       "      <td>13828.169922</td>\n",
       "      <td>13561.370117</td>\n",
       "      <td>13782.820313</td>\n",
       "      <td>13782.820313</td>\n",
       "      <td>5667520000</td>\n",
       "    </tr>\n",
       "    <tr>\n",
       "      <th>2023-06-16</th>\n",
       "      <td>13859.070313</td>\n",
       "      <td>13864.059570</td>\n",
       "      <td>13680.950195</td>\n",
       "      <td>13689.570313</td>\n",
       "      <td>13689.570313</td>\n",
       "      <td>8076530000</td>\n",
       "    </tr>\n",
       "    <tr>\n",
       "      <th>2023-06-20</th>\n",
       "      <td>13642.290039</td>\n",
       "      <td>13711.179688</td>\n",
       "      <td>13561.839844</td>\n",
       "      <td>13667.290039</td>\n",
       "      <td>13667.290039</td>\n",
       "      <td>5237710000</td>\n",
       "    </tr>\n",
       "    <tr>\n",
       "      <th>2023-06-21</th>\n",
       "      <td>13620.870117</td>\n",
       "      <td>13638.570313</td>\n",
       "      <td>13460.940430</td>\n",
       "      <td>13502.200195</td>\n",
       "      <td>13502.200195</td>\n",
       "      <td>5194640000</td>\n",
       "    </tr>\n",
       "    <tr>\n",
       "      <th>2023-06-22</th>\n",
       "      <td>13443.410156</td>\n",
       "      <td>13631.849609</td>\n",
       "      <td>13441.559570</td>\n",
       "      <td>13630.610352</td>\n",
       "      <td>13630.610352</td>\n",
       "      <td>4499550000</td>\n",
       "    </tr>\n",
       "  </tbody>\n",
       "</table>\n",
       "<p>10961 rows × 6 columns</p>\n",
       "</div>"
      ],
      "text/plain": [
       "                    Open          High           Low         Close  \\\n",
       "Date                                                                 \n",
       "1980-01-02    148.169998    148.169998    148.169998    148.169998   \n",
       "1980-01-03    145.970001    145.970001    145.970001    145.970001   \n",
       "1980-01-04    148.020004    148.020004    148.020004    148.020004   \n",
       "1980-01-07    148.619995    148.619995    148.619995    148.619995   \n",
       "1980-01-08    150.679993    150.679993    150.679993    150.679993   \n",
       "...                  ...           ...           ...           ...   \n",
       "2023-06-15  13572.879883  13828.169922  13561.370117  13782.820313   \n",
       "2023-06-16  13859.070313  13864.059570  13680.950195  13689.570313   \n",
       "2023-06-20  13642.290039  13711.179688  13561.839844  13667.290039   \n",
       "2023-06-21  13620.870117  13638.570313  13460.940430  13502.200195   \n",
       "2023-06-22  13443.410156  13631.849609  13441.559570  13630.610352   \n",
       "\n",
       "               Adj Close      Volume  \n",
       "Date                                  \n",
       "1980-01-02    148.169998           0  \n",
       "1980-01-03    145.970001           0  \n",
       "1980-01-04    148.020004           0  \n",
       "1980-01-07    148.619995           0  \n",
       "1980-01-08    150.679993           0  \n",
       "...                  ...         ...  \n",
       "2023-06-15  13782.820313  5667520000  \n",
       "2023-06-16  13689.570313  8076530000  \n",
       "2023-06-20  13667.290039  5237710000  \n",
       "2023-06-21  13502.200195  5194640000  \n",
       "2023-06-22  13630.610352  4499550000  \n",
       "\n",
       "[10961 rows x 6 columns]"
      ]
     },
     "execution_count": 10,
     "metadata": {},
     "output_type": "execute_result"
    }
   ],
   "source": [
    "IXIC"
   ]
  },
  {
   "cell_type": "code",
   "execution_count": null,
   "metadata": {},
   "outputs": [],
   "source": []
  }
 ],
 "metadata": {
  "kernelspec": {
   "display_name": "dl_dev_gpu",
   "language": "python",
   "name": "python3"
  },
  "language_info": {
   "codemirror_mode": {
    "name": "ipython",
    "version": 3
   },
   "file_extension": ".py",
   "mimetype": "text/x-python",
   "name": "python",
   "nbconvert_exporter": "python",
   "pygments_lexer": "ipython3",
   "version": "3.10.11"
  },
  "orig_nbformat": 4
 },
 "nbformat": 4,
 "nbformat_minor": 2
}
