{
 "cells": [
  {
   "attachments": {},
   "cell_type": "markdown",
   "metadata": {},
   "source": [
    "# TextCNN (ver.Kkma)"
   ]
  },
  {
   "cell_type": "code",
   "execution_count": 813,
   "metadata": {},
   "outputs": [],
   "source": [
    "from tensorflow import keras\n",
    "import pandas as pd\n",
    "import numpy as np\n",
    "import pymysql\n",
    "from tensorflow.keras.models import Sequential, load_model\n",
    "from tensorflow.keras.layers import Embedding, Dense, GRU, Bidirectional, Conv1D, GlobalMaxPooling1D, Dropout\n",
    "from tensorflow.keras.callbacks import EarlyStopping, ModelCheckpoint\n",
    "from tensorflow.keras.preprocessing.text import Tokenizer\n",
    "from tensorflow.keras.preprocessing.sequence import pad_sequences"
   ]
  },
  {
   "cell_type": "code",
   "execution_count": 814,
   "metadata": {},
   "outputs": [],
   "source": [
    "import pandas as pd\n",
    "import pymysql\n",
    "\n",
    "conn = pymysql.connect(\n",
    "    host='34.64.240.96'\n",
    "    , user='root'\n",
    "    , password='tndusWkd1.'\n",
    "    , db='final_project'\n",
    "    , charset='utf8'\n",
    ")\n",
    "cur = conn.cursor()\n"
   ]
  },
  {
   "cell_type": "code",
   "execution_count": 815,
   "metadata": {},
   "outputs": [],
   "source": [
    "news = pd.read_csv('./La.csv', index_col=0)\n",
    "news['stock_id'] = '012450'"
   ]
  },
  {
   "cell_type": "code",
   "execution_count": 816,
   "metadata": {},
   "outputs": [],
   "source": [
    "import re\n",
    "\n",
    "def str_to_list(d):\n",
    "  text = re.sub(r'[\\[\\'\\]]', '', d)\n",
    "  return text.split(\", \")\n",
    "\n",
    "news[\"token\"] = news.token.apply(str_to_list)"
   ]
  },
  {
   "cell_type": "code",
   "execution_count": 817,
   "metadata": {},
   "outputs": [
    {
     "name": "stderr",
     "output_type": "stream",
     "text": [
      "100%|██████████| 1407/1407 [00:00<00:00, 7610.79it/s]\n"
     ]
    },
    {
     "data": {
      "text/html": [
       "<div>\n",
       "<style scoped>\n",
       "    .dataframe tbody tr th:only-of-type {\n",
       "        vertical-align: middle;\n",
       "    }\n",
       "\n",
       "    .dataframe tbody tr th {\n",
       "        vertical-align: top;\n",
       "    }\n",
       "\n",
       "    .dataframe thead th {\n",
       "        text-align: right;\n",
       "    }\n",
       "</style>\n",
       "<table border=\"1\" class=\"dataframe\">\n",
       "  <thead>\n",
       "    <tr style=\"text-align: right;\">\n",
       "      <th></th>\n",
       "      <th>stock_id</th>\n",
       "      <th>date_time</th>\n",
       "      <th>title</th>\n",
       "      <th>content</th>\n",
       "      <th>token</th>\n",
       "      <th>open</th>\n",
       "      <th>high</th>\n",
       "      <th>low</th>\n",
       "      <th>close</th>\n",
       "      <th>volume</th>\n",
       "      <th>Accumulated sales volume</th>\n",
       "      <th>Accumulated number of contract</th>\n",
       "      <th>label</th>\n",
       "      <th>token_okt</th>\n",
       "    </tr>\n",
       "  </thead>\n",
       "  <tbody>\n",
       "    <tr>\n",
       "      <th>0</th>\n",
       "      <td>012450</td>\n",
       "      <td>2023-06-28 14:53:00</td>\n",
       "      <td>2023 방위산업 부품 장비대전 및 첨단국방산업전, 28일 개막</td>\n",
       "      <td>사이트</td>\n",
       "      <td>[사이트]</td>\n",
       "      <td>127000.0</td>\n",
       "      <td>127100.0</td>\n",
       "      <td>126900.0</td>\n",
       "      <td>126900.0</td>\n",
       "      <td>2860.0</td>\n",
       "      <td>250497.0</td>\n",
       "      <td>187111.0</td>\n",
       "      <td>0</td>\n",
       "      <td>['사이트']</td>\n",
       "    </tr>\n",
       "    <tr>\n",
       "      <th>1</th>\n",
       "      <td>012450</td>\n",
       "      <td>2023-06-28 14:20:00</td>\n",
       "      <td>한화에어로, K9 이어 ‘잠수함 배터리’로 인도 시장 정조준 [비즈360]</td>\n",
       "      <td>한화에어로 임원 인도 현지 언론과 인터뷰잠수함용 리튬이온배터리 수출 적극 검토한화에...</td>\n",
       "      <td>[한화, 어로, 임원, 인도, 현지, 언론, 인터뷰, 잠수함, 용, 리튬, 이온, ...</td>\n",
       "      <td>127400.0</td>\n",
       "      <td>127500.0</td>\n",
       "      <td>127400.0</td>\n",
       "      <td>127500.0</td>\n",
       "      <td>436.0</td>\n",
       "      <td>220243.0</td>\n",
       "      <td>166780.0</td>\n",
       "      <td>1</td>\n",
       "      <td>['한화', '에어로', '임원', '인도', '현지', '언론', '과', '인터...</td>\n",
       "    </tr>\n",
       "    <tr>\n",
       "      <th>2</th>\n",
       "      <td>012450</td>\n",
       "      <td>2023-06-28 14:20:00</td>\n",
       "      <td>한화에어로, K9 이어 ‘잠수함 배터리’로 인도 시장 정조준 [비즈360]</td>\n",
       "      <td>한화에어로 임원 인도 현지 언론과 인터뷰잠수함용 리튬이온배터리 수출 적극 검토한화에...</td>\n",
       "      <td>[한화, 어로, 임원, 인도, 현지, 언론, 인터뷰, 잠수함, 용, 리튬, 이온, ...</td>\n",
       "      <td>127400.0</td>\n",
       "      <td>127500.0</td>\n",
       "      <td>127400.0</td>\n",
       "      <td>127500.0</td>\n",
       "      <td>436.0</td>\n",
       "      <td>220243.0</td>\n",
       "      <td>166780.0</td>\n",
       "      <td>1</td>\n",
       "      <td>['한화', '에어로', '임원', '인도', '현지', '언론', '과', '인터...</td>\n",
       "    </tr>\n",
       "    <tr>\n",
       "      <th>3</th>\n",
       "      <td>012450</td>\n",
       "      <td>2023-06-28 14:01:00</td>\n",
       "      <td>K-방산수도 대전서 첨단 국방부품·장비 전시 막 올랐다</td>\n",
       "      <td>방산 일자리 박람회 수출상담회 기술교류회 시민 체험행사 등 방위산업 부품장비대전 및...</td>\n",
       "      <td>[방산, 일자리, 박람회, 수출, 상담, 회, 기술, 교류, 회, 시민, 체험, 행...</td>\n",
       "      <td>127300.0</td>\n",
       "      <td>127400.0</td>\n",
       "      <td>127200.0</td>\n",
       "      <td>127300.0</td>\n",
       "      <td>959.0</td>\n",
       "      <td>210666.0</td>\n",
       "      <td>154389.0</td>\n",
       "      <td>1</td>\n",
       "      <td>['방산', '일자리', '박람회', '수출', '상담', '회', '기술', '교...</td>\n",
       "    </tr>\n",
       "    <tr>\n",
       "      <th>4</th>\n",
       "      <td>012450</td>\n",
       "      <td>2023-06-28 13:31:00</td>\n",
       "      <td>과학도시 대전, K-방산의 중심으로 우뚝</td>\n",
       "      <td>방위산업 부품장비대전 및 첨단국방산업전 대전서 개막무인헬기 등 혁신기술 탑재한 제품...</td>\n",
       "      <td>[방위, 산업, 부품, 장비, 대전, 및, 첨단, 국방, 산업, 전, 대전, 서, ...</td>\n",
       "      <td>128000.0</td>\n",
       "      <td>128000.0</td>\n",
       "      <td>127900.0</td>\n",
       "      <td>128000.0</td>\n",
       "      <td>251.0</td>\n",
       "      <td>198735.0</td>\n",
       "      <td>144178.0</td>\n",
       "      <td>1</td>\n",
       "      <td>['방위산업', '부품', '장비', '대전', '및', '첨단', '국방', '산...</td>\n",
       "    </tr>\n",
       "    <tr>\n",
       "      <th>...</th>\n",
       "      <td>...</td>\n",
       "      <td>...</td>\n",
       "      <td>...</td>\n",
       "      <td>...</td>\n",
       "      <td>...</td>\n",
       "      <td>...</td>\n",
       "      <td>...</td>\n",
       "      <td>...</td>\n",
       "      <td>...</td>\n",
       "      <td>...</td>\n",
       "      <td>...</td>\n",
       "      <td>...</td>\n",
       "      <td>...</td>\n",
       "      <td>...</td>\n",
       "    </tr>\n",
       "    <tr>\n",
       "      <th>1402</th>\n",
       "      <td>012450</td>\n",
       "      <td>2021-08-06 09:01:00</td>\n",
       "      <td>한화에어로스페이스, 2분기 1천326억원 흑자…작년보다 89％↑(종합)</td>\n",
       "      <td>김철선 기자 한화에어로스페이스는 올해 분기 연결기준 매출 조천억원 영업이익 천억원...</td>\n",
       "      <td>[김, 철선, 기자, 한화, 어로, 스페이스, 올해, 분기, 연결, 기준, 매출, ...</td>\n",
       "      <td>53700.0</td>\n",
       "      <td>53700.0</td>\n",
       "      <td>53500.0</td>\n",
       "      <td>53700.0</td>\n",
       "      <td>12754.0</td>\n",
       "      <td>1501.0</td>\n",
       "      <td>11252.0</td>\n",
       "      <td>1</td>\n",
       "      <td>['김철', '선', '기자', '한화', '에어로', '스페이스', '는', '올...</td>\n",
       "    </tr>\n",
       "    <tr>\n",
       "      <th>1403</th>\n",
       "      <td>012450</td>\n",
       "      <td>2021-07-30 09:01:00</td>\n",
       "      <td>백년기업 향하는 한화, 차세대 키워드는 '우주'</td>\n",
       "      <td>미래 모빌리티 항공우주 그린수소 에너지 디지털 금융 솔루션 등 신규 사업에도 세계를...</td>\n",
       "      <td>[미래, 모, 빌리티, 항공, 우주, 그린, 수소, 에너지, 디지털, 금융, 솔루션...</td>\n",
       "      <td>51700.0</td>\n",
       "      <td>51800.0</td>\n",
       "      <td>51400.0</td>\n",
       "      <td>51800.0</td>\n",
       "      <td>5087.0</td>\n",
       "      <td>1975.0</td>\n",
       "      <td>3112.0</td>\n",
       "      <td>1</td>\n",
       "      <td>['미래', '모빌리티', '항공우주', '그린', '수소', '에너지', '디지털...</td>\n",
       "    </tr>\n",
       "    <tr>\n",
       "      <th>1404</th>\n",
       "      <td>012450</td>\n",
       "      <td>2021-07-26 10:38:00</td>\n",
       "      <td>한화에어로스페이스, 다음 달 10일 기업설명회(IR) 개최 예정</td>\n",
       "      <td>서울뉴시스 김제이 기자 한화에어로스페이스는 다음 달 일 오후 시에 투자자 증권사 애...</td>\n",
       "      <td>[서울, 뉴, 시스, 김, 제이, 기자, 한화, 어로, 스페이스, 다음, 닿, ㄹ,...</td>\n",
       "      <td>51200.0</td>\n",
       "      <td>51300.0</td>\n",
       "      <td>51200.0</td>\n",
       "      <td>51200.0</td>\n",
       "      <td>165.0</td>\n",
       "      <td>95579.0</td>\n",
       "      <td>37613.0</td>\n",
       "      <td>1</td>\n",
       "      <td>['서울', '뉴시스', '김제', '이', '기자', '한화', '에어로', '스...</td>\n",
       "    </tr>\n",
       "    <tr>\n",
       "      <th>1405</th>\n",
       "      <td>012450</td>\n",
       "      <td>2021-07-01 09:01:00</td>\n",
       "      <td>리노공업·더존비즈온·솔브레인…기술력 독보적인 강소기업 날았다</td>\n",
       "      <td>대한민국 혁신기업 플랫폼미래기술 혁신기업한화솔루션에어로스페이스미래기술 부문에 이름...</td>\n",
       "      <td>[대한민국, 혁신, 기업, 플랫폼, 미래, 기술, 혁신, 기업, 한화, 솔루션, 어...</td>\n",
       "      <td>46900.0</td>\n",
       "      <td>47000.0</td>\n",
       "      <td>46850.0</td>\n",
       "      <td>46850.0</td>\n",
       "      <td>4322.0</td>\n",
       "      <td>1719.0</td>\n",
       "      <td>2529.0</td>\n",
       "      <td>0</td>\n",
       "      <td>['대한민국', '혁신', '기업', '플랫폼', '미래', '기술', '혁신', ...</td>\n",
       "    </tr>\n",
       "    <tr>\n",
       "      <th>1406</th>\n",
       "      <td>012450</td>\n",
       "      <td>2021-06-30 09:01:00</td>\n",
       "      <td>한화-삼성 빅딜, 누가 승자였을까</td>\n",
       "      <td>내준 사업 승승장구에삼성은 배 안 아플까삼성그룹 또한 한화와 빅딜로 플러스 효과를...</td>\n",
       "      <td>[내주, ㄴ, 사업, 승승장구, 삼성, 배, 안, 아프, ㄹ까, 삼성, 그룹, 또한...</td>\n",
       "      <td>47450.0</td>\n",
       "      <td>47500.0</td>\n",
       "      <td>47350.0</td>\n",
       "      <td>47400.0</td>\n",
       "      <td>3572.0</td>\n",
       "      <td>1705.0</td>\n",
       "      <td>1866.0</td>\n",
       "      <td>-1</td>\n",
       "      <td>['내준', '사업', '승승장구', '에', '삼성', '은', '배', '안',...</td>\n",
       "    </tr>\n",
       "  </tbody>\n",
       "</table>\n",
       "<p>1407 rows × 14 columns</p>\n",
       "</div>"
      ],
      "text/plain": [
       "     stock_id            date_time                                      title  \\\n",
       "0      012450  2023-06-28 14:53:00        2023 방위산업 부품 장비대전 및 첨단국방산업전, 28일 개막   \n",
       "1      012450  2023-06-28 14:20:00  한화에어로, K9 이어 ‘잠수함 배터리’로 인도 시장 정조준 [비즈360]   \n",
       "2      012450  2023-06-28 14:20:00  한화에어로, K9 이어 ‘잠수함 배터리’로 인도 시장 정조준 [비즈360]   \n",
       "3      012450  2023-06-28 14:01:00             K-방산수도 대전서 첨단 국방부품·장비 전시 막 올랐다   \n",
       "4      012450  2023-06-28 13:31:00                     과학도시 대전, K-방산의 중심으로 우뚝   \n",
       "...       ...                  ...                                        ...   \n",
       "1402   012450  2021-08-06 09:01:00    한화에어로스페이스, 2분기 1천326억원 흑자…작년보다 89％↑(종합)   \n",
       "1403   012450  2021-07-30 09:01:00                 백년기업 향하는 한화, 차세대 키워드는 '우주'   \n",
       "1404   012450  2021-07-26 10:38:00        한화에어로스페이스, 다음 달 10일 기업설명회(IR) 개최 예정   \n",
       "1405   012450  2021-07-01 09:01:00          리노공업·더존비즈온·솔브레인…기술력 독보적인 강소기업 날았다   \n",
       "1406   012450  2021-06-30 09:01:00                         한화-삼성 빅딜, 누가 승자였을까   \n",
       "\n",
       "                                                content  \\\n",
       "0                                                  사이트    \n",
       "1     한화에어로 임원 인도 현지 언론과 인터뷰잠수함용 리튬이온배터리 수출 적극 검토한화에...   \n",
       "2     한화에어로 임원 인도 현지 언론과 인터뷰잠수함용 리튬이온배터리 수출 적극 검토한화에...   \n",
       "3     방산 일자리 박람회 수출상담회 기술교류회 시민 체험행사 등 방위산업 부품장비대전 및...   \n",
       "4     방위산업 부품장비대전 및 첨단국방산업전 대전서 개막무인헬기 등 혁신기술 탑재한 제품...   \n",
       "...                                                 ...   \n",
       "1402   김철선 기자 한화에어로스페이스는 올해 분기 연결기준 매출 조천억원 영업이익 천억원...   \n",
       "1403  미래 모빌리티 항공우주 그린수소 에너지 디지털 금융 솔루션 등 신규 사업에도 세계를...   \n",
       "1404  서울뉴시스 김제이 기자 한화에어로스페이스는 다음 달 일 오후 시에 투자자 증권사 애...   \n",
       "1405   대한민국 혁신기업 플랫폼미래기술 혁신기업한화솔루션에어로스페이스미래기술 부문에 이름...   \n",
       "1406   내준 사업 승승장구에삼성은 배 안 아플까삼성그룹 또한 한화와 빅딜로 플러스 효과를...   \n",
       "\n",
       "                                                  token      open      high  \\\n",
       "0                                                 [사이트]  127000.0  127100.0   \n",
       "1     [한화, 어로, 임원, 인도, 현지, 언론, 인터뷰, 잠수함, 용, 리튬, 이온, ...  127400.0  127500.0   \n",
       "2     [한화, 어로, 임원, 인도, 현지, 언론, 인터뷰, 잠수함, 용, 리튬, 이온, ...  127400.0  127500.0   \n",
       "3     [방산, 일자리, 박람회, 수출, 상담, 회, 기술, 교류, 회, 시민, 체험, 행...  127300.0  127400.0   \n",
       "4     [방위, 산업, 부품, 장비, 대전, 및, 첨단, 국방, 산업, 전, 대전, 서, ...  128000.0  128000.0   \n",
       "...                                                 ...       ...       ...   \n",
       "1402  [김, 철선, 기자, 한화, 어로, 스페이스, 올해, 분기, 연결, 기준, 매출, ...   53700.0   53700.0   \n",
       "1403  [미래, 모, 빌리티, 항공, 우주, 그린, 수소, 에너지, 디지털, 금융, 솔루션...   51700.0   51800.0   \n",
       "1404  [서울, 뉴, 시스, 김, 제이, 기자, 한화, 어로, 스페이스, 다음, 닿, ㄹ,...   51200.0   51300.0   \n",
       "1405  [대한민국, 혁신, 기업, 플랫폼, 미래, 기술, 혁신, 기업, 한화, 솔루션, 어...   46900.0   47000.0   \n",
       "1406  [내주, ㄴ, 사업, 승승장구, 삼성, 배, 안, 아프, ㄹ까, 삼성, 그룹, 또한...   47450.0   47500.0   \n",
       "\n",
       "           low     close   volume  Accumulated sales volume  \\\n",
       "0     126900.0  126900.0   2860.0                  250497.0   \n",
       "1     127400.0  127500.0    436.0                  220243.0   \n",
       "2     127400.0  127500.0    436.0                  220243.0   \n",
       "3     127200.0  127300.0    959.0                  210666.0   \n",
       "4     127900.0  128000.0    251.0                  198735.0   \n",
       "...        ...       ...      ...                       ...   \n",
       "1402   53500.0   53700.0  12754.0                    1501.0   \n",
       "1403   51400.0   51800.0   5087.0                    1975.0   \n",
       "1404   51200.0   51200.0    165.0                   95579.0   \n",
       "1405   46850.0   46850.0   4322.0                    1719.0   \n",
       "1406   47350.0   47400.0   3572.0                    1705.0   \n",
       "\n",
       "      Accumulated number of contract  label  \\\n",
       "0                           187111.0      0   \n",
       "1                           166780.0      1   \n",
       "2                           166780.0      1   \n",
       "3                           154389.0      1   \n",
       "4                           144178.0      1   \n",
       "...                              ...    ...   \n",
       "1402                         11252.0      1   \n",
       "1403                          3112.0      1   \n",
       "1404                         37613.0      1   \n",
       "1405                          2529.0      0   \n",
       "1406                          1866.0     -1   \n",
       "\n",
       "                                              token_okt  \n",
       "0                                               ['사이트']  \n",
       "1     ['한화', '에어로', '임원', '인도', '현지', '언론', '과', '인터...  \n",
       "2     ['한화', '에어로', '임원', '인도', '현지', '언론', '과', '인터...  \n",
       "3     ['방산', '일자리', '박람회', '수출', '상담', '회', '기술', '교...  \n",
       "4     ['방위산업', '부품', '장비', '대전', '및', '첨단', '국방', '산...  \n",
       "...                                                 ...  \n",
       "1402  ['김철', '선', '기자', '한화', '에어로', '스페이스', '는', '올...  \n",
       "1403  ['미래', '모빌리티', '항공우주', '그린', '수소', '에너지', '디지털...  \n",
       "1404  ['서울', '뉴시스', '김제', '이', '기자', '한화', '에어로', '스...  \n",
       "1405  ['대한민국', '혁신', '기업', '플랫폼', '미래', '기술', '혁신', ...  \n",
       "1406  ['내준', '사업', '승승장구', '에', '삼성', '은', '배', '안',...  \n",
       "\n",
       "[1407 rows x 14 columns]"
      ]
     },
     "execution_count": 817,
     "metadata": {},
     "output_type": "execute_result"
    }
   ],
   "source": [
    "from tqdm import tqdm\n",
    "def stopword(x):\n",
    "  stopword = [r'상승.*', r'하락.*', r'급등.*', r'급락.*', '상승세', '하락세', '폭등', '폭락', '오름세', '약세', '강세', '의', '가', '이', '은', '들', '는', '좀', '잘', '걍', '과', '도', '를', '으로', '자', '에', '와', '한', '하다', '에', '은', '는', '하']\n",
    "  return [i for i in x if i not in stopword and not i.isdigit()]\n",
    "tqdm.pandas()\n",
    "news[\"token\"] = news.token.progress_apply(stopword)\n",
    "news"
   ]
  },
  {
   "cell_type": "code",
   "execution_count": 818,
   "metadata": {},
   "outputs": [
    {
     "name": "stdout",
     "output_type": "stream",
     "text": [
      "(866,) (866,) (541,) (541,)\n"
     ]
    }
   ],
   "source": [
    "test = news.loc[news[\"date_time\"] >= '2023-06-01 00:00:00']\n",
    "train = news.loc[news[\"date_time\"] < '2023-06-01 00:00:00']\n",
    "X_train = train['token_okt']\n",
    "y_train = train['label']\n",
    "X_test = test['token_okt']\n",
    "y_test = test['label']\n",
    "\n",
    "print(X_train.shape, y_train.shape, X_test.shape, y_test.shape)"
   ]
  },
  {
   "cell_type": "code",
   "execution_count": 819,
   "metadata": {},
   "outputs": [],
   "source": [
    "tokenizer = Tokenizer()\n",
    "tokenizer.fit_on_texts(X_train)"
   ]
  },
  {
   "cell_type": "code",
   "execution_count": 820,
   "metadata": {},
   "outputs": [
    {
     "name": "stdout",
     "output_type": "stream",
     "text": [
      "단어 집합(vocabulary)의 크기 : 7882\n",
      "등장 빈도가 3번 이하인 희귀 단어의 수: 3703\n",
      "단어 집합에서 희귀 단어의 비율: 46.98046181172291\n",
      "전체 등장 빈도에서 희귀 단어 등장 빈도 비율: 2.8207536289193156\n"
     ]
    }
   ],
   "source": [
    "threshold = 4\n",
    "total_cnt = len(tokenizer.word_index) # 단어의 수\n",
    "rare_cnt = 0 # 등장 빈도수가 threshold보다 작은 단어의 개수를 카운트\n",
    "total_freq = 0 # 훈련 데이터의 전체 단어 빈도수 총 합\n",
    "rare_freq = 0 # 등장 빈도수가 threshold보다 작은 단어의 등장 빈도수의 총 합\n",
    "\n",
    "# 단어와 빈도수의 쌍(pair)을 key와 value로 받는다.\n",
    "for key, value in tokenizer.word_counts.items():\n",
    "    total_freq = total_freq + value\n",
    "\n",
    "    # 단어의 등장 빈도수가 threshold보다 작으면\n",
    "    if(value < threshold):\n",
    "        rare_cnt = rare_cnt + 1\n",
    "        rare_freq = rare_freq + value\n",
    "\n",
    "print('단어 집합(vocabulary)의 크기 :',total_cnt)\n",
    "print('등장 빈도가 %s번 이하인 희귀 단어의 수: %s'%(threshold - 1, rare_cnt))\n",
    "print(\"단어 집합에서 희귀 단어의 비율:\", (rare_cnt / total_cnt)*100)\n",
    "print(\"전체 등장 빈도에서 희귀 단어 등장 빈도 비율:\", (rare_freq / total_freq)*100)"
   ]
  },
  {
   "cell_type": "code",
   "execution_count": 821,
   "metadata": {},
   "outputs": [
    {
     "name": "stdout",
     "output_type": "stream",
     "text": [
      "단어 집합의 크기 : 4180\n"
     ]
    }
   ],
   "source": [
    "vocab_size = total_cnt - rare_cnt + 1\n",
    "print('단어 집합의 크기 :',vocab_size)"
   ]
  },
  {
   "cell_type": "code",
   "execution_count": 822,
   "metadata": {},
   "outputs": [],
   "source": [
    "tokenizer = Tokenizer(vocab_size, oov_token='OOV')\n",
    "tokenizer.fit_on_texts(X_train)\n",
    "X_train = tokenizer.texts_to_sequences(X_train)\n",
    "X_test = tokenizer.texts_to_sequences(X_test)"
   ]
  },
  {
   "cell_type": "code",
   "execution_count": 823,
   "metadata": {},
   "outputs": [],
   "source": [
    "y_train = np.array(y_train)\n",
    "y_test = np.array(y_test)"
   ]
  },
  {
   "cell_type": "code",
   "execution_count": 824,
   "metadata": {},
   "outputs": [
    {
     "name": "stdout",
     "output_type": "stream",
     "text": [
      "866\n",
      "866\n"
     ]
    },
    {
     "name": "stderr",
     "output_type": "stream",
     "text": [
      "/Users/yujin/miniforge3/envs/dl_dev_gpu/lib/python3.10/site-packages/numpy/lib/function_base.py:5071: VisibleDeprecationWarning: Creating an ndarray from ragged nested sequences (which is a list-or-tuple of lists-or-tuples-or ndarrays with different lengths or shapes) is deprecated. If you meant to do this, you must specify 'dtype=object' when creating the ndarray.\n",
      "  arr = asarray(arr)\n"
     ]
    }
   ],
   "source": [
    "drop_train = [index for index, sentence in enumerate(X_train) if len(sentence) < 1]\n",
    "\n",
    "X_train = np.delete(X_train, drop_train, axis=0)\n",
    "y_train = np.delete(y_train, drop_train, axis=0)\n",
    "\n",
    "print(len(X_train))\n",
    "print(len(y_train))"
   ]
  },
  {
   "cell_type": "code",
   "execution_count": 825,
   "metadata": {},
   "outputs": [
    {
     "name": "stdout",
     "output_type": "stream",
     "text": [
      "뉴스 최대 길이: 1590\n",
      "뉴스 평균 길이: 280.33718244803697\n"
     ]
    }
   ],
   "source": [
    "print('뉴스 최대 길이:', max(len(l) for l in X_train))\n",
    "print('뉴스 평균 길이:', sum(map(len, X_train)) / len(X_train))"
   ]
  },
  {
   "cell_type": "code",
   "execution_count": 826,
   "metadata": {},
   "outputs": [
    {
     "name": "stderr",
     "output_type": "stream",
     "text": [
      "/var/folders/j6/q03gf6y53_72jb_wzwbp2b140000gn/T/ipykernel_3386/1955333591.py:2: MatplotlibDeprecationWarning: The seaborn styles shipped by Matplotlib are deprecated since 3.6, as they no longer correspond to the styles shipped by seaborn. However, they will remain available as 'seaborn-v0_8-<style>'. Alternatively, directly use the seaborn API instead.\n",
      "  plt.style.use('seaborn-white')\n"
     ]
    },
    {
     "data": {
      "image/png": "[encoded data removed]",
      "text/plain": [
       "<Figure size 640x480 with 1 Axes>"
      ]
     },
     "metadata": {},
     "output_type": "display_data"
    }
   ],
   "source": [
    "import matplotlib.pyplot as plt\n",
    "plt.style.use('seaborn-white')\n",
    "\n",
    "plt.hist([len(s) for s in X_train], bins=50)\n",
    "plt.xlabel('Length of Samples')\n",
    "plt.ylabel('Number of Samples')\n",
    "plt.show()"
   ]
  },
  {
   "cell_type": "code",
   "execution_count": 827,
   "metadata": {},
   "outputs": [],
   "source": [
    "max_len = 800"
   ]
  },
  {
   "cell_type": "code",
   "execution_count": 828,
   "metadata": {},
   "outputs": [],
   "source": [
    "X_train = pad_sequences(X_train, maxlen=max_len)\n",
    "X_test = pad_sequences(X_test, maxlen=max_len)"
   ]
  },
  {
   "cell_type": "code",
   "execution_count": 829,
   "metadata": {},
   "outputs": [],
   "source": [
    "embedding_dim = max_len # 임베딩 벡터의 차원\n",
    "dropout_ratio = 0.4 # 드롭아웃 비율\n",
    "num_filters = 2 # 커널의 수\n",
    "kernel_size = 3 # 커널의 크기\n",
    "hidden_units = 128 # 뉴런의 수"
   ]
  },
  {
   "cell_type": "code",
   "execution_count": 830,
   "metadata": {},
   "outputs": [
    {
     "name": "stdout",
     "output_type": "stream",
     "text": [
      "Model: \"sequential_39\"\n",
      "_________________________________________________________________\n",
      " Layer (type)                Output Shape              Param #   \n",
      "=================================================================\n",
      " embedding_39 (Embedding)    (None, None, 800)         3344000   \n",
      "                                                                 \n",
      " dropout_78 (Dropout)        (None, None, 800)         0         \n",
      "                                                                 \n",
      " conv1d_39 (Conv1D)          (None, None, 2)           4802      \n",
      "                                                                 \n",
      " global_max_pooling1d_39 (G  (None, 2)                 0         \n",
      " lobalMaxPooling1D)                                              \n",
      "                                                                 \n",
      " dense_78 (Dense)            (None, 128)               384       \n",
      "                                                                 \n",
      " dropout_79 (Dropout)        (None, 128)               0         \n",
      "                                                                 \n",
      " dense_79 (Dense)            (None, 1)                 129       \n",
      "                                                                 \n",
      "=================================================================\n",
      "Total params: 3349315 (12.78 MB)\n",
      "Trainable params: 3349315 (12.78 MB)\n",
      "Non-trainable params: 0 (0.00 Byte)\n",
      "_________________________________________________________________\n"
     ]
    }
   ],
   "source": [
    "model = Sequential()\n",
    "model.add(Embedding(vocab_size, embedding_dim))\n",
    "model.add(Dropout(dropout_ratio))\n",
    "model.add(Conv1D(num_filters, kernel_size, padding = 'valid', activation = 'relu'))\n",
    "model.add(GlobalMaxPooling1D())\n",
    "model.add(Dense(hidden_units, activation='relu'))\n",
    "model.add(Dropout(dropout_ratio))\n",
    "model.add(Dense(1, activation = 'sigmoid'))\n",
    "\n",
    "model.summary()"
   ]
  },
  {
   "cell_type": "code",
   "execution_count": 831,
   "metadata": {},
   "outputs": [],
   "source": [
    "es = EarlyStopping(monitor = 'val_loss', mode = 'min', verbose = 1, patience = 3)\n",
    "mc = ModelCheckpoint('TextCNN_best_model(learning_rate).h5', monitor = 'val_acc', mode = 'max', verbose = 1, save_best_only = True)"
   ]
  },
  {
   "cell_type": "code",
   "execution_count": 832,
   "metadata": {},
   "outputs": [
    {
     "name": "stderr",
     "output_type": "stream",
     "text": [
      "WARNING:absl:At this time, the v2.11+ optimizer `tf.keras.optimizers.Nadam` runs slowly on M1/M2 Macs, please use the legacy Keras optimizer instead, located at `tf.keras.optimizers.legacy.Nadam`.\n",
      "WARNING:absl:There is a known slowdown when using v2.11+ Keras optimizers on M1/M2 Macs. Falling back to the legacy Keras optimizer, i.e., `tf.keras.optimizers.legacy.Nadam`.\n"
     ]
    },
    {
     "name": "stdout",
     "output_type": "stream",
     "text": [
      "Epoch 1/10\n",
      "6/6 [==============================] - ETA: 0s - loss: 0.6972 - acc: 0.4870\n",
      "Epoch 1: val_acc improved from -inf to 0.61494, saving model to TextCNN_best_model(learning_rate).h5\n",
      "6/6 [==============================] - 7s 803ms/step - loss: 0.6972 - acc: 0.4870 - val_loss: 0.6912 - val_acc: 0.6149\n",
      "Epoch 2/10\n"
     ]
    },
    {
     "name": "stderr",
     "output_type": "stream",
     "text": [
      "/Users/yujin/miniforge3/envs/dl_dev_gpu/lib/python3.10/site-packages/keras/src/engine/training.py:3000: UserWarning: You are saving your model as an HDF5 file via `model.save()`. This file format is considered legacy. We recommend using instead the native Keras format, e.g. `model.save('my_model.keras')`.\n",
      "  saving_api.save_model(\n"
     ]
    },
    {
     "name": "stdout",
     "output_type": "stream",
     "text": [
      "6/6 [==============================] - ETA: 0s - loss: 0.6960 - acc: 0.5145\n",
      "Epoch 2: val_acc improved from 0.61494 to 0.62644, saving model to TextCNN_best_model(learning_rate).h5\n",
      "6/6 [==============================] - 2s 353ms/step - loss: 0.6960 - acc: 0.5145 - val_loss: 0.6903 - val_acc: 0.6264\n",
      "Epoch 3/10\n",
      "6/6 [==============================] - ETA: 0s - loss: 0.6593 - acc: 0.6344\n",
      "Epoch 3: val_acc improved from 0.62644 to 0.65517, saving model to TextCNN_best_model(learning_rate).h5\n",
      "6/6 [==============================] - 2s 319ms/step - loss: 0.6593 - acc: 0.6344 - val_loss: 0.6293 - val_acc: 0.6552\n",
      "Epoch 4/10\n",
      "6/6 [==============================] - ETA: 0s - loss: 0.5447 - acc: 0.7341\n",
      "Epoch 4: val_acc did not improve from 0.65517\n",
      "6/6 [==============================] - 2s 305ms/step - loss: 0.5447 - acc: 0.7341 - val_loss: 1.0503 - val_acc: 0.3908\n",
      "Epoch 5/10\n",
      "6/6 [==============================] - ETA: 0s - loss: 0.5167 - acc: 0.7413\n",
      "Epoch 5: val_acc did not improve from 0.65517\n",
      "6/6 [==============================] - 2s 272ms/step - loss: 0.5167 - acc: 0.7413 - val_loss: 0.8199 - val_acc: 0.5057\n",
      "Epoch 6/10\n",
      "6/6 [==============================] - ETA: 0s - loss: 0.3432 - acc: 0.8656\n",
      "Epoch 6: val_acc did not improve from 0.65517\n",
      "6/6 [==============================] - 2s 282ms/step - loss: 0.3432 - acc: 0.8656 - val_loss: 0.7657 - val_acc: 0.6437\n",
      "Epoch 6: early stopping\n"
     ]
    }
   ],
   "source": [
    "import tensorflow as tf\n",
    "model.compile(optimizer=tf.keras.optimizers.Nadam(learning_rate = 0.005), loss='binary_crossentropy', metrics = ['acc'])\n",
    "history = model.fit(X_train, y_train, epochs=10, validation_split = 0.2, callbacks=[es, mc], batch_size = 128)"
   ]
  },
  {
   "cell_type": "code",
   "execution_count": 833,
   "metadata": {},
   "outputs": [
    {
     "name": "stdout",
     "output_type": "stream",
     "text": [
      "17/17 [==============================] - 1s 38ms/step - loss: 0.6712 - acc: 0.6192\n"
     ]
    },
    {
     "data": {
      "text/plain": [
       "[0.671150267124176, 0.6192236542701721]"
      ]
     },
     "execution_count": 833,
     "metadata": {},
     "output_type": "execute_result"
    }
   ],
   "source": [
    "loaded_model = load_model('TextCNN_best_model(learning_rate).h5')\n",
    "loaded_model.evaluate(X_test, y_test)"
   ]
  },
  {
   "attachments": {},
   "cell_type": "markdown",
   "metadata": {},
   "source": [
    "# TextCNN (ver. Okt)"
   ]
  },
  {
   "cell_type": "code",
   "execution_count": 834,
   "metadata": {},
   "outputs": [],
   "source": [
    "# sql = 'SELECT token, label FROM Okt_Token'\n",
    "# okt_token = pd.read_sql(sql, conn)\n",
    "# okt_token"
   ]
  },
  {
   "cell_type": "code",
   "execution_count": 835,
   "metadata": {},
   "outputs": [],
   "source": [
    "# import re\n",
    "\n",
    "# def str_to_list(d):\n",
    "#   text = re.sub(r'[\\[\\'\\]]', '', d)\n",
    "#   return text.split(\", \")\n",
    "\n",
    "# news[\"token\"] = news.token.apply(str_to_list)"
   ]
  },
  {
   "cell_type": "code",
   "execution_count": 836,
   "metadata": {},
   "outputs": [
    {
     "name": "stderr",
     "output_type": "stream",
     "text": [
      "100%|██████████| 1407/1407 [00:00<00:00, 5989.60it/s]\n"
     ]
    },
    {
     "data": {
      "text/html": [
       "<div>\n",
       "<style scoped>\n",
       "    .dataframe tbody tr th:only-of-type {\n",
       "        vertical-align: middle;\n",
       "    }\n",
       "\n",
       "    .dataframe tbody tr th {\n",
       "        vertical-align: top;\n",
       "    }\n",
       "\n",
       "    .dataframe thead th {\n",
       "        text-align: right;\n",
       "    }\n",
       "</style>\n",
       "<table border=\"1\" class=\"dataframe\">\n",
       "  <thead>\n",
       "    <tr style=\"text-align: right;\">\n",
       "      <th></th>\n",
       "      <th>stock_id</th>\n",
       "      <th>date_time</th>\n",
       "      <th>title</th>\n",
       "      <th>content</th>\n",
       "      <th>token</th>\n",
       "      <th>open</th>\n",
       "      <th>high</th>\n",
       "      <th>low</th>\n",
       "      <th>close</th>\n",
       "      <th>volume</th>\n",
       "      <th>Accumulated sales volume</th>\n",
       "      <th>Accumulated number of contract</th>\n",
       "      <th>label</th>\n",
       "      <th>token_okt</th>\n",
       "    </tr>\n",
       "  </thead>\n",
       "  <tbody>\n",
       "    <tr>\n",
       "      <th>0</th>\n",
       "      <td>012450</td>\n",
       "      <td>2023-06-28 14:53:00</td>\n",
       "      <td>2023 방위산업 부품 장비대전 및 첨단국방산업전, 28일 개막</td>\n",
       "      <td>사이트</td>\n",
       "      <td>[사이트]</td>\n",
       "      <td>127000.0</td>\n",
       "      <td>127100.0</td>\n",
       "      <td>126900.0</td>\n",
       "      <td>126900.0</td>\n",
       "      <td>2860.0</td>\n",
       "      <td>250497.0</td>\n",
       "      <td>187111.0</td>\n",
       "      <td>0</td>\n",
       "      <td>['사이트']</td>\n",
       "    </tr>\n",
       "    <tr>\n",
       "      <th>1</th>\n",
       "      <td>012450</td>\n",
       "      <td>2023-06-28 14:20:00</td>\n",
       "      <td>한화에어로, K9 이어 ‘잠수함 배터리’로 인도 시장 정조준 [비즈360]</td>\n",
       "      <td>한화에어로 임원 인도 현지 언론과 인터뷰잠수함용 리튬이온배터리 수출 적극 검토한화에...</td>\n",
       "      <td>[한화, 어로, 임원, 인도, 현지, 언론, 인터뷰, 잠수함, 용, 리튬, 이온, ...</td>\n",
       "      <td>127400.0</td>\n",
       "      <td>127500.0</td>\n",
       "      <td>127400.0</td>\n",
       "      <td>127500.0</td>\n",
       "      <td>436.0</td>\n",
       "      <td>220243.0</td>\n",
       "      <td>166780.0</td>\n",
       "      <td>1</td>\n",
       "      <td>['한화', '에어로', '임원', '인도', '현지', '언론', '과', '인터...</td>\n",
       "    </tr>\n",
       "    <tr>\n",
       "      <th>2</th>\n",
       "      <td>012450</td>\n",
       "      <td>2023-06-28 14:20:00</td>\n",
       "      <td>한화에어로, K9 이어 ‘잠수함 배터리’로 인도 시장 정조준 [비즈360]</td>\n",
       "      <td>한화에어로 임원 인도 현지 언론과 인터뷰잠수함용 리튬이온배터리 수출 적극 검토한화에...</td>\n",
       "      <td>[한화, 어로, 임원, 인도, 현지, 언론, 인터뷰, 잠수함, 용, 리튬, 이온, ...</td>\n",
       "      <td>127400.0</td>\n",
       "      <td>127500.0</td>\n",
       "      <td>127400.0</td>\n",
       "      <td>127500.0</td>\n",
       "      <td>436.0</td>\n",
       "      <td>220243.0</td>\n",
       "      <td>166780.0</td>\n",
       "      <td>1</td>\n",
       "      <td>['한화', '에어로', '임원', '인도', '현지', '언론', '과', '인터...</td>\n",
       "    </tr>\n",
       "    <tr>\n",
       "      <th>3</th>\n",
       "      <td>012450</td>\n",
       "      <td>2023-06-28 14:01:00</td>\n",
       "      <td>K-방산수도 대전서 첨단 국방부품·장비 전시 막 올랐다</td>\n",
       "      <td>방산 일자리 박람회 수출상담회 기술교류회 시민 체험행사 등 방위산업 부품장비대전 및...</td>\n",
       "      <td>[방산, 일자리, 박람회, 수출, 상담, 회, 기술, 교류, 회, 시민, 체험, 행...</td>\n",
       "      <td>127300.0</td>\n",
       "      <td>127400.0</td>\n",
       "      <td>127200.0</td>\n",
       "      <td>127300.0</td>\n",
       "      <td>959.0</td>\n",
       "      <td>210666.0</td>\n",
       "      <td>154389.0</td>\n",
       "      <td>1</td>\n",
       "      <td>['방산', '일자리', '박람회', '수출', '상담', '회', '기술', '교...</td>\n",
       "    </tr>\n",
       "    <tr>\n",
       "      <th>4</th>\n",
       "      <td>012450</td>\n",
       "      <td>2023-06-28 13:31:00</td>\n",
       "      <td>과학도시 대전, K-방산의 중심으로 우뚝</td>\n",
       "      <td>방위산업 부품장비대전 및 첨단국방산업전 대전서 개막무인헬기 등 혁신기술 탑재한 제품...</td>\n",
       "      <td>[방위, 산업, 부품, 장비, 대전, 및, 첨단, 국방, 산업, 전, 대전, 서, ...</td>\n",
       "      <td>128000.0</td>\n",
       "      <td>128000.0</td>\n",
       "      <td>127900.0</td>\n",
       "      <td>128000.0</td>\n",
       "      <td>251.0</td>\n",
       "      <td>198735.0</td>\n",
       "      <td>144178.0</td>\n",
       "      <td>1</td>\n",
       "      <td>['방위산업', '부품', '장비', '대전', '및', '첨단', '국방', '산...</td>\n",
       "    </tr>\n",
       "    <tr>\n",
       "      <th>...</th>\n",
       "      <td>...</td>\n",
       "      <td>...</td>\n",
       "      <td>...</td>\n",
       "      <td>...</td>\n",
       "      <td>...</td>\n",
       "      <td>...</td>\n",
       "      <td>...</td>\n",
       "      <td>...</td>\n",
       "      <td>...</td>\n",
       "      <td>...</td>\n",
       "      <td>...</td>\n",
       "      <td>...</td>\n",
       "      <td>...</td>\n",
       "      <td>...</td>\n",
       "    </tr>\n",
       "    <tr>\n",
       "      <th>1402</th>\n",
       "      <td>012450</td>\n",
       "      <td>2021-08-06 09:01:00</td>\n",
       "      <td>한화에어로스페이스, 2분기 1천326억원 흑자…작년보다 89％↑(종합)</td>\n",
       "      <td>김철선 기자 한화에어로스페이스는 올해 분기 연결기준 매출 조천억원 영업이익 천억원...</td>\n",
       "      <td>[김, 철선, 기자, 한화, 어로, 스페이스, 올해, 분기, 연결, 기준, 매출, ...</td>\n",
       "      <td>53700.0</td>\n",
       "      <td>53700.0</td>\n",
       "      <td>53500.0</td>\n",
       "      <td>53700.0</td>\n",
       "      <td>12754.0</td>\n",
       "      <td>1501.0</td>\n",
       "      <td>11252.0</td>\n",
       "      <td>1</td>\n",
       "      <td>['김철', '선', '기자', '한화', '에어로', '스페이스', '는', '올...</td>\n",
       "    </tr>\n",
       "    <tr>\n",
       "      <th>1403</th>\n",
       "      <td>012450</td>\n",
       "      <td>2021-07-30 09:01:00</td>\n",
       "      <td>백년기업 향하는 한화, 차세대 키워드는 '우주'</td>\n",
       "      <td>미래 모빌리티 항공우주 그린수소 에너지 디지털 금융 솔루션 등 신규 사업에도 세계를...</td>\n",
       "      <td>[미래, 모, 빌리티, 항공, 우주, 그린, 수소, 에너지, 디지털, 금융, 솔루션...</td>\n",
       "      <td>51700.0</td>\n",
       "      <td>51800.0</td>\n",
       "      <td>51400.0</td>\n",
       "      <td>51800.0</td>\n",
       "      <td>5087.0</td>\n",
       "      <td>1975.0</td>\n",
       "      <td>3112.0</td>\n",
       "      <td>1</td>\n",
       "      <td>['미래', '모빌리티', '항공우주', '그린', '수소', '에너지', '디지털...</td>\n",
       "    </tr>\n",
       "    <tr>\n",
       "      <th>1404</th>\n",
       "      <td>012450</td>\n",
       "      <td>2021-07-26 10:38:00</td>\n",
       "      <td>한화에어로스페이스, 다음 달 10일 기업설명회(IR) 개최 예정</td>\n",
       "      <td>서울뉴시스 김제이 기자 한화에어로스페이스는 다음 달 일 오후 시에 투자자 증권사 애...</td>\n",
       "      <td>[서울, 뉴, 시스, 김, 제이, 기자, 한화, 어로, 스페이스, 다음, 닿, ㄹ,...</td>\n",
       "      <td>51200.0</td>\n",
       "      <td>51300.0</td>\n",
       "      <td>51200.0</td>\n",
       "      <td>51200.0</td>\n",
       "      <td>165.0</td>\n",
       "      <td>95579.0</td>\n",
       "      <td>37613.0</td>\n",
       "      <td>1</td>\n",
       "      <td>['서울', '뉴시스', '김제', '이', '기자', '한화', '에어로', '스...</td>\n",
       "    </tr>\n",
       "    <tr>\n",
       "      <th>1405</th>\n",
       "      <td>012450</td>\n",
       "      <td>2021-07-01 09:01:00</td>\n",
       "      <td>리노공업·더존비즈온·솔브레인…기술력 독보적인 강소기업 날았다</td>\n",
       "      <td>대한민국 혁신기업 플랫폼미래기술 혁신기업한화솔루션에어로스페이스미래기술 부문에 이름...</td>\n",
       "      <td>[대한민국, 혁신, 기업, 플랫폼, 미래, 기술, 혁신, 기업, 한화, 솔루션, 어...</td>\n",
       "      <td>46900.0</td>\n",
       "      <td>47000.0</td>\n",
       "      <td>46850.0</td>\n",
       "      <td>46850.0</td>\n",
       "      <td>4322.0</td>\n",
       "      <td>1719.0</td>\n",
       "      <td>2529.0</td>\n",
       "      <td>0</td>\n",
       "      <td>['대한민국', '혁신', '기업', '플랫폼', '미래', '기술', '혁신', ...</td>\n",
       "    </tr>\n",
       "    <tr>\n",
       "      <th>1406</th>\n",
       "      <td>012450</td>\n",
       "      <td>2021-06-30 09:01:00</td>\n",
       "      <td>한화-삼성 빅딜, 누가 승자였을까</td>\n",
       "      <td>내준 사업 승승장구에삼성은 배 안 아플까삼성그룹 또한 한화와 빅딜로 플러스 효과를...</td>\n",
       "      <td>[내주, ㄴ, 사업, 승승장구, 삼성, 배, 안, 아프, ㄹ까, 삼성, 그룹, 또한...</td>\n",
       "      <td>47450.0</td>\n",
       "      <td>47500.0</td>\n",
       "      <td>47350.0</td>\n",
       "      <td>47400.0</td>\n",
       "      <td>3572.0</td>\n",
       "      <td>1705.0</td>\n",
       "      <td>1866.0</td>\n",
       "      <td>-1</td>\n",
       "      <td>['내준', '사업', '승승장구', '에', '삼성', '은', '배', '안',...</td>\n",
       "    </tr>\n",
       "  </tbody>\n",
       "</table>\n",
       "<p>1407 rows × 14 columns</p>\n",
       "</div>"
      ],
      "text/plain": [
       "     stock_id            date_time                                      title  \\\n",
       "0      012450  2023-06-28 14:53:00        2023 방위산업 부품 장비대전 및 첨단국방산업전, 28일 개막   \n",
       "1      012450  2023-06-28 14:20:00  한화에어로, K9 이어 ‘잠수함 배터리’로 인도 시장 정조준 [비즈360]   \n",
       "2      012450  2023-06-28 14:20:00  한화에어로, K9 이어 ‘잠수함 배터리’로 인도 시장 정조준 [비즈360]   \n",
       "3      012450  2023-06-28 14:01:00             K-방산수도 대전서 첨단 국방부품·장비 전시 막 올랐다   \n",
       "4      012450  2023-06-28 13:31:00                     과학도시 대전, K-방산의 중심으로 우뚝   \n",
       "...       ...                  ...                                        ...   \n",
       "1402   012450  2021-08-06 09:01:00    한화에어로스페이스, 2분기 1천326억원 흑자…작년보다 89％↑(종합)   \n",
       "1403   012450  2021-07-30 09:01:00                 백년기업 향하는 한화, 차세대 키워드는 '우주'   \n",
       "1404   012450  2021-07-26 10:38:00        한화에어로스페이스, 다음 달 10일 기업설명회(IR) 개최 예정   \n",
       "1405   012450  2021-07-01 09:01:00          리노공업·더존비즈온·솔브레인…기술력 독보적인 강소기업 날았다   \n",
       "1406   012450  2021-06-30 09:01:00                         한화-삼성 빅딜, 누가 승자였을까   \n",
       "\n",
       "                                                content  \\\n",
       "0                                                  사이트    \n",
       "1     한화에어로 임원 인도 현지 언론과 인터뷰잠수함용 리튬이온배터리 수출 적극 검토한화에...   \n",
       "2     한화에어로 임원 인도 현지 언론과 인터뷰잠수함용 리튬이온배터리 수출 적극 검토한화에...   \n",
       "3     방산 일자리 박람회 수출상담회 기술교류회 시민 체험행사 등 방위산업 부품장비대전 및...   \n",
       "4     방위산업 부품장비대전 및 첨단국방산업전 대전서 개막무인헬기 등 혁신기술 탑재한 제품...   \n",
       "...                                                 ...   \n",
       "1402   김철선 기자 한화에어로스페이스는 올해 분기 연결기준 매출 조천억원 영업이익 천억원...   \n",
       "1403  미래 모빌리티 항공우주 그린수소 에너지 디지털 금융 솔루션 등 신규 사업에도 세계를...   \n",
       "1404  서울뉴시스 김제이 기자 한화에어로스페이스는 다음 달 일 오후 시에 투자자 증권사 애...   \n",
       "1405   대한민국 혁신기업 플랫폼미래기술 혁신기업한화솔루션에어로스페이스미래기술 부문에 이름...   \n",
       "1406   내준 사업 승승장구에삼성은 배 안 아플까삼성그룹 또한 한화와 빅딜로 플러스 효과를...   \n",
       "\n",
       "                                                  token      open      high  \\\n",
       "0                                                 [사이트]  127000.0  127100.0   \n",
       "1     [한화, 어로, 임원, 인도, 현지, 언론, 인터뷰, 잠수함, 용, 리튬, 이온, ...  127400.0  127500.0   \n",
       "2     [한화, 어로, 임원, 인도, 현지, 언론, 인터뷰, 잠수함, 용, 리튬, 이온, ...  127400.0  127500.0   \n",
       "3     [방산, 일자리, 박람회, 수출, 상담, 회, 기술, 교류, 회, 시민, 체험, 행...  127300.0  127400.0   \n",
       "4     [방위, 산업, 부품, 장비, 대전, 및, 첨단, 국방, 산업, 전, 대전, 서, ...  128000.0  128000.0   \n",
       "...                                                 ...       ...       ...   \n",
       "1402  [김, 철선, 기자, 한화, 어로, 스페이스, 올해, 분기, 연결, 기준, 매출, ...   53700.0   53700.0   \n",
       "1403  [미래, 모, 빌리티, 항공, 우주, 그린, 수소, 에너지, 디지털, 금융, 솔루션...   51700.0   51800.0   \n",
       "1404  [서울, 뉴, 시스, 김, 제이, 기자, 한화, 어로, 스페이스, 다음, 닿, ㄹ,...   51200.0   51300.0   \n",
       "1405  [대한민국, 혁신, 기업, 플랫폼, 미래, 기술, 혁신, 기업, 한화, 솔루션, 어...   46900.0   47000.0   \n",
       "1406  [내주, ㄴ, 사업, 승승장구, 삼성, 배, 안, 아프, ㄹ까, 삼성, 그룹, 또한...   47450.0   47500.0   \n",
       "\n",
       "           low     close   volume  Accumulated sales volume  \\\n",
       "0     126900.0  126900.0   2860.0                  250497.0   \n",
       "1     127400.0  127500.0    436.0                  220243.0   \n",
       "2     127400.0  127500.0    436.0                  220243.0   \n",
       "3     127200.0  127300.0    959.0                  210666.0   \n",
       "4     127900.0  128000.0    251.0                  198735.0   \n",
       "...        ...       ...      ...                       ...   \n",
       "1402   53500.0   53700.0  12754.0                    1501.0   \n",
       "1403   51400.0   51800.0   5087.0                    1975.0   \n",
       "1404   51200.0   51200.0    165.0                   95579.0   \n",
       "1405   46850.0   46850.0   4322.0                    1719.0   \n",
       "1406   47350.0   47400.0   3572.0                    1705.0   \n",
       "\n",
       "      Accumulated number of contract  label  \\\n",
       "0                           187111.0      0   \n",
       "1                           166780.0      1   \n",
       "2                           166780.0      1   \n",
       "3                           154389.0      1   \n",
       "4                           144178.0      1   \n",
       "...                              ...    ...   \n",
       "1402                         11252.0      1   \n",
       "1403                          3112.0      1   \n",
       "1404                         37613.0      1   \n",
       "1405                          2529.0      0   \n",
       "1406                          1866.0     -1   \n",
       "\n",
       "                                              token_okt  \n",
       "0                                               ['사이트']  \n",
       "1     ['한화', '에어로', '임원', '인도', '현지', '언론', '과', '인터...  \n",
       "2     ['한화', '에어로', '임원', '인도', '현지', '언론', '과', '인터...  \n",
       "3     ['방산', '일자리', '박람회', '수출', '상담', '회', '기술', '교...  \n",
       "4     ['방위산업', '부품', '장비', '대전', '및', '첨단', '국방', '산...  \n",
       "...                                                 ...  \n",
       "1402  ['김철', '선', '기자', '한화', '에어로', '스페이스', '는', '올...  \n",
       "1403  ['미래', '모빌리티', '항공우주', '그린', '수소', '에너지', '디지털...  \n",
       "1404  ['서울', '뉴시스', '김제', '이', '기자', '한화', '에어로', '스...  \n",
       "1405  ['대한민국', '혁신', '기업', '플랫폼', '미래', '기술', '혁신', ...  \n",
       "1406  ['내준', '사업', '승승장구', '에', '삼성', '은', '배', '안',...  \n",
       "\n",
       "[1407 rows x 14 columns]"
      ]
     },
     "execution_count": 836,
     "metadata": {},
     "output_type": "execute_result"
    }
   ],
   "source": [
    "from tqdm import tqdm\n",
    "def stopword(x):\n",
    "  stopword = [r'상승.*', r'하락.*', r'급등.*', r'급락.*', '상승세', '하락세', '폭등', '폭락', '오름세', '약세', '강세', '의', '가', '이', '은', '들', '는', '좀', '잘', '걍', '과', '도', '를', '으로', '자', '에', '와', '한', '하다', '에', '은', '는', '하']\n",
    "  return [i for i in x if i not in stopword and not i.isdigit()]\n",
    "tqdm.pandas()\n",
    "news[\"token\"] = news.token.progress_apply(stopword)\n",
    "news"
   ]
  },
  {
   "cell_type": "code",
   "execution_count": 837,
   "metadata": {},
   "outputs": [
    {
     "name": "stdout",
     "output_type": "stream",
     "text": [
      "(866,) (866,) (541,) (541,)\n"
     ]
    }
   ],
   "source": [
    "test = news.loc[news[\"date_time\"] >= '2023-06-01 00:00:00']\n",
    "train = news.loc[news[\"date_time\"] < '2023-06-01 00:00:00']\n",
    "\n",
    "X_train = train['token']\n",
    "y_train = train['label']\n",
    "X_test = test['token']\n",
    "y_test = test['label']\n",
    "\n",
    "print(X_train.shape, y_train.shape, X_test.shape, y_test.shape)"
   ]
  },
  {
   "cell_type": "code",
   "execution_count": 838,
   "metadata": {},
   "outputs": [],
   "source": [
    "tokenizer = Tokenizer()\n",
    "tokenizer.fit_on_texts(X_train)"
   ]
  },
  {
   "cell_type": "code",
   "execution_count": 839,
   "metadata": {},
   "outputs": [
    {
     "name": "stdout",
     "output_type": "stream",
     "text": [
      "단어 집합(vocabulary)의 크기 : 6238\n",
      "등장 빈도가 3번 이하인 희귀 단어의 수: 2491\n",
      "단어 집합에서 희귀 단어의 비율: 39.93267072779737\n",
      "전체 등장 빈도에서 희귀 단어 등장 빈도 비율: 1.9838712412869088\n"
     ]
    }
   ],
   "source": [
    "threshold = 4\n",
    "total_cnt = len(tokenizer.word_index) # 단어의 수\n",
    "rare_cnt = 0 # 등장 빈도수가 threshold보다 작은 단어의 개수를 카운트\n",
    "total_freq = 0 # 훈련 데이터의 전체 단어 빈도수 총 합\n",
    "rare_freq = 0 # 등장 빈도수가 threshold보다 작은 단어의 등장 빈도수의 총 합\n",
    "\n",
    "# 단어와 빈도수의 쌍(pair)을 key와 value로 받는다.\n",
    "for key, value in tokenizer.word_counts.items():\n",
    "    total_freq = total_freq + value\n",
    "\n",
    "    # 단어의 등장 빈도수가 threshold보다 작으면\n",
    "    if(value < threshold):\n",
    "        rare_cnt = rare_cnt + 1\n",
    "        rare_freq = rare_freq + value\n",
    "\n",
    "print('단어 집합(vocabulary)의 크기 :',total_cnt)\n",
    "print('등장 빈도가 %s번 이하인 희귀 단어의 수: %s'%(threshold - 1, rare_cnt))\n",
    "print(\"단어 집합에서 희귀 단어의 비율:\", (rare_cnt / total_cnt)*100)\n",
    "print(\"전체 등장 빈도에서 희귀 단어 등장 빈도 비율:\", (rare_freq / total_freq)*100)"
   ]
  },
  {
   "cell_type": "code",
   "execution_count": 840,
   "metadata": {},
   "outputs": [
    {
     "name": "stdout",
     "output_type": "stream",
     "text": [
      "단어 집합의 크기 : 3748\n"
     ]
    }
   ],
   "source": [
    "vocab_size = total_cnt - rare_cnt + 1\n",
    "print('단어 집합의 크기 :',vocab_size)"
   ]
  },
  {
   "cell_type": "code",
   "execution_count": 841,
   "metadata": {},
   "outputs": [],
   "source": [
    "tokenizer = Tokenizer(vocab_size, oov_token='OOV')\n",
    "tokenizer.fit_on_texts(X_train)\n",
    "X_train = tokenizer.texts_to_sequences(X_train)\n",
    "X_test = tokenizer.texts_to_sequences(X_test)"
   ]
  },
  {
   "cell_type": "code",
   "execution_count": 842,
   "metadata": {},
   "outputs": [],
   "source": [
    "y_train = np.array(y_train)\n",
    "y_test = np.array(y_test)"
   ]
  },
  {
   "cell_type": "code",
   "execution_count": 843,
   "metadata": {},
   "outputs": [
    {
     "name": "stdout",
     "output_type": "stream",
     "text": [
      "866\n",
      "866\n"
     ]
    },
    {
     "name": "stderr",
     "output_type": "stream",
     "text": [
      "/Users/yujin/miniforge3/envs/dl_dev_gpu/lib/python3.10/site-packages/numpy/lib/function_base.py:5071: VisibleDeprecationWarning: Creating an ndarray from ragged nested sequences (which is a list-or-tuple of lists-or-tuples-or ndarrays with different lengths or shapes) is deprecated. If you meant to do this, you must specify 'dtype=object' when creating the ndarray.\n",
      "  arr = asarray(arr)\n"
     ]
    }
   ],
   "source": [
    "drop_train = [index for index, sentence in enumerate(X_train) if len(sentence) < 1]\n",
    "\n",
    "X_trian = np.delete(X_train, drop_train, axis=0)\n",
    "y_train = np.delete(y_train, drop_train, axis=0)\n",
    "\n",
    "print(len(X_train))\n",
    "print(len(y_train))"
   ]
  },
  {
   "cell_type": "code",
   "execution_count": 844,
   "metadata": {},
   "outputs": [
    {
     "name": "stdout",
     "output_type": "stream",
     "text": [
      "뉴스 최대 길이: 1700\n",
      "뉴스 평균 길이: 272.3464203233256\n"
     ]
    }
   ],
   "source": [
    "print('뉴스 최대 길이:', max(len(l) for l in X_train))\n",
    "print('뉴스 평균 길이:', sum(map(len, X_trian)) / len(X_train))"
   ]
  },
  {
   "cell_type": "code",
   "execution_count": 845,
   "metadata": {},
   "outputs": [
    {
     "name": "stderr",
     "output_type": "stream",
     "text": [
      "/var/folders/j6/q03gf6y53_72jb_wzwbp2b140000gn/T/ipykernel_3386/1955333591.py:2: MatplotlibDeprecationWarning: The seaborn styles shipped by Matplotlib are deprecated since 3.6, as they no longer correspond to the styles shipped by seaborn. However, they will remain available as 'seaborn-v0_8-<style>'. Alternatively, directly use the seaborn API instead.\n",
      "  plt.style.use('seaborn-white')\n"
     ]
    },
    {
     "data": {
      "image/png": "[encoded data removed]",
      "text/plain": [
       "<Figure size 640x480 with 1 Axes>"
      ]
     },
     "metadata": {},
     "output_type": "display_data"
    }
   ],
   "source": [
    "import matplotlib.pyplot as plt\n",
    "plt.style.use('seaborn-white')\n",
    "\n",
    "plt.hist([len(s) for s in X_train], bins=50)\n",
    "plt.xlabel('Length of Samples')\n",
    "plt.ylabel('Number of Samples')\n",
    "plt.show()"
   ]
  },
  {
   "cell_type": "code",
   "execution_count": 846,
   "metadata": {},
   "outputs": [],
   "source": [
    "max_len = 800"
   ]
  },
  {
   "cell_type": "code",
   "execution_count": 847,
   "metadata": {},
   "outputs": [],
   "source": [
    "X_train = pad_sequences(X_train, maxlen=max_len)\n",
    "X_test = pad_sequences(X_test, maxlen=max_len)"
   ]
  },
  {
   "cell_type": "code",
   "execution_count": 848,
   "metadata": {},
   "outputs": [],
   "source": [
    "embedding_dim = max_len # 임베딩 벡터의 차원\n",
    "dropout_ratio = 0.4 # 드롭아웃 비율\n",
    "num_filters = 2 # 커널의 수\n",
    "kernel_size = 3 # 커널의 크기\n",
    "hidden_units = 128 # 뉴런의 수"
   ]
  },
  {
   "cell_type": "code",
   "execution_count": 849,
   "metadata": {},
   "outputs": [],
   "source": [
    "model = Sequential()\n",
    "model.add(Embedding(vocab_size, embedding_dim))\n",
    "model.add(Dropout(dropout_ratio))\n",
    "model.add(Conv1D(num_filters, kernel_size, padding = 'valid', activation = 'relu'))\n",
    "model.add(GlobalMaxPooling1D())\n",
    "model.add(Dense(hidden_units, activation='relu'))\n",
    "model.add(Dropout(dropout_ratio))\n",
    "model.add(Dense(1, activation = 'sigmoid'))"
   ]
  },
  {
   "cell_type": "code",
   "execution_count": 850,
   "metadata": {},
   "outputs": [],
   "source": [
    "es = EarlyStopping(monitor = 'val_loss', mode = 'min', verbose = 1, patience = 3)\n",
    "mc = ModelCheckpoint('TextCNN_best_model(okt).h5', monitor = 'val_acc', mode = 'max', verbose = 1, save_best_only = True)"
   ]
  },
  {
   "cell_type": "code",
   "execution_count": 851,
   "metadata": {},
   "outputs": [
    {
     "name": "stderr",
     "output_type": "stream",
     "text": [
      "WARNING:absl:At this time, the v2.11+ optimizer `tf.keras.optimizers.Nadam` runs slowly on M1/M2 Macs, please use the legacy Keras optimizer instead, located at `tf.keras.optimizers.legacy.Nadam`.\n",
      "WARNING:absl:There is a known slowdown when using v2.11+ Keras optimizers on M1/M2 Macs. Falling back to the legacy Keras optimizer, i.e., `tf.keras.optimizers.legacy.Nadam`.\n"
     ]
    },
    {
     "name": "stdout",
     "output_type": "stream",
     "text": [
      "Epoch 1/10\n",
      "6/6 [==============================] - ETA: 0s - loss: 0.6966 - acc: 0.4884\n",
      "Epoch 1: val_acc improved from -inf to 0.62069, saving model to TextCNN_best_model(okt).h5\n",
      "6/6 [==============================] - 6s 617ms/step - loss: 0.6966 - acc: 0.4884 - val_loss: 0.6813 - val_acc: 0.6207\n",
      "Epoch 2/10\n"
     ]
    },
    {
     "name": "stderr",
     "output_type": "stream",
     "text": [
      "/Users/yujin/miniforge3/envs/dl_dev_gpu/lib/python3.10/site-packages/keras/src/engine/training.py:3000: UserWarning: You are saving your model as an HDF5 file via `model.save()`. This file format is considered legacy. We recommend using instead the native Keras format, e.g. `model.save('my_model.keras')`.\n",
      "  saving_api.save_model(\n"
     ]
    },
    {
     "name": "stdout",
     "output_type": "stream",
     "text": [
      "6/6 [==============================] - ETA: 0s - loss: 0.6845 - acc: 0.5751\n",
      "Epoch 2: val_acc did not improve from 0.62069\n",
      "6/6 [==============================] - 2s 420ms/step - loss: 0.6845 - acc: 0.5751 - val_loss: 0.7353 - val_acc: 0.3736\n",
      "Epoch 3/10\n",
      "6/6 [==============================] - ETA: 0s - loss: 0.6043 - acc: 0.6821\n",
      "Epoch 3: val_acc did not improve from 0.62069\n",
      "6/6 [==============================] - 2s 363ms/step - loss: 0.6043 - acc: 0.6821 - val_loss: 0.7924 - val_acc: 0.4598\n",
      "Epoch 4/10\n",
      "6/6 [==============================] - ETA: 0s - loss: 0.4960 - acc: 0.7616\n",
      "Epoch 4: val_acc did not improve from 0.62069\n",
      "6/6 [==============================] - 2s 292ms/step - loss: 0.4960 - acc: 0.7616 - val_loss: 0.9180 - val_acc: 0.4828\n",
      "Epoch 4: early stopping\n"
     ]
    }
   ],
   "source": [
    "import tensorflow as tf\n",
    "model.compile(optimizer=tf.keras.optimizers.Nadam(learning_rate = 0.005), loss='binary_crossentropy', metrics = ['acc'])\n",
    "history = model.fit(X_train, y_train, epochs=10, validation_split = 0.2, callbacks=[es, mc], batch_size = 128)"
   ]
  },
  {
   "cell_type": "code",
   "execution_count": 852,
   "metadata": {},
   "outputs": [
    {
     "name": "stdout",
     "output_type": "stream",
     "text": [
      "17/17 [==============================] - 1s 35ms/step - loss: 0.6718 - acc: 0.6784\n"
     ]
    },
    {
     "data": {
      "text/plain": [
       "[0.6717503666877747, 0.678373396396637]"
      ]
     },
     "execution_count": 852,
     "metadata": {},
     "output_type": "execute_result"
    }
   ],
   "source": [
    "loaded_model = load_model('TextCNN_best_model(okt).h5')\n",
    "loaded_model.evaluate(X_test, y_test)"
   ]
  },
  {
   "cell_type": "code",
   "execution_count": 863,
   "metadata": {},
   "outputs": [],
   "source": [
    "from konlpy.tag import Okt\n",
    "okt = Okt()\n",
    "stopwords = ['의','가','이','은','들','는','좀','잘','걍','과','도','를','으로','자','에','와','한','하다']\n",
    "\n",
    "def sentiment_predict(new_sentence):\n",
    "  new_sentence = okt.morphs(new_sentence, stem=True) # 토큰화\n",
    "  new_sentence = [word for word in new_sentence if not word in stopwords] # 불용어 제거\n",
    "  encoded = tokenizer.texts_to_sequences([new_sentence]) # 정수 인코딩\n",
    "  pad_new = pad_sequences(encoded, maxlen = max_len) # 패딩\n",
    "  score = float(model.predict(pad_new)) # 예측\n",
    "  if(score > 0.6):\n",
    "    print(\"{:.2f}% 확률로 긍정 리뷰입니다.\\n\".format(score * 100))\n",
    "  else:\n",
    "    print(\"{:.2f}% 확률로 부정 리뷰입니다.\\n\".format((1 - score) * 100))\n",
    "     "
   ]
  }
 ],
 "metadata": {
  "kernelspec": {
   "display_name": "Python 3.8.13 ('jupyter')",
   "language": "python",
   "name": "python3"
  },
  "language_info": {
   "codemirror_mode": {
    "name": "ipython",
    "version": 3
   },
   "file_extension": ".py",
   "mimetype": "text/x-python",
   "name": "python",
   "nbconvert_exporter": "python",
   "pygments_lexer": "ipython3",
   "version": "3.10.11"
  },
  "orig_nbformat": 4,
  "vscode": {
   "interpreter": {
    "hash": "974742b9e3f84bbfc2ab858fce40e48c160687419b819993149cbe09d34e2b28"
   }
  }
 },
 "nbformat": 4,
 "nbformat_minor": 2
}
