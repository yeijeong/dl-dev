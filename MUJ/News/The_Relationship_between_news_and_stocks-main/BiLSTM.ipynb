{
  "cells": [
    {
      "attachments": {},
      "cell_type": "markdown",
      "metadata": {
        "id": "dR_ej9XRo6nK"
      },
      "source": [
        "# 필요 라이브러리 설치"
      ]
    },
    {
      "cell_type": "code",
      "execution_count": 1,
      "metadata": {
        "colab": {
          "base_uri": "https://localhost:8080/"
        },
        "id": "n3rkbEaEoUX3",
        "outputId": "65fe0592-95ab-4ed2-c90b-08a05125dd73"
      },
      "outputs": [
        {
          "name": "stdout",
          "output_type": "stream",
          "text": [
            "Collecting gensim\n",
            "  Downloading gensim-4.3.1-cp310-cp310-macosx_11_0_arm64.whl (24.0 MB)\n",
            "\u001b[2K     \u001b[90m━━━━━━━━━━━━━━━━━━━━━━━━━━━━━━━━━━━━━━━━\u001b[0m \u001b[32m24.0/24.0 MB\u001b[0m \u001b[31m2.3 MB/s\u001b[0m eta \u001b[36m0:00:00\u001b[0m00:01\u001b[0m00:01\u001b[0m\n",
            "\u001b[?25hRequirement already satisfied: numpy>=1.18.5 in /Users/yujin/miniforge3/envs/dl_dev_gpu/lib/python3.10/site-packages (from gensim) (1.23.2)\n",
            "Requirement already satisfied: scipy>=1.7.0 in /Users/yujin/miniforge3/envs/dl_dev_gpu/lib/python3.10/site-packages (from gensim) (1.10.1)\n",
            "Collecting smart-open>=1.8.1 (from gensim)\n",
            "  Downloading smart_open-6.3.0-py3-none-any.whl (56 kB)\n",
            "\u001b[2K     \u001b[90m━━━━━━━━━━━━━━━━━━━━━━━━━━━━━━━━━━━━━━━━\u001b[0m \u001b[32m56.8/56.8 kB\u001b[0m \u001b[31m2.8 MB/s\u001b[0m eta \u001b[36m0:00:00\u001b[0m\n",
            "\u001b[?25hInstalling collected packages: smart-open, gensim\n",
            "Successfully installed gensim-4.3.1 smart-open-6.3.0\n",
            "Collecting keras-tuner\n",
            "  Downloading keras_tuner-1.3.5-py3-none-any.whl (176 kB)\n",
            "\u001b[2K     \u001b[90m━━━━━━━━━━━━━━━━━━━━━━━━━━━━━━━━━━━━━━━\u001b[0m \u001b[32m176.1/176.1 kB\u001b[0m \u001b[31m1.1 MB/s\u001b[0m eta \u001b[36m0:00:00\u001b[0ma \u001b[36m0:00:01\u001b[0m\n",
            "\u001b[?25hRequirement already satisfied: packaging in /Users/yujin/miniforge3/envs/dl_dev_gpu/lib/python3.10/site-packages (from keras-tuner) (23.1)\n",
            "Requirement already satisfied: requests in /Users/yujin/miniforge3/envs/dl_dev_gpu/lib/python3.10/site-packages (from keras-tuner) (2.31.0)\n",
            "Collecting kt-legacy (from keras-tuner)\n",
            "  Downloading kt_legacy-1.0.5-py3-none-any.whl (9.6 kB)\n",
            "Requirement already satisfied: charset-normalizer<4,>=2 in /Users/yujin/miniforge3/envs/dl_dev_gpu/lib/python3.10/site-packages (from requests->keras-tuner) (3.1.0)\n",
            "Requirement already satisfied: idna<4,>=2.5 in /Users/yujin/miniforge3/envs/dl_dev_gpu/lib/python3.10/site-packages (from requests->keras-tuner) (3.4)\n",
            "Requirement already satisfied: urllib3<3,>=1.21.1 in /Users/yujin/miniforge3/envs/dl_dev_gpu/lib/python3.10/site-packages (from requests->keras-tuner) (1.26.16)\n",
            "Requirement already satisfied: certifi>=2017.4.17 in /Users/yujin/miniforge3/envs/dl_dev_gpu/lib/python3.10/site-packages (from requests->keras-tuner) (2023.5.7)\n",
            "Installing collected packages: kt-legacy, keras-tuner\n",
            "Successfully installed keras-tuner-1.3.5 kt-legacy-1.0.5\n",
            "Requirement already satisfied: pymysql in /Users/yujin/miniforge3/envs/dl_dev_gpu/lib/python3.10/site-packages (1.1.0)\n",
            "Requirement already satisfied: tensorflow in /Users/yujin/miniforge3/envs/dl_dev_gpu/lib/python3.10/site-packages (2.13.0rc1)\n",
            "Requirement already satisfied: tensorflow-macos==2.13.0-rc1 in /Users/yujin/miniforge3/envs/dl_dev_gpu/lib/python3.10/site-packages (from tensorflow) (2.13.0rc1)\n",
            "Requirement already satisfied: absl-py>=1.0.0 in /Users/yujin/miniforge3/envs/dl_dev_gpu/lib/python3.10/site-packages (from tensorflow-macos==2.13.0-rc1->tensorflow) (1.4.0)\n",
            "Requirement already satisfied: astunparse>=1.6.0 in /Users/yujin/miniforge3/envs/dl_dev_gpu/lib/python3.10/site-packages (from tensorflow-macos==2.13.0-rc1->tensorflow) (1.6.3)\n",
            "Requirement already satisfied: flatbuffers>=23.1.21 in /Users/yujin/miniforge3/envs/dl_dev_gpu/lib/python3.10/site-packages (from tensorflow-macos==2.13.0-rc1->tensorflow) (23.5.26)\n",
            "Requirement already satisfied: gast<=0.4.0,>=0.2.1 in /Users/yujin/miniforge3/envs/dl_dev_gpu/lib/python3.10/site-packages (from tensorflow-macos==2.13.0-rc1->tensorflow) (0.4.0)\n",
            "Requirement already satisfied: google-pasta>=0.1.1 in /Users/yujin/miniforge3/envs/dl_dev_gpu/lib/python3.10/site-packages (from tensorflow-macos==2.13.0-rc1->tensorflow) (0.2.0)\n",
            "Requirement already satisfied: h5py>=2.9.0 in /Users/yujin/miniforge3/envs/dl_dev_gpu/lib/python3.10/site-packages (from tensorflow-macos==2.13.0-rc1->tensorflow) (3.6.0)\n",
            "Requirement already satisfied: libclang>=13.0.0 in /Users/yujin/miniforge3/envs/dl_dev_gpu/lib/python3.10/site-packages (from tensorflow-macos==2.13.0-rc1->tensorflow) (16.0.0)\n",
            "Requirement already satisfied: numpy>=1.22 in /Users/yujin/miniforge3/envs/dl_dev_gpu/lib/python3.10/site-packages (from tensorflow-macos==2.13.0-rc1->tensorflow) (1.23.2)\n",
            "Requirement already satisfied: opt-einsum>=2.3.2 in /Users/yujin/miniforge3/envs/dl_dev_gpu/lib/python3.10/site-packages (from tensorflow-macos==2.13.0-rc1->tensorflow) (3.3.0)\n",
            "Requirement already satisfied: packaging in /Users/yujin/miniforge3/envs/dl_dev_gpu/lib/python3.10/site-packages (from tensorflow-macos==2.13.0-rc1->tensorflow) (23.1)\n",
            "Requirement already satisfied: protobuf!=4.21.0,!=4.21.1,!=4.21.2,!=4.21.3,!=4.21.4,!=4.21.5,<5.0.0dev,>=3.20.3 in /Users/yujin/miniforge3/envs/dl_dev_gpu/lib/python3.10/site-packages (from tensorflow-macos==2.13.0-rc1->tensorflow) (3.20.3)\n",
            "Requirement already satisfied: setuptools in /Users/yujin/miniforge3/envs/dl_dev_gpu/lib/python3.10/site-packages (from tensorflow-macos==2.13.0-rc1->tensorflow) (67.7.2)\n",
            "Requirement already satisfied: six>=1.12.0 in /Users/yujin/miniforge3/envs/dl_dev_gpu/lib/python3.10/site-packages (from tensorflow-macos==2.13.0-rc1->tensorflow) (1.16.0)\n",
            "Requirement already satisfied: termcolor>=1.1.0 in /Users/yujin/miniforge3/envs/dl_dev_gpu/lib/python3.10/site-packages (from tensorflow-macos==2.13.0-rc1->tensorflow) (2.3.0)\n",
            "Requirement already satisfied: typing-extensions>=3.6.6 in /Users/yujin/miniforge3/envs/dl_dev_gpu/lib/python3.10/site-packages (from tensorflow-macos==2.13.0-rc1->tensorflow) (4.6.3)\n",
            "Requirement already satisfied: wrapt>=1.11.0 in /Users/yujin/miniforge3/envs/dl_dev_gpu/lib/python3.10/site-packages (from tensorflow-macos==2.13.0-rc1->tensorflow) (1.14.1)\n",
            "Requirement already satisfied: grpcio<2.0,>=1.24.3 in /Users/yujin/miniforge3/envs/dl_dev_gpu/lib/python3.10/site-packages (from tensorflow-macos==2.13.0-rc1->tensorflow) (1.54.2)\n",
            "Requirement already satisfied: tensorboard<2.14,>=2.13 in /Users/yujin/miniforge3/envs/dl_dev_gpu/lib/python3.10/site-packages (from tensorflow-macos==2.13.0-rc1->tensorflow) (2.13.0)\n",
            "Requirement already satisfied: tensorflow-estimator<2.14,>=2.13.0rc0 in /Users/yujin/miniforge3/envs/dl_dev_gpu/lib/python3.10/site-packages (from tensorflow-macos==2.13.0-rc1->tensorflow) (2.13.0rc0)\n",
            "Requirement already satisfied: keras<2.14,>=2.13.1rc0 in /Users/yujin/miniforge3/envs/dl_dev_gpu/lib/python3.10/site-packages (from tensorflow-macos==2.13.0-rc1->tensorflow) (2.13.1rc0)\n",
            "Requirement already satisfied: wheel<1.0,>=0.23.0 in /Users/yujin/miniforge3/envs/dl_dev_gpu/lib/python3.10/site-packages (from astunparse>=1.6.0->tensorflow-macos==2.13.0-rc1->tensorflow) (0.40.0)\n",
            "Requirement already satisfied: google-auth<3,>=1.6.3 in /Users/yujin/miniforge3/envs/dl_dev_gpu/lib/python3.10/site-packages (from tensorboard<2.14,>=2.13->tensorflow-macos==2.13.0-rc1->tensorflow) (2.19.1)\n",
            "Requirement already satisfied: google-auth-oauthlib<1.1,>=0.5 in /Users/yujin/miniforge3/envs/dl_dev_gpu/lib/python3.10/site-packages (from tensorboard<2.14,>=2.13->tensorflow-macos==2.13.0-rc1->tensorflow) (1.0.0)\n",
            "Requirement already satisfied: markdown>=2.6.8 in /Users/yujin/miniforge3/envs/dl_dev_gpu/lib/python3.10/site-packages (from tensorboard<2.14,>=2.13->tensorflow-macos==2.13.0-rc1->tensorflow) (3.4.3)\n",
            "Requirement already satisfied: requests<3,>=2.21.0 in /Users/yujin/miniforge3/envs/dl_dev_gpu/lib/python3.10/site-packages (from tensorboard<2.14,>=2.13->tensorflow-macos==2.13.0-rc1->tensorflow) (2.31.0)\n",
            "Requirement already satisfied: tensorboard-data-server<0.8.0,>=0.7.0 in /Users/yujin/miniforge3/envs/dl_dev_gpu/lib/python3.10/site-packages (from tensorboard<2.14,>=2.13->tensorflow-macos==2.13.0-rc1->tensorflow) (0.7.0)\n",
            "Requirement already satisfied: werkzeug>=1.0.1 in /Users/yujin/miniforge3/envs/dl_dev_gpu/lib/python3.10/site-packages (from tensorboard<2.14,>=2.13->tensorflow-macos==2.13.0-rc1->tensorflow) (2.3.6)\n",
            "Requirement already satisfied: cachetools<6.0,>=2.0.0 in /Users/yujin/miniforge3/envs/dl_dev_gpu/lib/python3.10/site-packages (from google-auth<3,>=1.6.3->tensorboard<2.14,>=2.13->tensorflow-macos==2.13.0-rc1->tensorflow) (5.3.1)\n",
            "Requirement already satisfied: pyasn1-modules>=0.2.1 in /Users/yujin/miniforge3/envs/dl_dev_gpu/lib/python3.10/site-packages (from google-auth<3,>=1.6.3->tensorboard<2.14,>=2.13->tensorflow-macos==2.13.0-rc1->tensorflow) (0.3.0)\n",
            "Requirement already satisfied: rsa<5,>=3.1.4 in /Users/yujin/miniforge3/envs/dl_dev_gpu/lib/python3.10/site-packages (from google-auth<3,>=1.6.3->tensorboard<2.14,>=2.13->tensorflow-macos==2.13.0-rc1->tensorflow) (4.9)\n",
            "Requirement already satisfied: urllib3<2.0 in /Users/yujin/miniforge3/envs/dl_dev_gpu/lib/python3.10/site-packages (from google-auth<3,>=1.6.3->tensorboard<2.14,>=2.13->tensorflow-macos==2.13.0-rc1->tensorflow) (1.26.16)\n",
            "Requirement already satisfied: requests-oauthlib>=0.7.0 in /Users/yujin/miniforge3/envs/dl_dev_gpu/lib/python3.10/site-packages (from google-auth-oauthlib<1.1,>=0.5->tensorboard<2.14,>=2.13->tensorflow-macos==2.13.0-rc1->tensorflow) (1.3.1)\n",
            "Requirement already satisfied: charset-normalizer<4,>=2 in /Users/yujin/miniforge3/envs/dl_dev_gpu/lib/python3.10/site-packages (from requests<3,>=2.21.0->tensorboard<2.14,>=2.13->tensorflow-macos==2.13.0-rc1->tensorflow) (3.1.0)\n",
            "Requirement already satisfied: idna<4,>=2.5 in /Users/yujin/miniforge3/envs/dl_dev_gpu/lib/python3.10/site-packages (from requests<3,>=2.21.0->tensorboard<2.14,>=2.13->tensorflow-macos==2.13.0-rc1->tensorflow) (3.4)\n",
            "Requirement already satisfied: certifi>=2017.4.17 in /Users/yujin/miniforge3/envs/dl_dev_gpu/lib/python3.10/site-packages (from requests<3,>=2.21.0->tensorboard<2.14,>=2.13->tensorflow-macos==2.13.0-rc1->tensorflow) (2023.5.7)\n",
            "Requirement already satisfied: MarkupSafe>=2.1.1 in /Users/yujin/miniforge3/envs/dl_dev_gpu/lib/python3.10/site-packages (from werkzeug>=1.0.1->tensorboard<2.14,>=2.13->tensorflow-macos==2.13.0-rc1->tensorflow) (2.1.3)\n",
            "Requirement already satisfied: pyasn1<0.6.0,>=0.4.6 in /Users/yujin/miniforge3/envs/dl_dev_gpu/lib/python3.10/site-packages (from pyasn1-modules>=0.2.1->google-auth<3,>=1.6.3->tensorboard<2.14,>=2.13->tensorflow-macos==2.13.0-rc1->tensorflow) (0.5.0)\n",
            "Requirement already satisfied: oauthlib>=3.0.0 in /Users/yujin/miniforge3/envs/dl_dev_gpu/lib/python3.10/site-packages (from requests-oauthlib>=0.7.0->google-auth-oauthlib<1.1,>=0.5->tensorboard<2.14,>=2.13->tensorflow-macos==2.13.0-rc1->tensorflow) (3.2.2)\n"
          ]
        }
      ],
      "source": [
        "# !pip install gensim --upgrade\n",
        "# !pip install -U keras-tuner\n",
        "# !pip install pymysql\n",
        "# !pip install tensorflow"
      ]
    },
    {
      "attachments": {},
      "cell_type": "markdown",
      "metadata": {
        "id": "N0C1j8ISo_ZF"
      },
      "source": [
        "# 라이브러리 불러오기"
      ]
    },
    {
      "cell_type": "code",
      "execution_count": 2,
      "metadata": {
        "id": "HBnLZMHPoWKT"
      },
      "outputs": [],
      "source": [
        "import IPython\n",
        "import keras_tuner as kt\n",
        "from tensorflow import keras\n",
        "from tensorflow.keras.models import Sequential, load_model\n",
        "from tensorflow.keras.layers import Embedding, Dense, LSTM, Bidirectional\n",
        "from tensorflow.keras.callbacks import EarlyStopping, ModelCheckpoint\n",
        "from tensorflow.keras.preprocessing.text import Tokenizer\n",
        "from tensorflow.keras.preprocessing.sequence import pad_sequences\n",
        "import tensorflow as tf\n",
        "import pandas as pd\n",
        "import numpy as np\n",
        "import pymysql"
      ]
    },
    {
      "attachments": {},
      "cell_type": "markdown",
      "metadata": {
        "id": "mSQiGqmbpCOA"
      },
      "source": [
        "# MySQL 연동"
      ]
    },
    {
      "cell_type": "code",
      "execution_count": 2,
      "metadata": {
        "id": "zQjw5Y7Jo2Xm"
      },
      "outputs": [],
      "source": [
        "# conn = pymysql.connect(\n",
        "#                         user    = 'stocks',\n",
        "#                         passwd  = 'Stocks!',\n",
        "#                         host    = \"AWS 주소\",\n",
        "#                         port    = 3306,\n",
        "#                         db      = 'Data',\n",
        "#                         charset = 'utf8'\n",
        "#         )"
      ]
    },
    {
      "attachments": {},
      "cell_type": "markdown",
      "metadata": {
        "id": "CjniBOObpGfH"
      },
      "source": [
        "# 데이터 불러오기"
      ]
    },
    {
      "cell_type": "code",
      "execution_count": 3,
      "metadata": {
        "colab": {
          "base_uri": "https://localhost:8080/",
          "height": 424
        },
        "id": "ca1Kr2o7pLdR",
        "outputId": "7c7d8d48-503d-47cb-df13-cb9167aa5493"
      },
      "outputs": [],
      "source": [
        "# sql = 'SELECT stock_id, text, date, token, label FROM Token'\n",
        "# news = pd.read_sql(sql, conn)\n",
        "news = pd.read_csv('./Token.csv', index_col=0)"
      ]
    },
    {
      "attachments": {},
      "cell_type": "markdown",
      "metadata": {
        "id": "H6wTHL73vasB"
      },
      "source": [
        "# 데이터 전처리"
      ]
    },
    {
      "attachments": {},
      "cell_type": "markdown",
      "metadata": {
        "id": "LPgBpneYveDz"
      },
      "source": [
        "## Token을 str -> list 형태로 변환"
      ]
    },
    {
      "cell_type": "code",
      "execution_count": 4,
      "metadata": {
        "id": "_TrLIHcOseW7"
      },
      "outputs": [],
      "source": [
        "import re\n",
        "\n",
        "def str_to_list(d):\n",
        "  text = re.sub(r'[\\[\\'\\]]', '', d)\n",
        "  return text.split(\", \")\n",
        "\n",
        "news[\"token\"] = news.token.apply(str_to_list)"
      ]
    },
    {
      "attachments": {},
      "cell_type": "markdown",
      "metadata": {
        "id": "FZAYWVFnyVAd"
      },
      "source": [
        "## 불용어 처리"
      ]
    },
    {
      "cell_type": "code",
      "execution_count": 5,
      "metadata": {
        "colab": {
          "base_uri": "https://localhost:8080/",
          "height": 441
        },
        "id": "jKHErJLftru0",
        "outputId": "458d56f3-def8-4b20-90f3-9b23870c211a"
      },
      "outputs": [
        {
          "name": "stderr",
          "output_type": "stream",
          "text": [
            "100%|██████████| 1788/1788 [00:00<00:00, 7728.68it/s]\n"
          ]
        },
        {
          "data": {
            "text/html": [
              "<div>\n",
              "<style scoped>\n",
              "    .dataframe tbody tr th:only-of-type {\n",
              "        vertical-align: middle;\n",
              "    }\n",
              "\n",
              "    .dataframe tbody tr th {\n",
              "        vertical-align: top;\n",
              "    }\n",
              "\n",
              "    .dataframe thead th {\n",
              "        text-align: right;\n",
              "    }\n",
              "</style>\n",
              "<table border=\"1\" class=\"dataframe\">\n",
              "  <thead>\n",
              "    <tr style=\"text-align: right;\">\n",
              "      <th></th>\n",
              "      <th>stock_id</th>\n",
              "      <th>date_time</th>\n",
              "      <th>title</th>\n",
              "      <th>content</th>\n",
              "      <th>token</th>\n",
              "    </tr>\n",
              "  </thead>\n",
              "  <tbody>\n",
              "    <tr>\n",
              "      <th>0</th>\n",
              "      <td>12450</td>\n",
              "      <td>2023-07-03 15:15:00</td>\n",
              "      <td>전경련·보훈부·한화, 참전용사 300명에 맞춤 신발 헌정</td>\n",
              "      <td>전국경제인연합회와 국가보훈부 한화에어로스페이스는 이달 말 국군과 유엔군 참전용사의 ...</td>\n",
              "      <td>[전국, 경제인, 연합회, 국가, 보훈, 부, 한화, 어로, 스페이스, 이달, 말,...</td>\n",
              "    </tr>\n",
              "    <tr>\n",
              "      <th>1</th>\n",
              "      <td>12450</td>\n",
              "      <td>2023-07-03 14:33:00</td>\n",
              "      <td>현대로템, 폴란드 석박사 50명 육성한다… 학비·연구비 60억원 지원</td>\n",
              "      <td>현대로템은 지난달 일 방위사업청과 한국과학기술원 한화에어로스페이스 한국항공우주산업과...</td>\n",
              "      <td>[현대, 로템, 지난달, 일, 방위, 사업, 청과, 한국, 과학, 기술원, 한화, ...</td>\n",
              "    </tr>\n",
              "    <tr>\n",
              "      <th>2</th>\n",
              "      <td>12450</td>\n",
              "      <td>2023-07-03 11:38:00</td>\n",
              "      <td>전쟁중 뒤틀려진 발… 300명에 ‘영웅의 신발’ 헌정</td>\n",
              "      <td>전쟁이 진행 중이던 년 월 설악산 근무 중 다리에 총을 맞는 등 최일선에서 격전을 ...</td>\n",
              "      <td>[전쟁, 진행, 중이, 덜, ㄴ, 년, 월, 설악산, 근무, 중, 다리, 총, 을,...</td>\n",
              "    </tr>\n",
              "    <tr>\n",
              "      <th>3</th>\n",
              "      <td>12450</td>\n",
              "      <td>2023-07-03 11:30:00</td>\n",
              "      <td>현대로템, 폴란드 방산 분야 인재 양성 지원</td>\n",
              "      <td>폴란드 석박사 명 년까지 서 교육한폴 인적 교류 확대해 신뢰 구축방산 협력 기여앞줄...</td>\n",
              "      <td>[폴란드, 석, 박사, 명, 년, 까지, 스, 어, 교육, ㄴ, 폴, 인적, 교류,...</td>\n",
              "    </tr>\n",
              "    <tr>\n",
              "      <th>4</th>\n",
              "      <td>12450</td>\n",
              "      <td>2023-07-03 11:18:00</td>\n",
              "      <td>전경련 “나라 헌신한 300명에 맞춤형 신발”</td>\n",
              "      <td>월말 수호자 발걸음 프로젝트보훈부와 복지증진 업무협약김병준왼쪽 전경련 회장직무대행과...</td>\n",
              "      <td>[월말, 수호자, 발걸음, 프로젝트, 보훈, 부와, 복지, 증진, 업무, 협약, 김...</td>\n",
              "    </tr>\n",
              "    <tr>\n",
              "      <th>...</th>\n",
              "      <td>...</td>\n",
              "      <td>...</td>\n",
              "      <td>...</td>\n",
              "      <td>...</td>\n",
              "      <td>...</td>\n",
              "    </tr>\n",
              "    <tr>\n",
              "      <th>1783</th>\n",
              "      <td>12450</td>\n",
              "      <td>2021-06-29 04:31:00</td>\n",
              "      <td>한화-삼성 빅딜, 누가 승자였을까</td>\n",
              "      <td>내준 사업 승승장구에삼성은 배 안 아플까삼성그룹 또한 한화와 빅딜로 플러스 효과를...</td>\n",
              "      <td>[내주, ㄴ, 사업, 승승장구, 삼성, 배, 안, 아프, ㄹ까, 삼성, 그룹, 또한...</td>\n",
              "    </tr>\n",
              "    <tr>\n",
              "      <th>1784</th>\n",
              "      <td>12450</td>\n",
              "      <td>2021-06-28 17:39:00</td>\n",
              "      <td>비행기 뜨지도 않았는데 항공부품株는 '이륙'…두달새 주가 20% 올랐다</td>\n",
              "      <td>항공기 엔진 부품 수혜 전망두달새 주가 넘게 올라 올 하반기 실적 호조 지속 전망에...</td>\n",
              "      <td>[항공기, 엔진, 부품, 수혜, 전망, 두, 닿, ㄹ새, 주가, 넘, 게, 오르, ...</td>\n",
              "    </tr>\n",
              "    <tr>\n",
              "      <th>1785</th>\n",
              "      <td>12450</td>\n",
              "      <td>2021-06-28 14:36:00</td>\n",
              "      <td>한화, 100% 해외 의존 인공위성 심장 '추력기' 국산화 한다</td>\n",
              "      <td>한화가 해외에서 수입하던 인공위성 핵심 부품의 국산화에 나선다 우주 사업을 미래 ...</td>\n",
              "      <td>[한화, 해외, 에서, 수입, 더, ㄴ, 인공위성, 핵심, 부품, 국산화, 나서, ...</td>\n",
              "    </tr>\n",
              "    <tr>\n",
              "      <th>1786</th>\n",
              "      <td>12450</td>\n",
              "      <td>2021-06-28 10:25:00</td>\n",
              "      <td>㈜한화, 인공위성 심장 ‘추력기’ 국산화 개발 나선다</td>\n",
              "      <td>저장성 이원추진제 추력기이미지주한화한화그룹이 미래 먹거리로 점찍은 인공위성 사업 확...</td>\n",
              "      <td>[저장성, 이원, 추진제, 추력, 기, 이미지, 주한, 화한, 화, 그룹, 미래, ...</td>\n",
              "    </tr>\n",
              "    <tr>\n",
              "      <th>1787</th>\n",
              "      <td>12450</td>\n",
              "      <td>2021-06-28 00:05:00</td>\n",
              "      <td>한화그룹 “계열사 7곳 내달까지 ESG위원회 설치”</td>\n",
              "      <td>위원 분의 이상 사외이사로금호석화도 운영 중 지난달 출범한 한화그룹 위원회가 첫 활...</td>\n",
              "      <td>[위원, 분의, 이상, 사외, 이사, 로, 금, 호석, 화도, 운영, 중, 지난달,...</td>\n",
              "    </tr>\n",
              "  </tbody>\n",
              "</table>\n",
              "<p>1788 rows × 5 columns</p>\n",
              "</div>"
            ],
            "text/plain": [
              "      stock_id            date_time                                    title  \\\n",
              "0        12450  2023-07-03 15:15:00          전경련·보훈부·한화, 참전용사 300명에 맞춤 신발 헌정   \n",
              "1        12450  2023-07-03 14:33:00   현대로템, 폴란드 석박사 50명 육성한다… 학비·연구비 60억원 지원   \n",
              "2        12450  2023-07-03 11:38:00            전쟁중 뒤틀려진 발… 300명에 ‘영웅의 신발’ 헌정   \n",
              "3        12450  2023-07-03 11:30:00                 현대로템, 폴란드 방산 분야 인재 양성 지원   \n",
              "4        12450  2023-07-03 11:18:00                전경련 “나라 헌신한 300명에 맞춤형 신발”   \n",
              "...        ...                  ...                                      ...   \n",
              "1783     12450  2021-06-29 04:31:00                       한화-삼성 빅딜, 누가 승자였을까   \n",
              "1784     12450  2021-06-28 17:39:00  비행기 뜨지도 않았는데 항공부품株는 '이륙'…두달새 주가 20% 올랐다   \n",
              "1785     12450  2021-06-28 14:36:00      한화, 100% 해외 의존 인공위성 심장 '추력기' 국산화 한다   \n",
              "1786     12450  2021-06-28 10:25:00            ㈜한화, 인공위성 심장 ‘추력기’ 국산화 개발 나선다   \n",
              "1787     12450  2021-06-28 00:05:00             한화그룹 “계열사 7곳 내달까지 ESG위원회 설치”   \n",
              "\n",
              "                                                content  \\\n",
              "0     전국경제인연합회와 국가보훈부 한화에어로스페이스는 이달 말 국군과 유엔군 참전용사의 ...   \n",
              "1     현대로템은 지난달 일 방위사업청과 한국과학기술원 한화에어로스페이스 한국항공우주산업과...   \n",
              "2     전쟁이 진행 중이던 년 월 설악산 근무 중 다리에 총을 맞는 등 최일선에서 격전을 ...   \n",
              "3     폴란드 석박사 명 년까지 서 교육한폴 인적 교류 확대해 신뢰 구축방산 협력 기여앞줄...   \n",
              "4     월말 수호자 발걸음 프로젝트보훈부와 복지증진 업무협약김병준왼쪽 전경련 회장직무대행과...   \n",
              "...                                                 ...   \n",
              "1783   내준 사업 승승장구에삼성은 배 안 아플까삼성그룹 또한 한화와 빅딜로 플러스 효과를...   \n",
              "1784  항공기 엔진 부품 수혜 전망두달새 주가 넘게 올라 올 하반기 실적 호조 지속 전망에...   \n",
              "1785   한화가 해외에서 수입하던 인공위성 핵심 부품의 국산화에 나선다 우주 사업을 미래 ...   \n",
              "1786  저장성 이원추진제 추력기이미지주한화한화그룹이 미래 먹거리로 점찍은 인공위성 사업 확...   \n",
              "1787  위원 분의 이상 사외이사로금호석화도 운영 중 지난달 출범한 한화그룹 위원회가 첫 활...   \n",
              "\n",
              "                                                  token  \n",
              "0     [전국, 경제인, 연합회, 국가, 보훈, 부, 한화, 어로, 스페이스, 이달, 말,...  \n",
              "1     [현대, 로템, 지난달, 일, 방위, 사업, 청과, 한국, 과학, 기술원, 한화, ...  \n",
              "2     [전쟁, 진행, 중이, 덜, ㄴ, 년, 월, 설악산, 근무, 중, 다리, 총, 을,...  \n",
              "3     [폴란드, 석, 박사, 명, 년, 까지, 스, 어, 교육, ㄴ, 폴, 인적, 교류,...  \n",
              "4     [월말, 수호자, 발걸음, 프로젝트, 보훈, 부와, 복지, 증진, 업무, 협약, 김...  \n",
              "...                                                 ...  \n",
              "1783  [내주, ㄴ, 사업, 승승장구, 삼성, 배, 안, 아프, ㄹ까, 삼성, 그룹, 또한...  \n",
              "1784  [항공기, 엔진, 부품, 수혜, 전망, 두, 닿, ㄹ새, 주가, 넘, 게, 오르, ...  \n",
              "1785  [한화, 해외, 에서, 수입, 더, ㄴ, 인공위성, 핵심, 부품, 국산화, 나서, ...  \n",
              "1786  [저장성, 이원, 추진제, 추력, 기, 이미지, 주한, 화한, 화, 그룹, 미래, ...  \n",
              "1787  [위원, 분의, 이상, 사외, 이사, 로, 금, 호석, 화도, 운영, 중, 지난달,...  \n",
              "\n",
              "[1788 rows x 5 columns]"
            ]
          },
          "execution_count": 5,
          "metadata": {},
          "output_type": "execute_result"
        }
      ],
      "source": [
        "from tqdm import tqdm\n",
        "def stopword(x):\n",
        "  stopword = [r'상승.*', r'하락.*', r'급등.*', r'급락.*', '상승세', '하락세', '폭등', '폭락', '오름세', '약세', '강세', '의', '가', '이', '은', '들', '는', '좀', '잘', '걍', '과', '도', '를', '으로', '자', '에', '와', '한', '하다', '에', '은', '는', '하']\n",
        "  return [i for i in x if i not in stopword and not i.isdigit()]\n",
        "tqdm.pandas()\n",
        "news[\"token\"] = news.token.progress_apply(stopword)\n",
        "news"
      ]
    },
    {
      "attachments": {},
      "cell_type": "markdown",
      "metadata": {
        "id": "3oAMHXDcy3GN"
      },
      "source": [
        "# 모델링"
      ]
    },
    {
      "attachments": {},
      "cell_type": "markdown",
      "metadata": {
        "id": "O8Ro-JpLy7qW"
      },
      "source": [
        "## 데이터 셋 나누기"
      ]
    },
    {
      "cell_type": "code",
      "execution_count": 6,
      "metadata": {
        "colab": {
          "base_uri": "https://localhost:8080/"
        },
        "id": "lVYgMa1Zwr6-",
        "outputId": "22c3ef0b-3924-46ba-ca4a-9043f595ff31"
      },
      "outputs": [
        {
          "ename": "KeyError",
          "evalue": "'date'",
          "output_type": "error",
          "traceback": [
            "\u001b[0;31m---------------------------------------------------------------------------\u001b[0m",
            "\u001b[0;31mKeyError\u001b[0m                                  Traceback (most recent call last)",
            "File \u001b[0;32m~/miniforge3/envs/dl_dev_gpu/lib/python3.10/site-packages/pandas/core/indexes/base.py:3652\u001b[0m, in \u001b[0;36mIndex.get_loc\u001b[0;34m(self, key)\u001b[0m\n\u001b[1;32m   3651\u001b[0m \u001b[39mtry\u001b[39;00m:\n\u001b[0;32m-> 3652\u001b[0m     \u001b[39mreturn\u001b[39;00m \u001b[39mself\u001b[39;49m\u001b[39m.\u001b[39;49m_engine\u001b[39m.\u001b[39;49mget_loc(casted_key)\n\u001b[1;32m   3653\u001b[0m \u001b[39mexcept\u001b[39;00m \u001b[39mKeyError\u001b[39;00m \u001b[39mas\u001b[39;00m err:\n",
            "File \u001b[0;32m~/miniforge3/envs/dl_dev_gpu/lib/python3.10/site-packages/pandas/_libs/index.pyx:147\u001b[0m, in \u001b[0;36mpandas._libs.index.IndexEngine.get_loc\u001b[0;34m()\u001b[0m\n",
            "File \u001b[0;32m~/miniforge3/envs/dl_dev_gpu/lib/python3.10/site-packages/pandas/_libs/index.pyx:176\u001b[0m, in \u001b[0;36mpandas._libs.index.IndexEngine.get_loc\u001b[0;34m()\u001b[0m\n",
            "File \u001b[0;32mpandas/_libs/hashtable_class_helper.pxi:7080\u001b[0m, in \u001b[0;36mpandas._libs.hashtable.PyObjectHashTable.get_item\u001b[0;34m()\u001b[0m\n",
            "File \u001b[0;32mpandas/_libs/hashtable_class_helper.pxi:7088\u001b[0m, in \u001b[0;36mpandas._libs.hashtable.PyObjectHashTable.get_item\u001b[0;34m()\u001b[0m\n",
            "\u001b[0;31mKeyError\u001b[0m: 'date'",
            "\nThe above exception was the direct cause of the following exception:\n",
            "\u001b[0;31mKeyError\u001b[0m                                  Traceback (most recent call last)",
            "Cell \u001b[0;32mIn[6], line 1\u001b[0m\n\u001b[0;32m----> 1\u001b[0m test \u001b[39m=\u001b[39m news\u001b[39m.\u001b[39mloc[news[\u001b[39m\"\u001b[39;49m\u001b[39mdate\u001b[39;49m\u001b[39m\"\u001b[39;49m] \u001b[39m>\u001b[39m\u001b[39m=\u001b[39m \u001b[39m'\u001b[39m\u001b[39m2022-07-01 00:00:00\u001b[39m\u001b[39m'\u001b[39m]\n\u001b[1;32m      2\u001b[0m train \u001b[39m=\u001b[39m news\u001b[39m.\u001b[39mloc[news[\u001b[39m\"\u001b[39m\u001b[39mdate\u001b[39m\u001b[39m\"\u001b[39m] \u001b[39m<\u001b[39m \u001b[39m'\u001b[39m\u001b[39m2022-07-01 00:00:00\u001b[39m\u001b[39m'\u001b[39m]\n\u001b[1;32m      4\u001b[0m X_train \u001b[39m=\u001b[39m train[\u001b[39m'\u001b[39m\u001b[39mtoken\u001b[39m\u001b[39m'\u001b[39m]\n",
            "File \u001b[0;32m~/miniforge3/envs/dl_dev_gpu/lib/python3.10/site-packages/pandas/core/frame.py:3761\u001b[0m, in \u001b[0;36mDataFrame.__getitem__\u001b[0;34m(self, key)\u001b[0m\n\u001b[1;32m   3759\u001b[0m \u001b[39mif\u001b[39;00m \u001b[39mself\u001b[39m\u001b[39m.\u001b[39mcolumns\u001b[39m.\u001b[39mnlevels \u001b[39m>\u001b[39m \u001b[39m1\u001b[39m:\n\u001b[1;32m   3760\u001b[0m     \u001b[39mreturn\u001b[39;00m \u001b[39mself\u001b[39m\u001b[39m.\u001b[39m_getitem_multilevel(key)\n\u001b[0;32m-> 3761\u001b[0m indexer \u001b[39m=\u001b[39m \u001b[39mself\u001b[39;49m\u001b[39m.\u001b[39;49mcolumns\u001b[39m.\u001b[39;49mget_loc(key)\n\u001b[1;32m   3762\u001b[0m \u001b[39mif\u001b[39;00m is_integer(indexer):\n\u001b[1;32m   3763\u001b[0m     indexer \u001b[39m=\u001b[39m [indexer]\n",
            "File \u001b[0;32m~/miniforge3/envs/dl_dev_gpu/lib/python3.10/site-packages/pandas/core/indexes/base.py:3654\u001b[0m, in \u001b[0;36mIndex.get_loc\u001b[0;34m(self, key)\u001b[0m\n\u001b[1;32m   3652\u001b[0m     \u001b[39mreturn\u001b[39;00m \u001b[39mself\u001b[39m\u001b[39m.\u001b[39m_engine\u001b[39m.\u001b[39mget_loc(casted_key)\n\u001b[1;32m   3653\u001b[0m \u001b[39mexcept\u001b[39;00m \u001b[39mKeyError\u001b[39;00m \u001b[39mas\u001b[39;00m err:\n\u001b[0;32m-> 3654\u001b[0m     \u001b[39mraise\u001b[39;00m \u001b[39mKeyError\u001b[39;00m(key) \u001b[39mfrom\u001b[39;00m \u001b[39merr\u001b[39;00m\n\u001b[1;32m   3655\u001b[0m \u001b[39mexcept\u001b[39;00m \u001b[39mTypeError\u001b[39;00m:\n\u001b[1;32m   3656\u001b[0m     \u001b[39m# If we have a listlike key, _check_indexing_error will raise\u001b[39;00m\n\u001b[1;32m   3657\u001b[0m     \u001b[39m#  InvalidIndexError. Otherwise we fall through and re-raise\u001b[39;00m\n\u001b[1;32m   3658\u001b[0m     \u001b[39m#  the TypeError.\u001b[39;00m\n\u001b[1;32m   3659\u001b[0m     \u001b[39mself\u001b[39m\u001b[39m.\u001b[39m_check_indexing_error(key)\n",
            "\u001b[0;31mKeyError\u001b[0m: 'date'"
          ]
        }
      ],
      "source": [
        "test = news.loc[news[\"date\"] >= '2022-07-01 00:00:00']\n",
        "train = news.loc[news[\"date\"] < '2022-07-01 00:00:00']\n",
        "\n",
        "X_train = train['token']\n",
        "y_train = train['label']\n",
        "X_test = test['token']\n",
        "y_test = test['label']\n",
        "\n",
        "print(X_train.shape, y_train.shape, X_test.shape, y_test.shape)"
      ]
    },
    {
      "attachments": {},
      "cell_type": "markdown",
      "metadata": {
        "id": "MMQdxww8zbZc"
      },
      "source": [
        "## Tokenizer"
      ]
    },
    {
      "cell_type": "code",
      "execution_count": 7,
      "metadata": {
        "id": "317HJsK6zSDM"
      },
      "outputs": [],
      "source": [
        "tokenizer = Tokenizer()\n",
        "tokenizer.fit_on_texts(X_train)"
      ]
    },
    {
      "cell_type": "code",
      "execution_count": 8,
      "metadata": {
        "colab": {
          "base_uri": "https://localhost:8080/"
        },
        "id": "s_tpzFqazU9l",
        "outputId": "04d36a0a-38b8-4ab2-fbdf-3d5eba5e7d61"
      },
      "outputs": [
        {
          "name": "stdout",
          "output_type": "stream",
          "text": [
            "전체 단어 수 62463\n",
            "빈도가 3 이하인 희귀 단어 수: 18802\n",
            "희귀 단어 비율: 30.101019803723805\n",
            "희귀 단어 등장 빈도 비율: 0.07036167954849475\n"
          ]
        }
      ],
      "source": [
        "threshold = 4\n",
        "words_cnt = len(tokenizer.word_index)\n",
        "rare_cnt = 0\n",
        "words_freq = 0\n",
        "rare_freq = 0\n",
        "\n",
        "for key, value in tokenizer.word_counts.items():\n",
        "  words_freq += value\n",
        "\n",
        "  if value < threshold:\n",
        "    rare_cnt +=1\n",
        "    rare_freq += value\n",
        "\n",
        "print(\"전체 단어 수\", words_cnt)\n",
        "print(\"빈도가 {} 이하인 희귀 단어 수: {}\".format(threshold-1, rare_cnt))\n",
        "print(\"희귀 단어 비율: {}\".format((rare_cnt / words_cnt) * 100))\n",
        "print(\"희귀 단어 등장 빈도 비율: {}\".format((rare_freq / words_freq) * 100))"
      ]
    },
    {
      "cell_type": "code",
      "execution_count": 9,
      "metadata": {
        "colab": {
          "base_uri": "https://localhost:8080/"
        },
        "id": "OvKORLwWzZvO",
        "outputId": "cc5d02cf-14fa-43b9-d156-cc74e6944982"
      },
      "outputs": [
        {
          "name": "stdout",
          "output_type": "stream",
          "text": [
            "43663\n"
          ]
        }
      ],
      "source": [
        "vocab_size = words_cnt - rare_cnt + 2\n",
        "print(vocab_size)"
      ]
    },
    {
      "cell_type": "code",
      "execution_count": 10,
      "metadata": {
        "id": "jzgdIxPazfUf"
      },
      "outputs": [],
      "source": [
        "tokenizer = Tokenizer(vocab_size, oov_token='OOV')\n",
        "tokenizer.fit_on_texts(X_train)\n",
        "X_train = tokenizer.texts_to_sequences(X_train)\n",
        "X_test = tokenizer.texts_to_sequences(X_test)"
      ]
    },
    {
      "cell_type": "code",
      "execution_count": 11,
      "metadata": {
        "id": "PFJmjmIbzi8l"
      },
      "outputs": [],
      "source": [
        "y_train = np.array(y_train)\n",
        "y_test = np.array(y_test)"
      ]
    },
    {
      "cell_type": "code",
      "execution_count": 12,
      "metadata": {
        "colab": {
          "base_uri": "https://localhost:8080/"
        },
        "id": "JgB7qcdYzq_W",
        "outputId": "6d4eb7eb-fe6c-48d6-8c39-93190d7fb024"
      },
      "outputs": [
        {
          "name": "stdout",
          "output_type": "stream",
          "text": [
            "94918\n",
            "94918\n"
          ]
        },
        {
          "name": "stderr",
          "output_type": "stream",
          "text": [
            "/opt/anaconda3/envs/jupyter/lib/python3.8/site-packages/numpy/lib/function_base.py:5071: VisibleDeprecationWarning: Creating an ndarray from ragged nested sequences (which is a list-or-tuple of lists-or-tuples-or ndarrays with different lengths or shapes) is deprecated. If you meant to do this, you must specify 'dtype=object' when creating the ndarray.\n",
            "  arr = asarray(arr)\n"
          ]
        }
      ],
      "source": [
        "drop_train = [index for index, sentence in enumerate(X_train) if len(sentence) < 1]\n",
        "\n",
        "X_trian = np.delete(X_train, drop_train, axis=0)\n",
        "y_train = np.delete(y_train, drop_train, axis=0)\n",
        "\n",
        "print(len(X_train))\n",
        "print(len(y_train))"
      ]
    },
    {
      "cell_type": "code",
      "execution_count": 13,
      "metadata": {
        "colab": {
          "base_uri": "https://localhost:8080/"
        },
        "id": "gnhrxgD2zt2U",
        "outputId": "7b0b7609-43bf-47e7-e5de-617ef491716f"
      },
      "outputs": [
        {
          "name": "stdout",
          "output_type": "stream",
          "text": [
            "리뷰 최대 길이: 5759\n",
            "리뷰 평균 길이: 489.9088054952696\n"
          ]
        }
      ],
      "source": [
        "print('리뷰 최대 길이:', max(len(l) for l in X_train))\n",
        "print('리뷰 평균 길이:', sum(map(len, X_trian)) / len(X_train))"
      ]
    },
    {
      "cell_type": "code",
      "execution_count": 14,
      "metadata": {
        "colab": {
          "base_uri": "https://localhost:8080/",
          "height": 276
        },
        "id": "iN_NnvmpzyNx",
        "outputId": "388dcb47-544d-4678-83ea-477bcf8efd54"
      },
      "outputs": [
        {
          "data": {
            "image/png": "[encoded data removed]",
            "text/plain": [
              "<Figure size 432x288 with 1 Axes>"
            ]
          },
          "metadata": {
            "needs_background": "light"
          },
          "output_type": "display_data"
        }
      ],
      "source": [
        "import matplotlib.pyplot as plt\n",
        "plt.style.use('seaborn-white')\n",
        "\n",
        "plt.hist([len(s) for s in X_train], bins=50)\n",
        "plt.xlabel('Length of Samples')\n",
        "plt.ylabel('Number of Samples')\n",
        "plt.show()"
      ]
    },
    {
      "cell_type": "code",
      "execution_count": 15,
      "metadata": {
        "id": "SN6fEDhrz15r"
      },
      "outputs": [],
      "source": [
        "max_len = 800"
      ]
    },
    {
      "cell_type": "code",
      "execution_count": 16,
      "metadata": {
        "id": "5Xqs_B3Qz5l6"
      },
      "outputs": [],
      "source": [
        "X_train = pad_sequences(X_train, maxlen=max_len)\n",
        "X_test = pad_sequences(X_test, maxlen=max_len)"
      ]
    },
    {
      "cell_type": "code",
      "execution_count": 17,
      "metadata": {},
      "outputs": [
        {
          "name": "stderr",
          "output_type": "stream",
          "text": [
            "2022-08-05 14:26:10.211308: I tensorflow/core/platform/cpu_feature_guard.cc:193] This TensorFlow binary is optimized with oneAPI Deep Neural Network Library (oneDNN) to use the following CPU instructions in performance-critical operations:  AVX2 FMA\n",
            "To enable them in other operations, rebuild TensorFlow with the appropriate compiler flags.\n"
          ]
        },
        {
          "name": "stdout",
          "output_type": "stream",
          "text": [
            "Model: \"sequential\"\n",
            "_________________________________________________________________\n",
            " Layer (type)                Output Shape              Param #   \n",
            "=================================================================\n",
            " embedding (Embedding)       (None, None, 800)         34930400  \n",
            "                                                                 \n",
            " bidirectional (Bidirectiona  (None, None, 512)        2164736   \n",
            " l)                                                              \n",
            "                                                                 \n",
            " bidirectional_1 (Bidirectio  (None, 448)              1320704   \n",
            " nal)                                                            \n",
            "                                                                 \n",
            " dense (Dense)               (None, 1)                 449       \n",
            "                                                                 \n",
            "=================================================================\n",
            "Total params: 38,416,289\n",
            "Trainable params: 38,416,289\n",
            "Non-trainable params: 0\n",
            "_________________________________________________________________\n"
          ]
        }
      ],
      "source": [
        "model = Sequential()\n",
        "model.add(Embedding(vocab_size, 800))\n",
        "model.add(Bidirectional(LSTM(256, return_sequences = True, dropout = 0.5)))\n",
        "model.add(Bidirectional(LSTM(224)))\n",
        "model.add(Dense(1, activation='sigmoid'))\n",
        "model.compile(optimizer = keras.optimizers.Nadam(learning_rate = 0.001),\n",
        "              loss = keras.losses.BinaryCrossentropy(), \n",
        "              metrics = ['accuracy'])\n",
        "model.summary()"
      ]
    },
    {
      "cell_type": "code",
      "execution_count": 18,
      "metadata": {},
      "outputs": [],
      "source": [
        "es = EarlyStopping(monitor = 'val_loss', mode = 'min', verbose = 1, patience = 3)\n",
        "mc = ModelCheckpoint('BiLSTM_best_model.h5', monitor = 'val_acc', mode = 'max', verbose = 1, save_best_only = True)"
      ]
    },
    {
      "cell_type": "code",
      "execution_count": 19,
      "metadata": {},
      "outputs": [
        {
          "name": "stdout",
          "output_type": "stream",
          "text": [
            "Epoch 1/5\n",
            " 88/594 [===>..........................] - ETA: 6:49:22 - loss: 0.7050 - accuracy: 0.5225"
          ]
        }
      ],
      "source": [
        "history = model.fit(X_train, y_train, epochs=5, validation_split = 0.2, callbacks=[es, mc], batch_size = 128)"
      ]
    },
    {
      "cell_type": "code",
      "execution_count": null,
      "metadata": {},
      "outputs": [],
      "source": [
        "loaded_model = load_model('BiLSTM_best_model.h5')\n",
        "loaded_model.evaluate(X_test, y_test)"
      ]
    }
  ],
  "metadata": {
    "colab": {
      "collapsed_sections": [],
      "name": "Untitled5.ipynb",
      "provenance": []
    },
    "kernelspec": {
      "display_name": "Python 3.8.13 ('jupyter')",
      "language": "python",
      "name": "python3"
    },
    "language_info": {
      "codemirror_mode": {
        "name": "ipython",
        "version": 3
      },
      "file_extension": ".py",
      "mimetype": "text/x-python",
      "name": "python",
      "nbconvert_exporter": "python",
      "pygments_lexer": "ipython3",
      "version": "3.10.11"
    },
    "vscode": {
      "interpreter": {
        "hash": "974742b9e3f84bbfc2ab858fce40e48c160687419b819993149cbe09d34e2b28"
      }
    }
  },
  "nbformat": 4,
  "nbformat_minor": 0
}
