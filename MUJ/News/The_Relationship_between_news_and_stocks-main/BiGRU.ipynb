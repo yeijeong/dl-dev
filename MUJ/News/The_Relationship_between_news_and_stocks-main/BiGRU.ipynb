{
  "cells": [
    {
      "cell_type": "markdown",
      "metadata": {
        "id": "dR_ej9XRo6nK"
      },
      "source": [
        "# 필요 라이브러리 설치"
      ]
    },
    {
      "cell_type": "code",
      "execution_count": 1,
      "metadata": {
        "colab": {
          "base_uri": "https://localhost:8080/"
        },
        "id": "n3rkbEaEoUX3",
        "outputId": "5aee1d38-cc7f-4358-b541-6546cf79d947"
      },
      "outputs": [
        {
          "name": "stdout",
          "output_type": "stream",
          "text": [
            "Looking in indexes: https://pypi.org/simple, https://us-python.pkg.dev/colab-wheels/public/simple/\n",
            "Requirement already satisfied: gensim in /usr/local/lib/python3.7/dist-packages (3.6.0)\n",
            "Collecting gensim\n",
            "  Downloading gensim-4.2.0-cp37-cp37m-manylinux_2_12_x86_64.manylinux2010_x86_64.whl (24.1 MB)\n",
            "\u001b[K     |████████████████████████████████| 24.1 MB 1.5 MB/s \n",
            "\u001b[?25hRequirement already satisfied: scipy>=0.18.1 in /usr/local/lib/python3.7/dist-packages (from gensim) (1.7.3)\n",
            "Requirement already satisfied: smart-open>=1.8.1 in /usr/local/lib/python3.7/dist-packages (from gensim) (5.2.1)\n",
            "Requirement already satisfied: numpy>=1.17.0 in /usr/local/lib/python3.7/dist-packages (from gensim) (1.21.6)\n",
            "Installing collected packages: gensim\n",
            "  Attempting uninstall: gensim\n",
            "    Found existing installation: gensim 3.6.0\n",
            "    Uninstalling gensim-3.6.0:\n",
            "      Successfully uninstalled gensim-3.6.0\n",
            "Successfully installed gensim-4.2.0\n",
            "Looking in indexes: https://pypi.org/simple, https://us-python.pkg.dev/colab-wheels/public/simple/\n",
            "Collecting keras-tuner\n",
            "  Downloading keras_tuner-1.1.3-py3-none-any.whl (135 kB)\n",
            "\u001b[K     |████████████████████████████████| 135 kB 27.2 MB/s \n",
            "\u001b[?25hRequirement already satisfied: tensorboard in /usr/local/lib/python3.7/dist-packages (from keras-tuner) (2.8.0)\n",
            "Collecting kt-legacy\n",
            "  Downloading kt_legacy-1.0.4-py3-none-any.whl (9.6 kB)\n",
            "Requirement already satisfied: packaging in /usr/local/lib/python3.7/dist-packages (from keras-tuner) (21.3)\n",
            "Requirement already satisfied: ipython in /usr/local/lib/python3.7/dist-packages (from keras-tuner) (5.5.0)\n",
            "Requirement already satisfied: numpy in /usr/local/lib/python3.7/dist-packages (from keras-tuner) (1.21.6)\n",
            "Requirement already satisfied: requests in /usr/local/lib/python3.7/dist-packages (from keras-tuner) (2.23.0)\n",
            "Requirement already satisfied: pexpect in /usr/local/lib/python3.7/dist-packages (from ipython->keras-tuner) (4.8.0)\n",
            "Requirement already satisfied: pygments in /usr/local/lib/python3.7/dist-packages (from ipython->keras-tuner) (2.6.1)\n",
            "Requirement already satisfied: traitlets>=4.2 in /usr/local/lib/python3.7/dist-packages (from ipython->keras-tuner) (5.1.1)\n",
            "Requirement already satisfied: decorator in /usr/local/lib/python3.7/dist-packages (from ipython->keras-tuner) (4.4.2)\n",
            "Requirement already satisfied: simplegeneric>0.8 in /usr/local/lib/python3.7/dist-packages (from ipython->keras-tuner) (0.8.1)\n",
            "Requirement already satisfied: setuptools>=18.5 in /usr/local/lib/python3.7/dist-packages (from ipython->keras-tuner) (57.4.0)\n",
            "Requirement already satisfied: prompt-toolkit<2.0.0,>=1.0.4 in /usr/local/lib/python3.7/dist-packages (from ipython->keras-tuner) (1.0.18)\n",
            "Requirement already satisfied: pickleshare in /usr/local/lib/python3.7/dist-packages (from ipython->keras-tuner) (0.7.5)\n",
            "Requirement already satisfied: six>=1.9.0 in /usr/local/lib/python3.7/dist-packages (from prompt-toolkit<2.0.0,>=1.0.4->ipython->keras-tuner) (1.15.0)\n",
            "Requirement already satisfied: wcwidth in /usr/local/lib/python3.7/dist-packages (from prompt-toolkit<2.0.0,>=1.0.4->ipython->keras-tuner) (0.2.5)\n",
            "Requirement already satisfied: pyparsing!=3.0.5,>=2.0.2 in /usr/local/lib/python3.7/dist-packages (from packaging->keras-tuner) (3.0.9)\n",
            "Requirement already satisfied: ptyprocess>=0.5 in /usr/local/lib/python3.7/dist-packages (from pexpect->ipython->keras-tuner) (0.7.0)\n",
            "Requirement already satisfied: chardet<4,>=3.0.2 in /usr/local/lib/python3.7/dist-packages (from requests->keras-tuner) (3.0.4)\n",
            "Requirement already satisfied: urllib3!=1.25.0,!=1.25.1,<1.26,>=1.21.1 in /usr/local/lib/python3.7/dist-packages (from requests->keras-tuner) (1.24.3)\n",
            "Requirement already satisfied: certifi>=2017.4.17 in /usr/local/lib/python3.7/dist-packages (from requests->keras-tuner) (2022.6.15)\n",
            "Requirement already satisfied: idna<3,>=2.5 in /usr/local/lib/python3.7/dist-packages (from requests->keras-tuner) (2.10)\n",
            "Requirement already satisfied: tensorboard-data-server<0.7.0,>=0.6.0 in /usr/local/lib/python3.7/dist-packages (from tensorboard->keras-tuner) (0.6.1)\n",
            "Requirement already satisfied: google-auth<3,>=1.6.3 in /usr/local/lib/python3.7/dist-packages (from tensorboard->keras-tuner) (1.35.0)\n",
            "Requirement already satisfied: google-auth-oauthlib<0.5,>=0.4.1 in /usr/local/lib/python3.7/dist-packages (from tensorboard->keras-tuner) (0.4.6)\n",
            "Requirement already satisfied: protobuf>=3.6.0 in /usr/local/lib/python3.7/dist-packages (from tensorboard->keras-tuner) (3.17.3)\n",
            "Requirement already satisfied: tensorboard-plugin-wit>=1.6.0 in /usr/local/lib/python3.7/dist-packages (from tensorboard->keras-tuner) (1.8.1)\n",
            "Requirement already satisfied: wheel>=0.26 in /usr/local/lib/python3.7/dist-packages (from tensorboard->keras-tuner) (0.37.1)\n",
            "Requirement already satisfied: werkzeug>=0.11.15 in /usr/local/lib/python3.7/dist-packages (from tensorboard->keras-tuner) (1.0.1)\n",
            "Requirement already satisfied: absl-py>=0.4 in /usr/local/lib/python3.7/dist-packages (from tensorboard->keras-tuner) (1.2.0)\n",
            "Requirement already satisfied: grpcio>=1.24.3 in /usr/local/lib/python3.7/dist-packages (from tensorboard->keras-tuner) (1.47.0)\n",
            "Requirement already satisfied: markdown>=2.6.8 in /usr/local/lib/python3.7/dist-packages (from tensorboard->keras-tuner) (3.4.1)\n",
            "Requirement already satisfied: pyasn1-modules>=0.2.1 in /usr/local/lib/python3.7/dist-packages (from google-auth<3,>=1.6.3->tensorboard->keras-tuner) (0.2.8)\n",
            "Requirement already satisfied: cachetools<5.0,>=2.0.0 in /usr/local/lib/python3.7/dist-packages (from google-auth<3,>=1.6.3->tensorboard->keras-tuner) (4.2.4)\n",
            "Requirement already satisfied: rsa<5,>=3.1.4 in /usr/local/lib/python3.7/dist-packages (from google-auth<3,>=1.6.3->tensorboard->keras-tuner) (4.9)\n",
            "Requirement already satisfied: requests-oauthlib>=0.7.0 in /usr/local/lib/python3.7/dist-packages (from google-auth-oauthlib<0.5,>=0.4.1->tensorboard->keras-tuner) (1.3.1)\n",
            "Requirement already satisfied: importlib-metadata>=4.4 in /usr/local/lib/python3.7/dist-packages (from markdown>=2.6.8->tensorboard->keras-tuner) (4.12.0)\n",
            "Requirement already satisfied: zipp>=0.5 in /usr/local/lib/python3.7/dist-packages (from importlib-metadata>=4.4->markdown>=2.6.8->tensorboard->keras-tuner) (3.8.1)\n",
            "Requirement already satisfied: typing-extensions>=3.6.4 in /usr/local/lib/python3.7/dist-packages (from importlib-metadata>=4.4->markdown>=2.6.8->tensorboard->keras-tuner) (4.1.1)\n",
            "Requirement already satisfied: pyasn1<0.5.0,>=0.4.6 in /usr/local/lib/python3.7/dist-packages (from pyasn1-modules>=0.2.1->google-auth<3,>=1.6.3->tensorboard->keras-tuner) (0.4.8)\n",
            "Requirement already satisfied: oauthlib>=3.0.0 in /usr/local/lib/python3.7/dist-packages (from requests-oauthlib>=0.7.0->google-auth-oauthlib<0.5,>=0.4.1->tensorboard->keras-tuner) (3.2.0)\n",
            "Installing collected packages: kt-legacy, keras-tuner\n",
            "Successfully installed keras-tuner-1.1.3 kt-legacy-1.0.4\n",
            "Looking in indexes: https://pypi.org/simple, https://us-python.pkg.dev/colab-wheels/public/simple/\n",
            "Collecting pymysql\n",
            "  Downloading PyMySQL-1.0.2-py3-none-any.whl (43 kB)\n",
            "\u001b[K     |████████████████████████████████| 43 kB 2.5 MB/s \n",
            "\u001b[?25hInstalling collected packages: pymysql\n",
            "Successfully installed pymysql-1.0.2\n"
          ]
        }
      ],
      "source": [
        "!pip install gensim --upgrade\n",
        "!pip install -U keras-tuner\n",
        "!pip install pymysql"
      ]
    },
    {
      "cell_type": "markdown",
      "metadata": {
        "id": "N0C1j8ISo_ZF"
      },
      "source": [
        "# 라이브러리 불러오기"
      ]
    },
    {
      "cell_type": "code",
      "execution_count": 1,
      "metadata": {
        "id": "HBnLZMHPoWKT"
      },
      "outputs": [],
      "source": [
        "import IPython\n",
        "import keras_tuner as kt\n",
        "from tensorflow import keras\n",
        "from tensorflow.keras.models import Sequential, load_model\n",
        "from tensorflow.keras.layers import Embedding, Dense, LSTM, GRU, Bidirectional\n",
        "from tensorflow.keras.callbacks import EarlyStopping, ModelCheckpoint\n",
        "from tensorflow.keras.preprocessing.text import Tokenizer\n",
        "from tensorflow.keras.preprocessing.sequence import pad_sequences\n",
        "import tensorflow as tf\n",
        "import pandas as pd\n",
        "import numpy as np\n",
        "import pymysql"
      ]
    },
    {
      "cell_type": "markdown",
      "metadata": {
        "id": "mSQiGqmbpCOA"
      },
      "source": [
        "# MySQL 연동"
      ]
    },
    {
      "cell_type": "code",
      "execution_count": 2,
      "metadata": {
        "id": "zQjw5Y7Jo2Xm"
      },
      "outputs": [],
      "source": [
        "conn = pymysql.connect(\n",
        "                        user    = 'stocks',\n",
        "                        passwd  = 'Stocks!',\n",
        "                        host    = \"-\",\n",
        "                        port    = 3306,\n",
        "                        db      = 'Data',\n",
        "                        charset = 'utf8'\n",
        "        )"
      ]
    },
    {
      "cell_type": "markdown",
      "metadata": {
        "id": "CjniBOObpGfH"
      },
      "source": [
        "# 데이터 불러오기"
      ]
    },
    {
      "cell_type": "code",
      "execution_count": 3,
      "metadata": {
        "colab": {
          "base_uri": "https://localhost:8080/",
          "height": 424
        },
        "id": "ca1Kr2o7pLdR",
        "outputId": "7b3e3c3e-f843-4956-8f44-6dac8e04fa38"
      },
      "outputs": [
        {
          "name": "stderr",
          "output_type": "stream",
          "text": [
            "/opt/anaconda3/envs/jupyter/lib/python3.8/site-packages/pandas/io/sql.py:761: UserWarning: pandas only support SQLAlchemy connectable(engine/connection) ordatabase string URI or sqlite3 DBAPI2 connectionother DBAPI2 objects are not tested, please consider using SQLAlchemy\n",
            "  warnings.warn(\n"
          ]
        },
        {
          "data": {
            "text/html": [
              "<div>\n",
              "<style scoped>\n",
              "    .dataframe tbody tr th:only-of-type {\n",
              "        vertical-align: middle;\n",
              "    }\n",
              "\n",
              "    .dataframe tbody tr th {\n",
              "        vertical-align: top;\n",
              "    }\n",
              "\n",
              "    .dataframe thead th {\n",
              "        text-align: right;\n",
              "    }\n",
              "</style>\n",
              "<table border=\"1\" class=\"dataframe\">\n",
              "  <thead>\n",
              "    <tr style=\"text-align: right;\">\n",
              "      <th></th>\n",
              "      <th>stock_id</th>\n",
              "      <th>text</th>\n",
              "      <th>date</th>\n",
              "      <th>token</th>\n",
              "      <th>label</th>\n",
              "    </tr>\n",
              "  </thead>\n",
              "  <tbody>\n",
              "    <tr>\n",
              "      <th>0</th>\n",
              "      <td>000060</td>\n",
              "      <td>2500억 모집액 못 채우고 미달 3년물 2200억에 1710억 모집 5년물 전액 ...</td>\n",
              "      <td>2022-07-15 19:54:00</td>\n",
              "      <td>['2500', '억', '모집', '액', '못', '채우', '고', '미달',...</td>\n",
              "      <td>1</td>\n",
              "    </tr>\n",
              "    <tr>\n",
              "      <th>1</th>\n",
              "      <td>000060</td>\n",
              "      <td>메리츠증권은 14일 아모레G에 대해 아모레퍼시픽 부진으로 투자 매력도가 상대적으로 ...</td>\n",
              "      <td>2022-07-14 08:36:00</td>\n",
              "      <td>['메리츠증권', '은', '14', '일', '아모레', 'G', '에', '대하...</td>\n",
              "      <td>0</td>\n",
              "    </tr>\n",
              "    <tr>\n",
              "      <th>2</th>\n",
              "      <td>000060</td>\n",
              "      <td>증시 과매도 PER 종목 쏟아진다 30개 PER 1 2배로 떨어져 PER 낮은 기업...</td>\n",
              "      <td>2022-07-13 17:36:00</td>\n",
              "      <td>['증시', '과', '매도', 'PER', '종목', '쏟아지', 'ㄴ다', '3...</td>\n",
              "      <td>1</td>\n",
              "    </tr>\n",
              "    <tr>\n",
              "      <th>3</th>\n",
              "      <td>000060</td>\n",
              "      <td>투자의견 매수 목표주가 7만5000원 유지 메리츠증권이 13일 SK텔레콤에 대해 2...</td>\n",
              "      <td>2022-07-13 08:18:00</td>\n",
              "      <td>['투자', '의견', '매수', '목표', '주가', '7', '만', '5000...</td>\n",
              "      <td>0</td>\n",
              "    </tr>\n",
              "    <tr>\n",
              "      <th>4</th>\n",
              "      <td>000060</td>\n",
              "      <td>금감원 손보사에 유사암 일반암 진단비 자료 요구 올해들어 손보사 유사암 경쟁 진단비...</td>\n",
              "      <td>2022-07-13 06:01:00</td>\n",
              "      <td>['금감원', '손보사', '에', '유사', '암', '일반', '암', '진단'...</td>\n",
              "      <td>0</td>\n",
              "    </tr>\n",
              "    <tr>\n",
              "      <th>...</th>\n",
              "      <td>...</td>\n",
              "      <td>...</td>\n",
              "      <td>...</td>\n",
              "      <td>...</td>\n",
              "      <td>...</td>\n",
              "    </tr>\n",
              "    <tr>\n",
              "      <th>111614</th>\n",
              "      <td>402340</td>\n",
              "      <td>앱출석 후 회원가입시 80만명 한정 선착순국내 최초 가상자산 거래소 코빗이 4월 한...</td>\n",
              "      <td>2022-04-01 11:17:00</td>\n",
              "      <td>['앱', '출석', '후', '회원', '가', '입시', '80', '만', '...</td>\n",
              "      <td>1</td>\n",
              "    </tr>\n",
              "    <tr>\n",
              "      <th>111615</th>\n",
              "      <td>402340</td>\n",
              "      <td>SK그룹 투자회사 SK스퀘어의 연결대상 종속회사 원스토어와 SK쉴더스가 증권신고서를...</td>\n",
              "      <td>2022-04-01 11:06:00</td>\n",
              "      <td>['SK', '그룹', '투자', '회사', 'SK', '스퀘어', '의', '연결...</td>\n",
              "      <td>1</td>\n",
              "    </tr>\n",
              "    <tr>\n",
              "      <th>111616</th>\n",
              "      <td>402340</td>\n",
              "      <td>31일 증권신고서 제출 4월 기관 수요예측 SK스퀘어 자회사들인 토종 앱스토어 원스...</td>\n",
              "      <td>2022-04-01 09:00:00</td>\n",
              "      <td>['31', '일', '증권', '신고서', '제출', '4', '월', '기관',...</td>\n",
              "      <td>1</td>\n",
              "    </tr>\n",
              "    <tr>\n",
              "      <th>111617</th>\n",
              "      <td>402340</td>\n",
              "      <td>삼부토건 제3자 배정증자 방식으로 SK에코플랜트에 보통주 11만 6106주 유상증...</td>\n",
              "      <td>2022-04-01 07:01:00</td>\n",
              "      <td>['삼부', '토건', '제', '3', '자', '배정', '증자', '방식', ...</td>\n",
              "      <td>1</td>\n",
              "    </tr>\n",
              "    <tr>\n",
              "      <th>111618</th>\n",
              "      <td>402340</td>\n",
              "      <td>1Q 상장한 21개 종목 중 8개 종목은 공모가 하회 금리인상 우려에 우크라이나까지...</td>\n",
              "      <td>2022-04-01 06:06:00</td>\n",
              "      <td>['1', 'Q', '상장', '하', 'ㄴ', '21', '개', '종목', '중...</td>\n",
              "      <td>1</td>\n",
              "    </tr>\n",
              "  </tbody>\n",
              "</table>\n",
              "<p>111619 rows × 5 columns</p>\n",
              "</div>"
            ],
            "text/plain": [
              "       stock_id                                               text  \\\n",
              "0        000060  2500억 모집액 못 채우고 미달 3년물 2200억에 1710억 모집 5년물 전액 ...   \n",
              "1        000060  메리츠증권은 14일 아모레G에 대해 아모레퍼시픽 부진으로 투자 매력도가 상대적으로 ...   \n",
              "2        000060  증시 과매도 PER 종목 쏟아진다 30개 PER 1 2배로 떨어져 PER 낮은 기업...   \n",
              "3        000060  투자의견 매수 목표주가 7만5000원 유지 메리츠증권이 13일 SK텔레콤에 대해 2...   \n",
              "4        000060  금감원 손보사에 유사암 일반암 진단비 자료 요구 올해들어 손보사 유사암 경쟁 진단비...   \n",
              "...         ...                                                ...   \n",
              "111614   402340  앱출석 후 회원가입시 80만명 한정 선착순국내 최초 가상자산 거래소 코빗이 4월 한...   \n",
              "111615   402340  SK그룹 투자회사 SK스퀘어의 연결대상 종속회사 원스토어와 SK쉴더스가 증권신고서를...   \n",
              "111616   402340  31일 증권신고서 제출 4월 기관 수요예측 SK스퀘어 자회사들인 토종 앱스토어 원스...   \n",
              "111617   402340   삼부토건 제3자 배정증자 방식으로 SK에코플랜트에 보통주 11만 6106주 유상증...   \n",
              "111618   402340  1Q 상장한 21개 종목 중 8개 종목은 공모가 하회 금리인상 우려에 우크라이나까지...   \n",
              "\n",
              "                      date                                              token  \\\n",
              "0      2022-07-15 19:54:00  ['2500', '억', '모집', '액', '못', '채우', '고', '미달',...   \n",
              "1      2022-07-14 08:36:00  ['메리츠증권', '은', '14', '일', '아모레', 'G', '에', '대하...   \n",
              "2      2022-07-13 17:36:00  ['증시', '과', '매도', 'PER', '종목', '쏟아지', 'ㄴ다', '3...   \n",
              "3      2022-07-13 08:18:00  ['투자', '의견', '매수', '목표', '주가', '7', '만', '5000...   \n",
              "4      2022-07-13 06:01:00  ['금감원', '손보사', '에', '유사', '암', '일반', '암', '진단'...   \n",
              "...                    ...                                                ...   \n",
              "111614 2022-04-01 11:17:00  ['앱', '출석', '후', '회원', '가', '입시', '80', '만', '...   \n",
              "111615 2022-04-01 11:06:00  ['SK', '그룹', '투자', '회사', 'SK', '스퀘어', '의', '연결...   \n",
              "111616 2022-04-01 09:00:00  ['31', '일', '증권', '신고서', '제출', '4', '월', '기관',...   \n",
              "111617 2022-04-01 07:01:00  ['삼부', '토건', '제', '3', '자', '배정', '증자', '방식', ...   \n",
              "111618 2022-04-01 06:06:00  ['1', 'Q', '상장', '하', 'ㄴ', '21', '개', '종목', '중...   \n",
              "\n",
              "        label  \n",
              "0           1  \n",
              "1           0  \n",
              "2           1  \n",
              "3           0  \n",
              "4           0  \n",
              "...       ...  \n",
              "111614      1  \n",
              "111615      1  \n",
              "111616      1  \n",
              "111617      1  \n",
              "111618      1  \n",
              "\n",
              "[111619 rows x 5 columns]"
            ]
          },
          "execution_count": 3,
          "metadata": {},
          "output_type": "execute_result"
        }
      ],
      "source": [
        "sql = 'SELECT stock_id, text, date, token, label FROM Token'\n",
        "news = pd.read_sql(sql, conn)\n",
        "news"
      ]
    },
    {
      "cell_type": "markdown",
      "metadata": {
        "id": "H6wTHL73vasB"
      },
      "source": [
        "# 데이터 전처리"
      ]
    },
    {
      "cell_type": "markdown",
      "metadata": {
        "id": "LPgBpneYveDz"
      },
      "source": [
        "## Token을 str -> list 형태로 변환"
      ]
    },
    {
      "cell_type": "code",
      "execution_count": 4,
      "metadata": {
        "id": "_TrLIHcOseW7"
      },
      "outputs": [],
      "source": [
        "import re\n",
        "\n",
        "def str_to_list(d):\n",
        "  text = re.sub(r'[\\[\\'\\]]', '', d)\n",
        "  return text.split(\", \")\n",
        "\n",
        "news[\"token\"] = news.token.apply(str_to_list)"
      ]
    },
    {
      "cell_type": "markdown",
      "metadata": {
        "id": "FZAYWVFnyVAd"
      },
      "source": [
        "## 불용어 처리"
      ]
    },
    {
      "cell_type": "code",
      "execution_count": 5,
      "metadata": {
        "colab": {
          "base_uri": "https://localhost:8080/",
          "height": 441
        },
        "id": "jKHErJLftru0",
        "outputId": "7b9c256c-e428-4913-f57d-45585af64786"
      },
      "outputs": [
        {
          "name": "stderr",
          "output_type": "stream",
          "text": [
            "100%|██████████| 111619/111619 [01:17<00:00, 1438.84it/s]\n"
          ]
        },
        {
          "data": {
            "text/html": [
              "<div>\n",
              "<style scoped>\n",
              "    .dataframe tbody tr th:only-of-type {\n",
              "        vertical-align: middle;\n",
              "    }\n",
              "\n",
              "    .dataframe tbody tr th {\n",
              "        vertical-align: top;\n",
              "    }\n",
              "\n",
              "    .dataframe thead th {\n",
              "        text-align: right;\n",
              "    }\n",
              "</style>\n",
              "<table border=\"1\" class=\"dataframe\">\n",
              "  <thead>\n",
              "    <tr style=\"text-align: right;\">\n",
              "      <th></th>\n",
              "      <th>stock_id</th>\n",
              "      <th>text</th>\n",
              "      <th>date</th>\n",
              "      <th>token</th>\n",
              "      <th>label</th>\n",
              "    </tr>\n",
              "  </thead>\n",
              "  <tbody>\n",
              "    <tr>\n",
              "      <th>0</th>\n",
              "      <td>000060</td>\n",
              "      <td>2500억 모집액 못 채우고 미달 3년물 2200억에 1710억 모집 5년물 전액 ...</td>\n",
              "      <td>2022-07-15 19:54:00</td>\n",
              "      <td>[억, 모집, 액, 못, 채우, 고, 미달, 년, 물, 억, 억, 모, 집, 년, ...</td>\n",
              "      <td>1</td>\n",
              "    </tr>\n",
              "    <tr>\n",
              "      <th>1</th>\n",
              "      <td>000060</td>\n",
              "      <td>메리츠증권은 14일 아모레G에 대해 아모레퍼시픽 부진으로 투자 매력도가 상대적으로 ...</td>\n",
              "      <td>2022-07-14 08:36:00</td>\n",
              "      <td>[메리츠증권, 일, 아모레, G, 대하, 어, 아모레, 퍼시픽, 부진, 투자, 매력...</td>\n",
              "      <td>0</td>\n",
              "    </tr>\n",
              "    <tr>\n",
              "      <th>2</th>\n",
              "      <td>000060</td>\n",
              "      <td>증시 과매도 PER 종목 쏟아진다 30개 PER 1 2배로 떨어져 PER 낮은 기업...</td>\n",
              "      <td>2022-07-13 17:36:00</td>\n",
              "      <td>[증시, 매도, PER, 종목, 쏟아지, ㄴ다, 개, PER, 배, 로, 떨어지, ...</td>\n",
              "      <td>1</td>\n",
              "    </tr>\n",
              "    <tr>\n",
              "      <th>3</th>\n",
              "      <td>000060</td>\n",
              "      <td>투자의견 매수 목표주가 7만5000원 유지 메리츠증권이 13일 SK텔레콤에 대해 2...</td>\n",
              "      <td>2022-07-13 08:18:00</td>\n",
              "      <td>[투자, 의견, 매수, 목표, 주가, 만, 원, 유지, 메리츠증권, 일, SK, 텔...</td>\n",
              "      <td>0</td>\n",
              "    </tr>\n",
              "    <tr>\n",
              "      <th>4</th>\n",
              "      <td>000060</td>\n",
              "      <td>금감원 손보사에 유사암 일반암 진단비 자료 요구 올해들어 손보사 유사암 경쟁 진단비...</td>\n",
              "      <td>2022-07-13 06:01:00</td>\n",
              "      <td>[금감원, 손보사, 유사, 암, 일반, 암, 진단, 비, 자료, 요구, 올해, 듣,...</td>\n",
              "      <td>0</td>\n",
              "    </tr>\n",
              "    <tr>\n",
              "      <th>...</th>\n",
              "      <td>...</td>\n",
              "      <td>...</td>\n",
              "      <td>...</td>\n",
              "      <td>...</td>\n",
              "      <td>...</td>\n",
              "    </tr>\n",
              "    <tr>\n",
              "      <th>111614</th>\n",
              "      <td>402340</td>\n",
              "      <td>앱출석 후 회원가입시 80만명 한정 선착순국내 최초 가상자산 거래소 코빗이 4월 한...</td>\n",
              "      <td>2022-04-01 11:17:00</td>\n",
              "      <td>[앱, 출석, 후, 회원, 입시, 만, 명, 한정, 선착순, 국내, 최초, 가상, ...</td>\n",
              "      <td>1</td>\n",
              "    </tr>\n",
              "    <tr>\n",
              "      <th>111615</th>\n",
              "      <td>402340</td>\n",
              "      <td>SK그룹 투자회사 SK스퀘어의 연결대상 종속회사 원스토어와 SK쉴더스가 증권신고서를...</td>\n",
              "      <td>2022-04-01 11:06:00</td>\n",
              "      <td>[SK, 그룹, 투자, 회사, SK, 스퀘어, 연결, 대상, 종속, 회사, 원, 스...</td>\n",
              "      <td>1</td>\n",
              "    </tr>\n",
              "    <tr>\n",
              "      <th>111616</th>\n",
              "      <td>402340</td>\n",
              "      <td>31일 증권신고서 제출 4월 기관 수요예측 SK스퀘어 자회사들인 토종 앱스토어 원스...</td>\n",
              "      <td>2022-04-01 09:00:00</td>\n",
              "      <td>[일, 증권, 신고서, 제출, 월, 기관, 수요, 예측, SK, 스퀘어, 자회사, ...</td>\n",
              "      <td>1</td>\n",
              "    </tr>\n",
              "    <tr>\n",
              "      <th>111617</th>\n",
              "      <td>402340</td>\n",
              "      <td>삼부토건 제3자 배정증자 방식으로 SK에코플랜트에 보통주 11만 6106주 유상증...</td>\n",
              "      <td>2022-04-01 07:01:00</td>\n",
              "      <td>[삼부, 토건, 제, 배정, 증자, 방식, SK, 에코, 플랜트, 보통주, 만, 주...</td>\n",
              "      <td>1</td>\n",
              "    </tr>\n",
              "    <tr>\n",
              "      <th>111618</th>\n",
              "      <td>402340</td>\n",
              "      <td>1Q 상장한 21개 종목 중 8개 종목은 공모가 하회 금리인상 우려에 우크라이나까지...</td>\n",
              "      <td>2022-04-01 06:06:00</td>\n",
              "      <td>[Q, 상장, ㄴ, 개, 종목, 중, 개, 종목, 공모, 하회, 금리, 인상, 우려...</td>\n",
              "      <td>1</td>\n",
              "    </tr>\n",
              "  </tbody>\n",
              "</table>\n",
              "<p>111619 rows × 5 columns</p>\n",
              "</div>"
            ],
            "text/plain": [
              "       stock_id                                               text  \\\n",
              "0        000060  2500억 모집액 못 채우고 미달 3년물 2200억에 1710억 모집 5년물 전액 ...   \n",
              "1        000060  메리츠증권은 14일 아모레G에 대해 아모레퍼시픽 부진으로 투자 매력도가 상대적으로 ...   \n",
              "2        000060  증시 과매도 PER 종목 쏟아진다 30개 PER 1 2배로 떨어져 PER 낮은 기업...   \n",
              "3        000060  투자의견 매수 목표주가 7만5000원 유지 메리츠증권이 13일 SK텔레콤에 대해 2...   \n",
              "4        000060  금감원 손보사에 유사암 일반암 진단비 자료 요구 올해들어 손보사 유사암 경쟁 진단비...   \n",
              "...         ...                                                ...   \n",
              "111614   402340  앱출석 후 회원가입시 80만명 한정 선착순국내 최초 가상자산 거래소 코빗이 4월 한...   \n",
              "111615   402340  SK그룹 투자회사 SK스퀘어의 연결대상 종속회사 원스토어와 SK쉴더스가 증권신고서를...   \n",
              "111616   402340  31일 증권신고서 제출 4월 기관 수요예측 SK스퀘어 자회사들인 토종 앱스토어 원스...   \n",
              "111617   402340   삼부토건 제3자 배정증자 방식으로 SK에코플랜트에 보통주 11만 6106주 유상증...   \n",
              "111618   402340  1Q 상장한 21개 종목 중 8개 종목은 공모가 하회 금리인상 우려에 우크라이나까지...   \n",
              "\n",
              "                      date                                              token  \\\n",
              "0      2022-07-15 19:54:00  [억, 모집, 액, 못, 채우, 고, 미달, 년, 물, 억, 억, 모, 집, 년, ...   \n",
              "1      2022-07-14 08:36:00  [메리츠증권, 일, 아모레, G, 대하, 어, 아모레, 퍼시픽, 부진, 투자, 매력...   \n",
              "2      2022-07-13 17:36:00  [증시, 매도, PER, 종목, 쏟아지, ㄴ다, 개, PER, 배, 로, 떨어지, ...   \n",
              "3      2022-07-13 08:18:00  [투자, 의견, 매수, 목표, 주가, 만, 원, 유지, 메리츠증권, 일, SK, 텔...   \n",
              "4      2022-07-13 06:01:00  [금감원, 손보사, 유사, 암, 일반, 암, 진단, 비, 자료, 요구, 올해, 듣,...   \n",
              "...                    ...                                                ...   \n",
              "111614 2022-04-01 11:17:00  [앱, 출석, 후, 회원, 입시, 만, 명, 한정, 선착순, 국내, 최초, 가상, ...   \n",
              "111615 2022-04-01 11:06:00  [SK, 그룹, 투자, 회사, SK, 스퀘어, 연결, 대상, 종속, 회사, 원, 스...   \n",
              "111616 2022-04-01 09:00:00  [일, 증권, 신고서, 제출, 월, 기관, 수요, 예측, SK, 스퀘어, 자회사, ...   \n",
              "111617 2022-04-01 07:01:00  [삼부, 토건, 제, 배정, 증자, 방식, SK, 에코, 플랜트, 보통주, 만, 주...   \n",
              "111618 2022-04-01 06:06:00  [Q, 상장, ㄴ, 개, 종목, 중, 개, 종목, 공모, 하회, 금리, 인상, 우려...   \n",
              "\n",
              "        label  \n",
              "0           1  \n",
              "1           0  \n",
              "2           1  \n",
              "3           0  \n",
              "4           0  \n",
              "...       ...  \n",
              "111614      1  \n",
              "111615      1  \n",
              "111616      1  \n",
              "111617      1  \n",
              "111618      1  \n",
              "\n",
              "[111619 rows x 5 columns]"
            ]
          },
          "execution_count": 5,
          "metadata": {},
          "output_type": "execute_result"
        }
      ],
      "source": [
        "from tqdm import tqdm\n",
        "def stopword(x):\n",
        "  stopword = [r'상승.*', r'하락.*', r'급등.*', r'급락.*', '상승세', '하락세', '폭등', '폭락', '오름세', '약세', '강세', '의', '가', '이', '은', '들', '는', '좀', '잘', '걍', '과', '도', '를', '으로', '자', '에', '와', '한', '하다', '에', '은', '는', '하']\n",
        "  return [i for i in x if i not in stopword and not i.isdigit()]\n",
        "tqdm.pandas()\n",
        "news[\"token\"] = news.token.progress_apply(stopword)\n",
        "news"
      ]
    },
    {
      "cell_type": "markdown",
      "metadata": {
        "id": "3oAMHXDcy3GN"
      },
      "source": [
        "# 모델링"
      ]
    },
    {
      "cell_type": "markdown",
      "metadata": {
        "id": "O8Ro-JpLy7qW"
      },
      "source": [
        "## 데이터 셋 나누기"
      ]
    },
    {
      "cell_type": "code",
      "execution_count": 6,
      "metadata": {
        "colab": {
          "base_uri": "https://localhost:8080/"
        },
        "id": "lVYgMa1Zwr6-",
        "outputId": "e7852bfd-a8cb-4ade-9419-2b570b9e839c"
      },
      "outputs": [
        {
          "name": "stdout",
          "output_type": "stream",
          "text": [
            "(94918,) (94918,) (16701,) (16701,)\n"
          ]
        }
      ],
      "source": [
        "test = news.loc[news[\"date\"] >= '2022-07-01 00:00:00']\n",
        "train = news.loc[news[\"date\"] < '2022-07-01 00:00:00']\n",
        "\n",
        "X_train = train['token']\n",
        "y_train = train['label']\n",
        "X_test = test['token']\n",
        "y_test = test['label']\n",
        "\n",
        "print(X_train.shape, y_train.shape, X_test.shape, y_test.shape)"
      ]
    },
    {
      "cell_type": "markdown",
      "metadata": {
        "id": "MMQdxww8zbZc"
      },
      "source": [
        "## Tokenizer"
      ]
    },
    {
      "cell_type": "code",
      "execution_count": 7,
      "metadata": {
        "id": "317HJsK6zSDM"
      },
      "outputs": [],
      "source": [
        "tokenizer = Tokenizer()\n",
        "tokenizer.fit_on_texts(X_train)"
      ]
    },
    {
      "cell_type": "code",
      "execution_count": 8,
      "metadata": {
        "colab": {
          "base_uri": "https://localhost:8080/"
        },
        "id": "s_tpzFqazU9l",
        "outputId": "deb90644-3fa4-4b7d-9ba9-1fbac10e78ed"
      },
      "outputs": [
        {
          "name": "stdout",
          "output_type": "stream",
          "text": [
            "전체 단어 수 62463\n",
            "빈도가 3 이하인 희귀 단어 수: 18802\n",
            "희귀 단어 비율: 30.101019803723805\n",
            "희귀 단어 등장 빈도 비율: 0.07036167954849475\n"
          ]
        }
      ],
      "source": [
        "threshold = 4\n",
        "words_cnt = len(tokenizer.word_index)\n",
        "rare_cnt = 0\n",
        "words_freq = 0\n",
        "rare_freq = 0\n",
        "\n",
        "for key, value in tokenizer.word_counts.items():\n",
        "  words_freq += value\n",
        "\n",
        "  if value < threshold:\n",
        "    rare_cnt +=1\n",
        "    rare_freq += value\n",
        "\n",
        "print(\"전체 단어 수\", words_cnt)\n",
        "print(\"빈도가 {} 이하인 희귀 단어 수: {}\".format(threshold-1, rare_cnt))\n",
        "print(\"희귀 단어 비율: {}\".format((rare_cnt / words_cnt) * 100))\n",
        "print(\"희귀 단어 등장 빈도 비율: {}\".format((rare_freq / words_freq) * 100))"
      ]
    },
    {
      "cell_type": "code",
      "execution_count": 9,
      "metadata": {
        "colab": {
          "base_uri": "https://localhost:8080/"
        },
        "id": "OvKORLwWzZvO",
        "outputId": "55a30d90-02a7-4628-c6ab-bcd9d15785ad"
      },
      "outputs": [
        {
          "name": "stdout",
          "output_type": "stream",
          "text": [
            "43663\n"
          ]
        }
      ],
      "source": [
        "vocab_size = words_cnt - rare_cnt + 2\n",
        "print(vocab_size)"
      ]
    },
    {
      "cell_type": "code",
      "execution_count": 10,
      "metadata": {
        "id": "jzgdIxPazfUf"
      },
      "outputs": [],
      "source": [
        "tokenizer = Tokenizer(vocab_size, oov_token='OOV')\n",
        "tokenizer.fit_on_texts(X_train)\n",
        "X_train = tokenizer.texts_to_sequences(X_train)\n",
        "X_test = tokenizer.texts_to_sequences(X_test)"
      ]
    },
    {
      "cell_type": "code",
      "execution_count": 11,
      "metadata": {
        "id": "PFJmjmIbzi8l"
      },
      "outputs": [],
      "source": [
        "y_train = np.array(y_train)\n",
        "y_test = np.array(y_test)"
      ]
    },
    {
      "cell_type": "code",
      "execution_count": 12,
      "metadata": {
        "colab": {
          "base_uri": "https://localhost:8080/"
        },
        "id": "JgB7qcdYzq_W",
        "outputId": "4c38fb56-fd1d-4b62-fd06-b19f3b3817bb"
      },
      "outputs": [
        {
          "name": "stdout",
          "output_type": "stream",
          "text": [
            "94918\n",
            "94918\n"
          ]
        },
        {
          "name": "stderr",
          "output_type": "stream",
          "text": [
            "/opt/anaconda3/envs/jupyter/lib/python3.8/site-packages/numpy/lib/function_base.py:5071: VisibleDeprecationWarning: Creating an ndarray from ragged nested sequences (which is a list-or-tuple of lists-or-tuples-or ndarrays with different lengths or shapes) is deprecated. If you meant to do this, you must specify 'dtype=object' when creating the ndarray.\n",
            "  arr = asarray(arr)\n"
          ]
        }
      ],
      "source": [
        "drop_train = [index for index, sentence in enumerate(X_train) if len(sentence) < 1]\n",
        "\n",
        "X_trian = np.delete(X_train, drop_train, axis=0)\n",
        "y_train = np.delete(y_train, drop_train, axis=0)\n",
        "\n",
        "print(len(X_train))\n",
        "print(len(y_train))"
      ]
    },
    {
      "cell_type": "code",
      "execution_count": 13,
      "metadata": {
        "colab": {
          "base_uri": "https://localhost:8080/"
        },
        "id": "gnhrxgD2zt2U",
        "outputId": "a008e7cc-6b91-49e3-8e2d-0f7afb1aea86"
      },
      "outputs": [
        {
          "name": "stdout",
          "output_type": "stream",
          "text": [
            "리뷰 최대 길이: 5759\n",
            "리뷰 평균 길이: 489.9088054952696\n"
          ]
        }
      ],
      "source": [
        "print('리뷰 최대 길이:', max(len(l) for l in X_train))\n",
        "print('리뷰 평균 길이:', sum(map(len, X_trian)) / len(X_train))"
      ]
    },
    {
      "cell_type": "code",
      "execution_count": 14,
      "metadata": {
        "colab": {
          "base_uri": "https://localhost:8080/",
          "height": 276
        },
        "id": "iN_NnvmpzyNx",
        "outputId": "87cd6626-1d05-4174-8c63-f056f12e1e8e"
      },
      "outputs": [
        {
          "data": {
            "image/png": "[encoded data removed]",
            "text/plain": [
              "<Figure size 432x288 with 1 Axes>"
            ]
          },
          "metadata": {
            "needs_background": "light"
          },
          "output_type": "display_data"
        }
      ],
      "source": [
        "import matplotlib.pyplot as plt\n",
        "plt.style.use('seaborn-white')\n",
        "\n",
        "plt.hist([len(s) for s in X_train], bins=50)\n",
        "plt.xlabel('Length of Samples')\n",
        "plt.ylabel('Number of Samples')\n",
        "plt.show()"
      ]
    },
    {
      "cell_type": "code",
      "execution_count": 15,
      "metadata": {
        "id": "SN6fEDhrz15r"
      },
      "outputs": [],
      "source": [
        "max_len = 800"
      ]
    },
    {
      "cell_type": "code",
      "execution_count": 16,
      "metadata": {
        "id": "5Xqs_B3Qz5l6"
      },
      "outputs": [],
      "source": [
        "X_train = pad_sequences(X_train, maxlen=max_len)\n",
        "X_test = pad_sequences(X_test, maxlen=max_len)"
      ]
    },
    {
      "cell_type": "code",
      "execution_count": 17,
      "metadata": {
        "id": "ZQlrNaTSq6oZ"
      },
      "outputs": [
        {
          "name": "stderr",
          "output_type": "stream",
          "text": [
            "2022-08-05 08:55:40.297582: I tensorflow/core/platform/cpu_feature_guard.cc:193] This TensorFlow binary is optimized with oneAPI Deep Neural Network Library (oneDNN) to use the following CPU instructions in performance-critical operations:  AVX2 FMA\n",
            "To enable them in other operations, rebuild TensorFlow with the appropriate compiler flags.\n"
          ]
        },
        {
          "name": "stdout",
          "output_type": "stream",
          "text": [
            "Model: \"sequential\"\n",
            "_________________________________________________________________\n",
            " Layer (type)                Output Shape              Param #   \n",
            "=================================================================\n",
            " embedding (Embedding)       (None, None, 800)         34930400  \n",
            "                                                                 \n",
            " bidirectional (Bidirectiona  (None, None, 64)         160128    \n",
            " l)                                                              \n",
            "                                                                 \n",
            " bidirectional_1 (Bidirectio  (None, 448)              389760    \n",
            " nal)                                                            \n",
            "                                                                 \n",
            " dense (Dense)               (None, 1)                 449       \n",
            "                                                                 \n",
            "=================================================================\n",
            "Total params: 35,480,737\n",
            "Trainable params: 35,480,737\n",
            "Non-trainable params: 0\n",
            "_________________________________________________________________\n"
          ]
        }
      ],
      "source": [
        "model = Sequential()\n",
        "model.add(Embedding(vocab_size, 800))\n",
        "model.add(Bidirectional(GRU(32, return_sequences = True, dropout = 0.4)))\n",
        "model.add(Bidirectional(GRU(224)))\n",
        "model.add(Dense(1, activation='sigmoid'))\n",
        "model.compile(optimizer = keras.optimizers.Nadam(learning_rate = 0.001),\n",
        "              loss = keras.losses.BinaryCrossentropy(), \n",
        "              metrics = ['accuracy'])\n",
        "model.summary()"
      ]
    },
    {
      "cell_type": "code",
      "execution_count": 18,
      "metadata": {
        "id": "y2h9mtFdraZ9"
      },
      "outputs": [],
      "source": [
        "es = EarlyStopping(monitor = 'val_loss', mode = 'min', verbose = 1, patience = 3)\n",
        "mc = ModelCheckpoint('BiGRU_best_model.h5', monitor = 'val_accuracy', mode = 'max', verbose = 1, save_best_only = True)"
      ]
    },
    {
      "cell_type": "code",
      "execution_count": 19,
      "metadata": {
        "colab": {
          "base_uri": "https://localhost:8080/"
        },
        "id": "15HGlhd6rbYK",
        "outputId": "621d665b-d7a0-49ef-bc51-515df6d02d28"
      },
      "outputs": [
        {
          "name": "stdout",
          "output_type": "stream",
          "text": [
            "Epoch 1/10\n",
            "594/594 [==============================] - ETA: 0s - loss: 0.6829 - accuracy: 0.5524\n",
            "Epoch 1: val_accuracy improved from -inf to 0.56010, saving model to BiGRU_best_model.h5\n",
            "594/594 [==============================] - 4444s 7s/step - loss: 0.6829 - accuracy: 0.5524 - val_loss: 0.6807 - val_accuracy: 0.5601\n",
            "Epoch 2/10\n",
            "594/594 [==============================] - ETA: 0s - loss: 0.6271 - accuracy: 0.6448\n",
            "Epoch 2: val_accuracy improved from 0.56010 to 0.59013, saving model to BiGRU_best_model.h5\n",
            "594/594 [==============================] - 4433s 7s/step - loss: 0.6271 - accuracy: 0.6448 - val_loss: 0.6768 - val_accuracy: 0.5901\n",
            "Epoch 3/10\n",
            "594/594 [==============================] - ETA: 0s - loss: 0.5585 - accuracy: 0.7122\n",
            "Epoch 3: val_accuracy improved from 0.59013 to 0.59292, saving model to BiGRU_best_model.h5\n",
            "594/594 [==============================] - 4441s 7s/step - loss: 0.5585 - accuracy: 0.7122 - val_loss: 0.7083 - val_accuracy: 0.5929\n",
            "Epoch 4/10\n",
            "594/594 [==============================] - ETA: 0s - loss: 0.4946 - accuracy: 0.7560\n",
            "Epoch 4: val_accuracy improved from 0.59292 to 0.61304, saving model to BiGRU_best_model.h5\n",
            "594/594 [==============================] - 5406s 9s/step - loss: 0.4946 - accuracy: 0.7560 - val_loss: 0.7502 - val_accuracy: 0.6130\n",
            "Epoch 5/10\n",
            "365/594 [=================>............] - ETA: 57:04 - loss: 0.4334 - accuracy: 0.7908"
          ]
        }
      ],
      "source": [
        "history = model.fit(X_train, y_train, epochs=10, validation_split = 0.2, callbacks=[es, mc], batch_size = 128)"
      ]
    },
    {
      "cell_type": "code",
      "execution_count": null,
      "metadata": {
        "id": "8lOj15G0rfUw"
      },
      "outputs": [],
      "source": [
        "loaded_model = load_model('BiGRU_best_model.h5')\n",
        "loaded_model.evaluate(X_test, y_test)"
      ]
    }
  ],
  "metadata": {
    "accelerator": "GPU",
    "colab": {
      "collapsed_sections": [],
      "name": "Untitled5.ipynb",
      "provenance": []
    },
    "gpuClass": "standard",
    "kernelspec": {
      "display_name": "Python 3.8.13 ('jupyter')",
      "language": "python",
      "name": "python3"
    },
    "language_info": {
      "codemirror_mode": {
        "name": "ipython",
        "version": 3
      },
      "file_extension": ".py",
      "mimetype": "text/x-python",
      "name": "python",
      "nbconvert_exporter": "python",
      "pygments_lexer": "ipython3",
      "version": "3.8.13"
    },
    "vscode": {
      "interpreter": {
        "hash": "974742b9e3f84bbfc2ab858fce40e48c160687419b819993149cbe09d34e2b28"
      }
    }
  },
  "nbformat": 4,
  "nbformat_minor": 0
}
