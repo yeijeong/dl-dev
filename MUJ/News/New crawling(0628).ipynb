{
 "cells": [
  {
   "cell_type": "code",
   "execution_count": 1,
   "metadata": {},
   "outputs": [],
   "source": [
    "import requests\n",
    "from bs4 import BeautifulSoup\n",
    "from tqdm.notebook import tqdm"
   ]
  },
  {
   "cell_type": "code",
   "execution_count": 2,
   "metadata": {},
   "outputs": [],
   "source": [
    "def ex_tag(sid, page):\n",
    "    ### 뉴스 분야(sid)와 페이지(page)를 입력하면 그에 대한 링크들을 리스트로 추출하는 함수 ###\n",
    "    \n",
    "    ## 1.\n",
    "    url = f\"https://news.naver.com/main/main.naver?mode=LSD&mid=shm&sid1={sid}\"\\\n",
    "    \"#&date=%2000:00:00&page={page}\"\n",
    "    html = requests.get(url, headers={\"User-Agent\": \"Mozilla/5.0\"\\\n",
    "    \"(Windows NT 10.0; Win64; x64) AppleWebKit/537.36 (KHTML, like Gecko) \"\\\n",
    "    \"Chrome/110.0.0.0 Safari/537.36\"})\n",
    "    soup = BeautifulSoup(html.text, \"lxml\")\n",
    "    a_tag = soup.find_all(\"a\")\n",
    "    \n",
    "    ## 2.\n",
    "    tag_lst = []\n",
    "    for a in a_tag:\n",
    "        if \"href\" in a.attrs:  # href가 있는것만 고르는 것\n",
    "            if (f\"sid={sid}\" in a[\"href\"]) and (\"article\" in a[\"href\"]):\n",
    "                tag_lst.append(a[\"href\"])\n",
    "                \n",
    "    return tag_lst"
   ]
  },
  {
   "cell_type": "code",
   "execution_count": 3,
   "metadata": {},
   "outputs": [],
   "source": [
    "def re_tag(sid):\n",
    "    ### 특정 분야의 100페이지까지의 뉴스의 링크를 수집하여 중복 제거한 리스트로 변환하는 함수 ###\n",
    "    ## 여기 바꾸면 돼  예정!!!!\n",
    "    re_lst = []\n",
    "    for i in tqdm(range(1,1000)):\n",
    "        lst = ex_tag(sid, i+1)\n",
    "        re_lst.extend(lst)\n",
    "\n",
    "    # 중복 제거\n",
    "    re_set = set(re_lst)\n",
    "    re_lst = list(re_set)\n",
    "    \n",
    "    return re_lst"
   ]
  },
  {
   "cell_type": "code",
   "execution_count": 4,
   "metadata": {},
   "outputs": [
    {
     "data": {
      "application/vnd.jupyter.widget-view+json": {
       "model_id": "092595c2427947d9b2c4b71bfe74c46a",
       "version_major": 2,
       "version_minor": 0
      },
      "text/plain": [
       "  0%|          | 0/999 [00:00<?, ?it/s]"
      ]
     },
     "metadata": {},
     "output_type": "display_data"
    },
    {
     "data": {
      "application/vnd.jupyter.widget-view+json": {
       "model_id": "3d4b8a45dec94bc8bec7464c2da48148",
       "version_major": 2,
       "version_minor": 0
      },
      "text/plain": [
       "  0%|          | 0/999 [00:00<?, ?it/s]"
      ]
     },
     "metadata": {},
     "output_type": "display_data"
    },
    {
     "data": {
      "application/vnd.jupyter.widget-view+json": {
       "model_id": "cad95ba60e784e4da6e9c7be56ee6a79",
       "version_major": 2,
       "version_minor": 0
      },
      "text/plain": [
       "  0%|          | 0/999 [00:00<?, ?it/s]"
      ]
     },
     "metadata": {},
     "output_type": "display_data"
    },
    {
     "data": {
      "application/vnd.jupyter.widget-view+json": {
       "model_id": "ee171cb25c8c4d32bf5a2a192eeb8661",
       "version_major": 2,
       "version_minor": 0
      },
      "text/plain": [
       "  0%|          | 0/999 [00:00<?, ?it/s]"
      ]
     },
     "metadata": {},
     "output_type": "display_data"
    },
    {
     "data": {
      "application/vnd.jupyter.widget-view+json": {
       "model_id": "f8b92fc0a4924c42828e19b317f52ff5",
       "version_major": 2,
       "version_minor": 0
      },
      "text/plain": [
       "  0%|          | 0/999 [00:00<?, ?it/s]"
      ]
     },
     "metadata": {},
     "output_type": "display_data"
    },
    {
     "data": {
      "application/vnd.jupyter.widget-view+json": {
       "model_id": "2f688648cc524bdcadb55843ecf1f5bf",
       "version_major": 2,
       "version_minor": 0
      },
      "text/plain": [
       "  0%|          | 0/999 [00:00<?, ?it/s]"
      ]
     },
     "metadata": {},
     "output_type": "display_data"
    }
   ],
   "source": [
    "all_hrefs = {}\n",
    "sids = [i for i in range(100,106)]  # 분야 리스트\n",
    "### 분야 바꾸고 싶으면 여기 바꾸면 됨\n",
    "# 각 분야별로 링크 수집해서 딕셔너리에 저장\n",
    "for sid in sids:\n",
    "    sid_data = re_tag(sid)\n",
    "    all_hrefs[sid] = sid_data"
   ]
  },
  {
   "cell_type": "code",
   "execution_count": 5,
   "metadata": {},
   "outputs": [],
   "source": [
    "def art_crawl(all_hrefs, sid, index):\n",
    "    \"\"\"\n",
    "    sid와 링크 인덱스를 넣으면 기사제목, 날짜, 본문을 크롤링하여 딕셔너리를 출력하는 함수 \n",
    "    \n",
    "    Args: \n",
    "        all_hrefs(dict): 각 분야별로 100페이지까지 링크를 수집한 딕셔너리 (key: 분야(sid), value: 링크)\n",
    "        sid(int): 분야 [100: 정치, 101: 경제, 102: 사회, 103: 생활/문화, 104: 세계, 105: IT/과학]\n",
    "        index(int): 링크의 인덱스\n",
    "    \n",
    "    Returns:\n",
    "        dict: 기사제목, 날짜, 본문이 크롤링된 딕셔너리\n",
    "    \n",
    "    \"\"\"\n",
    "    art_dic = {}\n",
    "    \n",
    "    ## 1.\n",
    "    title_selector = \"#title_area > span\"\n",
    "    date_selector = \"#ct > div.media_end_head.go_trans > div.media_end_head_info.nv_notrans\"\\\n",
    "    \"> div.media_end_head_info_datestamp > div:nth-child(1) > span\"\n",
    "    main_selector = \"#dic_area\"\n",
    "    \n",
    "    url = all_hrefs[sid][index]\n",
    "    html = requests.get(url, headers = {\"User-Agent\": \"Mozilla/5.0 \"\\\n",
    "    \"(Windows NT 10.0; Win64; x64) AppleWebKit/537.36 (KHTML, like Gecko)\"\\\n",
    "    \"Chrome/110.0.0.0 Safari/537.36\"})\n",
    "    soup = BeautifulSoup(html.text, \"lxml\")\n",
    "    \n",
    "    ## 2.\n",
    "    # 제목 수집\n",
    "    title = soup.select(title_selector)\n",
    "    title_lst = [t.text for t in title]\n",
    "    title_str = \"\".join(title_lst)\n",
    "    \n",
    "    # 날짜 수집\n",
    "    date = soup.select(date_selector)\n",
    "    date_lst = [d.text for d in date]\n",
    "    date_str = \"\".join(date_lst)\n",
    "    \n",
    "    # 본문 수집\n",
    "    main = soup.select(main_selector)\n",
    "    main_lst = []\n",
    "    for m in main:\n",
    "        m_text = m.text\n",
    "        m_text = m_text.strip()\n",
    "        main_lst.append(m_text)\n",
    "    main_str = \"\".join(main_lst)\n",
    "    \n",
    "    ## 3.\n",
    "    art_dic[\"title\"] = title_str\n",
    "    art_dic[\"date\"] = date_str\n",
    "    art_dic[\"main\"] = main_str\n",
    "    \n",
    "    return art_dic"
   ]
  },
  {
   "cell_type": "code",
   "execution_count": 6,
   "metadata": {},
   "outputs": [
    {
     "data": {
      "application/vnd.jupyter.widget-view+json": {
       "model_id": "fdbac19f28084a26974f6a1d82bcfaef",
       "version_major": 2,
       "version_minor": 0
      },
      "text/plain": [
       "  0%|          | 0/6 [00:00<?, ?it/s]"
      ]
     },
     "metadata": {},
     "output_type": "display_data"
    },
    {
     "data": {
      "application/vnd.jupyter.widget-view+json": {
       "model_id": "5b7a738367664445bb6c0809c8dd4b90",
       "version_major": 2,
       "version_minor": 0
      },
      "text/plain": [
       "  0%|          | 0/725 [00:00<?, ?it/s]"
      ]
     },
     "metadata": {},
     "output_type": "display_data"
    },
    {
     "data": {
      "application/vnd.jupyter.widget-view+json": {
       "model_id": "d8135786f59f48b49801640b1877741a",
       "version_major": 2,
       "version_minor": 0
      },
      "text/plain": [
       "  0%|          | 0/986 [00:00<?, ?it/s]"
      ]
     },
     "metadata": {},
     "output_type": "display_data"
    },
    {
     "data": {
      "application/vnd.jupyter.widget-view+json": {
       "model_id": "e086a7dc5bdf4788857b589e11c897ed",
       "version_major": 2,
       "version_minor": 0
      },
      "text/plain": [
       "  0%|          | 0/979 [00:00<?, ?it/s]"
      ]
     },
     "metadata": {},
     "output_type": "display_data"
    },
    {
     "data": {
      "application/vnd.jupyter.widget-view+json": {
       "model_id": "25d3c0cf7fca486898b9cba94606c5e9",
       "version_major": 2,
       "version_minor": 0
      },
      "text/plain": [
       "  0%|          | 0/85 [00:00<?, ?it/s]"
      ]
     },
     "metadata": {},
     "output_type": "display_data"
    },
    {
     "data": {
      "application/vnd.jupyter.widget-view+json": {
       "model_id": "d603c70c87154d75840b98c7de523b1e",
       "version_major": 2,
       "version_minor": 0
      },
      "text/plain": [
       "  0%|          | 0/336 [00:00<?, ?it/s]"
      ]
     },
     "metadata": {},
     "output_type": "display_data"
    },
    {
     "data": {
      "application/vnd.jupyter.widget-view+json": {
       "model_id": "ac1f630af51f4d98a2957570b94d3360",
       "version_major": 2,
       "version_minor": 0
      },
      "text/plain": [
       "  0%|          | 0/188 [00:00<?, ?it/s]"
      ]
     },
     "metadata": {},
     "output_type": "display_data"
    }
   ],
   "source": [
    "# 모든 섹션의 데이터 수집 (제목, 날짜, 본문, section, url)\n",
    "section_lst = [s for s in range(100, 106)]\n",
    "artdic_lst = []\n",
    "\n",
    "for section in tqdm(section_lst):\n",
    "    for i in tqdm(range(len(all_hrefs[section]))):\n",
    "        art_dic = art_crawl(all_hrefs, section, i)\n",
    "        art_dic[\"section\"] = section\n",
    "        art_dic[\"url\"] = all_hrefs[section][i]\n",
    "        artdic_lst.append(art_dic)"
   ]
  },
  {
   "cell_type": "code",
   "execution_count": 7,
   "metadata": {},
   "outputs": [],
   "source": [
    "import pandas as pd\n",
    "\n",
    "art_df = pd.DataFrame(artdic_lst)"
   ]
  },
  {
   "cell_type": "code",
   "execution_count": 8,
   "metadata": {},
   "outputs": [],
   "source": [
    "art_df.to_csv(\"article_df.csv\")"
   ]
  },
  {
   "cell_type": "code",
   "execution_count": 9,
   "metadata": {},
   "outputs": [
    {
     "data": {
      "text/html": [
       "<div>\n",
       "<style scoped>\n",
       "    .dataframe tbody tr th:only-of-type {\n",
       "        vertical-align: middle;\n",
       "    }\n",
       "\n",
       "    .dataframe tbody tr th {\n",
       "        vertical-align: top;\n",
       "    }\n",
       "\n",
       "    .dataframe thead th {\n",
       "        text-align: right;\n",
       "    }\n",
       "</style>\n",
       "<table border=\"1\" class=\"dataframe\">\n",
       "  <thead>\n",
       "    <tr style=\"text-align: right;\">\n",
       "      <th></th>\n",
       "      <th>title</th>\n",
       "      <th>date</th>\n",
       "      <th>main</th>\n",
       "      <th>section</th>\n",
       "      <th>url</th>\n",
       "    </tr>\n",
       "  </thead>\n",
       "  <tbody>\n",
       "    <tr>\n",
       "      <th>368</th>\n",
       "      <td>[단독] 검사 출신의 140쪽 검토보고서에 발칵 뒤집힌 감사원</td>\n",
       "      <td>2023.06.27. 오전 11:52</td>\n",
       "      <td>\"언어의 가능한 의미는 법률해석의 한계이며 문언 해석이 법률해석의 기본임\"  얼마 ...</td>\n",
       "      <td>100</td>\n",
       "      <td>https://n.news.naver.com/mnews/article/056/001...</td>\n",
       "    </tr>\n",
       "    <tr>\n",
       "      <th>697</th>\n",
       "      <td>\"전형적 포퓰리즘\" TV 수신료 분리징수에 학계도 집단반발</td>\n",
       "      <td>2023.06.27. 오전 11:53</td>\n",
       "      <td>3대 언론학회 다음주 긴급 토론회... \"수신료 납부원과 싸우고 가산금까지, 국민불...</td>\n",
       "      <td>100</td>\n",
       "      <td>https://n.news.naver.com/mnews/article/047/000...</td>\n",
       "    </tr>\n",
       "    <tr>\n",
       "      <th>633</th>\n",
       "      <td>정부 \"日오염수 검토 마무리단계…기준 초과 검출 핵종은 5개\"</td>\n",
       "      <td>2023.06.27. 오전 11:54</td>\n",
       "      <td>원안위원장 \"어제 한일 기술회의…방사선 감시기 추가설치 확인\"수산물 안전관리 예비비...</td>\n",
       "      <td>100</td>\n",
       "      <td>https://n.news.naver.com/mnews/article/001/001...</td>\n",
       "    </tr>\n",
       "    <tr>\n",
       "      <th>713</th>\n",
       "      <td>윤, 새만금 6.6兆 투자 유치 성과 강조… 총선 앞두고 경제 올인</td>\n",
       "      <td>2023.06.27. 오전 11:55</td>\n",
       "      <td>윤재옥(가운데) 국민의힘 원내대표가 27일 오전 국회에서 열린 원내대책회의에 참석해...</td>\n",
       "      <td>100</td>\n",
       "      <td>https://n.news.naver.com/mnews/article/021/000...</td>\n",
       "    </tr>\n",
       "    <tr>\n",
       "      <th>605</th>\n",
       "      <td>내일부터 ‘만 나이’ 시행… 술·담배 살 땐 ‘연 나이’</td>\n",
       "      <td>2023.06.27. 오전 11:55</td>\n",
       "      <td>행정·민사상 1∼2세 어려져윤석열 정부의 주요 국정과제로 추진된 ‘만 나이 통일법’...</td>\n",
       "      <td>100</td>\n",
       "      <td>https://n.news.naver.com/mnews/article/021/000...</td>\n",
       "    </tr>\n",
       "    <tr>\n",
       "      <th>...</th>\n",
       "      <td>...</td>\n",
       "      <td>...</td>\n",
       "      <td>...</td>\n",
       "      <td>...</td>\n",
       "      <td>...</td>\n",
       "    </tr>\n",
       "    <tr>\n",
       "      <th>3296</th>\n",
       "      <td>\"강남 터줏대감은 나\"...삼성 '애플 강남' 인근에 '삼성 강남' 문연다</td>\n",
       "      <td>2023.06.28. 오후 2:41</td>\n",
       "      <td>강남역 인근 체험형 플래그십 스토어오는 29일 오픈, 총 6개층 605평 규모\\n\\...</td>\n",
       "      <td>105</td>\n",
       "      <td>https://n.news.naver.com/mnews/article/008/000...</td>\n",
       "    </tr>\n",
       "    <tr>\n",
       "      <th>3254</th>\n",
       "      <td>개보위, ‘개인정보 유출’ 엘지헬로비전에 11억여 원 과징금 부과</td>\n",
       "      <td>2023.06.28. 오후 2:44</td>\n",
       "      <td>개인정보위가 이용자 4만여 명의 개인정보를 유출시킨 엘지헬로비전에 대해 11억 3,...</td>\n",
       "      <td>105</td>\n",
       "      <td>https://n.news.naver.com/mnews/article/056/001...</td>\n",
       "    </tr>\n",
       "    <tr>\n",
       "      <th>3268</th>\n",
       "      <td>정부, 주유소 내 연료전지 구축 전력생산 허용</td>\n",
       "      <td>2023.06.28. 오후 2:44</td>\n",
       "      <td>실증사업 종료 후 2000여 개 에너지슈퍼스테이션 구축 투자계획 구체화정부가 기존에...</td>\n",
       "      <td>105</td>\n",
       "      <td>https://n.news.naver.com/mnews/article/092/000...</td>\n",
       "    </tr>\n",
       "    <tr>\n",
       "      <th>3207</th>\n",
       "      <td>삼성전자·LG헬로비전, 개인정보 유출…과징금 9억·11억 부과</td>\n",
       "      <td>2023.06.28. 오후 2:45</td>\n",
       "      <td>고학수 개인정보보호위원회 위원장이 28일 오전 서울 종로구 정부서울청사에서 열린 제...</td>\n",
       "      <td>105</td>\n",
       "      <td>https://n.news.naver.com/mnews/article/016/000...</td>\n",
       "    </tr>\n",
       "    <tr>\n",
       "      <th>3298</th>\n",
       "      <td>개인정보위, '삼쩜삼'에 과징금 8억 부과…\"법적 근거없이 주민번호 수집\"</td>\n",
       "      <td>2023.06.28. 오후 2:47</td>\n",
       "      <td>고학수 개인정보보호위원회 위원장(사진=개인정보보호위원회)[이데일리 김가은 기자] 개...</td>\n",
       "      <td>105</td>\n",
       "      <td>https://n.news.naver.com/mnews/article/018/000...</td>\n",
       "    </tr>\n",
       "  </tbody>\n",
       "</table>\n",
       "<p>3299 rows × 5 columns</p>\n",
       "</div>"
      ],
      "text/plain": [
       "                                          title                  date  \\\n",
       "368          [단독] 검사 출신의 140쪽 검토보고서에 발칵 뒤집힌 감사원  2023.06.27. 오전 11:52   \n",
       "697            \"전형적 포퓰리즘\" TV 수신료 분리징수에 학계도 집단반발  2023.06.27. 오전 11:53   \n",
       "633          정부 \"日오염수 검토 마무리단계…기준 초과 검출 핵종은 5개\"  2023.06.27. 오전 11:54   \n",
       "713       윤, 새만금 6.6兆 투자 유치 성과 강조… 총선 앞두고 경제 올인  2023.06.27. 오전 11:55   \n",
       "605             내일부터 ‘만 나이’ 시행… 술·담배 살 땐 ‘연 나이’  2023.06.27. 오전 11:55   \n",
       "...                                         ...                   ...   \n",
       "3296  \"강남 터줏대감은 나\"...삼성 '애플 강남' 인근에 '삼성 강남' 문연다   2023.06.28. 오후 2:41   \n",
       "3254       개보위, ‘개인정보 유출’ 엘지헬로비전에 11억여 원 과징금 부과   2023.06.28. 오후 2:44   \n",
       "3268                  정부, 주유소 내 연료전지 구축 전력생산 허용   2023.06.28. 오후 2:44   \n",
       "3207         삼성전자·LG헬로비전, 개인정보 유출…과징금 9억·11억 부과   2023.06.28. 오후 2:45   \n",
       "3298  개인정보위, '삼쩜삼'에 과징금 8억 부과…\"법적 근거없이 주민번호 수집\"   2023.06.28. 오후 2:47   \n",
       "\n",
       "                                                   main  section  \\\n",
       "368   \"언어의 가능한 의미는 법률해석의 한계이며 문언 해석이 법률해석의 기본임\"  얼마 ...      100   \n",
       "697   3대 언론학회 다음주 긴급 토론회... \"수신료 납부원과 싸우고 가산금까지, 국민불...      100   \n",
       "633   원안위원장 \"어제 한일 기술회의…방사선 감시기 추가설치 확인\"수산물 안전관리 예비비...      100   \n",
       "713   윤재옥(가운데) 국민의힘 원내대표가 27일 오전 국회에서 열린 원내대책회의에 참석해...      100   \n",
       "605   행정·민사상 1∼2세 어려져윤석열 정부의 주요 국정과제로 추진된 ‘만 나이 통일법’...      100   \n",
       "...                                                 ...      ...   \n",
       "3296  강남역 인근 체험형 플래그십 스토어오는 29일 오픈, 총 6개층 605평 규모\\n\\...      105   \n",
       "3254  개인정보위가 이용자 4만여 명의 개인정보를 유출시킨 엘지헬로비전에 대해 11억 3,...      105   \n",
       "3268  실증사업 종료 후 2000여 개 에너지슈퍼스테이션 구축 투자계획 구체화정부가 기존에...      105   \n",
       "3207  고학수 개인정보보호위원회 위원장이 28일 오전 서울 종로구 정부서울청사에서 열린 제...      105   \n",
       "3298  고학수 개인정보보호위원회 위원장(사진=개인정보보호위원회)[이데일리 김가은 기자] 개...      105   \n",
       "\n",
       "                                                    url  \n",
       "368   https://n.news.naver.com/mnews/article/056/001...  \n",
       "697   https://n.news.naver.com/mnews/article/047/000...  \n",
       "633   https://n.news.naver.com/mnews/article/001/001...  \n",
       "713   https://n.news.naver.com/mnews/article/021/000...  \n",
       "605   https://n.news.naver.com/mnews/article/021/000...  \n",
       "...                                                 ...  \n",
       "3296  https://n.news.naver.com/mnews/article/008/000...  \n",
       "3254  https://n.news.naver.com/mnews/article/056/001...  \n",
       "3268  https://n.news.naver.com/mnews/article/092/000...  \n",
       "3207  https://n.news.naver.com/mnews/article/016/000...  \n",
       "3298  https://n.news.naver.com/mnews/article/018/000...  \n",
       "\n",
       "[3299 rows x 5 columns]"
      ]
     },
     "execution_count": 9,
     "metadata": {},
     "output_type": "execute_result"
    }
   ],
   "source": [
    "art_df.sort_values(by='date', ascending=True)"
   ]
  },
  {
   "cell_type": "code",
   "execution_count": 10,
   "metadata": {},
   "outputs": [
    {
     "data": {
      "text/plain": [
       "<bound method DataFrame.sort_values of                                           title                  date  \\\n",
       "0            野, '日 오염수 방류 반대' 결의안 단독 처리…與, 집단퇴장   2023.06.27. 오후 2:59   \n",
       "1         '86운동권' 함운경, 야당 오염수 공세에 \"반일 부추기려는 의도\"   2023.06.28. 오전 9:38   \n",
       "2                 이낙연, 첫 행보로 DJ묘역 참배…“제 정치의 원점”  2023.06.28. 오전 11:15   \n",
       "3         국힘, 오늘 '후쿠시마 괴담' 대응…함운경 강연·우리바다TF 간담회   2023.06.28. 오전 6:05   \n",
       "4             국방부 \"병역의무 이행 연령 기준 '만 나이' 적용 안 해\"  2023.06.28. 오전 11:02   \n",
       "...                                         ...                   ...   \n",
       "3294       SKT, 하나금융그룹과 ‘찾아가는 AI 교육 프로그램’ 공동 운영  2023.06.28. 오전 11:30   \n",
       "3295        MZ 겨냥 '삼성 강남' 오픈...\"화장실 쓰러 오셔도 됩니다\"   2023.06.28. 오후 2:28   \n",
       "3296  \"강남 터줏대감은 나\"...삼성 '애플 강남' 인근에 '삼성 강남' 문연다   2023.06.28. 오후 2:41   \n",
       "3297             애플 견제하는 '삼성 강남'…애플 강남 인접지역 문연다   2023.06.28. 오후 2:10   \n",
       "3298  개인정보위, '삼쩜삼'에 과징금 8억 부과…\"법적 근거없이 주민번호 수집\"   2023.06.28. 오후 2:47   \n",
       "\n",
       "                                                   main  section  \\\n",
       "0     與 \"농해수위 표결 강행은 '날치기'…日 원조 대변인은 文정부\"野 \"국민만 불안, ...      100   \n",
       "1     1985년 서울대 삼민투 위원장으로 미국 문화원 점거 사건을 주도했던 '86그룹(8...      100   \n",
       "2     입국 나흘 만에 공개 행보···역할론엔 말 아껴정치 복귀 시동···盧묘역 참배·文예...      100   \n",
       "3     운동권 출신 함운경 '어민과 수산업계 절규' 주제 강연TF서 해수부 실장 '수산물 ...      100   \n",
       "4     국방부는 오늘(28일) 병역의무 이행과 관련한 연령기준은 만 나이를 적용하지 않는다...      100   \n",
       "...                                                 ...      ...   \n",
       "3294  강원도 인제군에 위치한 용대초 학생들이 '행복코딩스쿨'에 참여하는 모습. /하나금융...      105   \n",
       "3295  '애플 강남' 600m 거리 위치…인스토어 국내 첫 적용 등 차별화\"특정 스토어나 ...      105   \n",
       "3296  강남역 인근 체험형 플래그십 스토어오는 29일 오픈, 총 6개층 605평 규모\\n\\...      105   \n",
       "3297  첫 체험형 플래그십 스토어 문열어젊음·역동성 내세워 MZ세대 마케팅\\n\\n\\n\\n서...      105   \n",
       "3298  고학수 개인정보보호위원회 위원장(사진=개인정보보호위원회)[이데일리 김가은 기자] 개...      105   \n",
       "\n",
       "                                                    url  \n",
       "0     https://n.news.naver.com/mnews/article/586/000...  \n",
       "1     https://n.news.naver.com/mnews/article/055/000...  \n",
       "2     https://n.news.naver.com/mnews/article/011/000...  \n",
       "3     https://n.news.naver.com/mnews/article/421/000...  \n",
       "4     https://n.news.naver.com/mnews/article/055/000...  \n",
       "...                                                 ...  \n",
       "3294  https://n.news.naver.com/mnews/article/366/000...  \n",
       "3295  https://n.news.naver.com/mnews/article/092/000...  \n",
       "3296  https://n.news.naver.com/mnews/article/008/000...  \n",
       "3297  https://n.news.naver.com/mnews/article/648/000...  \n",
       "3298  https://n.news.naver.com/mnews/article/018/000...  \n",
       "\n",
       "[3299 rows x 5 columns]>"
      ]
     },
     "execution_count": 10,
     "metadata": {},
     "output_type": "execute_result"
    }
   ],
   "source": [
    "art_df.sort_values"
   ]
  }
 ],
 "metadata": {
  "kernelspec": {
   "display_name": "dl_dev_gpu",
   "language": "python",
   "name": "python3"
  },
  "language_info": {
   "codemirror_mode": {
    "name": "ipython",
    "version": 3
   },
   "file_extension": ".py",
   "mimetype": "text/x-python",
   "name": "python",
   "nbconvert_exporter": "python",
   "pygments_lexer": "ipython3",
   "version": "3.10.11"
  },
  "orig_nbformat": 4
 },
 "nbformat": 4,
 "nbformat_minor": 2
}
