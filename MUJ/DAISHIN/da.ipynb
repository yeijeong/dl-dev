{
 "cells": [
  {
   "cell_type": "code",
   "execution_count": 21,
   "metadata": {},
   "outputs": [],
   "source": [
    "import pandas as pd\n",
    "import mysql.connector\n",
    "import numpy as np\n",
    "\n",
    "# CSV 파일 읽기\n",
    "data = pd.read_csv('./A012450분봉데이터.csv')\n",
    "\n",
    "# MySQL에 연결\n",
    "cnx = mysql.connector.connect(\n",
    "    host='34.64.240.96'\n",
    "    , user='root'\n",
    "    , password='tndusWkd1.'\n",
    "    , db='final_project'\n",
    "    , charset='utf8')\n",
    "\n",
    "# 데이터베이스 커서 생성\n",
    "cursor = cnx.cursor()"
   ]
  },
  {
   "cell_type": "code",
   "execution_count": 22,
   "metadata": {},
   "outputs": [
    {
     "name": "stdout",
     "output_type": "stream",
     "text": [
      "<class 'pandas.core.frame.DataFrame'>\n",
      "RangeIndex: 187690 entries, 0 to 187689\n",
      "Data columns (total 10 columns):\n",
      " #   Column                          Non-Null Count   Dtype\n",
      "---  ------                          --------------   -----\n",
      " 0   Unnamed: 0                      187690 non-null  int64\n",
      " 1   date                            187690 non-null  int64\n",
      " 2   time                            187690 non-null  int64\n",
      " 3   open                            187690 non-null  int64\n",
      " 4   high                            187690 non-null  int64\n",
      " 5   low                             187690 non-null  int64\n",
      " 6   close                           187690 non-null  int64\n",
      " 7   volume                          187690 non-null  int64\n",
      " 8   Accumulated sales volume        187690 non-null  int64\n",
      " 9   Accumulated number of contract  187690 non-null  int64\n",
      "dtypes: int64(10)\n",
      "memory usage: 14.3 MB\n"
     ]
    }
   ],
   "source": [
    "data.info()"
   ]
  },
  {
   "cell_type": "code",
   "execution_count": 23,
   "metadata": {},
   "outputs": [
    {
     "ename": "ProgrammingError",
     "evalue": "Not all parameters were used in the SQL statement",
     "output_type": "error",
     "traceback": [
      "\u001b[0;31m---------------------------------------------------------------------------\u001b[0m",
      "\u001b[0;31mProgrammingError\u001b[0m                          Traceback (most recent call last)",
      "Cell \u001b[0;32mIn[23], line 16\u001b[0m\n\u001b[1;32m      4\u001b[0m     \u001b[39m# values = (row['date'], row['time'], row['open'], row['high'], row['low'], row['close'], row['value'])\u001b[39;00m\n\u001b[1;32m      5\u001b[0m     values \u001b[39m=\u001b[39m (\n\u001b[1;32m      6\u001b[0m         \u001b[39mint\u001b[39m(row[\u001b[39m'\u001b[39m\u001b[39mdate\u001b[39m\u001b[39m'\u001b[39m]) \u001b[39mif\u001b[39;00m \u001b[39misinstance\u001b[39m(row[\u001b[39m'\u001b[39m\u001b[39mdate\u001b[39m\u001b[39m'\u001b[39m], np\u001b[39m.\u001b[39mint64) \u001b[39melse\u001b[39;00m row[\u001b[39m'\u001b[39m\u001b[39mdate\u001b[39m\u001b[39m'\u001b[39m],\n\u001b[1;32m      7\u001b[0m         \u001b[39mint\u001b[39m(row[\u001b[39m'\u001b[39m\u001b[39mtime\u001b[39m\u001b[39m'\u001b[39m]) \u001b[39mif\u001b[39;00m \u001b[39misinstance\u001b[39m(row[\u001b[39m'\u001b[39m\u001b[39mtime\u001b[39m\u001b[39m'\u001b[39m], np\u001b[39m.\u001b[39mint64) \u001b[39melse\u001b[39;00m row[\u001b[39m'\u001b[39m\u001b[39mtime\u001b[39m\u001b[39m'\u001b[39m],\n\u001b[0;32m   (...)\u001b[0m\n\u001b[1;32m     14\u001b[0m         \u001b[39mint\u001b[39m(row[\u001b[39m'\u001b[39m\u001b[39mAccumulated number of contract\u001b[39m\u001b[39m'\u001b[39m]) \u001b[39mif\u001b[39;00m \u001b[39misinstance\u001b[39m(row[\u001b[39m'\u001b[39m\u001b[39mAccumulated number of contract\u001b[39m\u001b[39m'\u001b[39m], np\u001b[39m.\u001b[39mint64) \u001b[39melse\u001b[39;00m row[\u001b[39m'\u001b[39m\u001b[39mAccumulated number of contract\u001b[39m\u001b[39m'\u001b[39m]\n\u001b[1;32m     15\u001b[0m     )\n\u001b[0;32m---> 16\u001b[0m     cursor\u001b[39m.\u001b[39;49mexecute(query, values)\n\u001b[1;32m     18\u001b[0m \u001b[39m# 변경사항 커밋\u001b[39;00m\n\u001b[1;32m     19\u001b[0m cnx\u001b[39m.\u001b[39mcommit()\n",
      "File \u001b[0;32m~/miniforge3/envs/dl_dev_gpu/lib/python3.10/site-packages/mysql/connector/cursor_cext.py:325\u001b[0m, in \u001b[0;36mCMySQLCursor.execute\u001b[0;34m(self, operation, params, multi)\u001b[0m\n\u001b[1;32m    323\u001b[0m         stmt \u001b[39m=\u001b[39m RE_PY_PARAM\u001b[39m.\u001b[39msub(psub, stmt)\n\u001b[1;32m    324\u001b[0m         \u001b[39mif\u001b[39;00m psub\u001b[39m.\u001b[39mremaining \u001b[39m!=\u001b[39m \u001b[39m0\u001b[39m:\n\u001b[0;32m--> 325\u001b[0m             \u001b[39mraise\u001b[39;00m ProgrammingError(\n\u001b[1;32m    326\u001b[0m                 \u001b[39m\"\u001b[39m\u001b[39mNot all parameters were used in the SQL statement\u001b[39m\u001b[39m\"\u001b[39m\n\u001b[1;32m    327\u001b[0m             )\n\u001b[1;32m    329\u001b[0m \u001b[39mtry\u001b[39;00m:\n\u001b[1;32m    330\u001b[0m     result \u001b[39m=\u001b[39m \u001b[39mself\u001b[39m\u001b[39m.\u001b[39m_cnx\u001b[39m.\u001b[39mcmd_query(\n\u001b[1;32m    331\u001b[0m         stmt,\n\u001b[1;32m    332\u001b[0m         raw\u001b[39m=\u001b[39m\u001b[39mself\u001b[39m\u001b[39m.\u001b[39m_raw,\n\u001b[1;32m    333\u001b[0m         buffered\u001b[39m=\u001b[39m\u001b[39mself\u001b[39m\u001b[39m.\u001b[39m_buffered,\n\u001b[1;32m    334\u001b[0m         raw_as_string\u001b[39m=\u001b[39m\u001b[39mself\u001b[39m\u001b[39m.\u001b[39m_raw_as_string,\n\u001b[1;32m    335\u001b[0m     )\n",
      "\u001b[0;31mProgrammingError\u001b[0m: Not all parameters were used in the SQL statement"
     ]
    }
   ],
   "source": [
    "\n",
    "# 데이터 삽입\n",
    "for index, row in data.iterrows():\n",
    "    query = \"INSERT INTO past_jusik_012450_hanwhaairospace (date, time, open, high, low, close, volume, Accumulated sales volume, Accumulated number of contract) VALUES (%s, %s, %s, %s, %s, %s, %s)\"\n",
    "    # values = (row['date'], row['time'], row['open'], row['high'], row['low'], row['close'], row['value'])\n",
    "    values = (\n",
    "        int(row['date']) if isinstance(row['date'], np.int64) else row['date'],\n",
    "        int(row['time']) if isinstance(row['time'], np.int64) else row['time'],\n",
    "        int(row['open']) if isinstance(row['open'], np.int64) else row['open'],\n",
    "        int(row['high']) if isinstance(row['high'], np.int64) else row['high'],\n",
    "        int(row['low']) if isinstance(row['low'], np.int64) else row['low'],\n",
    "        int(row['close']) if isinstance(row['close'], np.int64) else row['close'],\n",
    "        int(row['volume']) if isinstance(row['volume'], np.int64) else row['volume'],\n",
    "        int(row['Accumulated sales volume']) if isinstance(row['Accumulated sales volume'], np.int64) else row['Accumulated sales volume'],\n",
    "        int(row['Accumulated number of contract']) if isinstance(row['Accumulated number of contract'], np.int64) else row['Accumulated number of contract']\n",
    "    )\n",
    "    cursor.execute(query, values)\n",
    "\n",
    "# 변경사항 커밋\n",
    "cnx.commit()\n",
    "\n",
    "# 커서와 연결 해제\n",
    "cursor.close()\n",
    "cnx.close()"
   ]
  }
 ],
 "metadata": {
  "kernelspec": {
   "display_name": "pandas_dev",
   "language": "python",
   "name": "python3"
  },
  "language_info": {
   "codemirror_mode": {
    "name": "ipython",
    "version": 3
   },
   "file_extension": ".py",
   "mimetype": "text/x-python",
   "name": "python",
   "nbconvert_exporter": "python",
   "pygments_lexer": "ipython3",
   "version": "3.10.11"
  },
  "orig_nbformat": 4
 },
 "nbformat": 4,
 "nbformat_minor": 2
}
