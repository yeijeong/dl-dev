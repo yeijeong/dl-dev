{
 "cells": [
  {
   "attachments": {},
   "cell_type": "markdown",
   "metadata": {},
   "source": [
    "---\n",
    "참고 url : https://wikidocs.net/3683\n",
    "\n",
    "##### 단일데이터 가져오기 코든데 뭐에 사용하는지는 잘 모르겠음\n",
    "---"
   ]
  },
  {
   "attachments": {},
   "cell_type": "markdown",
   "metadata": {},
   "source": [
    "---\n",
    "##### 필요한 import , login"
   ]
  },
  {
   "cell_type": "code",
   "execution_count": 3,
   "metadata": {},
   "outputs": [],
   "source": [
    "import win32com.client\n",
    "import pythoncom\n",
    "\n",
    "class XASessionEventHandler:\n",
    "    login_state = 0\n",
    "\n",
    "    def OnLogin(self, code, msg):\n",
    "        if code == \"0000\":\n",
    "            print(\"로그인 성공\")\n",
    "            XASessionEventHandler.login_state = 1\n",
    "        else:\n",
    "            print(\"로그인 실패\")\n",
    "\n",
    "class XAQueryEventHandlerT1102:\n",
    "    query_state = 0\n",
    "\n",
    "    def OnReceiveData(self, code):\n",
    "        XAQueryEventHandlerT1102.query_state = 1\n"
   ]
  },
  {
   "cell_type": "code",
   "execution_count": 4,
   "metadata": {},
   "outputs": [
    {
     "name": "stdout",
     "output_type": "stream",
     "text": [
      "로그인 성공\n"
     ]
    }
   ],
   "source": [
    "# ----------------------------------------------------------------------------\n",
    "# login\n",
    "# ----------------------------------------------------------------------------\n",
    "id = \"ssuyan\"\n",
    "passwd = \"tndus1!!\"\n",
    "cert_passwd = \"qkrtndus1!!\"\n",
    "\n",
    "instXASession = win32com.client.DispatchWithEvents(\"XA_Session.XASession\", XASessionEventHandler)\n",
    "instXASession.ConnectServer(\"hts.ebestsec.co.kr\", 20001)\n",
    "instXASession.Login(id, passwd, cert_passwd, 0, 0)\n",
    "\n",
    "while XASessionEventHandler.login_state == 0:\n",
    "    pythoncom.PumpWaitingMessages()\n"
   ]
  },
  {
   "attachments": {},
   "cell_type": "markdown",
   "metadata": {},
   "source": [
    "---\n",
    "##### TR 코드에 대한 이번트 처리할 클래스이다.\n",
    "##### query_state라는 이름의 클래스 변수를 사용해 이벤트 처리 여부 저장\n",
    "    \n",
    "    - 요청한 작업이 완료되면 query_state 값이 1로 변경된다."
   ]
  },
  {
   "cell_type": "code",
   "execution_count": 5,
   "metadata": {},
   "outputs": [],
   "source": [
    "class XAQueryEventHandlerT1102:\n",
    "    query_state = 0\n",
    "\n",
    "    def OnReceiveData(self, code):\n",
    "        XAQueryEventHandlerT1102.query_state = 1"
   ]
  },
  {
   "cell_type": "code",
   "execution_count": 6,
   "metadata": {},
   "outputs": [],
   "source": [
    "instXAQueryT1102 = win32com.client.DispatchWithEvents(\"XA_DataSet.XAQuery\", XAQueryEventHandlerT1102)"
   ]
  },
  {
   "cell_type": "code",
   "execution_count": 7,
   "metadata": {},
   "outputs": [],
   "source": [
    "instXAQueryT1102.ResFileName = \"C:\\\\eBEST\\\\xingAPI\\\\Res\\\\t1102.res\""
   ]
  },
  {
   "attachments": {},
   "cell_type": "markdown",
   "metadata": {},
   "source": [
    "---\n",
    "##### \n",
    "1. 파이썬 코드로 입력 데이터를 설정하려면 XAQuery 인스턴스를 통해 SetFieldData라는 메서드를 호출한 후 적절한 인자 값을 지정\n",
    "\n",
    "\n",
    "2. SetFieldData의 1번째 파라미터는 블록명이고, 2번째 파라미터는 필드명입니다. 3번째 파라미터에는 단일 데이터를 조회할 때는 0을 지정하면 되고, 4번째 파라미터는 필드에 해당하는 입력값이다."
   ]
  },
  {
   "cell_type": "code",
   "execution_count": 8,
   "metadata": {},
   "outputs": [],
   "source": [
    "instXAQueryT1102.SetFieldData(\"t1102InBlock\", \"shcode\", 0, \"078020\")"
   ]
  },
  {
   "cell_type": "code",
   "execution_count": 9,
   "metadata": {},
   "outputs": [
    {
     "data": {
      "text/plain": [
       "17"
      ]
     },
     "execution_count": 9,
     "metadata": {},
     "output_type": "execute_result"
    }
   ],
   "source": [
    "instXAQueryT1102.Request(0)"
   ]
  },
  {
   "cell_type": "code",
   "execution_count": 10,
   "metadata": {},
   "outputs": [],
   "source": [
    "while XAQueryEventHandlerT1102.query_state == 0:\n",
    "    pythoncom.PumpWaitingMessages()"
   ]
  },
  {
   "attachments": {},
   "cell_type": "markdown",
   "metadata": {},
   "source": [
    "---\n",
    "- t1102OutBlock 블록명과 원하는 필드명을 입력해 데이터를 가져올 수 있습니다.    \n",
    "\n",
    "\n",
    "    - 예를 들어, \"hname\" 필드명을 지정하면 한글종목명을 가져올 수 있고, \"price\" 필드명을 지정하면 종목의 현재가를 가져올 수 있습니다."
   ]
  },
  {
   "cell_type": "code",
   "execution_count": 11,
   "metadata": {},
   "outputs": [
    {
     "name": "stdout",
     "output_type": "stream",
     "text": [
      "이베스트투자증권\n",
      "4495\n"
     ]
    }
   ],
   "source": [
    "name = instXAQueryT1102.GetFieldData(\"t1102OutBlock\", \"hname\", 0)\n",
    "price = instXAQueryT1102.GetFieldData(\"t1102OutBlock\", \"price\", 0)\n",
    "print(name)\n",
    "print(price)"
   ]
  },
  {
   "attachments": {},
   "cell_type": "markdown",
   "metadata": {},
   "source": [
    "---\n",
    "##### 특정기간 데이터 가져오기\n",
    "---"
   ]
  },
  {
   "cell_type": "code",
   "execution_count": 13,
   "metadata": {},
   "outputs": [],
   "source": [
    "import win32com.client\n",
    "import pythoncom\n",
    "\n",
    "class XASessionEventHandler:\n",
    "    login_state = 0\n",
    "\n",
    "    def OnLogin(self, code, msg):\n",
    "        if code == \"0000\":\n",
    "            print(\"로그인 성공\")\n",
    "            XASessionEventHandler.login_state = 1\n",
    "        else:\n",
    "            print(\"로그인 실패\")\n",
    "\n",
    "class XAQueryEventHandlerT8413:\n",
    "    query_state = 0\n",
    "\n",
    "    def OnReceiveData(self, code):\n",
    "        XAQueryEventHandlerT8413.query_state = 1\n"
   ]
  },
  {
   "cell_type": "code",
   "execution_count": 15,
   "metadata": {},
   "outputs": [
    {
     "name": "stdout",
     "output_type": "stream",
     "text": [
      "로그인 성공\n"
     ]
    }
   ],
   "source": [
    "# ----------------------------------------------------------------------------\n",
    "# login\n",
    "# ----------------------------------------------------------------------------\n",
    "id = \"ssuyan\"\n",
    "passwd = \"tndus1!!\"\n",
    "cert_passwd = \"qkrtndus1!!\"\n",
    "\n",
    "instXASession = win32com.client.DispatchWithEvents(\"XA_Session.XASession\", XASessionEventHandler)\n",
    "instXASession.ConnectServer(\"hts.ebestsec.co.kr\", 20001)\n",
    "instXASession.Login(id, passwd, cert_passwd, 0, 0)\n",
    "\n",
    "while XASessionEventHandler.login_state == 0:\n",
    "    pythoncom.PumpWaitingMessages()"
   ]
  },
  {
   "cell_type": "code",
   "execution_count": 16,
   "metadata": {},
   "outputs": [
    {
     "data": {
      "text/plain": [
       "40"
      ]
     },
     "execution_count": 16,
     "metadata": {},
     "output_type": "execute_result"
    }
   ],
   "source": [
    "\n",
    "# ----------------------------------------------------------------------------\n",
    "# T8413\n",
    "# ----------------------------------------------------------------------------\n",
    "instXAQueryT8413 = win32com.client.DispatchWithEvents(\"XA_DataSet.XAQuery\", XAQueryEventHandlerT8413)\n",
    "instXAQueryT8413.ResFileName = \"C:\\\\eBEST\\\\xingAPI\\\\Res\\\\t8413.res\"\n",
    "\n",
    "instXAQueryT8413.SetFieldData(\"t8413InBlock\", \"shcode\", 0, \"078020\")\n",
    "instXAQueryT8413.SetFieldData(\"t8413InBlock\", \"gubun\", 0, \"2\")\n",
    "instXAQueryT8413.SetFieldData(\"t8413InBlock\", \"sdate\", 0, \"20160111\")\n",
    "instXAQueryT8413.SetFieldData(\"t8413InBlock\", \"edate\", 0, \"20160122\")\n",
    "instXAQueryT8413.SetFieldData(\"t8413InBlock\", \"comp_yn\", 0, \"N\")\n",
    "\n",
    "instXAQueryT8413.Request(0)\n"
   ]
  },
  {
   "cell_type": "code",
   "execution_count": 17,
   "metadata": {},
   "outputs": [],
   "source": [
    "while XAQueryEventHandlerT8413.query_state == 0:\n",
    "    pythoncom.PumpWaitingMessages()"
   ]
  },
  {
   "cell_type": "code",
   "execution_count": 18,
   "metadata": {},
   "outputs": [
    {
     "name": "stdout",
     "output_type": "stream",
     "text": [
      "20160111 9810 9860 9700 9800\n",
      "20160112 9670 9990 9670 9750\n",
      "20160113 9790 9840 9790 9800\n",
      "20160114 9560 9810 9560 9690\n",
      "20160115 9820 9820 9590 9590\n",
      "20160118 9590 9590 9450 9450\n",
      "20160119 9270 9320 9240 9240\n",
      "20160120 9570 9570 9020 9080\n",
      "20160121 9100 9260 9050 9050\n",
      "20160122 9020 9200 8880 9060\n"
     ]
    }
   ],
   "source": [
    "count = instXAQueryT8413.GetBlockCount(\"t8413OutBlock1\")\n",
    "for i in range(count):\n",
    "    date = instXAQueryT8413.GetFieldData(\"t8413OutBlock1\", \"date\", i)\n",
    "    open = instXAQueryT8413.GetFieldData(\"t8413OutBlock1\", \"open\", i)\n",
    "    high = instXAQueryT8413.GetFieldData(\"t8413OutBlock1\", \"high\", i)\n",
    "    low = instXAQueryT8413.GetFieldData(\"t8413OutBlock1\", \"low\", i)\n",
    "    close = instXAQueryT8413.GetFieldData(\"t8413OutBlock1\", \"close\", i)\n",
    "    print(date, open, high, low, close)"
   ]
  },
  {
   "cell_type": "code",
   "execution_count": null,
   "metadata": {},
   "outputs": [],
   "source": []
  },
  {
   "cell_type": "code",
   "execution_count": null,
   "metadata": {},
   "outputs": [],
   "source": []
  },
  {
   "cell_type": "code",
   "execution_count": null,
   "metadata": {},
   "outputs": [],
   "source": []
  },
  {
   "cell_type": "code",
   "execution_count": null,
   "metadata": {},
   "outputs": [],
   "source": []
  },
  {
   "cell_type": "code",
   "execution_count": null,
   "metadata": {},
   "outputs": [],
   "source": []
  },
  {
   "cell_type": "code",
   "execution_count": null,
   "metadata": {},
   "outputs": [],
   "source": []
  },
  {
   "cell_type": "code",
   "execution_count": null,
   "metadata": {},
   "outputs": [],
   "source": []
  }
 ],
 "metadata": {
  "kernelspec": {
   "display_name": "traiding",
   "language": "python",
   "name": "python3"
  },
  "language_info": {
   "codemirror_mode": {
    "name": "ipython",
    "version": 3
   },
   "file_extension": ".py",
   "mimetype": "text/x-python",
   "name": "python",
   "nbconvert_exporter": "python",
   "pygments_lexer": "ipython3",
   "version": "3.7.13"
  },
  "orig_nbformat": 4
 },
 "nbformat": 4,
 "nbformat_minor": 2
}
