{
 "cells": [
  {
   "attachments": {},
   "cell_type": "markdown",
   "metadata": {},
   "source": [
    "---\n",
    "참고 url : https://wikidocs.net/3683\n",
    "\n",
    "---"
   ]
  },
  {
   "attachments": {},
   "cell_type": "markdown",
   "metadata": {},
   "source": [
    "---\n",
    "##### 필요한 import , login"
   ]
  },
  {
   "cell_type": "code",
   "execution_count": 3,
   "metadata": {},
   "outputs": [],
   "source": [
    "import win32com.client\n",
    "import pythoncom\n",
    "\n",
    "class XASessionEventHandler:\n",
    "    login_state = 0\n",
    "\n",
    "    def OnLogin(self, code, msg):\n",
    "        if code == \"0000\":\n",
    "            print(\"로그인 성공\")\n",
    "            XASessionEventHandler.login_state = 1\n",
    "        else:\n",
    "            print(\"로그인 실패\")\n",
    "\n",
    "class XAQueryEventHandlerT1102:\n",
    "    query_state = 0\n",
    "\n",
    "    def OnReceiveData(self, code):\n",
    "        XAQueryEventHandlerT1102.query_state = 1\n"
   ]
  },
  {
   "cell_type": "code",
   "execution_count": 4,
   "metadata": {},
   "outputs": [
    {
     "name": "stdout",
     "output_type": "stream",
     "text": [
      "로그인 성공\n"
     ]
    }
   ],
   "source": [
    "# ----------------------------------------------------------------------------\n",
    "# login\n",
    "# ----------------------------------------------------------------------------\n",
    "id = \"ssuyan\"\n",
    "passwd = \"tndus1!!\"\n",
    "cert_passwd = \"qkrtndus1!!\"\n",
    "\n",
    "instXASession = win32com.client.DispatchWithEvents(\"XA_Session.XASession\", XASessionEventHandler)\n",
    "instXASession.ConnectServer(\"hts.ebestsec.co.kr\", 20001)\n",
    "instXASession.Login(id, passwd, cert_passwd, 0, 0)\n",
    "\n",
    "while XASessionEventHandler.login_state == 0:\n",
    "    pythoncom.PumpWaitingMessages()\n"
   ]
  },
  {
   "attachments": {},
   "cell_type": "markdown",
   "metadata": {},
   "source": [
    "---\n",
    "##### TR 코드에 대한 이번트 처리할 클래스이다.\n",
    "##### query_state라는 이름의 클래스 변수를 사용해 이벤트 처리 여부 저장\n",
    "    \n",
    "    - 요청한 작업이 완료되면 query_state 값이 1로 변경된다."
   ]
  },
  {
   "cell_type": "code",
   "execution_count": 5,
   "metadata": {},
   "outputs": [],
   "source": [
    "class XAQueryEventHandlerT1102:\n",
    "    query_state = 0\n",
    "\n",
    "    def OnReceiveData(self, code):\n",
    "        XAQueryEventHandlerT1102.query_state = 1"
   ]
  },
  {
   "cell_type": "code",
   "execution_count": 6,
   "metadata": {},
   "outputs": [],
   "source": [
    "instXAQueryT1102 = win32com.client.DispatchWithEvents(\"XA_DataSet.XAQuery\", XAQueryEventHandlerT1102)"
   ]
  },
  {
   "cell_type": "code",
   "execution_count": 7,
   "metadata": {},
   "outputs": [],
   "source": [
    "instXAQueryT1102.ResFileName = \"C:\\\\eBEST\\\\xingAPI\\\\Res\\\\t1102.res\""
   ]
  },
  {
   "cell_type": "code",
   "execution_count": 8,
   "metadata": {},
   "outputs": [],
   "source": [
    "instXAQueryT1102.SetFieldData(\"t1102InBlock\", \"shcode\", 0, \"078020\")"
   ]
  },
  {
   "cell_type": "code",
   "execution_count": 9,
   "metadata": {},
   "outputs": [
    {
     "data": {
      "text/plain": [
       "17"
      ]
     },
     "execution_count": 9,
     "metadata": {},
     "output_type": "execute_result"
    }
   ],
   "source": [
    "instXAQueryT1102.Request(0)"
   ]
  },
  {
   "cell_type": "code",
   "execution_count": 10,
   "metadata": {},
   "outputs": [],
   "source": [
    "while XAQueryEventHandlerT1102.query_state == 0:\n",
    "    pythoncom.PumpWaitingMessages()"
   ]
  },
  {
   "cell_type": "code",
   "execution_count": 11,
   "metadata": {},
   "outputs": [
    {
     "name": "stdout",
     "output_type": "stream",
     "text": [
      "이베스트투자증권\n",
      "4495\n"
     ]
    }
   ],
   "source": [
    "name = instXAQueryT1102.GetFieldData(\"t1102OutBlock\", \"hname\", 0)\n",
    "price = instXAQueryT1102.GetFieldData(\"t1102OutBlock\", \"price\", 0)\n",
    "print(name)\n",
    "print(price)"
   ]
  },
  {
   "cell_type": "code",
   "execution_count": null,
   "metadata": {},
   "outputs": [],
   "source": []
  },
  {
   "cell_type": "code",
   "execution_count": null,
   "metadata": {},
   "outputs": [],
   "source": []
  },
  {
   "cell_type": "code",
   "execution_count": null,
   "metadata": {},
   "outputs": [],
   "source": []
  },
  {
   "cell_type": "code",
   "execution_count": null,
   "metadata": {},
   "outputs": [],
   "source": []
  },
  {
   "cell_type": "code",
   "execution_count": null,
   "metadata": {},
   "outputs": [],
   "source": []
  },
  {
   "cell_type": "code",
   "execution_count": null,
   "metadata": {},
   "outputs": [],
   "source": []
  },
  {
   "cell_type": "code",
   "execution_count": null,
   "metadata": {},
   "outputs": [],
   "source": []
  },
  {
   "cell_type": "code",
   "execution_count": null,
   "metadata": {},
   "outputs": [],
   "source": []
  }
 ],
 "metadata": {
  "kernelspec": {
   "display_name": "traiding",
   "language": "python",
   "name": "python3"
  },
  "language_info": {
   "codemirror_mode": {
    "name": "ipython",
    "version": 3
   },
   "file_extension": ".py",
   "mimetype": "text/x-python",
   "name": "python",
   "nbconvert_exporter": "python",
   "pygments_lexer": "ipython3",
   "version": "3.7.13"
  },
  "orig_nbformat": 4
 },
 "nbformat": 4,
 "nbformat_minor": 2
}
