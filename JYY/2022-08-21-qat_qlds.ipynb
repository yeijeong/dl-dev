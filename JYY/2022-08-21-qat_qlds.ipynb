{
 "cells": [
  {
   "cell_type": "code",
   "execution_count": 1,
   "metadata": {},
   "outputs": [],
   "source": [
    "%load_ext autoreload\n",
    "%autoreload 2"
   ]
  },
  {
   "cell_type": "code",
   "execution_count": 31,
   "metadata": {},
   "outputs": [
    {
     "data": {
      "application/vnd.jupyter.widget-view+json": {
       "model_id": "2f00002e37674b469b95c4619eb79daa",
       "version_major": 2,
       "version_minor": 0
      },
      "text/plain": [
       "  0%|          | 0/2327 [00:00<?, ?it/s]"
      ]
     },
     "metadata": {},
     "output_type": "display_data"
    },
    {
     "data": {
      "text/plain": [
       "DescribeResult(nobs=3488682, minmax=(0.18921474526394863, 0.847763422421168), mean=0.49919003189051064, variance=0.0033494127723283553, skewness=-1.1412328575206214, kurtosis=2.0154585241432867)"
      ]
     },
     "execution_count": 31,
     "metadata": {},
     "output_type": "execute_result"
    }
   ],
   "source": [
    "import os\n",
    "from tqdm.notebook import tqdm\n",
    "import numpy as np\n",
    "import scipy\n",
    "\n",
    "sigmoid = lambda x: 1 / (1 + np.exp(-x))\n",
    "\n",
    "y = []\n",
    "for path, dirs, files in os.walk(os.path.join('data', 'training', 'qlds_2022a', 'X_label')):\n",
    "    pbar = tqdm(files)\n",
    "    for filename in pbar:\n",
    "        code = filename.split('.')[0].split('_')[-2]\n",
    "        name = filename.split('.')[0].split('_')[-1]\n",
    "        pbar.set_description(code)\n",
    "        file_path = os.path.join(path, filename)\n",
    "        X_label = np.load(file_path)\n",
    "        \n",
    "        _y = sigmoid((X_label[:, 0] * 0.5 + X_label[:, 1] * 0.3 + X_label[:, 2] * 0.2) * 3)\n",
    "        y.extend(_y)\n",
    "\n",
    "        file_path = os.path.join('data', 'training', 'qlds_2022a', 'y', f'y_{code}_{name}.npy')\n",
    "        os.makedirs(os.path.dirname(file_path), exist_ok=True)\n",
    "        np.save(file_path, _y)\n",
    "\n",
    "scipy.stats.describe(y)"
   ]
  },
  {
   "cell_type": "code",
   "execution_count": 32,
   "metadata": {},
   "outputs": [
    {
     "name": "stdout",
     "output_type": "stream",
     "text": [
      "(1782, 435)\n"
     ]
    }
   ],
   "source": [
    "input_dim = 0\n",
    "for path, dirs, files in os.walk(os.path.join('data', 'training', 'qlds_2022a', 'X')):\n",
    "    for filename in files:\n",
    "        file_path = os.path.join(path, filename)\n",
    "        X = np.load(file_path)\n",
    "        print(X.shape)\n",
    "        input_dim = X.shape[1]\n",
    "        break"
   ]
  },
  {
   "cell_type": "code",
   "execution_count": 33,
   "metadata": {},
   "outputs": [
    {
     "data": {
      "text/plain": [
       "Sequential(\n",
       "  (0): Linear(in_features=435, out_features=256, bias=True)\n",
       "  (1): ReLU()\n",
       "  (2): Dropout(p=0.1, inplace=False)\n",
       "  (3): Linear(in_features=256, out_features=128, bias=True)\n",
       "  (4): ReLU()\n",
       "  (5): Dropout(p=0.1, inplace=False)\n",
       "  (6): Linear(in_features=128, out_features=64, bias=True)\n",
       "  (7): ReLU()\n",
       "  (8): Dropout(p=0.1, inplace=False)\n",
       "  (9): Linear(in_features=64, out_features=32, bias=True)\n",
       "  (10): ReLU()\n",
       "  (11): Dropout(p=0.1, inplace=False)\n",
       "  (12): Linear(in_features=32, out_features=1, bias=True)\n",
       "  (13): Sigmoid()\n",
       ")"
      ]
     },
     "execution_count": 33,
     "metadata": {},
     "output_type": "execute_result"
    }
   ],
   "source": [
    "import torch\n",
    "device = torch.device('cuda' if torch.cuda.is_available() else 'cpu')\n",
    "model = torch.nn.Sequential(\n",
    "    torch.nn.Linear(input_dim, 256),\n",
    "    torch.nn.ReLU(),\n",
    "    torch.nn.Dropout(p=0.1),\n",
    "    torch.nn.Linear(256, 128),\n",
    "    torch.nn.ReLU(),\n",
    "    torch.nn.Dropout(p=0.1),\n",
    "    torch.nn.Linear(128, 64),\n",
    "    torch.nn.ReLU(),\n",
    "    torch.nn.Dropout(p=0.1),\n",
    "    torch.nn.Linear(64, 32),\n",
    "    torch.nn.ReLU(),\n",
    "    torch.nn.Dropout(p=0.1),\n",
    "    torch.nn.Linear(32, 1),\n",
    "    torch.nn.Sigmoid(),\n",
    ")\n",
    "def init_weights(m):\n",
    "    if isinstance(m, torch.nn.Linear):\n",
    "        torch.nn.init.normal_(m.weight, std=0.01)\n",
    "model.apply(init_weights)\n",
    "model.to(device)"
   ]
  },
  {
   "cell_type": "code",
   "execution_count": 40,
   "metadata": {},
   "outputs": [
    {
     "data": {
      "application/vnd.jupyter.widget-view+json": {
       "model_id": "d10b4f36d546485999630bd150525aa6",
       "version_major": 2,
       "version_minor": 0
      },
      "text/plain": [
       "  0%|          | 0/10 [00:00<?, ?it/s]"
      ]
     },
     "metadata": {},
     "output_type": "display_data"
    },
    {
     "data": {
      "application/vnd.jupyter.widget-view+json": {
       "model_id": "bf917224758249cdb24fb060630066d9",
       "version_major": 2,
       "version_minor": 0
      },
      "text/plain": [
       "  0%|          | 0/2327 [00:00<?, ?it/s]"
      ]
     },
     "metadata": {},
     "output_type": "display_data"
    },
    {
     "name": "stdout",
     "output_type": "stream",
     "text": [
      "epoch=0\tloss=5.6357756288780365\n"
     ]
    },
    {
     "data": {
      "application/vnd.jupyter.widget-view+json": {
       "model_id": "768efe833be94e1987939387a5ee087d",
       "version_major": 2,
       "version_minor": 0
      },
      "text/plain": [
       "  0%|          | 0/2327 [00:00<?, ?it/s]"
      ]
     },
     "metadata": {},
     "output_type": "display_data"
    },
    {
     "name": "stdout",
     "output_type": "stream",
     "text": [
      "epoch=1\tloss=5.553984031372238\n"
     ]
    },
    {
     "data": {
      "application/vnd.jupyter.widget-view+json": {
       "model_id": "42ba34e8736f4f419d9bc94ed5da6921",
       "version_major": 2,
       "version_minor": 0
      },
      "text/plain": [
       "  0%|          | 0/2327 [00:00<?, ?it/s]"
      ]
     },
     "metadata": {},
     "output_type": "display_data"
    },
    {
     "name": "stdout",
     "output_type": "stream",
     "text": [
      "epoch=2\tloss=5.493619897693861\n"
     ]
    },
    {
     "data": {
      "application/vnd.jupyter.widget-view+json": {
       "model_id": "555adfcca14c4eb5a0dfa2f0932d303a",
       "version_major": 2,
       "version_minor": 0
      },
      "text/plain": [
       "  0%|          | 0/2327 [00:00<?, ?it/s]"
      ]
     },
     "metadata": {},
     "output_type": "display_data"
    },
    {
     "name": "stdout",
     "output_type": "stream",
     "text": [
      "epoch=3\tloss=5.401611910849169\n"
     ]
    },
    {
     "data": {
      "application/vnd.jupyter.widget-view+json": {
       "model_id": "d197a726044242ca9f759d3224e1e42c",
       "version_major": 2,
       "version_minor": 0
      },
      "text/plain": [
       "  0%|          | 0/2327 [00:00<?, ?it/s]"
      ]
     },
     "metadata": {},
     "output_type": "display_data"
    },
    {
     "name": "stdout",
     "output_type": "stream",
     "text": [
      "epoch=4\tloss=5.281618339283341\n"
     ]
    },
    {
     "data": {
      "application/vnd.jupyter.widget-view+json": {
       "model_id": "8fb306c3b17a412ab43c157da081036f",
       "version_major": 2,
       "version_minor": 0
      },
      "text/plain": [
       "  0%|          | 0/2327 [00:00<?, ?it/s]"
      ]
     },
     "metadata": {},
     "output_type": "display_data"
    },
    {
     "name": "stdout",
     "output_type": "stream",
     "text": [
      "epoch=5\tloss=5.340227730634069\n"
     ]
    },
    {
     "data": {
      "application/vnd.jupyter.widget-view+json": {
       "model_id": "92871b63378946de9087ebab65eb234c",
       "version_major": 2,
       "version_minor": 0
      },
      "text/plain": [
       "  0%|          | 0/2327 [00:00<?, ?it/s]"
      ]
     },
     "metadata": {},
     "output_type": "display_data"
    },
    {
     "name": "stdout",
     "output_type": "stream",
     "text": [
      "epoch=6\tloss=5.368605248710082\n"
     ]
    },
    {
     "data": {
      "application/vnd.jupyter.widget-view+json": {
       "model_id": "9174354ecc2c4690a7cf9bc680dcdbc0",
       "version_major": 2,
       "version_minor": 0
      },
      "text/plain": [
       "  0%|          | 0/2327 [00:00<?, ?it/s]"
      ]
     },
     "metadata": {},
     "output_type": "display_data"
    },
    {
     "name": "stdout",
     "output_type": "stream",
     "text": [
      "epoch=7\tloss=5.299149343729368\n"
     ]
    },
    {
     "data": {
      "application/vnd.jupyter.widget-view+json": {
       "model_id": "3629266fcf3e4fef848e6d77cb907e12",
       "version_major": 2,
       "version_minor": 0
      },
      "text/plain": [
       "  0%|          | 0/2327 [00:00<?, ?it/s]"
      ]
     },
     "metadata": {},
     "output_type": "display_data"
    },
    {
     "name": "stdout",
     "output_type": "stream",
     "text": [
      "epoch=8\tloss=5.282565782996244\n"
     ]
    },
    {
     "data": {
      "application/vnd.jupyter.widget-view+json": {
       "model_id": "871d08b2e00241be894454ae6d610195",
       "version_major": 2,
       "version_minor": 0
      },
      "text/plain": [
       "  0%|          | 0/2327 [00:00<?, ?it/s]"
      ]
     },
     "metadata": {},
     "output_type": "display_data"
    },
    {
     "name": "stdout",
     "output_type": "stream",
     "text": [
      "epoch=9\tloss=5.292827067409235\n"
     ]
    }
   ],
   "source": [
    "for epoch in tqdm(range(10)):\n",
    "    for path, dirs, files in os.walk(os.path.join('data', 'training', 'qlds_2022a', 'X')):\n",
    "        loss = 0\n",
    "        for filename in tqdm(files):\n",
    "            code = filename.split('.')[0].split('_')[-2]\n",
    "            name = filename.split('.')[0].split('_')[-1]\n",
    "            file_path = os.path.join(path, filename)\n",
    "            X = np.load(file_path)\n",
    "            file_path = os.path.join(os.path.dirname(path), 'y', f'y_{code}_{name}.npy')\n",
    "            y = np.load(file_path)\n",
    "            X = torch.from_numpy(X).float().to(device)\n",
    "            y = torch.from_numpy(y).float().to(device)\n",
    "            criterion = torch.nn.MSELoss()\n",
    "            optimizer = torch.optim.RMSprop(model.parameters(), lr=0.0001)\n",
    "            optimizer.zero_grad()\n",
    "            y_pred = model(X)\n",
    "            _loss = criterion(y_pred[:, 0], y)\n",
    "            _loss.backward()\n",
    "            optimizer.step()\n",
    "            _loss = _loss.item()\n",
    "            loss += _loss\n",
    "        print(f'epoch={epoch}\\tloss={loss}')\n",
    "\n",
    "os.makedirs('models', exist_ok=True)\n",
    "path = os.path.join('models', 'model.mdl')\n",
    "torch.save(model, path)"
   ]
  },
  {
   "cell_type": "code",
   "execution_count": 41,
   "metadata": {},
   "outputs": [
    {
     "data": {
      "application/vnd.jupyter.widget-view+json": {
       "model_id": "57fb9ef0846e45c2a6622b83eff2577e",
       "version_major": 2,
       "version_minor": 0
      },
      "text/plain": [
       "  0%|          | 0/2327 [00:00<?, ?it/s]"
      ]
     },
     "metadata": {},
     "output_type": "display_data"
    },
    {
     "data": {
      "image/png": "[encoded data removed]",
      "text/plain": [
       "<Figure size 432x288 with 1 Axes>"
      ]
     },
     "metadata": {
      "needs_background": "light"
     },
     "output_type": "display_data"
    }
   ],
   "source": [
    "import torch\n",
    "\n",
    "path = os.path.join('models', 'model.mdl')\n",
    "model = torch.load(path)\n",
    "\n",
    "y = []\n",
    "y_pred = []\n",
    "for path, dirs, files in os.walk(os.path.join('data', 'training', 'qlds_2022a', 'X')):\n",
    "    loss = 0\n",
    "    for filename in tqdm(files):\n",
    "        code = filename.split('.')[0].split('_')[-2]\n",
    "        name = filename.split('.')[0].split('_')[-1]\n",
    "        file_path = os.path.join(path, filename)\n",
    "        X = np.load(file_path)\n",
    "        file_path = os.path.join(os.path.dirname(path), 'y', f'y_{code}_{name}.npy')\n",
    "        _y = np.load(file_path)\n",
    "\n",
    "        device = torch.device('cuda' if torch.cuda.is_available() else 'cpu')\n",
    "        model.eval()\n",
    "        with torch.no_grad():\n",
    "            X = torch.from_numpy(X).float().to(device)\n",
    "            pred = model(X).detach().cpu().numpy()\n",
    "            pred = pred.flatten()\n",
    "        \n",
    "        y.extend(_y)\n",
    "        y_pred.extend(pred)\n",
    "\n",
    "import pandas as pd\n",
    "df_eval = pd.DataFrame(list(zip(y, y_pred)), columns=['y', 'y_pred'])\n",
    "ax = df_eval.plot.scatter('y', 'y_pred', s=0.01)"
   ]
  },
  {
   "cell_type": "code",
   "execution_count": 42,
   "metadata": {},
   "outputs": [
    {
     "name": "stdout",
     "output_type": "stream",
     "text": [
      "MSE: 0.0026148916159384017\n"
     ]
    }
   ],
   "source": [
    "from sklearn.metrics import mean_squared_error, r2_score\n",
    "print(f'MSE: {mean_squared_error(y, y_pred)}')"
   ]
  },
  {
   "cell_type": "code",
   "execution_count": 45,
   "metadata": {},
   "outputs": [
    {
     "data": {
      "application/vnd.jupyter.widget-view+json": {
       "model_id": "6ec6b31a6b3747a7a48146d41009ec8b",
       "version_major": 2,
       "version_minor": 0
      },
      "text/plain": [
       "  0%|          | 0/2400 [00:00<?, ?it/s]"
      ]
     },
     "metadata": {},
     "output_type": "display_data"
    },
    {
     "data": {
      "text/plain": [
       "<AxesSubplot:xlabel='y', ylabel='y_pred'>"
      ]
     },
     "execution_count": 45,
     "metadata": {},
     "output_type": "execute_result"
    },
    {
     "data": {
      "image/png": "[encoded data removed]",
      "text/plain": [
       "<Figure size 432x288 with 1 Axes>"
      ]
     },
     "metadata": {
      "needs_background": "light"
     },
     "output_type": "display_data"
    }
   ],
   "source": [
    "y_test = []\n",
    "y_pred_test = []\n",
    "for path, dirs, files in os.walk(os.path.join('data', 'testing', 'qlds_2022a', 'X')):\n",
    "    loss = 0\n",
    "    for filename in tqdm(files):\n",
    "        code = filename.split('.')[0].split('_')[-2]\n",
    "        name = filename.split('.')[0].split('_')[-1]\n",
    "        file_path = os.path.join(path, filename)\n",
    "        X = np.load(file_path)\n",
    "        file_path = os.path.join(os.path.dirname(path), 'y', f'y_{code}_{name}.npy')\n",
    "        _y = np.load(file_path)\n",
    "\n",
    "        device = torch.device('cuda' if torch.cuda.is_available() else 'cpu')\n",
    "        model.eval()\n",
    "        with torch.no_grad():\n",
    "            X = torch.from_numpy(X).float().to(device)\n",
    "            pred = model(X).detach().cpu().numpy()\n",
    "            pred = pred.flatten()\n",
    "        \n",
    "        y_test.extend(_y)\n",
    "        y_pred_test.extend(pred)\n",
    "\n",
    "import pandas as pd\n",
    "df_eval_test = pd.DataFrame(list(zip(y_test, y_pred_test)), columns=['y', 'y_pred']).dropna()\n",
    "df_eval_test.plot.scatter('y', 'y_pred', s=0.01)"
   ]
  },
  {
   "cell_type": "code",
   "execution_count": 46,
   "metadata": {},
   "outputs": [
    {
     "name": "stdout",
     "output_type": "stream",
     "text": [
      "MSE: 0.015103724324432386\n"
     ]
    }
   ],
   "source": [
    "from sklearn.metrics import mean_squared_error, r2_score\n",
    "print(f'MSE: {mean_squared_error(y_test, y_pred_test)}')"
   ]
  }
 ],
 "metadata": {
  "kernelspec": {
   "display_name": "Python 3.8.8 ('base')",
   "language": "python",
   "name": "python3"
  },
  "language_info": {
   "codemirror_mode": {
    "name": "ipython",
    "version": 3
   },
   "file_extension": ".py",
   "mimetype": "text/x-python",
   "name": "python",
   "nbconvert_exporter": "python",
   "pygments_lexer": "ipython3",
   "version": "3.8.8"
  },
  "orig_nbformat": 4,
  "vscode": {
   "interpreter": {
    "hash": "263930470851f494f0ed2879c35b57985588df20f9e529b86e97dd5eb9ddc466"
   }
  }
 },
 "nbformat": 4,
 "nbformat_minor": 2
}
