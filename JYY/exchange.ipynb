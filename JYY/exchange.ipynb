{
 "cells": [
  {
   "cell_type": "code",
   "execution_count": 1,
   "metadata": {},
   "outputs": [
    {
     "ename": "NameError",
     "evalue": "name 'glob' is not defined",
     "output_type": "error",
     "traceback": [
      "\u001b[1;31m---------------------------------------------------------------------------\u001b[0m",
      "\u001b[1;31mNameError\u001b[0m                                 Traceback (most recent call last)",
      "Cell \u001b[1;32mIn[1], line 1\u001b[0m\n\u001b[1;32m----> 1\u001b[0m file_csv \u001b[39m=\u001b[39m glob(\u001b[39m\"\u001b[39m\u001b[39mdata/A*.csv\u001b[39m\u001b[39m\"\u001b[39m) \u001b[39m# data 폴더 내의 모든 csv파일 목록을 불러오기\u001b[39;00m\n\u001b[0;32m      2\u001b[0m total \u001b[39m=\u001b[39m pd\u001b[39m.\u001b[39mDataFrame() \u001b[39m# 빈 DF 생성\u001b[39;00m\n\u001b[0;32m      4\u001b[0m \u001b[39mfor\u001b[39;00m file \u001b[39min\u001b[39;00m file_csv:\n",
      "\u001b[1;31mNameError\u001b[0m: name 'glob' is not defined"
     ]
    }
   ],
   "source": [
    "file_csv = glob(\"data/A*.csv\") # data 폴더 내의 모든 csv파일 목록을 불러오기\n",
    "total = pd.DataFrame() # 빈 DF 생성\n",
    "\n",
    "for file in file_csv:\n",
    "    temp = pd.read_csv(file, encoding='utf-8')\n",
    "    temp.sort_values(['date','time'], inplace=True) # 내림차순 정렬\n",
    "    total = pd.concat([total, temp]) # 전체 DF에 추가\n",
    "\n",
    "total.to_csv(\"data/total.csv\")\n",
    "print(\"1분봉 엑셀 data 취합 완료\")"
   ]
  }
 ],
 "metadata": {
  "kernelspec": {
   "display_name": "pro64",
   "language": "python",
   "name": "python3"
  },
  "language_info": {
   "codemirror_mode": {
    "name": "ipython",
    "version": 3
   },
   "file_extension": ".py",
   "mimetype": "text/x-python",
   "name": "python",
   "nbconvert_exporter": "python",
   "pygments_lexer": "ipython3",
   "version": "3.10.11"
  },
  "orig_nbformat": 4
 },
 "nbformat": 4,
 "nbformat_minor": 2
}
