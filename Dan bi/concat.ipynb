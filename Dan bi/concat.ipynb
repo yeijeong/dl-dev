{
 "cells": [
  {
   "cell_type": "code",
   "execution_count": null,
   "metadata": {},
   "outputs": [],
   "source": [
    "import pandas as pd\n",
    "from glob import glob\n",
    "\n",
    "file_names = glob(\"data/*.csv\") # data 폴더 내의 모든 csv파일 목록을 불러오기\n",
    "total = pd.DataFrame() # 빈 DF 생성\n",
    "\n",
    "for file_name in file_names:\n",
    "    temp = pd.read_csv(file_name, sep='구분자', encoding='utf-8') # csv파일을 하나씩 열어 임시 DF 생성\n",
    "    total = pd.concat([total, temp]) # 전체 DF에 추가\n",
    "\n",
    "total.to_csv(\"data/total.csv\")\n",
    "print(\"1분봉 엑셀 data 취합 완료\")"
   ]
  },
  {
   "cell_type": "code",
   "execution_count": null,
   "metadata": {},
   "outputs": [],
   "source": [
    "# 위에 코드로 돌렸을 때 너무 오래 걸리면 사용할 예정\n",
    "\n",
    "import pandas as pd\n",
    "import os\n",
    " \n",
    "minute_candles = os.listdir('C:/Users/User/Desktop/concat')\n",
    "dir_1 = 'C:/Users/User/Desktop/concat'\n",
    "dir_2 = r'C:/Users/User/Desktop/concat/minute_bong.xlsx'\n",
    " \n",
    "for i in range(len(minute_candles)):\n",
    "    minute_candles[i] = pd.read_excel(dir_1 + \"/\" + minute_candles[i], engine='xlrd')\n",
    " \n",
    "    minute_candles[i] = minute_candles[i][0:601] \n",
    " \n",
    "minute_candles_total = pd.concat(minute_candles)\n",
    " \n",
    "if not os.path.exists(dir_2):\n",
    "    with pd.ExcelWriter(dir_2, mode='w', engine='openpyxl') as writer:\n",
    "        minute_candles_total.to_excel(writer, index=False, sheet_name='Sheet1')\n",
    "\n",
    "print(\"1분봉 엑셀 취합 완료\")"
   ]
  }
 ],
 "metadata": {
  "language_info": {
   "name": "python"
  },
  "orig_nbformat": 4
 },
 "nbformat": 4,
 "nbformat_minor": 2
}
