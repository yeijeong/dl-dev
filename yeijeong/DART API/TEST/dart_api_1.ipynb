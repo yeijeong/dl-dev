{
 "cells": [
  {
   "attachments": {},
   "cell_type": "markdown",
   "metadata": {},
   "source": [
    "##### 참고 url : https://coding-kindergarten.tistory.com/85\n",
    "DART API 신청 : https://opendart.fss.or.kr/intro/main.do\n",
    "pip install dart_fss\n",
    "- 재무상태 등 보고서 가져오기"
   ]
  },
  {
   "cell_type": "code",
   "execution_count": 1,
   "metadata": {},
   "outputs": [
    {
     "data": {
      "application/vnd.jupyter.widget-view+json": {
       "model_id": "05b96d9f882b436ca48cffd0317fc53b",
       "version_major": 2,
       "version_minor": 0
      },
      "text/plain": [
       "Output()"
      ]
     },
     "metadata": {},
     "output_type": "display_data"
    },
    {
     "data": {
      "application/vnd.jupyter.widget-view+json": {
       "model_id": "050980a482d64f15aa8cc12c63757902",
       "version_major": 2,
       "version_minor": 0
      },
      "text/plain": [
       "Output()"
      ]
     },
     "metadata": {},
     "output_type": "display_data"
    },
    {
     "data": {
      "application/vnd.jupyter.widget-view+json": {
       "model_id": "7e82bd1fc551418c87757e3b8daf6131",
       "version_major": 2,
       "version_minor": 0
      },
      "text/plain": [
       "Output()"
      ]
     },
     "metadata": {},
     "output_type": "display_data"
    },
    {
     "data": {
      "application/vnd.jupyter.widget-view+json": {
       "model_id": "1b89d56f0f60497c9fc0c954854e3fa3",
       "version_major": 2,
       "version_minor": 0
      },
      "text/plain": [
       "Annual reports:   0%|          | 0/12 [00:00<?, ?report/s]"
      ]
     },
     "metadata": {},
     "output_type": "display_data"
    },
    {
     "data": {
      "text/plain": [
       "'d:\\\\big16\\\\trading_project\\\\예정\\\\fsdata\\\\00126380_annual.xlsx'"
      ]
     },
     "execution_count": 1,
     "metadata": {},
     "output_type": "execute_result"
    }
   ],
   "source": [
    "import dart_fss as dart\n",
    "\n",
    "# Open DART API KEY 설정\n",
    "api_key='3d218f72d3a558aa85ff91f2a0f2d720e3158223'\n",
    "dart.set_api_key(api_key=api_key)\n",
    "\n",
    "# DART 에 공시된 회사 리스트 불러오기\n",
    "corp_list = dart.get_corp_list()\n",
    "\n",
    "# 삼성전자 검색\n",
    "samsung = corp_list.find_by_corp_name('삼성전자', exactly=True)[0]\n",
    "# exactly dafault = False, 위에서 true인 이유는 false일 때는 '삼성전자'가 포함된 '삼성전자서비스'이런것들도 출력하기 때문\n",
    "\n",
    "# 삼성전자 회사 코드로 검색\n",
    "# samsung = corp_list.find_by_corp_code('00126380')[0]\n",
    "\n",
    "# 2012년부터 연간 연결재무제표 불러오기\n",
    "fs = samsung.extract_fs(bgn_de='20120101')\n",
    "\n",
    "# 재무제표 검색 결과를 엑셀파일로 저장 ( 기본저장위치: 실행폴더/fsdata )\n",
    "fs.save()"
   ]
  },
  {
   "cell_type": "code",
   "execution_count": null,
   "metadata": {},
   "outputs": [],
   "source": [
    "# 위에 방법 말고 이 방법으로도 데이터 받아 올 수 있음\n",
    "import dart_fss as dart\n",
    "\n",
    "# 삼성전자 code\n",
    "corp_code = '00126380'\n",
    "\n",
    "reports = dart.filings.search(corp_code=corp_code, bgn_de='20210101', pblntf_detail_ty='a001')\n",
    "\n",
    "# 가장 최신 보고서 선택\n",
    "newest_report = reports[0]\n",
    "\n",
    "# 참고\n",
    "# 0-4번 보고서 선택\n",
    "# zero_to_fourth_report = reports[0:5]\n",
    "\n",
    "# 가장 오래된 보고서 선택\n",
    "# oldest_report = reports[-1]"
   ]
  },
  {
   "attachments": {},
   "cell_type": "markdown",
   "metadata": {},
   "source": [
    "##### 엑셀 안에 시트 별 이름 의미\n",
    "- bs : 재무상태표\n",
    "- is : 손익계산서\n",
    "- cis : 포괄손익계산서\n",
    "- cf : 현금흐름표"
   ]
  },
  {
   "cell_type": "code",
   "execution_count": 2,
   "metadata": {},
   "outputs": [
    {
     "data": {
      "text/html": [
       "\n",
       "    <style scoped>\n",
       "        .dart-table tbody tr th {\n",
       "            vertical-align: top;\n",
       "            text-overflow: ellipsis;\n",
       "        }\n",
       "        .dart-table thead th {\n",
       "            text-align: right;\n",
       "            text-overflow: ellipsis;\n",
       "        }\n",
       "    </style>\n",
       "    <table border=\"1\" class=\"dart-table\"><thead><tr style=\"text-align: right;\"><th>Label</th><th>Data</th></tr></thead><tbody><tr><th>page_no</th><td>1</td></tr><tr><th>page_count</th><td>10</td></tr><tr><th>total_count</th><td>68913</td></tr><tr><th>total_page</th><td>6892</td></tr><tr><th>report_list</th><td><table style=\"width:100%\"><thead><tr><th width=\"20\">No.</th><th>rcp_no</th><th>corp_code</th><th>corp_name</th><th>stock_code</th><th>corp_cls</th><th>report_nm</th><th>flr_nm</th><th>rcept_dt</th><th>rm</th></tr></thead><tbody><tr><th width=\"20\">0</th><td>20210126900116</td><td>00288343</td><td>삼영이엔씨</td><td>065570</td><td>K</td><td>[첨부추가]단일판매ㆍ공급계약체결</td><td>삼영이엔씨</td><td>20210126</td><td>코정</td></tr><tr><th width=\"20\">1</th><td>20210323901615</td><td>00189538</td><td>피델릭스</td><td>032580</td><td>K</td><td>[첨부추가]전환청구권행사</td><td>피델릭스</td><td>20210323</td><td>코</td></tr><tr><th width=\"20\">2</th><td>20210323001152</td><td>01344336</td><td>신테카바이오</td><td>226330</td><td>K</td><td>[첨부추가]사업보고서 (2020.12)</td><td>신테카바이오</td><td>20210323</td><td>정</td></tr><tr><th width=\"20\">3</th><td>20210219900156</td><td>01065013</td><td>우정바이오</td><td>215380</td><td>K</td><td>[첨부추가]단일판매ㆍ공급계약체결</td><td>우정바이오</td><td>20210219</td><td>코정</td></tr><tr><th width=\"20\">4</th><td>20210112000208</td><td>00260453</td><td>삼성자산운용</td><td></td><td>E</td><td>일괄신고서(집합투자증권-신탁형)(삼성에너지트랜지션증권자투자신탁H[주식-재간접형])</td><td>삼성자산운용</td><td>20210112</td><td>정</td></tr><tr><th width=\"20\">5</th><td>20210121000296</td><td>00260453</td><td>삼성자산운용</td><td></td><td>E</td><td>[기재정정]일괄신고서(집합투자증권-신탁형)(삼성KODEX레버리지증권상장지수투자신탁[주식-파생형])</td><td>삼성자산운용</td><td>20210121</td><td>정</td></tr><tr><th width=\"20\">6</th><td>20210223900093</td><td>01050738</td><td>솔트룩스</td><td>304100</td><td>K</td><td>[첨부추가]단일판매ㆍ공급계약체결</td><td>솔트룩스</td><td>20210223</td><td>코</td></tr><tr><th width=\"20\">7</th><td>20210319000481</td><td>01063884</td><td>휴센텍</td><td>215090</td><td>K</td><td>[첨부추가]사업보고서 (2020.12)</td><td>휴센텍</td><td>20210319</td><td>정</td></tr><tr><th width=\"20\">8</th><td>20210311001187</td><td>00442561</td><td>에프알텍</td><td>073540</td><td>K</td><td>[첨부추가]사업보고서 (2020.12)</td><td>에프알텍</td><td>20210311</td><td>연</td></tr><tr><th width=\"20\">9</th><td>20210319000935</td><td>00602279</td><td>그린플러스</td><td>186230</td><td>K</td><td>[첨부추가]사업보고서 (2020.12)</td><td>그린플러스</td><td>20210319</td><td>연</td></tr></tbody></table></td></tr></tbody></table>"
      ],
      "text/plain": [
       "{'page_count': 10,\n",
       " 'page_no': 1,\n",
       " 'report_list': [{'corp_cls': 'K',\n",
       "                  'corp_code': '00288343',\n",
       "                  'corp_name': '삼영이엔씨',\n",
       "                  'flr_nm': '삼영이엔씨',\n",
       "                  'rcept_dt': '20210126',\n",
       "                  'rcp_no': '20210126900116',\n",
       "                  'report_nm': '[첨부추가]단일판매ㆍ공급계약체결',\n",
       "                  'rm': '코정',\n",
       "                  'stock_code': '065570'},\n",
       "                 {'corp_cls': 'K',\n",
       "                  'corp_code': '00189538',\n",
       "                  'corp_name': '피델릭스',\n",
       "                  'flr_nm': '피델릭스',\n",
       "                  'rcept_dt': '20210323',\n",
       "                  'rcp_no': '20210323901615',\n",
       "                  'report_nm': '[첨부추가]전환청구권행사',\n",
       "                  'rm': '코',\n",
       "                  'stock_code': '032580'},\n",
       "                 {'corp_cls': 'K',\n",
       "                  'corp_code': '01344336',\n",
       "                  'corp_name': '신테카바이오',\n",
       "                  'flr_nm': '신테카바이오',\n",
       "                  'rcept_dt': '20210323',\n",
       "                  'rcp_no': '20210323001152',\n",
       "                  'report_nm': '[첨부추가]사업보고서 (2020.12)',\n",
       "                  'rm': '정',\n",
       "                  'stock_code': '226330'},\n",
       "                 {'corp_cls': 'K',\n",
       "                  'corp_code': '01065013',\n",
       "                  'corp_name': '우정바이오',\n",
       "                  'flr_nm': '우정바이오',\n",
       "                  'rcept_dt': '20210219',\n",
       "                  'rcp_no': '20210219900156',\n",
       "                  'report_nm': '[첨부추가]단일판매ㆍ공급계약체결',\n",
       "                  'rm': '코정',\n",
       "                  'stock_code': '215380'},\n",
       "                 {'corp_cls': 'E',\n",
       "                  'corp_code': '00260453',\n",
       "                  'corp_name': '삼성자산운용',\n",
       "                  'flr_nm': '삼성자산운용',\n",
       "                  'rcept_dt': '20210112',\n",
       "                  'rcp_no': '20210112000208',\n",
       "                  'report_nm': '일괄신고서(집합투자증권-신탁형)(삼성에너지트랜지션증권자투자신탁H[주식-재간접형])',\n",
       "                  'rm': '정',\n",
       "                  'stock_code': ''},\n",
       "                 {'corp_cls': 'E',\n",
       "                  'corp_code': '00260453',\n",
       "                  'corp_name': '삼성자산운용',\n",
       "                  'flr_nm': '삼성자산운용',\n",
       "                  'rcept_dt': '20210121',\n",
       "                  'rcp_no': '20210121000296',\n",
       "                  'report_nm': '[기재정정]일괄신고서(집합투자증권-신탁형)(삼성KODEX레버리지증권상장지수투자신탁[주식-파생형])',\n",
       "                  'rm': '정',\n",
       "                  'stock_code': ''},\n",
       "                 {'corp_cls': 'K',\n",
       "                  'corp_code': '01050738',\n",
       "                  'corp_name': '솔트룩스',\n",
       "                  'flr_nm': '솔트룩스',\n",
       "                  'rcept_dt': '20210223',\n",
       "                  'rcp_no': '20210223900093',\n",
       "                  'report_nm': '[첨부추가]단일판매ㆍ공급계약체결',\n",
       "                  'rm': '코',\n",
       "                  'stock_code': '304100'},\n",
       "                 {'corp_cls': 'K',\n",
       "                  'corp_code': '01063884',\n",
       "                  'corp_name': '휴센텍',\n",
       "                  'flr_nm': '휴센텍',\n",
       "                  'rcept_dt': '20210319',\n",
       "                  'rcp_no': '20210319000481',\n",
       "                  'report_nm': '[첨부추가]사업보고서 (2020.12)',\n",
       "                  'rm': '정',\n",
       "                  'stock_code': '215090'},\n",
       "                 {'corp_cls': 'K',\n",
       "                  'corp_code': '00442561',\n",
       "                  'corp_name': '에프알텍',\n",
       "                  'flr_nm': '에프알텍',\n",
       "                  'rcept_dt': '20210311',\n",
       "                  'rcp_no': '20210311001187',\n",
       "                  'report_nm': '[첨부추가]사업보고서 (2020.12)',\n",
       "                  'rm': '연',\n",
       "                  'stock_code': '073540'},\n",
       "                 {'corp_cls': 'K',\n",
       "                  'corp_code': '00602279',\n",
       "                  'corp_name': '그린플러스',\n",
       "                  'flr_nm': '그린플러스',\n",
       "                  'rcept_dt': '20210319',\n",
       "                  'rcp_no': '20210319000935',\n",
       "                  'report_nm': '[첨부추가]사업보고서 (2020.12)',\n",
       "                  'rm': '연',\n",
       "                  'stock_code': '186230'}],\n",
       " 'total_count': 68913,\n",
       " 'total_page': 6892}"
      ]
     },
     "execution_count": 2,
     "metadata": {},
     "output_type": "execute_result"
    }
   ],
   "source": [
    "reports = dart.filings.search(bgn_de='20210101', end_de='20210331')\n",
    "\n",
    "reports"
   ]
  }
 ],
 "metadata": {
  "kernelspec": {
   "display_name": "trading",
   "language": "python",
   "name": "python3"
  },
  "language_info": {
   "codemirror_mode": {
    "name": "ipython",
    "version": 3
   },
   "file_extension": ".py",
   "mimetype": "text/x-python",
   "name": "python",
   "nbconvert_exporter": "python",
   "pygments_lexer": "ipython3",
   "version": "3.10.0"
  },
  "orig_nbformat": 4
 },
 "nbformat": 4,
 "nbformat_minor": 2
}
