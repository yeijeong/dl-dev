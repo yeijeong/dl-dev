{
 "cells": [
  {
   "attachments": {},
   "cell_type": "markdown",
   "metadata": {},
   "source": [
    "##### 유튜브 API 키 받는 방법 : https://dotiweb.tistory.com/entry/API-YouTube-Data-API-v3-API%ED%82%A4-%EB%B0%9C%EA%B8%89%EB%B0%9B%EA%B8%B0\n",
    "##### 유뷰트 API 사용 방법 : https://dodonam.tistory.com/342\n",
    "##### pip install pafy youtube-dl\n",
    "##### pip install google-api-python-client"
   ]
  },
  {
   "attachments": {},
   "cell_type": "markdown",
   "metadata": {},
   "source": [
    "##### 오류 나는거 참고 \n",
    "- https://www.clien.net/service/board/park/17991925\n",
    "- https://syerco0.com/37"
   ]
  },
  {
   "cell_type": "code",
   "execution_count": 1,
   "metadata": {},
   "outputs": [],
   "source": [
    "import pafy\n",
    "\n",
    "import pandas as pd\n",
    "import warnings\n",
    "warnings.filterwarnings('ignore')"
   ]
  },
  {
   "cell_type": "code",
   "execution_count": 17,
   "metadata": {},
   "outputs": [],
   "source": [
    "# 기본 키 설정하기\n",
    "api_key = '****'\n",
    "video_id = 'JicTpTdgc_U'\n",
    "url = 'https://www.youtube.com/watch?v=JicTpTdgc_U'"
   ]
  },
  {
   "cell_type": "code",
   "execution_count": 3,
   "metadata": {},
   "outputs": [],
   "source": [
    "# api 설정하기\n",
    "pafy.set_api_key(api_key)"
   ]
  },
  {
   "cell_type": "code",
   "execution_count": null,
   "metadata": {},
   "outputs": [],
   "source": [
    "# 1. 유튜브 영상 정보 수집\n",
    "video = pafy.new(url)\n",
    "title, author, published, likes, category, description, keywords, viewcount, rating = v.title, v.author, v.published, v.likes, v.category, v.description, v.keywords, v.viewcount, v.rating"
   ]
  },
  {
   "cell_type": "code",
   "execution_count": 5,
   "metadata": {},
   "outputs": [],
   "source": [
    "# 2. 유튜브 영상 댓글 수집\n",
    "from googleapiclient.discovery import build"
   ]
  },
  {
   "cell_type": "code",
   "execution_count": 6,
   "metadata": {},
   "outputs": [],
   "source": [
    "comments = list()\n",
    "api_obj = build('youtube', 'v3', developerKey=api_key)\n",
    "response = api_obj.commentThreads().list(part='snippet,replies', videoId=video_id, maxResults=100).execute()"
   ]
  },
  {
   "cell_type": "code",
   "execution_count": 9,
   "metadata": {},
   "outputs": [
    {
     "data": {
      "text/html": [
       "<div>\n",
       "<style scoped>\n",
       "    .dataframe tbody tr th:only-of-type {\n",
       "        vertical-align: middle;\n",
       "    }\n",
       "\n",
       "    .dataframe tbody tr th {\n",
       "        vertical-align: top;\n",
       "    }\n",
       "\n",
       "    .dataframe thead tr th {\n",
       "        text-align: left;\n",
       "    }\n",
       "</style>\n",
       "<table border=\"1\" class=\"dataframe\">\n",
       "  <thead>\n",
       "    <tr>\n",
       "      <th></th>\n",
       "      <th>comment</th>\n",
       "      <th>author</th>\n",
       "      <th>date</th>\n",
       "      <th>num_likes</th>\n",
       "    </tr>\n",
       "  </thead>\n",
       "  <tbody>\n",
       "    <tr>\n",
       "      <th>0</th>\n",
       "      <td>자연의 생태계에서 생명을 살리려는 이들의 행동, 여러분은 어떠신가요?</td>\n",
       "      <td>[파인딩스타] 참을 수 없는 1%의 울림</td>\n",
       "      <td>2020-09-14T03:52:06Z</td>\n",
       "      <td>15077</td>\n",
       "    </tr>\n",
       "    <tr>\n",
       "      <th>1</th>\n",
       "      <td>​@Monstera Deliciosa 그렇게 치면 당신집에 살민마가 들어도 그건 천...</td>\n",
       "      <td>goguma malLaeng-lee</td>\n",
       "      <td>2023-06-12T11:13:37Z</td>\n",
       "      <td>0</td>\n",
       "    </tr>\n",
       "    <tr>\n",
       "      <th>2</th>\n",
       "      <td>정리해주지.&lt;br&gt;도움은 다연한거고 인간은 자신의 컵셉을 포기한것일뿐</td>\n",
       "      <td>한국사람들이 좋아하는노래(내가좋아하는...ㅈㅅ)</td>\n",
       "      <td>2023-06-12T09:39:51Z</td>\n",
       "      <td>0</td>\n",
       "    </tr>\n",
       "    <tr>\n",
       "      <th>3</th>\n",
       "      <td>인간이 개입해서는 안된다면 인간으로인해 동물들에게 피해주는것도 안되는건데 그냥 인간...</td>\n",
       "      <td>시로</td>\n",
       "      <td>2023-06-10T12:32:38Z</td>\n",
       "      <td>0</td>\n",
       "    </tr>\n",
       "    <tr>\n",
       "      <th>4</th>\n",
       "      <td>공감합니다 인간의오만함으로 멸종된동물들에 대한 최소한의 예의</td>\n",
       "      <td>상록수</td>\n",
       "      <td>2023-06-04T05:10:46Z</td>\n",
       "      <td>0</td>\n",
       "    </tr>\n",
       "    <tr>\n",
       "      <th>...</th>\n",
       "      <td>...</td>\n",
       "      <td>...</td>\n",
       "      <td>...</td>\n",
       "      <td>...</td>\n",
       "    </tr>\n",
       "    <tr>\n",
       "      <th>753</th>\n",
       "      <td>3</td>\n",
       "      <td>가나다</td>\n",
       "      <td>2022-01-12T11:11:52Z</td>\n",
       "      <td>0</td>\n",
       "    </tr>\n",
       "    <tr>\n",
       "      <th>754</th>\n",
       "      <td>1</td>\n",
       "      <td>펭구</td>\n",
       "      <td>2022-01-12T11:11:49Z</td>\n",
       "      <td>0</td>\n",
       "    </tr>\n",
       "    <tr>\n",
       "      <th>755</th>\n",
       "      <td>1등이네 ㅎㅎ</td>\n",
       "      <td>애플은사과</td>\n",
       "      <td>2022-01-12T11:11:47Z</td>\n",
       "      <td>0</td>\n",
       "    </tr>\n",
       "    <tr>\n",
       "      <th>756</th>\n",
       "      <td>오</td>\n",
       "      <td>테르밋</td>\n",
       "      <td>2022-01-12T11:11:44Z</td>\n",
       "      <td>0</td>\n",
       "    </tr>\n",
       "    <tr>\n",
       "      <th>757</th>\n",
       "      <td>와우</td>\n",
       "      <td>제로 Xero</td>\n",
       "      <td>2022-01-12T11:11:43Z</td>\n",
       "      <td>0</td>\n",
       "    </tr>\n",
       "  </tbody>\n",
       "</table>\n",
       "<p>758 rows × 4 columns</p>\n",
       "</div>"
      ],
      "text/plain": [
       "                                               comment  \\\n",
       "0               자연의 생태계에서 생명을 살리려는 이들의 행동, 여러분은 어떠신가요?   \n",
       "1    ​@Monstera Deliciosa 그렇게 치면 당신집에 살민마가 들어도 그건 천...   \n",
       "2               정리해주지.<br>도움은 다연한거고 인간은 자신의 컵셉을 포기한것일뿐   \n",
       "3    인간이 개입해서는 안된다면 인간으로인해 동물들에게 피해주는것도 안되는건데 그냥 인간...   \n",
       "4                    공감합니다 인간의오만함으로 멸종된동물들에 대한 최소한의 예의   \n",
       "..                                                 ...   \n",
       "753                                                  3   \n",
       "754                                                  1   \n",
       "755                                            1등이네 ㅎㅎ   \n",
       "756                                                  오   \n",
       "757                                                 와우   \n",
       "\n",
       "                         author                  date num_likes  \n",
       "0        [파인딩스타] 참을 수 없는 1%의 울림  2020-09-14T03:52:06Z     15077  \n",
       "1           goguma malLaeng-lee  2023-06-12T11:13:37Z         0  \n",
       "2    한국사람들이 좋아하는노래(내가좋아하는...ㅈㅅ)  2023-06-12T09:39:51Z         0  \n",
       "3                            시로  2023-06-10T12:32:38Z         0  \n",
       "4                           상록수  2023-06-04T05:10:46Z         0  \n",
       "..                          ...                   ...       ...  \n",
       "753                         가나다  2022-01-12T11:11:52Z         0  \n",
       "754                          펭구  2022-01-12T11:11:49Z         0  \n",
       "755                       애플은사과  2022-01-12T11:11:47Z         0  \n",
       "756                         테르밋  2022-01-12T11:11:44Z         0  \n",
       "757                     제로 Xero  2022-01-12T11:11:43Z         0  \n",
       "\n",
       "[758 rows x 4 columns]"
      ]
     },
     "execution_count": 9,
     "metadata": {},
     "output_type": "execute_result"
    }
   ],
   "source": [
    "while response:\n",
    "    for item in response['items']:\n",
    "        comment = item['snippet']['topLevelComment']['snippet']\n",
    "        comments.append([comment['textDisplay'], comment['authorDisplayName'], comment['publishedAt'], comment['likeCount']])\n",
    " \n",
    "        if item['snippet']['totalReplyCount'] > 0:\n",
    "            for reply_item in item['replies']['comments']:\n",
    "                reply = reply_item['snippet']\n",
    "                comments.append([reply['textDisplay'], reply['authorDisplayName'], reply['publishedAt'], reply['likeCount']])\n",
    " \n",
    "    if 'nextPageToken' in response:\n",
    "        response = api_obj.commentThreads().list(part='snippet,replies', videoId='sWC-pp6CXpA', pageToken=response['nextPageToken'], maxResults=100).execute()\n",
    "    else:\n",
    "        break\n",
    "\n",
    "df = pd.DataFrame(comments, columns=[['comment', 'author', 'date', 'num_likes']])\n",
    "df"
   ]
  },
  {
   "cell_type": "code",
   "execution_count": 11,
   "metadata": {},
   "outputs": [],
   "source": [
    "df.to_csv('.\\\\YOUTUBE_DATA\\\\'+video_id+'result.csv', header=['comment', 'author', 'date', 'num_likes'], index=None)"
   ]
  },
  {
   "cell_type": "code",
   "execution_count": null,
   "metadata": {},
   "outputs": [],
   "source": []
  },
  {
   "cell_type": "code",
   "execution_count": null,
   "metadata": {},
   "outputs": [],
   "source": []
  }
 ],
 "metadata": {
  "kernelspec": {
   "display_name": "trading_n",
   "language": "python",
   "name": "python3"
  },
  "language_info": {
   "codemirror_mode": {
    "name": "ipython",
    "version": 3
   },
   "file_extension": ".py",
   "mimetype": "text/x-python",
   "name": "python",
   "nbconvert_exporter": "python",
   "pygments_lexer": "ipython3",
   "version": "3.8.13"
  },
  "orig_nbformat": 4
 },
 "nbformat": 4,
 "nbformat_minor": 2
}
