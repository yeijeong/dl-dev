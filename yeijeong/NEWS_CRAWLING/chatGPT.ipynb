{
 "cells": [
  {
   "cell_type": "code",
   "execution_count": null,
   "metadata": {},
   "outputs": [],
   "source": [
    "import win32com.client\n",
    "import pythoncom\n",
    "import sys\n",
    "import time\n",
    "import json\n",
    "from PyQt5 import QtWidgets\n",
    "from PyQt5 import QtGui\n",
    "from PyQt5 import QtCore\n",
    "from PyQt5 import uic\n",
    "from PyQt5.QtWidgets import QApplication, QMainWindow, QMessageBox\n",
    "\n",
    "# ======================================================\n",
    "# 위치가 틀리다면 수정하여야 하는 부분\n",
    "# ======================================================\n",
    "XING_PATH = \"C:\\\\eBEST\\\\xingAPI\\\\\"\n",
    "# 위치가 틀리다면 수정하여야 하는 부분 끝\n",
    "# ======================================================\n",
    "\n",
    "# ======================================================\n",
    "# 수정하여야 하는 부분\n",
    "# ======================================================\n",
    "\n",
    "server_add = \"hts.ebestsec.co.kr\"\n",
    "id = \"******\"\n",
    "passwd = \"*****\"\n",
    "cert_passwd = \"*******\"\n",
    "account_number = \"*******\" \n",
    "account_pwd = \"****\"   \n",
    "if 0 : #모의투자\n",
    "    server_add = \"demo.ebestsec.co.kr\"\n",
    "    id = \"******\"                         # 본인의 ID로 수정\n",
    "    passwd = \"*****\"\n",
    "    account_number = '******'\n",
    "    account_pwd = \"****\"   "
   ]
  },
  {
   "cell_type": "code",
   "execution_count": 1,
   "metadata": {},
   "outputs": [
    {
     "ename": "com_error",
     "evalue": "(-2147221005, '잘못된 클래스 문자열입니다.', None, None)",
     "output_type": "error",
     "traceback": [
      "\u001b[1;31m---------------------------------------------------------------------------\u001b[0m",
      "\u001b[1;31mcom_error\u001b[0m                                 Traceback (most recent call last)",
      "File \u001b[1;32mc:\\Users\\tj\\anaconda3\\envs\\trading_n\\lib\\site-packages\\win32com\\client\\dynamic.py:84\u001b[0m, in \u001b[0;36m_GetGoodDispatch\u001b[1;34m(IDispatch, clsctx)\u001b[0m\n\u001b[0;32m     83\u001b[0m \u001b[39mtry\u001b[39;00m:\n\u001b[1;32m---> 84\u001b[0m     IDispatch \u001b[39m=\u001b[39m pythoncom\u001b[39m.\u001b[39;49mconnect(IDispatch)\n\u001b[0;32m     85\u001b[0m \u001b[39mexcept\u001b[39;00m pythoncom\u001b[39m.\u001b[39mole_error:\n",
      "\u001b[1;31mcom_error\u001b[0m: (-2147221005, '잘못된 클래스 문자열입니다.', None, None)",
      "\nDuring handling of the above exception, another exception occurred:\n",
      "\u001b[1;31mcom_error\u001b[0m                                 Traceback (most recent call last)",
      "Cell \u001b[1;32mIn[1], line 33\u001b[0m\n\u001b[0;32m     30\u001b[0m code \u001b[39m=\u001b[39m \u001b[39m\"\u001b[39m\u001b[39mA005930\u001b[39m\u001b[39m\"\u001b[39m  \u001b[39m# 삼성전자 종목 코드\u001b[39;00m\n\u001b[0;32m     31\u001b[0m num_of_news \u001b[39m=\u001b[39m \u001b[39m10\u001b[39m  \u001b[39m# 최근 10개의 뉴스 조회\u001b[39;00m\n\u001b[1;32m---> 33\u001b[0m news_data \u001b[39m=\u001b[39m get_news_data(code, num_of_news)\n\u001b[0;32m     34\u001b[0m \u001b[39mfor\u001b[39;00m news \u001b[39min\u001b[39;00m news_data:\n\u001b[0;32m     35\u001b[0m     \u001b[39mprint\u001b[39m(news)\n",
      "Cell \u001b[1;32mIn[1], line 5\u001b[0m, in \u001b[0;36mget_news_data\u001b[1;34m(code, num_of_news)\u001b[0m\n\u001b[0;32m      3\u001b[0m \u001b[39mdef\u001b[39;00m \u001b[39mget_news_data\u001b[39m(code, num_of_news):\n\u001b[0;32m      4\u001b[0m     \u001b[39m# COM 객체 생성\u001b[39;00m\n\u001b[1;32m----> 5\u001b[0m     instCpCodeMgr \u001b[39m=\u001b[39m win32com\u001b[39m.\u001b[39;49mclient\u001b[39m.\u001b[39;49mDispatch(\u001b[39m\"\u001b[39;49m\u001b[39mCpUtil.CpCodeMgr\u001b[39;49m\u001b[39m\"\u001b[39;49m)\n\u001b[0;32m      6\u001b[0m     instCpSvrNew \u001b[39m=\u001b[39m win32com\u001b[39m.\u001b[39mclient\u001b[39m.\u001b[39mDispatch(\u001b[39m\"\u001b[39m\u001b[39mCpSysDib.CpSvrNew\u001b[39m\u001b[39m\"\u001b[39m)\n\u001b[0;32m      8\u001b[0m     \u001b[39m# 종목 코드 설정\u001b[39;00m\n",
      "File \u001b[1;32mc:\\Users\\tj\\anaconda3\\envs\\trading_n\\lib\\site-packages\\win32com\\client\\__init__.py:118\u001b[0m, in \u001b[0;36mDispatch\u001b[1;34m(dispatch, userName, resultCLSID, typeinfo, UnicodeToString, clsctx)\u001b[0m\n\u001b[0;32m    116\u001b[0m \u001b[39m\u001b[39m\u001b[39m\"\"\"Creates a Dispatch based COM object.\"\"\"\u001b[39;00m\n\u001b[0;32m    117\u001b[0m \u001b[39massert\u001b[39;00m UnicodeToString \u001b[39mis\u001b[39;00m \u001b[39mNone\u001b[39;00m, \u001b[39m\"\u001b[39m\u001b[39mthis is deprecated and will go away\u001b[39m\u001b[39m\"\u001b[39m\n\u001b[1;32m--> 118\u001b[0m dispatch, userName \u001b[39m=\u001b[39m dynamic\u001b[39m.\u001b[39;49m_GetGoodDispatchAndUserName(dispatch, userName, clsctx)\n\u001b[0;32m    119\u001b[0m \u001b[39mreturn\u001b[39;00m __WrapDispatch(dispatch, userName, resultCLSID, typeinfo, clsctx\u001b[39m=\u001b[39mclsctx)\n",
      "File \u001b[1;32mc:\\Users\\tj\\anaconda3\\envs\\trading_n\\lib\\site-packages\\win32com\\client\\dynamic.py:104\u001b[0m, in \u001b[0;36m_GetGoodDispatchAndUserName\u001b[1;34m(IDispatch, userName, clsctx)\u001b[0m\n\u001b[0;32m    101\u001b[0m     \u001b[39m## ??? else userName remains None ???\u001b[39;00m\n\u001b[0;32m    102\u001b[0m \u001b[39melse\u001b[39;00m:\n\u001b[0;32m    103\u001b[0m     userName \u001b[39m=\u001b[39m \u001b[39mstr\u001b[39m(userName)\n\u001b[1;32m--> 104\u001b[0m \u001b[39mreturn\u001b[39;00m (_GetGoodDispatch(IDispatch, clsctx), userName)\n",
      "File \u001b[1;32mc:\\Users\\tj\\anaconda3\\envs\\trading_n\\lib\\site-packages\\win32com\\client\\dynamic.py:86\u001b[0m, in \u001b[0;36m_GetGoodDispatch\u001b[1;34m(IDispatch, clsctx)\u001b[0m\n\u001b[0;32m     84\u001b[0m         IDispatch \u001b[39m=\u001b[39m pythoncom\u001b[39m.\u001b[39mconnect(IDispatch)\n\u001b[0;32m     85\u001b[0m     \u001b[39mexcept\u001b[39;00m pythoncom\u001b[39m.\u001b[39mole_error:\n\u001b[1;32m---> 86\u001b[0m         IDispatch \u001b[39m=\u001b[39m pythoncom\u001b[39m.\u001b[39;49mCoCreateInstance(\n\u001b[0;32m     87\u001b[0m             IDispatch, \u001b[39mNone\u001b[39;49;00m, clsctx, pythoncom\u001b[39m.\u001b[39;49mIID_IDispatch\n\u001b[0;32m     88\u001b[0m         )\n\u001b[0;32m     89\u001b[0m \u001b[39melse\u001b[39;00m:\n\u001b[0;32m     90\u001b[0m     \u001b[39m# may already be a wrapped class.\u001b[39;00m\n\u001b[0;32m     91\u001b[0m     IDispatch \u001b[39m=\u001b[39m \u001b[39mgetattr\u001b[39m(IDispatch, \u001b[39m\"\u001b[39m\u001b[39m_oleobj_\u001b[39m\u001b[39m\"\u001b[39m, IDispatch)\n",
      "\u001b[1;31mcom_error\u001b[0m: (-2147221005, '잘못된 클래스 문자열입니다.', None, None)"
     ]
    }
   ],
   "source": [
    "import win32com.client\n",
    "\n",
    "def get_news_data(code, num_of_news):\n",
    "    # COM 객체 생성\n",
    "    instCpCodeMgr = win32com.client.Dispatch(\"CpUtil.CpCodeMgr\")\n",
    "    instCpSvrNew = win32com.client.Dispatch(\"CpSysDib.CpSvrNew\")\n",
    "\n",
    "    # 종목 코드 설정\n",
    "    instCpSvrNew.SetInputValue(0, code)  # 종목 코드\n",
    "    instCpSvrNew.SetInputValue(1, ord('0'))  # 기간별\n",
    "    instCpSvrNew.SetInputValue(2, num_of_news)  # 요청 개수\n",
    "\n",
    "    # 데이터 요청\n",
    "    instCpSvrNew.BlockRequest()\n",
    "    \n",
    "    # 데이터 수신 및 처리\n",
    "    num_data = instCpSvrNew.GetHeaderValue(0)  # 수신된 데이터 개수\n",
    "\n",
    "    data = []\n",
    "    for i in range(num_data):\n",
    "        time = instCpSvrNew.GetDataValue(0, i)  # 시간\n",
    "        title = instCpSvrNew.GetDataValue(1, i)  # 제목\n",
    "        url = instCpSvrNew.GetDataValue(2, i)  # 링크 URL\n",
    "        data.append((time, title, url))\n",
    "\n",
    "    return data\n",
    "\n",
    "# 사용 예시\n",
    "if __name__ == \"__main__\":\n",
    "    code = \"A005930\"  # 삼성전자 종목 코드\n",
    "    num_of_news = 10  # 최근 10개의 뉴스 조회\n",
    "\n",
    "    news_data = get_news_data(code, num_of_news)\n",
    "    for news in news_data:\n",
    "        print(news)"
   ]
  }
 ],
 "metadata": {
  "kernelspec": {
   "display_name": "trading_n",
   "language": "python",
   "name": "python3"
  },
  "language_info": {
   "codemirror_mode": {
    "name": "ipython",
    "version": 3
   },
   "file_extension": ".py",
   "mimetype": "text/x-python",
   "name": "python",
   "nbconvert_exporter": "python",
   "pygments_lexer": "ipython3",
   "version": "3.8.13"
  },
  "orig_nbformat": 4
 },
 "nbformat": 4,
 "nbformat_minor": 2
}
