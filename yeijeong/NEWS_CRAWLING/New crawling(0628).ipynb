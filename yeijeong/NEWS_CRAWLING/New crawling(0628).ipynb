{
 "cells": [
  {
   "cell_type": "code",
   "execution_count": 15,
   "metadata": {},
   "outputs": [],
   "source": [
    "import requests\n",
    "from bs4 import BeautifulSoup\n",
    "from tqdm.notebook import tqdm"
   ]
  },
  {
   "cell_type": "code",
   "execution_count": 16,
   "metadata": {},
   "outputs": [],
   "source": [
    "def ex_tag(sid, page):\n",
    "    ### 뉴스 분야(sid)와 페이지(page)를 입력하면 그에 대한 링크들을 리스트로 추출하는 함수 ###\n",
    "    \n",
    "    ## 1.\n",
    "    url = f\"https://news.naver.com/main/main.naver?mode=LSD&mid=shm&sid1={sid}\"\\\n",
    "    \"#&date=%2000:00:00&page={page}\"\n",
    "    html = requests.get(url, headers={\"User-Agent\": \"Mozilla/5.0\"\\\n",
    "    \"(Windows NT 10.0; Win64; x64) AppleWebKit/537.36 (KHTML, like Gecko) \"\\\n",
    "    \"Chrome/110.0.0.0 Safari/537.36\"})\n",
    "    soup = BeautifulSoup(html.text, \"lxml\")\n",
    "    a_tag = soup.find_all(\"a\")\n",
    "    \n",
    "    ## 2.\n",
    "    tag_lst = []\n",
    "    for a in a_tag:\n",
    "        if \"href\" in a.attrs:  # href가 있는것만 고르는 것\n",
    "            if (f\"sid={sid}\" in a[\"href\"]) and (\"article\" in a[\"href\"]):\n",
    "                tag_lst.append(a[\"href\"])\n",
    "                \n",
    "    return tag_lst"
   ]
  },
  {
   "cell_type": "code",
   "execution_count": 17,
   "metadata": {},
   "outputs": [],
   "source": [
    "def re_tag(sid):\n",
    "    ### 특정 분야의 100페이지까지의 뉴스의 링크를 수집하여 중복 제거한 리스트로 변환하는 함수 ###\n",
    "    ## 여기 바꾸면 돼  예정!!!!\n",
    "    re_lst = []\n",
    "    for i in tqdm(range(101,200)):\n",
    "        lst = ex_tag(sid, i+1)\n",
    "        re_lst.extend(lst)\n",
    "\n",
    "    # 중복 제거\n",
    "    re_set = set(re_lst)\n",
    "    re_lst = list(re_set)\n",
    "    \n",
    "    return re_lst"
   ]
  },
  {
   "cell_type": "code",
   "execution_count": 18,
   "metadata": {},
   "outputs": [
    {
     "data": {
      "application/vnd.jupyter.widget-view+json": {
       "model_id": "b91b0b6923e54ea7833c4e759d1bdd44",
       "version_major": 2,
       "version_minor": 0
      },
      "text/plain": [
       "  0%|          | 0/99 [00:00<?, ?it/s]"
      ]
     },
     "metadata": {},
     "output_type": "display_data"
    },
    {
     "data": {
      "application/vnd.jupyter.widget-view+json": {
       "model_id": "fa528937e03d4d7981eddeb7c4923ebc",
       "version_major": 2,
       "version_minor": 0
      },
      "text/plain": [
       "  0%|          | 0/99 [00:00<?, ?it/s]"
      ]
     },
     "metadata": {},
     "output_type": "display_data"
    },
    {
     "data": {
      "application/vnd.jupyter.widget-view+json": {
       "model_id": "a57f7527d2ca42b597b61adb29ea1333",
       "version_major": 2,
       "version_minor": 0
      },
      "text/plain": [
       "  0%|          | 0/99 [00:00<?, ?it/s]"
      ]
     },
     "metadata": {},
     "output_type": "display_data"
    },
    {
     "data": {
      "application/vnd.jupyter.widget-view+json": {
       "model_id": "8a2f161c370640b6a76e267ddb688ca0",
       "version_major": 2,
       "version_minor": 0
      },
      "text/plain": [
       "  0%|          | 0/99 [00:00<?, ?it/s]"
      ]
     },
     "metadata": {},
     "output_type": "display_data"
    },
    {
     "data": {
      "application/vnd.jupyter.widget-view+json": {
       "model_id": "520be3fc89184eb99b1c1ada2bc9a111",
       "version_major": 2,
       "version_minor": 0
      },
      "text/plain": [
       "  0%|          | 0/99 [00:00<?, ?it/s]"
      ]
     },
     "metadata": {},
     "output_type": "display_data"
    },
    {
     "data": {
      "application/vnd.jupyter.widget-view+json": {
       "model_id": "5497dcba662a4193972f508bc18119c0",
       "version_major": 2,
       "version_minor": 0
      },
      "text/plain": [
       "  0%|          | 0/99 [00:00<?, ?it/s]"
      ]
     },
     "metadata": {},
     "output_type": "display_data"
    }
   ],
   "source": [
    "all_hrefs = {}\n",
    "sids = [i for i in range(100,106)]  # 분야 리스트\n",
    "### 분야 바꾸고 싶으면 여기 바꾸면 됨\n",
    "# 각 분야별로 링크 수집해서 딕셔너리에 저장\n",
    "for sid in sids:\n",
    "    sid_data = re_tag(sid)\n",
    "    all_hrefs[sid] = sid_data"
   ]
  },
  {
   "cell_type": "code",
   "execution_count": 19,
   "metadata": {},
   "outputs": [],
   "source": [
    "def art_crawl(all_hrefs, sid, index):\n",
    "    \"\"\"\n",
    "    sid와 링크 인덱스를 넣으면 기사제목, 날짜, 본문을 크롤링하여 딕셔너리를 출력하는 함수 \n",
    "    \n",
    "    Args: \n",
    "        all_hrefs(dict): 각 분야별로 100페이지까지 링크를 수집한 딕셔너리 (key: 분야(sid), value: 링크)\n",
    "        sid(int): 분야 [100: 정치, 101: 경제, 102: 사회, 103: 생활/문화, 104: 세계, 105: IT/과학]\n",
    "        index(int): 링크의 인덱스\n",
    "    \n",
    "    Returns:\n",
    "        dict: 기사제목, 날짜, 본문이 크롤링된 딕셔너리\n",
    "    \n",
    "    \"\"\"\n",
    "    art_dic = {}\n",
    "    \n",
    "    ## 1.\n",
    "    title_selector = \"#title_area > span\"\n",
    "    date_selector = \"#ct > div.media_end_head.go_trans > div.media_end_head_info.nv_notrans\"\\\n",
    "    \"> div.media_end_head_info_datestamp > div:nth-child(1) > span\"\n",
    "    main_selector = \"#dic_area\"\n",
    "    \n",
    "    url = all_hrefs[sid][index]\n",
    "    html = requests.get(url, headers = {\"User-Agent\": \"Mozilla/5.0 \"\\\n",
    "    \"(Windows NT 10.0; Win64; x64) AppleWebKit/537.36 (KHTML, like Gecko)\"\\\n",
    "    \"Chrome/110.0.0.0 Safari/537.36\"})\n",
    "    soup = BeautifulSoup(html.text, \"lxml\")\n",
    "    \n",
    "    ## 2.\n",
    "    # 제목 수집\n",
    "    title = soup.select(title_selector)\n",
    "    title_lst = [t.text for t in title]\n",
    "    title_str = \"\".join(title_lst)\n",
    "    \n",
    "    # 날짜 수집\n",
    "    date = soup.select(date_selector)\n",
    "    date_lst = [d.text for d in date]\n",
    "    date_str = \"\".join(date_lst)\n",
    "    \n",
    "    # 본문 수집\n",
    "    main = soup.select(main_selector)\n",
    "    main_lst = []\n",
    "    for m in main:\n",
    "        m_text = m.text\n",
    "        m_text = m_text.strip()\n",
    "        main_lst.append(m_text)\n",
    "    main_str = \"\".join(main_lst)\n",
    "    \n",
    "    ## 3.\n",
    "    art_dic[\"title\"] = title_str\n",
    "    art_dic[\"date\"] = date_str\n",
    "    art_dic[\"main\"] = main_str\n",
    "    \n",
    "    return art_dic"
   ]
  },
  {
   "cell_type": "code",
   "execution_count": 20,
   "metadata": {},
   "outputs": [
    {
     "data": {
      "application/vnd.jupyter.widget-view+json": {
       "model_id": "1bce5604381f44ba95b7eea8abb8d813",
       "version_major": 2,
       "version_minor": 0
      },
      "text/plain": [
       "  0%|          | 0/6 [00:00<?, ?it/s]"
      ]
     },
     "metadata": {},
     "output_type": "display_data"
    },
    {
     "data": {
      "application/vnd.jupyter.widget-view+json": {
       "model_id": "f63b58fc34a549d19b44384de037ec1c",
       "version_major": 2,
       "version_minor": 0
      },
      "text/plain": [
       "  0%|          | 0/440 [00:00<?, ?it/s]"
      ]
     },
     "metadata": {},
     "output_type": "display_data"
    },
    {
     "data": {
      "application/vnd.jupyter.widget-view+json": {
       "model_id": "9c69668edc0e48eab916d2af9a87031a",
       "version_major": 2,
       "version_minor": 0
      },
      "text/plain": [
       "  0%|          | 0/574 [00:00<?, ?it/s]"
      ]
     },
     "metadata": {},
     "output_type": "display_data"
    }
   ],
   "source": [
    "# 모든 섹션의 데이터 수집 (제목, 날짜, 본문, section, url)\n",
    "section_lst = [s for s in range(100, 106)]\n",
    "artdic_lst = []\n",
    "\n",
    "for section in tqdm(section_lst):\n",
    "    for i in tqdm(range(len(all_hrefs[section]))):\n",
    "        art_dic = art_crawl(all_hrefs, section, i)\n",
    "        art_dic[\"section\"] = section\n",
    "        art_dic[\"url\"] = all_hrefs[section][i]\n",
    "        artdic_lst.append(art_dic)"
   ]
  },
  {
   "cell_type": "code",
   "execution_count": null,
   "metadata": {},
   "outputs": [],
   "source": [
    "import pandas as pd\n",
    "\n",
    "art_df = pd.DataFrame(artdic_lst)"
   ]
  },
  {
   "cell_type": "code",
   "execution_count": null,
   "metadata": {},
   "outputs": [],
   "source": [
    "art_df.to_csv(\"article_df.csv\")"
   ]
  },
  {
   "cell_type": "code",
   "execution_count": null,
   "metadata": {},
   "outputs": [
    {
     "data": {
      "text/html": [
       "<div>\n",
       "<style scoped>\n",
       "    .dataframe tbody tr th:only-of-type {\n",
       "        vertical-align: middle;\n",
       "    }\n",
       "\n",
       "    .dataframe tbody tr th {\n",
       "        vertical-align: top;\n",
       "    }\n",
       "\n",
       "    .dataframe thead th {\n",
       "        text-align: right;\n",
       "    }\n",
       "</style>\n",
       "<table border=\"1\" class=\"dataframe\">\n",
       "  <thead>\n",
       "    <tr style=\"text-align: right;\">\n",
       "      <th></th>\n",
       "      <th>title</th>\n",
       "      <th>date</th>\n",
       "      <th>main</th>\n",
       "      <th>section</th>\n",
       "      <th>url</th>\n",
       "    </tr>\n",
       "  </thead>\n",
       "  <tbody>\n",
       "    <tr>\n",
       "      <th>867</th>\n",
       "      <td>대웅제약, '펙수클루' 중국 품목허가 신청 완료</td>\n",
       "      <td>2023.06.27. 오전 10:00</td>\n",
       "      <td>대웅제약은 자체 개발한 P-CAB(칼륨 경쟁적 위산분비 억제제) 계열 '펙수클루 4...</td>\n",
       "      <td>101</td>\n",
       "      <td>https://n.news.naver.com/mnews/article/215/000...</td>\n",
       "    </tr>\n",
       "    <tr>\n",
       "      <th>1070</th>\n",
       "      <td>내일부터 '만 나이'…네이버 계산기로 바로 확인</td>\n",
       "      <td>2023.06.27. 오전 10:00</td>\n",
       "      <td>네이버, 만 나이 계산기 서비스다음, 인물 정보에서 만 나이만\\n\\n\\n\\n네이버 ...</td>\n",
       "      <td>102</td>\n",
       "      <td>https://n.news.naver.com/mnews/article/011/000...</td>\n",
       "    </tr>\n",
       "    <tr>\n",
       "      <th>1195</th>\n",
       "      <td>부산경찰청, 피서기간 해수욕장서 여름 경찰서·파출소 운영</td>\n",
       "      <td>2023.06.27. 오전 10:01</td>\n",
       "      <td>[부산=뉴시스] 하경민 기자 = 부산 해운대·송정 해수욕장 부분 개장을 하루 앞둔 ...</td>\n",
       "      <td>102</td>\n",
       "      <td>https://n.news.naver.com/mnews/article/003/001...</td>\n",
       "    </tr>\n",
       "    <tr>\n",
       "      <th>646</th>\n",
       "      <td>홈플러스, 당당치킨 이어 '당당버거' 출시...\"2개에 4,990원\"</td>\n",
       "      <td>2023.06.27. 오전 10:01</td>\n",
       "      <td>홈플러스는 외식 물가 안정에 기여하기 위해 오는 29일부터 신메뉴 '당당 순살치킨 ...</td>\n",
       "      <td>101</td>\n",
       "      <td>https://n.news.naver.com/mnews/article/215/000...</td>\n",
       "    </tr>\n",
       "    <tr>\n",
       "      <th>1102</th>\n",
       "      <td>“이게 왜 킬러 문항?”, “물수능이란 뜻?”…킬러 문항 공개에 수험생·학원가 술렁</td>\n",
       "      <td>2023.06.27. 오전 10:02</td>\n",
       "      <td>교육부 킬러문항 공개국영수 22개, 과탐 4개 선정 기준 두고 수험생·사교육업계 갸...</td>\n",
       "      <td>102</td>\n",
       "      <td>https://n.news.naver.com/mnews/article/016/000...</td>\n",
       "    </tr>\n",
       "    <tr>\n",
       "      <th>...</th>\n",
       "      <td>...</td>\n",
       "      <td>...</td>\n",
       "      <td>...</td>\n",
       "      <td>...</td>\n",
       "      <td>...</td>\n",
       "    </tr>\n",
       "    <tr>\n",
       "      <th>761</th>\n",
       "      <td>현대차, '포니의 시간' 전시에 전직 임원 초청</td>\n",
       "      <td>2023.06.28. 오전 9:59</td>\n",
       "      <td>현대자동차가 전직 임원들을 초청해 최근 복원한 '포니 쿠페 콘셉트'를 소개하는 시간...</td>\n",
       "      <td>101</td>\n",
       "      <td>https://n.news.naver.com/mnews/article/277/000...</td>\n",
       "    </tr>\n",
       "    <tr>\n",
       "      <th>1024</th>\n",
       "      <td>오늘부터 '만 나이' 적용...예외 대상은?</td>\n",
       "      <td>2023.06.28. 오전 9:59</td>\n",
       "      <td>[오늘의 건강]\\n\\n\\n\\n[사진=게티이미지뱅크]오늘(28일)은 남부지방을 중심으...</td>\n",
       "      <td>102</td>\n",
       "      <td>https://n.news.naver.com/mnews/article/296/000...</td>\n",
       "    </tr>\n",
       "    <tr>\n",
       "      <th>1283</th>\n",
       "      <td>與 문성호 \"황의조 폭로女, 스스로 결정해놓고 男에 책임 넘겨\"</td>\n",
       "      <td>2023.06.28. 오전 9:59</td>\n",
       "      <td>지난 20일 대전 유성구 대전월드컵경기장에서 열린 하나은행 초청 대한민국과 엘살바도...</td>\n",
       "      <td>102</td>\n",
       "      <td>https://n.news.naver.com/mnews/article/008/000...</td>\n",
       "    </tr>\n",
       "    <tr>\n",
       "      <th>344</th>\n",
       "      <td>당정 “예비군 학습권 보장…2학기 시작 전 시행”</td>\n",
       "      <td>2023.06.28. 오전 9:59</td>\n",
       "      <td>국민의힘과 정부가 예비군 훈련에 참석할 때 결석 처리 등 불이익이 없도록 하는 ‘예...</td>\n",
       "      <td>100</td>\n",
       "      <td>https://n.news.naver.com/mnews/article/056/001...</td>\n",
       "    </tr>\n",
       "    <tr>\n",
       "      <th>255</th>\n",
       "      <td>[정치쇼] 조정훈 \"개혁의 칼 준다면 민주당도 갈 수 있다\"</td>\n",
       "      <td>2023.06.28. 오전 9:59</td>\n",
       "      <td>- 김무성 \"국힘 와도 되겠다\"? 의외지만 감사했다- 여당 개혁해 달란 문자 쇄도,...</td>\n",
       "      <td>100</td>\n",
       "      <td>https://n.news.naver.com/mnews/article/055/000...</td>\n",
       "    </tr>\n",
       "  </tbody>\n",
       "</table>\n",
       "<p>2033 rows × 5 columns</p>\n",
       "</div>"
      ],
      "text/plain": [
       "                                               title                  date  \\\n",
       "867                       대웅제약, '펙수클루' 중국 품목허가 신청 완료  2023.06.27. 오전 10:00   \n",
       "1070                      내일부터 '만 나이'…네이버 계산기로 바로 확인  2023.06.27. 오전 10:00   \n",
       "1195                 부산경찰청, 피서기간 해수욕장서 여름 경찰서·파출소 운영  2023.06.27. 오전 10:01   \n",
       "646           홈플러스, 당당치킨 이어 '당당버거' 출시...\"2개에 4,990원\"  2023.06.27. 오전 10:01   \n",
       "1102  “이게 왜 킬러 문항?”, “물수능이란 뜻?”…킬러 문항 공개에 수험생·학원가 술렁  2023.06.27. 오전 10:02   \n",
       "...                                              ...                   ...   \n",
       "761                       현대차, '포니의 시간' 전시에 전직 임원 초청   2023.06.28. 오전 9:59   \n",
       "1024                        오늘부터 '만 나이' 적용...예외 대상은?   2023.06.28. 오전 9:59   \n",
       "1283             與 문성호 \"황의조 폭로女, 스스로 결정해놓고 男에 책임 넘겨\"   2023.06.28. 오전 9:59   \n",
       "344                      당정 “예비군 학습권 보장…2학기 시작 전 시행”   2023.06.28. 오전 9:59   \n",
       "255                [정치쇼] 조정훈 \"개혁의 칼 준다면 민주당도 갈 수 있다\"   2023.06.28. 오전 9:59   \n",
       "\n",
       "                                                   main  section  \\\n",
       "867   대웅제약은 자체 개발한 P-CAB(칼륨 경쟁적 위산분비 억제제) 계열 '펙수클루 4...      101   \n",
       "1070  네이버, 만 나이 계산기 서비스다음, 인물 정보에서 만 나이만\\n\\n\\n\\n네이버 ...      102   \n",
       "1195  [부산=뉴시스] 하경민 기자 = 부산 해운대·송정 해수욕장 부분 개장을 하루 앞둔 ...      102   \n",
       "646   홈플러스는 외식 물가 안정에 기여하기 위해 오는 29일부터 신메뉴 '당당 순살치킨 ...      101   \n",
       "1102  교육부 킬러문항 공개국영수 22개, 과탐 4개 선정 기준 두고 수험생·사교육업계 갸...      102   \n",
       "...                                                 ...      ...   \n",
       "761   현대자동차가 전직 임원들을 초청해 최근 복원한 '포니 쿠페 콘셉트'를 소개하는 시간...      101   \n",
       "1024  [오늘의 건강]\\n\\n\\n\\n[사진=게티이미지뱅크]오늘(28일)은 남부지방을 중심으...      102   \n",
       "1283  지난 20일 대전 유성구 대전월드컵경기장에서 열린 하나은행 초청 대한민국과 엘살바도...      102   \n",
       "344   국민의힘과 정부가 예비군 훈련에 참석할 때 결석 처리 등 불이익이 없도록 하는 ‘예...      100   \n",
       "255   - 김무성 \"국힘 와도 되겠다\"? 의외지만 감사했다- 여당 개혁해 달란 문자 쇄도,...      100   \n",
       "\n",
       "                                                    url  \n",
       "867   https://n.news.naver.com/mnews/article/215/000...  \n",
       "1070  https://n.news.naver.com/mnews/article/011/000...  \n",
       "1195  https://n.news.naver.com/mnews/article/003/001...  \n",
       "646   https://n.news.naver.com/mnews/article/215/000...  \n",
       "1102  https://n.news.naver.com/mnews/article/016/000...  \n",
       "...                                                 ...  \n",
       "761   https://n.news.naver.com/mnews/article/277/000...  \n",
       "1024  https://n.news.naver.com/mnews/article/296/000...  \n",
       "1283  https://n.news.naver.com/mnews/article/008/000...  \n",
       "344   https://n.news.naver.com/mnews/article/056/001...  \n",
       "255   https://n.news.naver.com/mnews/article/055/000...  \n",
       "\n",
       "[2033 rows x 5 columns]"
      ]
     },
     "execution_count": 14,
     "metadata": {},
     "output_type": "execute_result"
    }
   ],
   "source": [
    "art_df.sort_values(by='date', ascending=True)"
   ]
  }
 ],
 "metadata": {
  "kernelspec": {
   "display_name": "dl_dev_gpu",
   "language": "python",
   "name": "python3"
  },
  "language_info": {
   "codemirror_mode": {
    "name": "ipython",
    "version": 3
   },
   "file_extension": ".py",
   "mimetype": "text/x-python",
   "name": "python",
   "nbconvert_exporter": "python",
   "pygments_lexer": "ipython3",
   "version": "3.10.11"
  },
  "orig_nbformat": 4
 },
 "nbformat": 4,
 "nbformat_minor": 2
}
