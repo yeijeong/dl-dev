{
 "cells": [
  {
   "cell_type": "code",
   "execution_count": 1,
   "metadata": {},
   "outputs": [],
   "source": [
    "import pandas as pd\n",
    "import os\n",
    "import numpy as np\n",
    "import requests\n",
    "from bs4 import BeautifulSoup\n",
    "import bs4.element\n",
    "import warnings\n",
    "warnings.filterwarnings('ignore')\n",
    "import re\n",
    "import time\n",
    "from datetime import datetime"
   ]
  },
  {
   "cell_type": "code",
   "execution_count": 2,
   "metadata": {},
   "outputs": [],
   "source": [
    "folders = os.listdir('D:\\\\big16\\\\final project\\\\DATA\\\\NEWS_DATA\\\\한화에어로스페이스')"
   ]
  },
  {
   "cell_type": "code",
   "execution_count": 3,
   "metadata": {},
   "outputs": [],
   "source": [
    "df_all = pd.DataFrame()\n",
    "for i in range(0,len(folders)):\n",
    "    if folders[i].split('.')[1] == 'csv':\n",
    "        file = 'D:\\\\big16\\\\final project\\\\DATA\\\\NEWS_DATA\\\\한화에어로스페이스\\\\'+folders[i]\n",
    "        df= pd.read_csv(file,encoding='utf-8') \n",
    "        df_all = pd.concat([df_all, df])"
   ]
  },
  {
   "cell_type": "code",
   "execution_count": 4,
   "metadata": {},
   "outputs": [],
   "source": [
    "folderss = os.listdir('D:\\\\big16\\\\final project\\\\DATA\\\\NEWS_DATA\\\\TEST\\\\NAVER_NEWS_DATA\\\\한화에어로스페이스')"
   ]
  },
  {
   "cell_type": "code",
   "execution_count": 5,
   "metadata": {},
   "outputs": [],
   "source": [
    "for i in range(0,len(folderss)):\n",
    "    if folderss[i].split('.')[1] == 'csv':\n",
    "        file = 'D:\\\\big16\\\\final project\\\\DATA\\\\NEWS_DATA\\\\TEST\\\\NAVER_NEWS_DATA\\\\한화에어로스페이스\\\\'+folderss[i]\n",
    "        df= pd.read_csv(file,encoding='utf-8') \n",
    "        df_all = pd.concat([df_all, df])"
   ]
  },
  {
   "cell_type": "code",
   "execution_count": 6,
   "metadata": {},
   "outputs": [
    {
     "name": "stdout",
     "output_type": "stream",
     "text": [
      "<class 'pandas.core.frame.DataFrame'>\n",
      "Index: 3642 entries, 0 to 275\n",
      "Data columns (total 6 columns):\n",
      " #   Column       Non-Null Count  Dtype  \n",
      "---  ------       --------------  -----  \n",
      " 0   date         3638 non-null   object \n",
      " 1   title        3638 non-null   object \n",
      " 2   linkcontent  0 non-null      object \n",
      " 3   link         3642 non-null   object \n",
      " 4   content      3642 non-null   object \n",
      " 5   Unnamed: 0   1821 non-null   float64\n",
      "dtypes: float64(1), object(5)\n",
      "memory usage: 199.2+ KB\n"
     ]
    }
   ],
   "source": [
    "df_all.info()"
   ]
  },
  {
   "cell_type": "code",
   "execution_count": 7,
   "metadata": {},
   "outputs": [],
   "source": [
    "df_all.drop('link', axis=1, inplace=True)\n",
    "df_all.drop('Unnamed: 0', axis=1, inplace=True)"
   ]
  },
  {
   "cell_type": "code",
   "execution_count": 12,
   "metadata": {},
   "outputs": [],
   "source": [
    "df_all.drop('linkcontent', axis=1, inplace=True)"
   ]
  },
  {
   "cell_type": "code",
   "execution_count": 13,
   "metadata": {},
   "outputs": [
    {
     "data": {
      "text/html": [
       "<div>\n",
       "<style scoped>\n",
       "    .dataframe tbody tr th:only-of-type {\n",
       "        vertical-align: middle;\n",
       "    }\n",
       "\n",
       "    .dataframe tbody tr th {\n",
       "        vertical-align: top;\n",
       "    }\n",
       "\n",
       "    .dataframe thead th {\n",
       "        text-align: right;\n",
       "    }\n",
       "</style>\n",
       "<table border=\"1\" class=\"dataframe\">\n",
       "  <thead>\n",
       "    <tr style=\"text-align: right;\">\n",
       "      <th></th>\n",
       "      <th>date</th>\n",
       "      <th>title</th>\n",
       "      <th>content</th>\n",
       "    </tr>\n",
       "  </thead>\n",
       "  <tbody>\n",
       "    <tr>\n",
       "      <th>0</th>\n",
       "      <td>2021-06-28 10:24:38</td>\n",
       "      <td>㈜한화, 인공위성 심장 ‘추력기’ 국산화 개발 나선다</td>\n",
       "      <td>[\\n\\n\\n\\n\\n저장성 이원추진제 추력기(이미지=(주)한화.)한화그룹이 미래 먹...</td>\n",
       "    </tr>\n",
       "    <tr>\n",
       "      <th>1</th>\n",
       "      <td>2021-06-29 04:30:19</td>\n",
       "      <td>한화-삼성 빅딜, 누가 승자였을까</td>\n",
       "      <td>[\\n방산, 화학 4개사 빅딜 6년 만에 마무리전문가들에게 손익계산서를 물어보니\\n...</td>\n",
       "    </tr>\n",
       "    <tr>\n",
       "      <th>2</th>\n",
       "      <td>2021-06-30 17:04:10</td>\n",
       "      <td>리노공업·더존비즈온·솔브레인…기술력 독보적인 강소기업 날았다</td>\n",
       "      <td>[\\n2021 대한민국 혁신기업 30IT·플랫폼·미래기술 혁신기업한화솔루션·에어로스...</td>\n",
       "    </tr>\n",
       "    <tr>\n",
       "      <th>3</th>\n",
       "      <td>2021-06-28 17:38:03</td>\n",
       "      <td>비행기 뜨지도 않았는데 항공부품株는 '이륙'…두달새 주가 20% 올랐다</td>\n",
       "      <td>[\\n항공기 엔진 부품 수혜 전망두달새 주가 20%넘게 올라\\n\\n\\n\\n 올 하반...</td>\n",
       "    </tr>\n",
       "    <tr>\n",
       "      <th>4</th>\n",
       "      <td>2021-06-28 14:35:03</td>\n",
       "      <td>한화, 100% 해외 의존 인공위성 심장 '추력기' 국산화 한다</td>\n",
       "      <td>[\\n궤도∙자세 제어 핵심 기술인 '저장성 이원추진제 추력기' 개발 나서 \\n\\n\\...</td>\n",
       "    </tr>\n",
       "  </tbody>\n",
       "</table>\n",
       "</div>"
      ],
      "text/plain": [
       "                  date                                    title  \\\n",
       "0  2021-06-28 10:24:38            ㈜한화, 인공위성 심장 ‘추력기’ 국산화 개발 나선다   \n",
       "1  2021-06-29 04:30:19                       한화-삼성 빅딜, 누가 승자였을까   \n",
       "2  2021-06-30 17:04:10        리노공업·더존비즈온·솔브레인…기술력 독보적인 강소기업 날았다   \n",
       "3  2021-06-28 17:38:03  비행기 뜨지도 않았는데 항공부품株는 '이륙'…두달새 주가 20% 올랐다   \n",
       "4  2021-06-28 14:35:03      한화, 100% 해외 의존 인공위성 심장 '추력기' 국산화 한다   \n",
       "\n",
       "                                             content  \n",
       "0  [\\n\\n\\n\\n\\n저장성 이원추진제 추력기(이미지=(주)한화.)한화그룹이 미래 먹...  \n",
       "1  [\\n방산, 화학 4개사 빅딜 6년 만에 마무리전문가들에게 손익계산서를 물어보니\\n...  \n",
       "2  [\\n2021 대한민국 혁신기업 30IT·플랫폼·미래기술 혁신기업한화솔루션·에어로스...  \n",
       "3  [\\n항공기 엔진 부품 수혜 전망두달새 주가 20%넘게 올라\\n\\n\\n\\n 올 하반...  \n",
       "4  [\\n궤도∙자세 제어 핵심 기술인 '저장성 이원추진제 추력기' 개발 나서 \\n\\n\\...  "
      ]
     },
     "execution_count": 13,
     "metadata": {},
     "output_type": "execute_result"
    }
   ],
   "source": [
    "df_all.head()"
   ]
  },
  {
   "cell_type": "code",
   "execution_count": 14,
   "metadata": {},
   "outputs": [],
   "source": [
    "import pymysql\n",
    "conn = pymysql.connect(\n",
    "    host='34.64.240.96'\n",
    "    , user='root'\n",
    "    , password='tndusWkd1.'\n",
    "    , db='final_project'\n",
    "    , charset='utf8'\n",
    ")\n",
    "cur = conn.cursor()"
   ]
  },
  {
   "cell_type": "code",
   "execution_count": 15,
   "metadata": {},
   "outputs": [],
   "source": [
    "NewsDate = df_all['date'].to_list()\n",
    "NewsTItle = df_all['title'].to_list()\n",
    "NewsContent = df_all['content'].to_list()"
   ]
  },
  {
   "cell_type": "code",
   "execution_count": 16,
   "metadata": {},
   "outputs": [
    {
     "name": "stdout",
     "output_type": "stream",
     "text": [
      "INSERT INTO past_news_hanwhaairospace (NewsDates,NewsTitles,NewsContents) VALUES ('2021-06-28 10:24:38', '㈜한화, 인공위성 심장 ‘추력기’ 국산화 개발 나선다', '[\n",
      "\n",
      "\n",
      "\n",
      "\n",
      "저장성 이원추진제 추력기(이미지=(주)한화.)한화그룹이 미래 먹거리로 점찍은 인공위성 사업 확장에 박차를 가한다. 이미 계열사인 한화시스템과 한화에어로스페이스가 M&amp;A 등 공격투자를 실시한 데 이어 ㈜한화가 인공위성 핵심 부품을 자체 개발하기로 결정했다.28일 ㈜한화는 지난 25일 한국항공우주연구원(이하 항우연)과 2025년까지 80억원을 투입해 ‘저장성 이원추진제 추력기’를 함께 개발해 나간다고 밝혔다.추력기는 인공위성의 궤도 수정, 자세 제어 등을 담당하는 부품이다. 위성의 수명과 직결되므로 ‘인공위성의 심장’이라고도 불린다. 그동안 정지궤도위성에 적용된 이원추진제 추력기는 전량 독일 등 해외 기업 제품에 의존해왔다. ㈜한화는 항우연과 함께 추력기를 국산화한다는 계획이다. ㈜한화가 개발키로 한 저장성 이원추진제 추력기는 연료와 산화제를 각기 다른 탱크에 저장하는 이원화 방식이 적용된다. 이 경우 연료량을 조절해 효율성이 높고 많은 연료를 장기간 저장할 수 있다는 장점이 있다. 김승모 ㈜한화 방산부문 대표이사는 “민간 주도의 뉴 스페이스(New Space) 시대를 앞두고 100% 해외에 의존하던 핵심 기술을 국산화한다는 의미가 크다”고 밝혔다.한화그룹은 최근 인공위성 사업 확장에 열을 올리고 있다. 김승연 한화그룹 회장은 올 초 신년사에서 \"미래 모빌리티, 항공우주 등 신규 사업에서도 세계를 상대로 미래 성장 기회를 선점해 달라\"고 주문하기도 했다. 한화그룹의 방산 계열사인 한화에어로스페이스는 올 초 소형 인공위성 기업 쎄트렉아이 지분 30%를 인수했으며 김동관 사장은 쎄트렉아이 등기임원에 올라 경영에 참여하고 있다. 한화시스템은이미 지난해 영국의 위성통신 안테나 기술 벤처기업인 ‘페이저 솔루션’의 사업 및 자산 일체를 인수한 바 있다.\n",
      "\t\t]')\n"
     ]
    },
    {
     "ename": "KeyboardInterrupt",
     "evalue": "",
     "output_type": "error",
     "traceback": [
      "\u001b[1;31m---------------------------------------------------------------------------\u001b[0m",
      "\u001b[1;31mKeyboardInterrupt\u001b[0m                         Traceback (most recent call last)",
      "Cell \u001b[1;32mIn[16], line 4\u001b[0m\n\u001b[0;32m      2\u001b[0m     sql \u001b[39m=\u001b[39m \u001b[39m\"\u001b[39m\u001b[39mINSERT INTO past_news_hanwhaairospace (NewsDates,NewsTitles,NewsContents) VALUES (\u001b[39m\u001b[39m%s\u001b[39;00m\u001b[39m, \u001b[39m\u001b[39m%s\u001b[39;00m\u001b[39m, \u001b[39m\u001b[39m%s\u001b[39;00m\u001b[39m)\u001b[39m\u001b[39m\"\u001b[39m \u001b[39m%\u001b[39m (\u001b[39m\"\u001b[39m\u001b[39m'\u001b[39m\u001b[39m\"\u001b[39m\u001b[39m+\u001b[39mdate\u001b[39m+\u001b[39m\u001b[39m\"\u001b[39m\u001b[39m'\u001b[39m\u001b[39m\"\u001b[39m, \u001b[39m\"\u001b[39m\u001b[39m'\u001b[39m\u001b[39m\"\u001b[39m\u001b[39m+\u001b[39mtitle\u001b[39m+\u001b[39m\u001b[39m\"\u001b[39m\u001b[39m'\u001b[39m\u001b[39m\"\u001b[39m, \u001b[39m\"\u001b[39m\u001b[39m'\u001b[39m\u001b[39m\"\u001b[39m\u001b[39m+\u001b[39mcontent\u001b[39m+\u001b[39m\u001b[39m\"\u001b[39m\u001b[39m'\u001b[39m\u001b[39m\"\u001b[39m)\n\u001b[0;32m      3\u001b[0m     \u001b[39mprint\u001b[39m(sql)\n\u001b[1;32m----> 4\u001b[0m     cur\u001b[39m.\u001b[39;49mexecute(sql)\n\u001b[0;32m      5\u001b[0m conn\u001b[39m.\u001b[39mcommit()\n\u001b[0;32m      6\u001b[0m conn\u001b[39m.\u001b[39mclose()\n",
      "File \u001b[1;32mc:\\Users\\tj\\anaconda3\\envs\\ml-dev\\lib\\site-packages\\pymysql\\cursors.py:153\u001b[0m, in \u001b[0;36mCursor.execute\u001b[1;34m(self, query, args)\u001b[0m\n\u001b[0;32m    149\u001b[0m     \u001b[39mpass\u001b[39;00m\n\u001b[0;32m    151\u001b[0m query \u001b[39m=\u001b[39m \u001b[39mself\u001b[39m\u001b[39m.\u001b[39mmogrify(query, args)\n\u001b[1;32m--> 153\u001b[0m result \u001b[39m=\u001b[39m \u001b[39mself\u001b[39;49m\u001b[39m.\u001b[39;49m_query(query)\n\u001b[0;32m    154\u001b[0m \u001b[39mself\u001b[39m\u001b[39m.\u001b[39m_executed \u001b[39m=\u001b[39m query\n\u001b[0;32m    155\u001b[0m \u001b[39mreturn\u001b[39;00m result\n",
      "File \u001b[1;32mc:\\Users\\tj\\anaconda3\\envs\\ml-dev\\lib\\site-packages\\pymysql\\cursors.py:322\u001b[0m, in \u001b[0;36mCursor._query\u001b[1;34m(self, q)\u001b[0m\n\u001b[0;32m    320\u001b[0m conn \u001b[39m=\u001b[39m \u001b[39mself\u001b[39m\u001b[39m.\u001b[39m_get_db()\n\u001b[0;32m    321\u001b[0m \u001b[39mself\u001b[39m\u001b[39m.\u001b[39m_clear_result()\n\u001b[1;32m--> 322\u001b[0m conn\u001b[39m.\u001b[39;49mquery(q)\n\u001b[0;32m    323\u001b[0m \u001b[39mself\u001b[39m\u001b[39m.\u001b[39m_do_get_result()\n\u001b[0;32m    324\u001b[0m \u001b[39mreturn\u001b[39;00m \u001b[39mself\u001b[39m\u001b[39m.\u001b[39mrowcount\n",
      "File \u001b[1;32mc:\\Users\\tj\\anaconda3\\envs\\ml-dev\\lib\\site-packages\\pymysql\\connections.py:558\u001b[0m, in \u001b[0;36mConnection.query\u001b[1;34m(self, sql, unbuffered)\u001b[0m\n\u001b[0;32m    556\u001b[0m     sql \u001b[39m=\u001b[39m sql\u001b[39m.\u001b[39mencode(\u001b[39mself\u001b[39m\u001b[39m.\u001b[39mencoding, \u001b[39m\"\u001b[39m\u001b[39msurrogateescape\u001b[39m\u001b[39m\"\u001b[39m)\n\u001b[0;32m    557\u001b[0m \u001b[39mself\u001b[39m\u001b[39m.\u001b[39m_execute_command(COMMAND\u001b[39m.\u001b[39mCOM_QUERY, sql)\n\u001b[1;32m--> 558\u001b[0m \u001b[39mself\u001b[39m\u001b[39m.\u001b[39m_affected_rows \u001b[39m=\u001b[39m \u001b[39mself\u001b[39;49m\u001b[39m.\u001b[39;49m_read_query_result(unbuffered\u001b[39m=\u001b[39;49munbuffered)\n\u001b[0;32m    559\u001b[0m \u001b[39mreturn\u001b[39;00m \u001b[39mself\u001b[39m\u001b[39m.\u001b[39m_affected_rows\n",
      "File \u001b[1;32mc:\\Users\\tj\\anaconda3\\envs\\ml-dev\\lib\\site-packages\\pymysql\\connections.py:822\u001b[0m, in \u001b[0;36mConnection._read_query_result\u001b[1;34m(self, unbuffered)\u001b[0m\n\u001b[0;32m    820\u001b[0m \u001b[39melse\u001b[39;00m:\n\u001b[0;32m    821\u001b[0m     result \u001b[39m=\u001b[39m MySQLResult(\u001b[39mself\u001b[39m)\n\u001b[1;32m--> 822\u001b[0m     result\u001b[39m.\u001b[39;49mread()\n\u001b[0;32m    823\u001b[0m \u001b[39mself\u001b[39m\u001b[39m.\u001b[39m_result \u001b[39m=\u001b[39m result\n\u001b[0;32m    824\u001b[0m \u001b[39mif\u001b[39;00m result\u001b[39m.\u001b[39mserver_status \u001b[39mis\u001b[39;00m \u001b[39mnot\u001b[39;00m \u001b[39mNone\u001b[39;00m:\n",
      "File \u001b[1;32mc:\\Users\\tj\\anaconda3\\envs\\ml-dev\\lib\\site-packages\\pymysql\\connections.py:1200\u001b[0m, in \u001b[0;36mMySQLResult.read\u001b[1;34m(self)\u001b[0m\n\u001b[0;32m   1198\u001b[0m \u001b[39mdef\u001b[39;00m \u001b[39mread\u001b[39m(\u001b[39mself\u001b[39m):\n\u001b[0;32m   1199\u001b[0m     \u001b[39mtry\u001b[39;00m:\n\u001b[1;32m-> 1200\u001b[0m         first_packet \u001b[39m=\u001b[39m \u001b[39mself\u001b[39;49m\u001b[39m.\u001b[39;49mconnection\u001b[39m.\u001b[39;49m_read_packet()\n\u001b[0;32m   1202\u001b[0m         \u001b[39mif\u001b[39;00m first_packet\u001b[39m.\u001b[39mis_ok_packet():\n\u001b[0;32m   1203\u001b[0m             \u001b[39mself\u001b[39m\u001b[39m.\u001b[39m_read_ok_packet(first_packet)\n",
      "File \u001b[1;32mc:\\Users\\tj\\anaconda3\\envs\\ml-dev\\lib\\site-packages\\pymysql\\connections.py:739\u001b[0m, in \u001b[0;36mConnection._read_packet\u001b[1;34m(self, packet_type)\u001b[0m\n\u001b[0;32m    737\u001b[0m buff \u001b[39m=\u001b[39m \u001b[39mbytearray\u001b[39m()\n\u001b[0;32m    738\u001b[0m \u001b[39mwhile\u001b[39;00m \u001b[39mTrue\u001b[39;00m:\n\u001b[1;32m--> 739\u001b[0m     packet_header \u001b[39m=\u001b[39m \u001b[39mself\u001b[39;49m\u001b[39m.\u001b[39;49m_read_bytes(\u001b[39m4\u001b[39;49m)\n\u001b[0;32m    740\u001b[0m     \u001b[39m# if DEBUG: dump_packet(packet_header)\u001b[39;00m\n\u001b[0;32m    742\u001b[0m     btrl, btrh, packet_number \u001b[39m=\u001b[39m struct\u001b[39m.\u001b[39munpack(\u001b[39m\"\u001b[39m\u001b[39m<HBB\u001b[39m\u001b[39m\"\u001b[39m, packet_header)\n",
      "File \u001b[1;32mc:\\Users\\tj\\anaconda3\\envs\\ml-dev\\lib\\site-packages\\pymysql\\connections.py:779\u001b[0m, in \u001b[0;36mConnection._read_bytes\u001b[1;34m(self, num_bytes)\u001b[0m\n\u001b[0;32m    777\u001b[0m \u001b[39mwhile\u001b[39;00m \u001b[39mTrue\u001b[39;00m:\n\u001b[0;32m    778\u001b[0m     \u001b[39mtry\u001b[39;00m:\n\u001b[1;32m--> 779\u001b[0m         data \u001b[39m=\u001b[39m \u001b[39mself\u001b[39;49m\u001b[39m.\u001b[39;49m_rfile\u001b[39m.\u001b[39;49mread(num_bytes)\n\u001b[0;32m    780\u001b[0m         \u001b[39mbreak\u001b[39;00m\n\u001b[0;32m    781\u001b[0m     \u001b[39mexcept\u001b[39;00m \u001b[39mOSError\u001b[39;00m \u001b[39mas\u001b[39;00m e:\n",
      "File \u001b[1;32mc:\\Users\\tj\\anaconda3\\envs\\ml-dev\\lib\\socket.py:705\u001b[0m, in \u001b[0;36mSocketIO.readinto\u001b[1;34m(self, b)\u001b[0m\n\u001b[0;32m    703\u001b[0m \u001b[39mwhile\u001b[39;00m \u001b[39mTrue\u001b[39;00m:\n\u001b[0;32m    704\u001b[0m     \u001b[39mtry\u001b[39;00m:\n\u001b[1;32m--> 705\u001b[0m         \u001b[39mreturn\u001b[39;00m \u001b[39mself\u001b[39;49m\u001b[39m.\u001b[39;49m_sock\u001b[39m.\u001b[39;49mrecv_into(b)\n\u001b[0;32m    706\u001b[0m     \u001b[39mexcept\u001b[39;00m timeout:\n\u001b[0;32m    707\u001b[0m         \u001b[39mself\u001b[39m\u001b[39m.\u001b[39m_timeout_occurred \u001b[39m=\u001b[39m \u001b[39mTrue\u001b[39;00m\n",
      "\u001b[1;31mKeyboardInterrupt\u001b[0m: "
     ]
    }
   ],
   "source": [
    "for date,title,content in zip(NewsDate, NewsTItle, NewsContent):\n",
    "    sql = \"INSERT INTO past_news_hanwhaairospace (NewsDates,NewsTitles,NewsContents) VALUES (%s, %s, %s)\" % (\"'\"+date+\"'\", \"'\"+title+\"'\", \"'\"+content+\"'\")\n",
    "    print(sql)\n",
    "    cur.execute(sql)\n",
    "conn.commit()\n",
    "conn.close()"
   ]
  }
 ],
 "metadata": {
  "kernelspec": {
   "display_name": "trading",
   "language": "python",
   "name": "python3"
  },
  "language_info": {
   "codemirror_mode": {
    "name": "ipython",
    "version": 3
   },
   "file_extension": ".py",
   "mimetype": "text/x-python",
   "name": "python",
   "nbconvert_exporter": "python",
   "pygments_lexer": "ipython3",
   "version": "3.10.11"
  },
  "orig_nbformat": 4
 },
 "nbformat": 4,
 "nbformat_minor": 2
}
