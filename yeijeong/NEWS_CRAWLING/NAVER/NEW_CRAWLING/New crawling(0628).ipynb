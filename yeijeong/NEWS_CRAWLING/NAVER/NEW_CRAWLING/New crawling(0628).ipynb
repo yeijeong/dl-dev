{
 "cells": [
  {
   "cell_type": "code",
   "execution_count": 1,
   "metadata": {},
   "outputs": [],
   "source": [
    "import requests\n",
    "from bs4 import BeautifulSoup\n",
    "from tqdm.notebook import tqdm"
   ]
  },
  {
   "cell_type": "code",
   "execution_count": 2,
   "metadata": {},
   "outputs": [],
   "source": [
    "def ex_tag(sid, page):\n",
    "    ### 뉴스 분야(sid)와 페이지(page)를 입력하면 그에 대한 링크들을 리스트로 추출하는 함수 ###\n",
    "    \n",
    "    ## 1.\n",
    "    url = f\"https://news.naver.com/main/main.naver?mode=LSD&mid=shm&sid1={sid}\"\\\n",
    "    \"#&date=%2000:00:00&page={page}\"\n",
    "    html = requests.get(url, headers={\"User-Agent\": \"Mozilla/5.0\"\\\n",
    "    \"(Windows NT 10.0; Win64; x64) AppleWebKit/537.36 (KHTML, like Gecko) \"\\\n",
    "    \"Chrome/110.0.0.0 Safari/537.36\"})\n",
    "    soup = BeautifulSoup(html.text, \"lxml\")\n",
    "    a_tag = soup.find_all(\"a\")\n",
    "    \n",
    "    ## 2.\n",
    "    tag_lst = []\n",
    "    for a in a_tag:\n",
    "        if \"href\" in a.attrs:  # href가 있는것만 고르는 것\n",
    "            if (f\"sid={sid}\" in a[\"href\"]) and (\"article\" in a[\"href\"]):\n",
    "                tag_lst.append(a[\"href\"])\n",
    "                \n",
    "    return tag_lst"
   ]
  },
  {
   "cell_type": "code",
   "execution_count": 3,
   "metadata": {},
   "outputs": [],
   "source": [
    "def re_tag(sid):\n",
    "    ### 특정 분야의 100페이지까지의 뉴스의 링크를 수집하여 중복 제거한 리스트로 변환하는 함수 ###\n",
    "    ## 여기 바꾸면 돼  예정!!!!\n",
    "    re_lst = []\n",
    "    for i in tqdm(range(1001,2000)):\n",
    "        lst = ex_tag(sid, i+1)\n",
    "        re_lst.extend(lst)\n",
    "\n",
    "    # 중복 제거\n",
    "    re_set = set(re_lst)\n",
    "    re_lst = list(re_set)\n",
    "    \n",
    "    return re_lst"
   ]
  },
  {
   "cell_type": "code",
   "execution_count": 4,
   "metadata": {},
   "outputs": [
    {
     "data": {
      "application/vnd.jupyter.widget-view+json": {
       "model_id": "93621b6a9dea4ec5bbcb6f8295130383",
       "version_major": 2,
       "version_minor": 0
      },
      "text/plain": [
       "  0%|          | 0/999 [00:00<?, ?it/s]"
      ]
     },
     "metadata": {},
     "output_type": "display_data"
    },
    {
     "data": {
      "application/vnd.jupyter.widget-view+json": {
       "model_id": "d025357b4eff4ddfa17f5aac937668ac",
       "version_major": 2,
       "version_minor": 0
      },
      "text/plain": [
       "  0%|          | 0/999 [00:00<?, ?it/s]"
      ]
     },
     "metadata": {},
     "output_type": "display_data"
    },
    {
     "data": {
      "application/vnd.jupyter.widget-view+json": {
       "model_id": "6f6785653300465a95b419abbeeea90d",
       "version_major": 2,
       "version_minor": 0
      },
      "text/plain": [
       "  0%|          | 0/999 [00:00<?, ?it/s]"
      ]
     },
     "metadata": {},
     "output_type": "display_data"
    },
    {
     "data": {
      "application/vnd.jupyter.widget-view+json": {
       "model_id": "cca284bc2e4f4c16904f5dd7f67628dd",
       "version_major": 2,
       "version_minor": 0
      },
      "text/plain": [
       "  0%|          | 0/999 [00:00<?, ?it/s]"
      ]
     },
     "metadata": {},
     "output_type": "display_data"
    },
    {
     "data": {
      "application/vnd.jupyter.widget-view+json": {
       "model_id": "ad5a0d14f9a14a84a498569e886df5fa",
       "version_major": 2,
       "version_minor": 0
      },
      "text/plain": [
       "  0%|          | 0/999 [00:00<?, ?it/s]"
      ]
     },
     "metadata": {},
     "output_type": "display_data"
    },
    {
     "data": {
      "application/vnd.jupyter.widget-view+json": {
       "model_id": "c0db921c26cb4918847f5bc11cdf0535",
       "version_major": 2,
       "version_minor": 0
      },
      "text/plain": [
       "  0%|          | 0/999 [00:00<?, ?it/s]"
      ]
     },
     "metadata": {},
     "output_type": "display_data"
    }
   ],
   "source": [
    "all_hrefs = {}\n",
    "sids = [i for i in range(100,106)]  # 분야 리스트\n",
    "### 분야 바꾸고 싶으면 여기 바꾸면 됨\n",
    "# 각 분야별로 링크 수집해서 딕셔너리에 저장\n",
    "for sid in sids:\n",
    "    sid_data = re_tag(sid)\n",
    "    all_hrefs[sid] = sid_data"
   ]
  },
  {
   "cell_type": "code",
   "execution_count": 5,
   "metadata": {},
   "outputs": [],
   "source": [
    "def art_crawl(all_hrefs, sid, index):\n",
    "    \"\"\"\n",
    "    sid와 링크 인덱스를 넣으면 기사제목, 날짜, 본문을 크롤링하여 딕셔너리를 출력하는 함수 \n",
    "    \n",
    "    Args: \n",
    "        all_hrefs(dict): 각 분야별로 100페이지까지 링크를 수집한 딕셔너리 (key: 분야(sid), value: 링크)\n",
    "        sid(int): 분야 [100: 정치, 101: 경제, 102: 사회, 103: 생활/문화, 104: 세계, 105: IT/과학]\n",
    "        index(int): 링크의 인덱스\n",
    "    \n",
    "    Returns:\n",
    "        dict: 기사제목, 날짜, 본문이 크롤링된 딕셔너리\n",
    "    \n",
    "    \"\"\"\n",
    "    art_dic = {}\n",
    "    \n",
    "    ## 1.\n",
    "    title_selector = \"#title_area > span\"\n",
    "    date_selector = \"#ct > div.media_end_head.go_trans > div.media_end_head_info.nv_notrans\"\\\n",
    "    \"> div.media_end_head_info_datestamp > div:nth-child(1) > span\"\n",
    "    main_selector = \"#dic_area\"\n",
    "    \n",
    "    url = all_hrefs[sid][index]\n",
    "    html = requests.get(url, headers = {\"User-Agent\": \"Mozilla/5.0 \"\\\n",
    "    \"(Windows NT 10.0; Win64; x64) AppleWebKit/537.36 (KHTML, like Gecko)\"\\\n",
    "    \"Chrome/110.0.0.0 Safari/537.36\"})\n",
    "    soup = BeautifulSoup(html.text, \"lxml\")\n",
    "    \n",
    "    ## 2.\n",
    "    # 제목 수집\n",
    "    title = soup.select(title_selector)\n",
    "    title_lst = [t.text for t in title]\n",
    "    title_str = \"\".join(title_lst)\n",
    "    \n",
    "    # 날짜 수집\n",
    "    date = soup.select(date_selector)\n",
    "    date_lst = [d.text for d in date]\n",
    "    date_str = \"\".join(date_lst)\n",
    "    \n",
    "    # 본문 수집\n",
    "    main = soup.select(main_selector)\n",
    "    main_lst = []\n",
    "    for m in main:\n",
    "        m_text = m.text\n",
    "        m_text = m_text.strip()\n",
    "        main_lst.append(m_text)\n",
    "    main_str = \"\".join(main_lst)\n",
    "    \n",
    "    ## 3.\n",
    "    art_dic[\"title\"] = title_str\n",
    "    art_dic[\"date\"] = date_str\n",
    "    art_dic[\"main\"] = main_str\n",
    "    \n",
    "    return art_dic"
   ]
  },
  {
   "cell_type": "code",
   "execution_count": 6,
   "metadata": {},
   "outputs": [
    {
     "data": {
      "application/vnd.jupyter.widget-view+json": {
       "model_id": "5af89e656d9a4769a4ff0117933b50cc",
       "version_major": 2,
       "version_minor": 0
      },
      "text/plain": [
       "  0%|          | 0/6 [00:00<?, ?it/s]"
      ]
     },
     "metadata": {},
     "output_type": "display_data"
    },
    {
     "data": {
      "application/vnd.jupyter.widget-view+json": {
       "model_id": "0293703449e34312bef9609ae2290c42",
       "version_major": 2,
       "version_minor": 0
      },
      "text/plain": [
       "  0%|          | 0/595 [00:00<?, ?it/s]"
      ]
     },
     "metadata": {},
     "output_type": "display_data"
    },
    {
     "data": {
      "application/vnd.jupyter.widget-view+json": {
       "model_id": "015cef05c94645448ee12f0d09dd37ac",
       "version_major": 2,
       "version_minor": 0
      },
      "text/plain": [
       "  0%|          | 0/946 [00:00<?, ?it/s]"
      ]
     },
     "metadata": {},
     "output_type": "display_data"
    },
    {
     "data": {
      "application/vnd.jupyter.widget-view+json": {
       "model_id": "e5ab33611d3f440aa998c2c9cd84707e",
       "version_major": 2,
       "version_minor": 0
      },
      "text/plain": [
       "  0%|          | 0/979 [00:00<?, ?it/s]"
      ]
     },
     "metadata": {},
     "output_type": "display_data"
    },
    {
     "data": {
      "application/vnd.jupyter.widget-view+json": {
       "model_id": "9d15f7d5002a4e49b4798f7e04af7a6b",
       "version_major": 2,
       "version_minor": 0
      },
      "text/plain": [
       "  0%|          | 0/59 [00:00<?, ?it/s]"
      ]
     },
     "metadata": {},
     "output_type": "display_data"
    },
    {
     "data": {
      "application/vnd.jupyter.widget-view+json": {
       "model_id": "25be732feb3c48a294774e4c698d418a",
       "version_major": 2,
       "version_minor": 0
      },
      "text/plain": [
       "  0%|          | 0/326 [00:00<?, ?it/s]"
      ]
     },
     "metadata": {},
     "output_type": "display_data"
    },
    {
     "data": {
      "application/vnd.jupyter.widget-view+json": {
       "model_id": "edcadf84428c475f81c5a7a8bd35fe40",
       "version_major": 2,
       "version_minor": 0
      },
      "text/plain": [
       "  0%|          | 0/98 [00:00<?, ?it/s]"
      ]
     },
     "metadata": {},
     "output_type": "display_data"
    }
   ],
   "source": [
    "# 모든 섹션의 데이터 수집 (제목, 날짜, 본문, section, url)\n",
    "section_lst = [s for s in range(100, 106)]\n",
    "artdic_lst = []\n",
    "\n",
    "for section in tqdm(section_lst):\n",
    "    for i in tqdm(range(len(all_hrefs[section]))):\n",
    "        art_dic = art_crawl(all_hrefs, section, i)\n",
    "        art_dic[\"section\"] = section\n",
    "        art_dic[\"url\"] = all_hrefs[section][i]\n",
    "        artdic_lst.append(art_dic)"
   ]
  },
  {
   "cell_type": "code",
   "execution_count": 7,
   "metadata": {},
   "outputs": [],
   "source": [
    "import pandas as pd\n",
    "\n",
    "art_df = pd.DataFrame(artdic_lst)"
   ]
  },
  {
   "cell_type": "code",
   "execution_count": null,
   "metadata": {},
   "outputs": [
    {
     "ename": "NameError",
     "evalue": "name 'now' is not defined",
     "output_type": "error",
     "traceback": [
      "\u001b[1;31m---------------------------------------------------------------------------\u001b[0m",
      "\u001b[1;31mNameError\u001b[0m                                 Traceback (most recent call last)",
      "Cell \u001b[1;32mIn[11], line 1\u001b[0m\n\u001b[1;32m----> 1\u001b[0m art_df\u001b[39m.\u001b[39mto_csv(\u001b[39m'\u001b[39m\u001b[39mD:\u001b[39m\u001b[39m\\\\\u001b[39;00m\u001b[39mbig16\u001b[39m\u001b[39m\\\\\u001b[39;00m\u001b[39mfinal project\u001b[39m\u001b[39m\\\\\u001b[39;00m\u001b[39mDATA\u001b[39m\u001b[39m\\\\\u001b[39;00m\u001b[39mNEWS_DATA\u001b[39m\u001b[39m\\\\\u001b[39;00m\u001b[39m1001_2000_\u001b[39m\u001b[39m{}\u001b[39;00m\u001b[39m.csv\u001b[39m\u001b[39m'\u001b[39m\u001b[39m.\u001b[39mformat(now\u001b[39m.\u001b[39mstrftime(\u001b[39m'\u001b[39m\u001b[39m%\u001b[39m\u001b[39mY\u001b[39m\u001b[39m%\u001b[39m\u001b[39mm\u001b[39m\u001b[39m%d\u001b[39;00m\u001b[39m_\u001b[39m\u001b[39m%\u001b[39m\u001b[39mH\u001b[39m\u001b[39m%\u001b[39m\u001b[39mM\u001b[39m\u001b[39m%\u001b[39m\u001b[39mS\u001b[39m\u001b[39m'\u001b[39m)))\n",
      "\u001b[1;31mNameError\u001b[0m: name 'now' is not defined"
     ]
    }
   ],
   "source": [
    "import datetime\n",
    "now = datetime.datetime.now() \n",
    "art_df.to_csv('D:\\\\big16\\\\final project\\\\DATA\\\\NEWS_DATA\\\\1001_2000_{}.csv'.format(now.strftime('%Y%m%d_%H%M%S')))"
   ]
  },
  {
   "cell_type": "code",
   "execution_count": 9,
   "metadata": {},
   "outputs": [
    {
     "data": {
      "text/html": [
       "<div>\n",
       "<style scoped>\n",
       "    .dataframe tbody tr th:only-of-type {\n",
       "        vertical-align: middle;\n",
       "    }\n",
       "\n",
       "    .dataframe tbody tr th {\n",
       "        vertical-align: top;\n",
       "    }\n",
       "\n",
       "    .dataframe thead th {\n",
       "        text-align: right;\n",
       "    }\n",
       "</style>\n",
       "<table border=\"1\" class=\"dataframe\">\n",
       "  <thead>\n",
       "    <tr style=\"text-align: right;\">\n",
       "      <th></th>\n",
       "      <th>title</th>\n",
       "      <th>date</th>\n",
       "      <th>main</th>\n",
       "      <th>section</th>\n",
       "      <th>url</th>\n",
       "    </tr>\n",
       "  </thead>\n",
       "  <tbody>\n",
       "    <tr>\n",
       "      <th>864</th>\n",
       "      <td>교통안전공단, 중고차 허위매물 신고 '자동차365' 사이트 오픈</td>\n",
       "      <td>2023.06.27. 오전 10:49</td>\n",
       "      <td>신고 즉시 업체 소속된 관할 관청으로 접수\\n\\n\\n\\n한국교통안전공단 중고차 허위...</td>\n",
       "      <td>101</td>\n",
       "      <td>https://n.news.naver.com/mnews/article/421/000...</td>\n",
       "    </tr>\n",
       "    <tr>\n",
       "      <th>315</th>\n",
       "      <td>‘평양의 유미’ 이젠 해외서도 못본다...구글, 北 선전 유튜브 채널 ‘폐쇄’</td>\n",
       "      <td>2023.06.27. 오전 10:50</td>\n",
       "      <td>평양의 일상을 소개하는 북한 유튜버 유미.(사진=유튜브 채널 'Olivia Nata...</td>\n",
       "      <td>100</td>\n",
       "      <td>https://n.news.naver.com/mnews/article/014/000...</td>\n",
       "    </tr>\n",
       "    <tr>\n",
       "      <th>2546</th>\n",
       "      <td>폭스바겐 마이스터모터스, 28~30일 스마트테크 코리아에 'ID.4' 전시</td>\n",
       "      <td>2023.06.27. 오전 10:51</td>\n",
       "      <td>현장 상담 고객 및 출고 고객 대상다양한 경품 증정 이벤트 진행[이데일리 박민 기자...</td>\n",
       "      <td>103</td>\n",
       "      <td>https://n.news.naver.com/mnews/article/018/000...</td>\n",
       "    </tr>\n",
       "    <tr>\n",
       "      <th>869</th>\n",
       "      <td>\"중년에겐 자부심이자 추억\"…그 남자의 애마 2대는 '포니2'</td>\n",
       "      <td>2023.06.27. 오전 10:51</td>\n",
       "      <td>현대차 울산공장 방형달 기술주임이 포니2 승용과 포니2 픽업과 함께 사진 촬영을 하...</td>\n",
       "      <td>101</td>\n",
       "      <td>https://n.news.naver.com/mnews/article/025/000...</td>\n",
       "    </tr>\n",
       "    <tr>\n",
       "      <th>2636</th>\n",
       "      <td>中총리, 미국 겨냥 '디리스킹' 비판…\"세계경제 회복 방해할 것\"</td>\n",
       "      <td>2023.06.27. 오전 10:52</td>\n",
       "      <td>리창, 톈진서 WTO 사무총장 회담…\"개도국 합법적 권익 수호\"\\n\\n\\n\\n리창 ...</td>\n",
       "      <td>104</td>\n",
       "      <td>https://n.news.naver.com/mnews/article/001/001...</td>\n",
       "    </tr>\n",
       "    <tr>\n",
       "      <th>...</th>\n",
       "      <td>...</td>\n",
       "      <td>...</td>\n",
       "      <td>...</td>\n",
       "      <td>...</td>\n",
       "      <td>...</td>\n",
       "    </tr>\n",
       "    <tr>\n",
       "      <th>2219</th>\n",
       "      <td>이정근 측 \"사업가 진술 못 믿는다\"…2심서도 혐의 부인</td>\n",
       "      <td>2023.06.28. 오후 12:27</td>\n",
       "      <td>사업가에게 10억 원의 금품을 받은 혐의 등으로 1심에서 징역 4년 6개월을 선고받...</td>\n",
       "      <td>102</td>\n",
       "      <td>https://n.news.naver.com/mnews/article/055/000...</td>\n",
       "    </tr>\n",
       "    <tr>\n",
       "      <th>2130</th>\n",
       "      <td>7월부터 서울지하철 10분 내 다시 타면 무료</td>\n",
       "      <td>2023.06.28. 오후 12:28</td>\n",
       "      <td>잘못 내리거나 화장실 이용 시 환승 적용1~9호선 중 서울시 관할구간 우선 도입\\n...</td>\n",
       "      <td>102</td>\n",
       "      <td>https://n.news.naver.com/mnews/article/011/000...</td>\n",
       "    </tr>\n",
       "    <tr>\n",
       "      <th>2148</th>\n",
       "      <td>민주노총, '尹정부 퇴진' 내달 3~15일 총파업…\"위력 투쟁\"(종합)</td>\n",
       "      <td>2023.06.28. 오후 12:28</td>\n",
       "      <td>양경수 위원장, 총파업 기자 간담회…투쟁 계획 등 밝혀3일부터 산별노조 '줄파업'…...</td>\n",
       "      <td>102</td>\n",
       "      <td>https://n.news.naver.com/mnews/article/003/001...</td>\n",
       "    </tr>\n",
       "    <tr>\n",
       "      <th>2097</th>\n",
       "      <td>필로폰·신종 마약 판매 일당·투약자 49명 구속</td>\n",
       "      <td>2023.06.28. 오후 12:28</td>\n",
       "      <td>울산 남부서, 총 55명 검거… 해외 마약 공급 총책 추적필로폰 3200회 투약분,...</td>\n",
       "      <td>102</td>\n",
       "      <td>https://n.news.naver.com/mnews/article/081/000...</td>\n",
       "    </tr>\n",
       "    <tr>\n",
       "      <th>1838</th>\n",
       "      <td>오늘부터 '만 나이 통일법' 시행…전국민 한두살 어려진다</td>\n",
       "      <td>2023.06.28. 오후 12:29</td>\n",
       "      <td>관공서는 큰 혼란 없어…결혼정보업체는 당분간 연나이\\n\\n\\n\\n서울 시내 한 편의...</td>\n",
       "      <td>102</td>\n",
       "      <td>https://n.news.naver.com/mnews/article/015/000...</td>\n",
       "    </tr>\n",
       "  </tbody>\n",
       "</table>\n",
       "<p>3003 rows × 5 columns</p>\n",
       "</div>"
      ],
      "text/plain": [
       "                                            title                  date  \\\n",
       "864           교통안전공단, 중고차 허위매물 신고 '자동차365' 사이트 오픈  2023.06.27. 오전 10:49   \n",
       "315   ‘평양의 유미’ 이젠 해외서도 못본다...구글, 北 선전 유튜브 채널 ‘폐쇄’  2023.06.27. 오전 10:50   \n",
       "2546    폭스바겐 마이스터모터스, 28~30일 스마트테크 코리아에 'ID.4' 전시  2023.06.27. 오전 10:51   \n",
       "869            \"중년에겐 자부심이자 추억\"…그 남자의 애마 2대는 '포니2'  2023.06.27. 오전 10:51   \n",
       "2636         中총리, 미국 겨냥 '디리스킹' 비판…\"세계경제 회복 방해할 것\"  2023.06.27. 오전 10:52   \n",
       "...                                           ...                   ...   \n",
       "2219              이정근 측 \"사업가 진술 못 믿는다\"…2심서도 혐의 부인  2023.06.28. 오후 12:27   \n",
       "2130                    7월부터 서울지하철 10분 내 다시 타면 무료  2023.06.28. 오후 12:28   \n",
       "2148      민주노총, '尹정부 퇴진' 내달 3~15일 총파업…\"위력 투쟁\"(종합)  2023.06.28. 오후 12:28   \n",
       "2097                   필로폰·신종 마약 판매 일당·투약자 49명 구속  2023.06.28. 오후 12:28   \n",
       "1838              오늘부터 '만 나이 통일법' 시행…전국민 한두살 어려진다  2023.06.28. 오후 12:29   \n",
       "\n",
       "                                                   main  section  \\\n",
       "864   신고 즉시 업체 소속된 관할 관청으로 접수\\n\\n\\n\\n한국교통안전공단 중고차 허위...      101   \n",
       "315   평양의 일상을 소개하는 북한 유튜버 유미.(사진=유튜브 채널 'Olivia Nata...      100   \n",
       "2546  현장 상담 고객 및 출고 고객 대상다양한 경품 증정 이벤트 진행[이데일리 박민 기자...      103   \n",
       "869   현대차 울산공장 방형달 기술주임이 포니2 승용과 포니2 픽업과 함께 사진 촬영을 하...      101   \n",
       "2636  리창, 톈진서 WTO 사무총장 회담…\"개도국 합법적 권익 수호\"\\n\\n\\n\\n리창 ...      104   \n",
       "...                                                 ...      ...   \n",
       "2219  사업가에게 10억 원의 금품을 받은 혐의 등으로 1심에서 징역 4년 6개월을 선고받...      102   \n",
       "2130  잘못 내리거나 화장실 이용 시 환승 적용1~9호선 중 서울시 관할구간 우선 도입\\n...      102   \n",
       "2148  양경수 위원장, 총파업 기자 간담회…투쟁 계획 등 밝혀3일부터 산별노조 '줄파업'…...      102   \n",
       "2097  울산 남부서, 총 55명 검거… 해외 마약 공급 총책 추적필로폰 3200회 투약분,...      102   \n",
       "1838  관공서는 큰 혼란 없어…결혼정보업체는 당분간 연나이\\n\\n\\n\\n서울 시내 한 편의...      102   \n",
       "\n",
       "                                                    url  \n",
       "864   https://n.news.naver.com/mnews/article/421/000...  \n",
       "315   https://n.news.naver.com/mnews/article/014/000...  \n",
       "2546  https://n.news.naver.com/mnews/article/018/000...  \n",
       "869   https://n.news.naver.com/mnews/article/025/000...  \n",
       "2636  https://n.news.naver.com/mnews/article/001/001...  \n",
       "...                                                 ...  \n",
       "2219  https://n.news.naver.com/mnews/article/055/000...  \n",
       "2130  https://n.news.naver.com/mnews/article/011/000...  \n",
       "2148  https://n.news.naver.com/mnews/article/003/001...  \n",
       "2097  https://n.news.naver.com/mnews/article/081/000...  \n",
       "1838  https://n.news.naver.com/mnews/article/015/000...  \n",
       "\n",
       "[3003 rows x 5 columns]"
      ]
     },
     "execution_count": 9,
     "metadata": {},
     "output_type": "execute_result"
    }
   ],
   "source": [
    "art_df.sort_values(by='date', ascending=True)"
   ]
  }
 ],
 "metadata": {
  "kernelspec": {
   "display_name": "dl_dev_gpu",
   "language": "python",
   "name": "python3"
  },
  "language_info": {
   "codemirror_mode": {
    "name": "ipython",
    "version": 3
   },
   "file_extension": ".py",
   "mimetype": "text/x-python",
   "name": "python",
   "nbconvert_exporter": "python",
   "pygments_lexer": "ipython3",
   "version": "3.10.0"
  },
  "orig_nbformat": 4
 },
 "nbformat": 4,
 "nbformat_minor": 2
}
