{
 "cells": [
  {
   "cell_type": "code",
   "execution_count": 34,
   "metadata": {},
   "outputs": [],
   "source": [
    "import pandas as pd\n",
    "import os\n",
    "import numpy as np\n",
    "import requests\n",
    "from bs4 import BeautifulSoup\n",
    "import bs4.element\n",
    "import warnings\n",
    "warnings.filterwarnings('ignore')\n",
    "import re\n",
    "import time\n",
    "from datetime import datetime"
   ]
  },
  {
   "cell_type": "code",
   "execution_count": 35,
   "metadata": {},
   "outputs": [],
   "source": [
    "folders = os.listdir('D:\\\\big16\\\\final project\\\\DATA\\\\NEWS_DATA\\\\비행체부품')"
   ]
  },
  {
   "cell_type": "code",
   "execution_count": 36,
   "metadata": {},
   "outputs": [],
   "source": [
    "df_all = pd.DataFrame()\n",
    "for i in range(0,len(folders)):\n",
    "    if folders[i].split('.')[1] == 'csv':\n",
    "        file = 'D:\\\\big16\\\\final project\\\\DATA\\\\NEWS_DATA\\\\비행체부품\\\\'+folders[i]\n",
    "        df= pd.read_csv(file,encoding='utf-8') \n",
    "        df_all = pd.concat([df_all, df])"
   ]
  },
  {
   "cell_type": "code",
   "execution_count": 37,
   "metadata": {},
   "outputs": [
    {
     "data": {
      "text/html": [
       "<div>\n",
       "<style scoped>\n",
       "    .dataframe tbody tr th:only-of-type {\n",
       "        vertical-align: middle;\n",
       "    }\n",
       "\n",
       "    .dataframe tbody tr th {\n",
       "        vertical-align: top;\n",
       "    }\n",
       "\n",
       "    .dataframe thead th {\n",
       "        text-align: right;\n",
       "    }\n",
       "</style>\n",
       "<table border=\"1\" class=\"dataframe\">\n",
       "  <thead>\n",
       "    <tr style=\"text-align: right;\">\n",
       "      <th></th>\n",
       "      <th>date</th>\n",
       "      <th>title</th>\n",
       "      <th>linkcontent</th>\n",
       "      <th>link</th>\n",
       "      <th>content</th>\n",
       "    </tr>\n",
       "  </thead>\n",
       "  <tbody>\n",
       "    <tr>\n",
       "      <th>0</th>\n",
       "      <td>2023-07-03 10:17:03</td>\n",
       "      <td>NST, '에어모빌리티 소재' 등 4개 융합연구단 출범</td>\n",
       "      <td>NaN</td>\n",
       "      <td>https://n.news.naver.com/mnews/article/018/000...</td>\n",
       "      <td>[\\n비행체 친환경 소재, 에너지통합기술 개발 시작[이데일리 강민구 기자] 국내 정...</td>\n",
       "    </tr>\n",
       "    <tr>\n",
       "      <th>1</th>\n",
       "      <td>2023-07-08 14:31:03</td>\n",
       "      <td>도심 위 하늘길 열어라…통신사들이 UAM 사업 눈독들이는 이유</td>\n",
       "      <td>NaN</td>\n",
       "      <td>https://n.news.naver.com/mnews/article/003/001...</td>\n",
       "      <td>[\\nSKT, 글로벌 기체 제조사 조비와 협력…KT, 현대차·현대건설과 컨소LGU+...</td>\n",
       "    </tr>\n",
       "    <tr>\n",
       "      <th>2</th>\n",
       "      <td>2023-05-24 09:42:01</td>\n",
       "      <td>‘국내 기술로 제작’…파브(PAV?개인항공비행체) ‘시험비행’ 성공</td>\n",
       "      <td>NaN</td>\n",
       "      <td>https://n.news.naver.com/mnews/article/011/000...</td>\n",
       "      <td>[\\n㈜숨비, “국방과학연구소(ADD)의 현지 평가결과?성공 판정”\\n\\n\\n\\n항...</td>\n",
       "    </tr>\n",
       "    <tr>\n",
       "      <th>3</th>\n",
       "      <td>2022-05-02 13:42:02</td>\n",
       "      <td>전자약·항공우주부품·배터리·무인비행체…경남 스마트특성화 4개 선정</td>\n",
       "      <td>NaN</td>\n",
       "      <td>https://n.news.naver.com/mnews/article/079/000...</td>\n",
       "      <td>[\\n핵심요약산업통상자원부 스마트특성화 기반 구축사업, 역대 최다 4개 사업 선정\\...</td>\n",
       "    </tr>\n",
       "    <tr>\n",
       "      <th>4</th>\n",
       "      <td>2023-05-26 16:07:24</td>\n",
       "      <td>국내 기술로 제작한 '파브·개인비행체' 시험비행 성공…2030년 상용화</td>\n",
       "      <td>NaN</td>\n",
       "      <td>https://n.news.naver.com/mnews/article/421/000...</td>\n",
       "      <td>[\\n국방과학연구원, 숨비의 파브 시험비행 '성공' 판정\\n\\n\\n\\n(주)숨비가 ...</td>\n",
       "    </tr>\n",
       "  </tbody>\n",
       "</table>\n",
       "</div>"
      ],
      "text/plain": [
       "                  date                                    title linkcontent  \\\n",
       "0  2023-07-03 10:17:03           NST, '에어모빌리티 소재' 등 4개 융합연구단 출범         NaN   \n",
       "1  2023-07-08 14:31:03       도심 위 하늘길 열어라…통신사들이 UAM 사업 눈독들이는 이유         NaN   \n",
       "2  2023-05-24 09:42:01    ‘국내 기술로 제작’…파브(PAV?개인항공비행체) ‘시험비행’ 성공         NaN   \n",
       "3  2022-05-02 13:42:02     전자약·항공우주부품·배터리·무인비행체…경남 스마트특성화 4개 선정         NaN   \n",
       "4  2023-05-26 16:07:24  국내 기술로 제작한 '파브·개인비행체' 시험비행 성공…2030년 상용화         NaN   \n",
       "\n",
       "                                                link  \\\n",
       "0  https://n.news.naver.com/mnews/article/018/000...   \n",
       "1  https://n.news.naver.com/mnews/article/003/001...   \n",
       "2  https://n.news.naver.com/mnews/article/011/000...   \n",
       "3  https://n.news.naver.com/mnews/article/079/000...   \n",
       "4  https://n.news.naver.com/mnews/article/421/000...   \n",
       "\n",
       "                                             content  \n",
       "0  [\\n비행체 친환경 소재, 에너지통합기술 개발 시작[이데일리 강민구 기자] 국내 정...  \n",
       "1  [\\nSKT, 글로벌 기체 제조사 조비와 협력…KT, 현대차·현대건설과 컨소LGU+...  \n",
       "2  [\\n㈜숨비, “국방과학연구소(ADD)의 현지 평가결과?성공 판정”\\n\\n\\n\\n항...  \n",
       "3  [\\n핵심요약산업통상자원부 스마트특성화 기반 구축사업, 역대 최다 4개 사업 선정\\...  \n",
       "4  [\\n국방과학연구원, 숨비의 파브 시험비행 '성공' 판정\\n\\n\\n\\n(주)숨비가 ...  "
      ]
     },
     "execution_count": 37,
     "metadata": {},
     "output_type": "execute_result"
    }
   ],
   "source": [
    "df_all.head()"
   ]
  },
  {
   "cell_type": "code",
   "execution_count": null,
   "metadata": {},
   "outputs": [],
   "source": [
    "df_all.info()"
   ]
  },
  {
   "cell_type": "code",
   "execution_count": 38,
   "metadata": {},
   "outputs": [],
   "source": [
    "df_all.drop('link', axis=1, inplace=True)\n",
    "df_all.drop('linkcontent', axis=1, inplace=True)"
   ]
  },
  {
   "cell_type": "code",
   "execution_count": 39,
   "metadata": {},
   "outputs": [],
   "source": [
    "df_all.dropna(axis=0, inplace=True)"
   ]
  },
  {
   "cell_type": "code",
   "execution_count": 40,
   "metadata": {},
   "outputs": [
    {
     "name": "stdout",
     "output_type": "stream",
     "text": [
      "<class 'pandas.core.frame.DataFrame'>\n",
      "Index: 796 entries, 0 to 22\n",
      "Data columns (total 3 columns):\n",
      " #   Column   Non-Null Count  Dtype \n",
      "---  ------   --------------  ----- \n",
      " 0   date     796 non-null    object\n",
      " 1   title    796 non-null    object\n",
      " 2   content  796 non-null    object\n",
      "dtypes: object(3)\n",
      "memory usage: 24.9+ KB\n"
     ]
    }
   ],
   "source": [
    "df_all.info()"
   ]
  },
  {
   "cell_type": "code",
   "execution_count": 41,
   "metadata": {},
   "outputs": [],
   "source": [
    "df_all.to_csv('D:\\\\big16\\\\final project\\\\DATA\\\\NEWS_DATA\\\\merge\\\\비행체부품_merge.csv')"
   ]
  }
 ],
 "metadata": {
  "kernelspec": {
   "display_name": "trading",
   "language": "python",
   "name": "python3"
  },
  "language_info": {
   "codemirror_mode": {
    "name": "ipython",
    "version": 3
   },
   "file_extension": ".py",
   "mimetype": "text/x-python",
   "name": "python",
   "nbconvert_exporter": "python",
   "pygments_lexer": "ipython3",
   "version": "3.10.11"
  },
  "orig_nbformat": 4
 },
 "nbformat": 4,
 "nbformat_minor": 2
}
