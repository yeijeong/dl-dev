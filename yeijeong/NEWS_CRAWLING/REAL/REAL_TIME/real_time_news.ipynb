{
 "cells": [
  {
   "attachments": {},
   "cell_type": "markdown",
   "metadata": {},
   "source": [
    "- sections : '정치', '경제', '사회'\n",
    "- sections = [\"pol\", \"eco\",\"soc\"]\n",
    "- section_ids = [\"100\", \"101\",\"102\"]"
   ]
  },
  {
   "cell_type": "code",
<<<<<<< HEAD
   "execution_count": 24,
=======
   "execution_count": 187,
>>>>>>> 38ed7076bf460ed9a94b767395738bb2b51e6d77
   "metadata": {},
   "outputs": [],
   "source": [
    "import requests\n",
    "from bs4 import BeautifulSoup\n",
    "import bs4.element\n",
    "import datetime\n",
    "import warnings\n",
    "warnings.filterwarnings('ignore')\n",
    "import re\n",
    "import pandas as pd\n",
    "import time\n",
    "from datetime import datetime"
   ]
  },
  {
   "cell_type": "code",
<<<<<<< HEAD
   "execution_count": 25,
=======
   "execution_count": 188,
>>>>>>> 38ed7076bf460ed9a94b767395738bb2b51e6d77
   "metadata": {},
   "outputs": [],
   "source": [
    "# ConnectionError방지\n",
    "headers = {'user-agent' : 'Mozilla/5.0 (Windows NT 10.0; Win64; x64) AppleWebKit/537.36 (KHTML, like Gecko) Chrome/100.0.4896.127 Safari/537.36'}\n",
    "\n",
    "# BeautifulSoup 객체 생성\n",
    "def get_soup_obj(url):\n",
    "    res = requests.get(url, headers = headers, verify=False)\n",
    "    soup = BeautifulSoup(res.text,'lxml')\n",
    "    \n",
    "    return soup"
   ]
  },
  {
   "cell_type": "code",
<<<<<<< HEAD
   "execution_count": 26,
   "metadata": {},
   "outputs": [],
   "source": [
    "news_titles = []\n",
    "news_urls =[]\n",
    "news_contents =[]\n",
    "news_dates = []"
   ]
  },
  {
   "cell_type": "code",
   "execution_count": 27,
=======
   "execution_count": 189,
>>>>>>> 38ed7076bf460ed9a94b767395738bb2b51e6d77
   "metadata": {},
   "outputs": [],
   "source": [
    "# 뉴스의 기본 정보 가져오기\n",
    "def get_top3_news_info():\n",
    "    news_urls =[]\n",
    "    \n",
    "    # 해당 분야 상위 뉴스 목록 주소\n",
    "    sec_url = \"https://news.naver.com/main/list.nhn?mode=LSD&mid=sec&sid1=101\"\n",
    "    \n",
    "    # 해당 분야 상위 뉴스 HTML 가져오기\n",
    "    soup = get_soup_obj(sec_url)\n",
    "  \n",
    "    # 해당 분야 상위 뉴스 3개 가져오기\n",
    "\n",
    "    lis3 = soup.find('ul', class_='type06_headline').find_all(\"li\", limit=3)\n",
    "    for li in lis3:\n",
    "        news_url = li.a.attrs.get('href')\n",
    "        news_urls.append(news_url)\n",
    "    \n",
    "    print(news_urls)\n",
    "    return news_urls"
   ]
  },
  {
   "cell_type": "code",
<<<<<<< HEAD
   "execution_count": 28,
=======
   "execution_count": 191,
>>>>>>> 38ed7076bf460ed9a94b767395738bb2b51e6d77
   "metadata": {},
   "outputs": [
    {
     "name": "stdout",
     "output_type": "stream",
     "text": [
      "['https://n.news.naver.com/mnews/article/277/0005282435?sid=101', 'https://n.news.naver.com/mnews/article/008/0004908377?sid=101', 'https://n.news.naver.com/mnews/article/016/0002165568?sid=101']\n"
     ]
    }
   ],
   "source": [
    "# 상위 3개 뉴스 크롤링\n",
    "news_urls = get_top3_news_info()\n",
    "\n",
<<<<<<< HEAD
    "#     news_contents = ''\n",
    "#     for content in body:\n",
    "#         if type(content) is bs4.element.NavigableString and len(content) > 50:\n",
    "#             # content.strip() : whitepace 제거 (참고 : https://www.tutorialspoint.com/python3/string_strip.htm)\n",
    "#             # 뉴스 요약을 위하여 '.' 마침표 뒤에 한칸을 띄워 문장을 구분하도록 함\n",
    "#             news_contents += content.strip() + ' '\n",
    "         \n",
    "#     return news_contents"
   ]
  },
  {
   "cell_type": "code",
   "execution_count": 29,
   "metadata": {},
   "outputs": [],
   "source": [
    "def get_news_contents(url):\n",
=======
    "news_titles = []\n",
    "news_contents =[]\n",
    "news_dates = []\n",
    "\n",
    "for url in news_urls:\n",
>>>>>>> 38ed7076bf460ed9a94b767395738bb2b51e6d77
    "    news_html = get_soup_obj(url)\n",
    "\n",
    "    # 뉴스 제목 가져오기\n",
    "    title = news_html.select_one(\"#ct > div.media_end_head.go_trans > div.media_end_head_title > h2\")\n",
    "    if title == None:\n",
    "        title = news_html.select_one(\"#content > div.end_ct > div > h2\")\n",
    "\n",
    "    # 뉴스 본문 가져오기\n",
    "    content = news_html.select(\"div#dic_area\")\n",
    "    if content == []:\n",
    "        content = news_html.select(\"#articeBody\")\n",
    "        \n",
    "    # 기사 텍스트만 가져오기\n",
    "    # list합치기\n",
    "    content = ''.join(str(content))\n",
    "\n",
    "    # html태그제거 및 텍스트 다듬기\n",
    "    pattern1 = '<[^>]*>'\n",
    "    title = re.sub(pattern=pattern1, repl='', string=str(title))\n",
    "    content = re.sub(pattern=pattern1, repl='', string=content)\n",
    "    pattern2 = \"\"\"[\\n\\n\\n\\n\\n// flash 오류를 우회하기 위한 함수 추가\\nfunction _flash_removeCallback() {}\"\"\"\n",
    "    content = content.replace(pattern2, '')\n",
    "\n",
    "    news_titles.append(title)\n",
    "    news_contents.append(content)\n",
    "\n",
    "    html_date = news_html.select_one(\"div#ct > div.media_end_head > div.media_end_head_info > div span\")\n",
    "    news_date = html_date.attrs['data-date-time']\n",
    "    news_dates.append(news_date)"
   ]
  },
  {
   "cell_type": "code",
<<<<<<< HEAD
   "execution_count": 30,
   "metadata": {},
   "outputs": [],
   "source": [
    "# # 상위 3개 뉴스 크롤링\n",
    "# def get_naver_news_top3():\n",
    "#     # 뉴스 결과를 담아낼 dictionary\n",
    "#     news_dic = dict()\n",
    " \n",
    "#     # 뉴스의 기본 정보 가져오기\n",
    "#     news_url_a = get_top3_news_info()\n",
    "#     # print(news_info)\n",
    "#     for i in news_url_a:\n",
    "#         # 뉴스 본문 가져오기\n",
    "#         get_news_contents(i)"
   ]
  },
  {
   "cell_type": "code",
   "execution_count": 31,
   "metadata": {},
   "outputs": [],
   "source": [
    "def make_pd() :\n",
    "    news_df = pd.DataFrame({'date':news_dates,'title':news_titles,'link':news_urls,'content':news_contents})\n",
    "\n",
    "    #중복 행 지우기\n",
    "    news_df = news_df.drop_duplicates(keep='first',ignore_index=True)\n",
    "    print(\"중복 제거 후 행 개수: \",len(news_df))\n",
    "\n",
    "    print(news_df.head())"
   ]
  },
  {
   "cell_type": "code",
   "execution_count": 36,
   "metadata": {},
   "outputs": [],
   "source": [
    "t=1\n",
    "while t<5 :\n",
    "    # 뉴스 결과를 담아낼 dictionary\n",
    "    news_dic = pd.DataFrame.from_dict({'date':news_dates\n",
    "                                       ,'title':news_titles\n",
    "                                       ,'link':news_urls\n",
    "                                       ,'content':news_contents}\n",
    "                                       , orient='index').T\n",
    "    \n",
    "    news_dic.head()\n",
    "    # result.append(news_dic)\n",
    " \n",
    "    # 뉴스의 기본 정보 가져오기\n",
    "    news_url_a = get_top3_news_info()\n",
    "    # print(news_info)\n",
    "    for i in news_url_a:\n",
    "        # 뉴스 본문 가져오기\n",
    "        get_news_contents(i)\n",
=======
   "execution_count": 192,
   "metadata": {},
   "outputs": [
    {
     "name": "stdout",
     "output_type": "stream",
     "text": [
      "중복 제거 후 행 개수:  3\n"
     ]
    }
   ],
   "source": [
    "news_df = pd.DataFrame({'date':news_dates,'title':news_titles,'link':news_urls,'content':news_contents})\n",
    "\n",
    "#중복 행 지우기\n",
    "news_df = news_df.drop_duplicates(keep='first',ignore_index=True)\n",
    "print(\"중복 제거 후 행 개수: \",len(news_df))"
   ]
  },
  {
   "cell_type": "code",
   "execution_count": 193,
   "metadata": {},
   "outputs": [],
   "source": [
    "def add_df() :\n",
    "    a = pd.DataFrame({'date':news_dates,'title':news_titles,'link':news_urls,'content':news_contents})\n",
    "\n",
    "    #중복 행 지우기\n",
    "    a = a.drop_duplicates(keep='first',ignore_index=True)\n",
    "    print(\"중복 제거 후 행 개수: \",len(a))\n",
    "\n",
    "    pd.concat([news_df, a])\n",
    "\n",
    "    # #중복 행 지우기\n",
    "    # news_df = news_df.drop_duplicates(keep='first',ignore_index=True)\n",
    "    # print(\"중복 제거 후 행 개수: \",len(news_df))\n",
    "\n",
    "    print(news_df.head())"
   ]
  },
  {
   "cell_type": "code",
   "execution_count": 196,
   "metadata": {},
   "outputs": [
    {
     "name": "stdout",
     "output_type": "stream",
     "text": [
      "['https://n.news.naver.com/mnews/article/277/0005282435?sid=101', 'https://n.news.naver.com/mnews/article/008/0004908377?sid=101', 'https://n.news.naver.com/mnews/article/016/0002165568?sid=101']\n",
      "중복 제거 후 행 개수:  3\n",
      "                  date                                      title  \\\n",
      "0  2023-07-05 17:24:05                    우리은행, 취약계층에 폭염 대비 물품 지원   \n",
      "1  2023-07-05 17:23:28       KB·신한 등 대형 은행·지주, D-SIB 유지…자본 부담 생기나   \n",
      "2  2023-07-05 17:23:01  삭막한 도시, 너와 나 경계를 지우다…건축 도시에 보탬이 되다 [건축맛집]   \n",
      "\n",
      "                                                link  \\\n",
      "0  https://n.news.naver.com/mnews/article/277/000...   \n",
      "1  https://n.news.naver.com/mnews/article/008/000...   \n",
      "2  https://n.news.naver.com/mnews/article/016/000...   \n",
      "\n",
      "                                             content  \n",
      "0  [\\n서울 영업점에서 무상 식수 제공도우리은행은 취약계층의 여름철 폭염 대비를 지원...  \n",
      "1  [\\n\\n\\n\\n\\n/자료제공=금융위원회금융위원회는 5일 정례회의에서 KB금융지주 ...  \n",
      "2  [\\n요앞 건축사사무소 류인근·김도란·정상경 소장건물과 골목의 ‘경계지우기’…마을 ...  \n",
      "['https://n.news.naver.com/mnews/article/003/0011955875?sid=101', 'https://n.news.naver.com/mnews/article/658/0000045759?sid=101', 'https://n.news.naver.com/mnews/article/008/0004908379?sid=101']\n",
      "중복 제거 후 행 개수:  3\n",
      "                  date                                      title  \\\n",
      "0  2023-07-05 17:24:05                    우리은행, 취약계층에 폭염 대비 물품 지원   \n",
      "1  2023-07-05 17:23:28       KB·신한 등 대형 은행·지주, D-SIB 유지…자본 부담 생기나   \n",
      "2  2023-07-05 17:23:01  삭막한 도시, 너와 나 경계를 지우다…건축 도시에 보탬이 되다 [건축맛집]   \n",
      "\n",
      "                                                link  \\\n",
      "0  https://n.news.naver.com/mnews/article/277/000...   \n",
      "1  https://n.news.naver.com/mnews/article/008/000...   \n",
      "2  https://n.news.naver.com/mnews/article/016/000...   \n",
      "\n",
      "                                             content  \n",
      "0  [\\n서울 영업점에서 무상 식수 제공도우리은행은 취약계층의 여름철 폭염 대비를 지원...  \n",
      "1  [\\n\\n\\n\\n\\n/자료제공=금융위원회금융위원회는 5일 정례회의에서 KB금융지주 ...  \n",
      "2  [\\n요앞 건축사사무소 류인근·김도란·정상경 소장건물과 골목의 ‘경계지우기’…마을 ...  \n",
      "['https://n.news.naver.com/mnews/article/003/0011955875?sid=101', 'https://n.news.naver.com/mnews/article/658/0000045759?sid=101', 'https://n.news.naver.com/mnews/article/008/0004908379?sid=101']\n",
      "중복 제거 후 행 개수:  3\n",
      "                  date                                      title  \\\n",
      "0  2023-07-05 17:24:05                    우리은행, 취약계층에 폭염 대비 물품 지원   \n",
      "1  2023-07-05 17:23:28       KB·신한 등 대형 은행·지주, D-SIB 유지…자본 부담 생기나   \n",
      "2  2023-07-05 17:23:01  삭막한 도시, 너와 나 경계를 지우다…건축 도시에 보탬이 되다 [건축맛집]   \n",
      "\n",
      "                                                link  \\\n",
      "0  https://n.news.naver.com/mnews/article/277/000...   \n",
      "1  https://n.news.naver.com/mnews/article/008/000...   \n",
      "2  https://n.news.naver.com/mnews/article/016/000...   \n",
      "\n",
      "                                             content  \n",
      "0  [\\n서울 영업점에서 무상 식수 제공도우리은행은 취약계층의 여름철 폭염 대비를 지원...  \n",
      "1  [\\n\\n\\n\\n\\n/자료제공=금융위원회금융위원회는 5일 정례회의에서 KB금융지주 ...  \n",
      "2  [\\n요앞 건축사사무소 류인근·김도란·정상경 소장건물과 골목의 ‘경계지우기’…마을 ...  \n",
      "['https://n.news.naver.com/mnews/article/003/0011955875?sid=101', 'https://n.news.naver.com/mnews/article/658/0000045759?sid=101', 'https://n.news.naver.com/mnews/article/008/0004908379?sid=101']\n",
      "중복 제거 후 행 개수:  3\n",
      "                  date                                      title  \\\n",
      "0  2023-07-05 17:24:05                    우리은행, 취약계층에 폭염 대비 물품 지원   \n",
      "1  2023-07-05 17:23:28       KB·신한 등 대형 은행·지주, D-SIB 유지…자본 부담 생기나   \n",
      "2  2023-07-05 17:23:01  삭막한 도시, 너와 나 경계를 지우다…건축 도시에 보탬이 되다 [건축맛집]   \n",
      "\n",
      "                                                link  \\\n",
      "0  https://n.news.naver.com/mnews/article/277/000...   \n",
      "1  https://n.news.naver.com/mnews/article/008/000...   \n",
      "2  https://n.news.naver.com/mnews/article/016/000...   \n",
      "\n",
      "                                             content  \n",
      "0  [\\n서울 영업점에서 무상 식수 제공도우리은행은 취약계층의 여름철 폭염 대비를 지원...  \n",
      "1  [\\n\\n\\n\\n\\n/자료제공=금융위원회금융위원회는 5일 정례회의에서 KB금융지주 ...  \n",
      "2  [\\n요앞 건축사사무소 류인근·김도란·정상경 소장건물과 골목의 ‘경계지우기’…마을 ...  \n"
     ]
    }
   ],
   "source": [
    "t=1\n",
    "while t<5 :\n",
    "    news_urls = get_top3_news_info()\n",
>>>>>>> 38ed7076bf460ed9a94b767395738bb2b51e6d77
    "\n",
    "    titles = []\n",
    "    contents =[]\n",
    "    dates = []\n",
    "\n",
    "    for url in news_urls:\n",
    "        news_html = get_soup_obj(url)\n",
    "\n",
    "        # 뉴스 제목 가져오기\n",
    "        title = news_html.select_one(\"#ct > div.media_end_head.go_trans > div.media_end_head_title > h2\")\n",
    "        if title == None:\n",
    "            title = news_html.select_one(\"#content > div.end_ct > div > h2\")\n",
    "\n",
    "        # 뉴스 본문 가져오기\n",
    "        content = news_html.select(\"div#dic_area\")\n",
    "        if content == []:\n",
    "            content = news_html.select(\"#articeBody\")\n",
    "            \n",
    "        # 기사 텍스트만 가져오기\n",
    "        # list합치기\n",
    "        content = ''.join(str(content))\n",
    "\n",
    "        # html태그제거 및 텍스트 다듬기\n",
    "        pattern1 = '<[^>]*>'\n",
    "        title = re.sub(pattern=pattern1, repl='', string=str(title))\n",
    "        content = re.sub(pattern=pattern1, repl='', string=content)\n",
    "        pattern2 = \"\"\"[\\n\\n\\n\\n\\n// flash 오류를 우회하기 위한 함수 추가\\nfunction _flash_removeCallback() {}\"\"\"\n",
    "        content = content.replace(pattern2, '')\n",
    "\n",
    "        news_titles.append(title)\n",
    "        news_contents.append(content)\n",
    "\n",
    "        html_date = news_html.select_one(\"div#ct > div.media_end_head > div.media_end_head_info > div span\")\n",
    "        news_date = html_date.attrs['data-date-time']\n",
    "        news_dates.append(news_date)\n",
    "    \n",
    "    add_df()\n",
    "\n",
    "    time.sleep(10)\n",
    "\n",
    "    t += 1"
   ]
  },
  {
   "cell_type": "code",
   "execution_count": 197,
   "metadata": {},
   "outputs": [
    {
     "data": {
      "text/html": [
       "<div>\n",
       "<style scoped>\n",
       "    .dataframe tbody tr th:only-of-type {\n",
       "        vertical-align: middle;\n",
       "    }\n",
       "\n",
       "    .dataframe tbody tr th {\n",
       "        vertical-align: top;\n",
       "    }\n",
       "\n",
       "    .dataframe thead th {\n",
       "        text-align: right;\n",
       "    }\n",
       "</style>\n",
       "<table border=\"1\" class=\"dataframe\">\n",
       "  <thead>\n",
       "    <tr style=\"text-align: right;\">\n",
       "      <th></th>\n",
       "      <th>date</th>\n",
       "      <th>title</th>\n",
       "      <th>link</th>\n",
       "      <th>content</th>\n",
       "    </tr>\n",
       "  </thead>\n",
       "  <tbody>\n",
       "    <tr>\n",
       "      <th>0</th>\n",
       "      <td>2023-07-05 17:24:05</td>\n",
       "      <td>우리은행, 취약계층에 폭염 대비 물품 지원</td>\n",
       "      <td>https://n.news.naver.com/mnews/article/277/000...</td>\n",
       "      <td>[\\n서울 영업점에서 무상 식수 제공도우리은행은 취약계층의 여름철 폭염 대비를 지원...</td>\n",
       "    </tr>\n",
       "    <tr>\n",
       "      <th>1</th>\n",
       "      <td>2023-07-05 17:23:28</td>\n",
       "      <td>KB·신한 등 대형 은행·지주, D-SIB 유지…자본 부담 생기나</td>\n",
       "      <td>https://n.news.naver.com/mnews/article/008/000...</td>\n",
       "      <td>[\\n\\n\\n\\n\\n/자료제공=금융위원회금융위원회는 5일 정례회의에서 KB금융지주 ...</td>\n",
       "    </tr>\n",
       "    <tr>\n",
       "      <th>2</th>\n",
       "      <td>2023-07-05 17:23:01</td>\n",
       "      <td>삭막한 도시, 너와 나 경계를 지우다…건축 도시에 보탬이 되다 [건축맛집]</td>\n",
       "      <td>https://n.news.naver.com/mnews/article/016/000...</td>\n",
       "      <td>[\\n요앞 건축사사무소 류인근·김도란·정상경 소장건물과 골목의 ‘경계지우기’…마을 ...</td>\n",
       "    </tr>\n",
       "  </tbody>\n",
       "</table>\n",
       "</div>"
      ],
      "text/plain": [
       "                  date                                      title  \\\n",
       "0  2023-07-05 17:24:05                    우리은행, 취약계층에 폭염 대비 물품 지원   \n",
       "1  2023-07-05 17:23:28       KB·신한 등 대형 은행·지주, D-SIB 유지…자본 부담 생기나   \n",
       "2  2023-07-05 17:23:01  삭막한 도시, 너와 나 경계를 지우다…건축 도시에 보탬이 되다 [건축맛집]   \n",
       "\n",
       "                                                link  \\\n",
       "0  https://n.news.naver.com/mnews/article/277/000...   \n",
       "1  https://n.news.naver.com/mnews/article/008/000...   \n",
       "2  https://n.news.naver.com/mnews/article/016/000...   \n",
       "\n",
       "                                             content  \n",
       "0  [\\n서울 영업점에서 무상 식수 제공도우리은행은 취약계층의 여름철 폭염 대비를 지원...  \n",
       "1  [\\n\\n\\n\\n\\n/자료제공=금융위원회금융위원회는 5일 정례회의에서 KB금융지주 ...  \n",
       "2  [\\n요앞 건축사사무소 류인근·김도란·정상경 소장건물과 골목의 ‘경계지우기’…마을 ...  "
      ]
     },
     "execution_count": 197,
     "metadata": {},
     "output_type": "execute_result"
    }
   ],
   "source": [
    "news_df.head()"
   ]
  }
 ],
 "metadata": {
  "kernelspec": {
   "display_name": "ml-dev",
   "language": "python",
   "name": "python3"
  },
  "language_info": {
   "codemirror_mode": {
    "name": "ipython",
    "version": 3
   },
   "file_extension": ".py",
   "mimetype": "text/x-python",
   "name": "python",
   "nbconvert_exporter": "python",
   "pygments_lexer": "ipython3",
   "version": "3.10.10"
  },
  "orig_nbformat": 4
 },
 "nbformat": 4,
 "nbformat_minor": 2
}
