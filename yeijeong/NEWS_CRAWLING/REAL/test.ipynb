{
 "cells": [
  {
   "cell_type": "code",
   "execution_count": 1,
   "metadata": {},
   "outputs": [],
   "source": [
    "import pandas as pd"
   ]
  },
  {
   "cell_type": "code",
   "execution_count": 2,
   "metadata": {},
   "outputs": [],
   "source": [
    "test = pd.read_csv('D:\\\\big16\\\\final project\\\\DATA\\\\NEWS_DATA\\\\현대로템_20230705_140536_page1001_991.csv')"
   ]
  },
  {
   "cell_type": "code",
   "execution_count": 3,
   "metadata": {},
   "outputs": [
    {
     "data": {
      "text/html": [
       "<div>\n",
       "<style scoped>\n",
       "    .dataframe tbody tr th:only-of-type {\n",
       "        vertical-align: middle;\n",
       "    }\n",
       "\n",
       "    .dataframe tbody tr th {\n",
       "        vertical-align: top;\n",
       "    }\n",
       "\n",
       "    .dataframe thead th {\n",
       "        text-align: right;\n",
       "    }\n",
       "</style>\n",
       "<table border=\"1\" class=\"dataframe\">\n",
       "  <thead>\n",
       "    <tr style=\"text-align: right;\">\n",
       "      <th></th>\n",
       "      <th>date</th>\n",
       "      <th>title</th>\n",
       "      <th>link</th>\n",
       "      <th>content</th>\n",
       "    </tr>\n",
       "  </thead>\n",
       "  <tbody>\n",
       "    <tr>\n",
       "      <th>272</th>\n",
       "      <td>2023-06-02 09:39:31</td>\n",
       "      <td>정부 SR에 2500억원 이상 현물 출자한다…부채비율 관리 목적</td>\n",
       "      <td>https://n.news.naver.com/mnews/article/421/000...</td>\n",
       "      <td>[\\n한국도로공사 지분 현물출자 계획 유력\\n\\n\\n\\nSRT 개통 6주년인 9일 ...</td>\n",
       "    </tr>\n",
       "    <tr>\n",
       "      <th>273</th>\n",
       "      <td>2023-06-02 15:44:05</td>\n",
       "      <td>'방위산업' 설립 앞둔 전북대, 한화시스템과 인재양성 협약</td>\n",
       "      <td>https://n.news.naver.com/mnews/article/003/001...</td>\n",
       "      <td>[\\n\\n\\n\\n\\n[전주=뉴시스] 윤난슬 기자 = 전북의 미래가 될 새만금 지역에...</td>\n",
       "    </tr>\n",
       "    <tr>\n",
       "      <th>274</th>\n",
       "      <td>2023-06-15 03:03:36</td>\n",
       "      <td>‘국내 첫 완전 자동화’ 부산신항 서컨 10월 개장 먹구름</td>\n",
       "      <td>https://n.news.naver.com/mnews/article/658/000...</td>\n",
       "      <td>[\\n2-5단계 부두 기반 공사 늦어져…북항 엑스포 인프라 차질 우려도국내 첫 완전...</td>\n",
       "    </tr>\n",
       "    <tr>\n",
       "      <th>275</th>\n",
       "      <td>2023-06-07 10:12:01</td>\n",
       "      <td>전북대, 한화시스템과 방위산업 인재양성 협약</td>\n",
       "      <td>https://n.news.naver.com/mnews/article/079/000...</td>\n",
       "      <td>[\\n\\n\\n\\n\\n전북대학교가 내년 계약학과인  '방위산업학과' 설립을 앞두고 국...</td>\n",
       "    </tr>\n",
       "    <tr>\n",
       "      <th>276</th>\n",
       "      <td>2023-06-15 22:29:13</td>\n",
       "      <td>전북대, 방위산업 기업체와 연대 강화…지역특화 모색</td>\n",
       "      <td>https://n.news.naver.com/mnews/article/002/000...</td>\n",
       "      <td>[\\n2024년  계약학과 ‘방위산업학과’ 설립 추진 박차전북대학교가 방위산업 분야...</td>\n",
       "    </tr>\n",
       "  </tbody>\n",
       "</table>\n",
       "</div>"
      ],
      "text/plain": [
       "                    date                                title  \\\n",
       "272  2023-06-02 09:39:31  정부 SR에 2500억원 이상 현물 출자한다…부채비율 관리 목적   \n",
       "273  2023-06-02 15:44:05     '방위산업' 설립 앞둔 전북대, 한화시스템과 인재양성 협약   \n",
       "274  2023-06-15 03:03:36     ‘국내 첫 완전 자동화’ 부산신항 서컨 10월 개장 먹구름   \n",
       "275  2023-06-07 10:12:01             전북대, 한화시스템과 방위산업 인재양성 협약   \n",
       "276  2023-06-15 22:29:13         전북대, 방위산업 기업체와 연대 강화…지역특화 모색   \n",
       "\n",
       "                                                  link  \\\n",
       "272  https://n.news.naver.com/mnews/article/421/000...   \n",
       "273  https://n.news.naver.com/mnews/article/003/001...   \n",
       "274  https://n.news.naver.com/mnews/article/658/000...   \n",
       "275  https://n.news.naver.com/mnews/article/079/000...   \n",
       "276  https://n.news.naver.com/mnews/article/002/000...   \n",
       "\n",
       "                                               content  \n",
       "272  [\\n한국도로공사 지분 현물출자 계획 유력\\n\\n\\n\\nSRT 개통 6주년인 9일 ...  \n",
       "273  [\\n\\n\\n\\n\\n[전주=뉴시스] 윤난슬 기자 = 전북의 미래가 될 새만금 지역에...  \n",
       "274  [\\n2-5단계 부두 기반 공사 늦어져…북항 엑스포 인프라 차질 우려도국내 첫 완전...  \n",
       "275  [\\n\\n\\n\\n\\n전북대학교가 내년 계약학과인  '방위산업학과' 설립을 앞두고 국...  \n",
       "276  [\\n2024년  계약학과 ‘방위산업학과’ 설립 추진 박차전북대학교가 방위산업 분야...  "
      ]
     },
     "execution_count": 3,
     "metadata": {},
     "output_type": "execute_result"
    }
   ],
   "source": [
    "test.tail()"
   ]
  }
 ],
 "metadata": {
  "kernelspec": {
   "display_name": "trading",
   "language": "python",
   "name": "python3"
  },
  "language_info": {
   "codemirror_mode": {
    "name": "ipython",
    "version": 3
   },
   "file_extension": ".py",
   "mimetype": "text/x-python",
   "name": "python",
   "nbconvert_exporter": "python",
   "pygments_lexer": "ipython3",
   "version": "3.10.0"
  },
  "orig_nbformat": 4
 },
 "nbformat": 4,
 "nbformat_minor": 2
}
