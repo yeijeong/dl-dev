{
 "cells": [
  {
   "cell_type": "code",
   "execution_count": 31,
   "metadata": {},
   "outputs": [],
   "source": [
    "import pandas as pd\n",
    "import requests\n",
    "from bs4 import BeautifulSoup\n",
    "from tqdm.notebook import tqdm\n",
    "import bs4.element\n",
    "import datetime"
   ]
  },
  {
   "cell_type": "code",
   "execution_count": 32,
   "metadata": {},
   "outputs": [
    {
     "name": "stdout",
     "output_type": "stream",
     "text": [
      "['https://news.naver.com/main/list.nhn?mode=LSD&mid=sec&sid1=100', 'https://news.naver.com/main/list.nhn?mode=LSD&mid=sec&sid1=101', 'https://news.naver.com/main/list.nhn?mode=LSD&mid=sec&sid1=102']\n"
     ]
    }
   ],
   "source": [
    "# 네이버 금융 속보 url 리스트 만들기\n",
    "# https://news.naver.com/main/list.naver?mode=LSD&mid=sec&sid1=101\n",
    "# 100 : 정치, 101: 경제, 102 : 사회\n",
    "url_list = []\n",
    "for sid in ['100', '101', '102']:\n",
    "    # 해당 분야 상위 뉴스 목록 주소\n",
    "    sec_url = \"https://news.naver.com/main/list.nhn?mode=LSD&mid=sec\" \\\n",
    "                + \"&sid1=\" \\\n",
    "                + sid \\\n",
    "             \n",
    "    url_list.append(sec_url)\n",
    "\n",
    "print(url_list)"
   ]
  },
  {
   "cell_type": "code",
   "execution_count": 33,
   "metadata": {},
   "outputs": [],
   "source": [
    "def ex_tag(page):\n",
    "    ### 뉴스 분야(sid)와 페이지(page)를 입력하면 그에 대한 링크들을 리스트로 추출하는 함수 ###\n",
    "    \n",
    "    ## 1.\n",
    "    headers = {\"User-Agent\": \"Mozilla/5.0\" \\\n",
    "           \"(Windows NT 10.0; Win64; x64) AppleWebKit/537.36 (KHTML, like Gecko) \"\\\n",
    "            \"Chrome/114.0.0.0 Safari/537.36\"}\n",
    "    html = requests.get(page, headers=headers)\n",
    "    soup = BeautifulSoup(html.text, \"lxml\")\n",
    "    a_tag = soup.find_all(\"a\")\n",
    "    \n",
    "    ## 2.\n",
    "    tag_lst = []\n",
    "    for a in a_tag:\n",
    "        if \"href\" in a.attrs:  # href가 있는것만 고르는 것\n",
    "            if (f\"sid={sid}\" in a[\"href\"]) and (\"article\" in a[\"href\"]):\n",
    "                tag_lst.append(a[\"href\"])\n",
    "                \n",
    "    return tag_lst"
   ]
  },
  {
   "cell_type": "code",
   "execution_count": 34,
   "metadata": {},
   "outputs": [],
   "source": [
    "# 리스트 선언\n",
    "news_titles = []\n",
    "news_url =[]\n",
    "news_contents =[]\n",
    "news_dates = []"
   ]
  },
  {
   "cell_type": "code",
   "execution_count": 35,
   "metadata": {},
   "outputs": [
    {
     "name": "stdout",
     "output_type": "stream",
     "text": [
      "[['https://n.news.naver.com/mnews/article/003/0011943531?sid=102', 'https://n.news.naver.com/mnews/article/052/0001903363?sid=102', 'https://n.news.naver.com/mnews/article/001/0014032845?sid=102', 'https://n.news.naver.com/mnews/article/421/0006897508?sid=102'], ['https://n.news.naver.com/mnews/article/003/0011943531?sid=102', 'https://n.news.naver.com/mnews/article/052/0001903363?sid=102', 'https://n.news.naver.com/mnews/article/001/0014032845?sid=102', 'https://n.news.naver.com/mnews/article/421/0006897508?sid=102'], ['https://n.news.naver.com/mnews/article/003/0011944313?sid=102', 'https://n.news.naver.com/mnews/article/003/0011944313?sid=102', 'https://n.news.naver.com/mnews/article/082/0001219710?sid=102', 'https://n.news.naver.com/mnews/article/081/0003372953?sid=102', 'https://n.news.naver.com/mnews/article/081/0003372953?sid=102', 'https://n.news.naver.com/mnews/article/382/0001060506?sid=102', 'https://n.news.naver.com/mnews/article/382/0001060506?sid=102', 'https://n.news.naver.com/mnews/article/469/0000747116?sid=102', 'https://n.news.naver.com/mnews/article/469/0000747116?sid=102', 'https://n.news.naver.com/mnews/article/082/0001219709?sid=102', 'https://n.news.naver.com/mnews/article/082/0001219709?sid=102', 'https://n.news.naver.com/mnews/article/008/0004905875?sid=102', 'https://n.news.naver.com/mnews/article/008/0004905875?sid=102', 'https://n.news.naver.com/mnews/article/001/0014035234?sid=102', 'https://n.news.naver.com/mnews/article/001/0014035234?sid=102', 'https://n.news.naver.com/mnews/article/003/0011944311?sid=102', 'https://n.news.naver.com/mnews/article/003/0011944311?sid=102', 'https://n.news.naver.com/mnews/article/014/0005034626?sid=102', 'https://n.news.naver.com/mnews/article/014/0005034626?sid=102', 'https://n.news.naver.com/mnews/article/082/0001219708?sid=102', 'https://n.news.naver.com/mnews/article/082/0001219708?sid=102', 'https://n.news.naver.com/mnews/article/081/0003372952?sid=102', 'https://n.news.naver.com/mnews/article/081/0003372952?sid=102', 'https://n.news.naver.com/mnews/article/382/0001060505?sid=102', 'https://n.news.naver.com/mnews/article/382/0001060505?sid=102', 'https://n.news.naver.com/mnews/article/057/0001752595?sid=102', 'https://n.news.naver.com/mnews/article/057/0001752595?sid=102', 'https://n.news.naver.com/mnews/article/421/0006897630?sid=102', 'https://n.news.naver.com/mnews/article/421/0006897630?sid=102', 'https://n.news.naver.com/mnews/article/001/0014035231?sid=102', 'https://n.news.naver.com/mnews/article/001/0014035231?sid=102', 'https://n.news.naver.com/mnews/article/055/0001069335?sid=102', 'https://n.news.naver.com/mnews/article/055/0001069335?sid=102', 'https://n.news.naver.com/mnews/article/001/0014035230?sid=102', 'https://n.news.naver.com/mnews/article/001/0014035230?sid=102', 'https://n.news.naver.com/mnews/article/421/0006897628?sid=102', 'https://n.news.naver.com/mnews/article/421/0006897628?sid=102', 'https://n.news.naver.com/mnews/article/001/0014035229?sid=102', 'https://n.news.naver.com/mnews/article/001/0014035229?sid=102', 'https://n.news.naver.com/mnews/article/421/0006896484?sid=102', 'https://n.news.naver.com/mnews/article/082/0001219501?sid=102', 'https://n.news.naver.com/mnews/article/055/0001069260?sid=102', 'https://n.news.naver.com/mnews/article/081/0003372877?sid=102', 'https://n.news.naver.com/mnews/article/056/0011514707?sid=102']]\n"
     ]
    }
   ],
   "source": [
    "#뉴스 크롤러 실행 - url 받아오기\n",
    "for i in url_list:\n",
    "    news_url.append(ex_tag(i))\n",
    "\n",
    "print(news_url)"
   ]
  },
  {
   "cell_type": "code",
   "execution_count": null,
   "metadata": {},
   "outputs": [],
   "source": [
    "#제목, 링크, 내용 1차원 리스트로 꺼내는 함수 생성\n",
    "def makeList(newlist, content):\n",
    "    for i in content:\n",
    "        for j in i:\n",
    "            newlist.append(j)\n",
    "    return newlist\n",
    "\n",
    "    \n",
    "#제목, 링크, 내용 담을 리스트 생성\n",
    "news_url_1 = []\n",
    "\n",
    "#1차원 리스트로 만들기(내용 제외)\n",
    "makeList(news_url_1,news_url)\n",
    "\n",
    "#NAVER 뉴스만 남기기\n",
    "final_urls = []\n",
    "for i in tqdm(range(len(news_url_1))):\n",
    "    if \"news.naver.com\" in news_url_1[i]:\n",
    "        final_urls.append(news_url_1[i])\n",
    "    else:\n",
    "        pass\n",
    "\n",
    "print(news_url)"
   ]
  },
  {
   "cell_type": "code",
   "execution_count": null,
   "metadata": {},
   "outputs": [],
   "source": [
    "# 뉴스 내용 크롤링\n",
    "\n",
    "for i in tqdm(final_urls):\n",
    "    #각 기사 html get하기\n",
    "    headers = {'user-agent' : 'Mozilla/5.0 (Windows NT 10.0; Win64; x64) AppleWebKit/537.36 (KHTML, like Gecko) Chrome/100.0.4896.127 Safari/537.36'}\n",
    "    news = requests.get(i,headers=headers)\n",
    "    news_html = BeautifulSoup(news.text,\"html.parser\")\n",
    "    # 뉴스 제목 가져오기\n",
    "    title = news_html.select_one(\"#ct > div.media_end_head.go_trans > div.media_end_head_title > h2\")\n",
    "    if title == None:\n",
    "        title = news_html.select_one(\"#content > div.end_ct > div > h2\")\n",
    "    \n",
    "    # 뉴스 본문 가져오기\n",
    "    content = news_html.select(\"div#dic_area\")\n",
    "    if content == []:\n",
    "        content = news_html.select(\"#articeBody\")\n",
    "        \n",
    "    # 기사 텍스트만 가져오기\n",
    "    # list합치기\n",
    "    content = ''.join(str(content))\n",
    "\n",
    "    # html태그제거 및 텍스트 다듬기\n",
    "    pattern1 = '<[^>]*>'\n",
    "    title = re.sub(pattern=pattern1, repl='', string=str(title))\n",
    "    content = re.sub(pattern=pattern1, repl='', string=content)\n",
    "    pattern2 = \"\"\"[\\n\\n\\n\\n\\n// flash 오류를 우회하기 위한 함수 추가\\nfunction _flash_removeCallback() {}\"\"\"\n",
    "    content = content.replace(pattern2, '')\n",
    "\n",
    "    news_titles.append(title)\n",
    "    news_contents.append(content)\n",
    "\n",
    "    try:\n",
    "        html_date = news_html.select_one(\"div#ct> div.media_end_head.go_trans > div.media_end_head_info.nv_notrans > div.media_end_head_info_datestamp > div > span\")\n",
    "        news_date = html_date.attrs['data-date-time']\n",
    "    except AttributeError:\n",
    "        news_date = news_html.select_one(\"#content > div.end_ct > div > div.article_info > span > em\")\n",
    "        news_date = re.sub(pattern=pattern1,repl='',string=str(news_date))\n",
    "    # 날짜 가져오기\n",
    "    news_dates.append(news_date)\n",
    "\n",
    "print(\"검색된 기사 갯수: 총 \",(page2+1-page)*10,'개')\n",
    "print(\"\\n[뉴스 제목]\")\n",
    "print(news_titles)\n",
    "print(\"\\n[뉴스 링크]\")\n",
    "print(final_urls)\n",
    "print(\"\\n[뉴스 내용]\")\n",
    "print(news_contents)\n",
    "\n",
    "print('news_title: ',len(news_titles))\n",
    "print('news_url: ',len(final_urls))\n",
    "print('news_contents: ',len(news_contents))\n",
    "print('news_dates: ',len(news_dates))"
   ]
  },
  {
   "cell_type": "code",
   "execution_count": null,
   "metadata": {},
   "outputs": [],
   "source": [
    "###데이터 프레임으로 만들기###\n",
    "import pandas as pd\n",
    "\n",
    "#데이터 프레임 만들기\n",
    "news_df = pd.DataFrame({'date':news_dates,'title':news_titles,'link':final_urls,'content':news_contents})\n",
    "news_df\n",
    "\n",
    "#중복 행 지우기\n",
    "news_df = news_df.drop_duplicates(keep='first',ignore_index=True)\n",
    "print(\"중복 제거 후 행 개수: \",len(news_df))\n",
    "\n",
    "#데이터 프레임 저장\n",
    "now = datetime.datetime.now() \n",
    "news_df.to_csv('D:\\\\big16\\\\final project\\\\DATA\\\\NEWS_DATA\\\\{}_{}.csv'.format(search,now.strftime('%Y%m%d_%H%M%S')),encoding='utf-8-sig',index=False)"
   ]
  },
  {
   "cell_type": "code",
   "execution_count": null,
   "metadata": {},
   "outputs": [],
   "source": [
    "for sid in ['100']:#, '101', '102']:\n",
    "    # 해당 분야 상위 뉴스 목록 주소\n",
    "    sec_url = \"https://news.naver.com/main/list.nhn?mode=LSD&mid=sec\" \\\n",
    "                + \"&sid1=\" \\\n",
    "                + sid\n",
    "    print(\"section url : \", sec_url)\n",
    "    \n",
    "    # 해당 분야 상위 뉴스 HTML 가져오기\n",
    "    soup = get_soup_obj(sec_url)\n",
    "  \n",
    "    # 해당 분야 상위 뉴스 3개 가져오기\n",
    "    lis3 = soup.find('ul', class_='type06_headline').find_all(\"li\", limit=3)\n",
    "    for li in lis3:\n",
    "        # title : 뉴스 제목, news_url : 뉴스 URL, image_url : 이미지 URL\n",
    "        news_info = {\n",
    "            \"title\" : li.img.attrs.get('alt') if li.img else li.a.text.replace(\"\\n\", \"\").replace(\"\\t\",\"\").replace(\"\\r\",\"\") , \n",
    "            \"date\" : li.find(class_=\"date\").text,\n",
    "            \"news_url\" : li.a.attrs.get('href')\n",
    "        }\n",
    "        print(news_info)"
   ]
  }
 ],
 "metadata": {
  "kernelspec": {
   "display_name": "trading_n",
   "language": "python",
   "name": "python3"
  },
  "language_info": {
   "codemirror_mode": {
    "name": "ipython",
    "version": 3
   },
   "file_extension": ".py",
   "mimetype": "text/x-python",
   "name": "python",
   "nbconvert_exporter": "python",
   "pygments_lexer": "ipython3",
   "version": "3.10.0"
  },
  "orig_nbformat": 4
 },
 "nbformat": 4,
 "nbformat_minor": 2
}
