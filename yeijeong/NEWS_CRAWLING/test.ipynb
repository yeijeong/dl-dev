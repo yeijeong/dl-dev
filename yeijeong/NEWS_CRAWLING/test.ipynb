{
 "cells": [
  {
   "cell_type": "code",
   "execution_count": 1,
   "metadata": {},
   "outputs": [],
   "source": [
    "import pandas as pd"
   ]
  },
  {
   "cell_type": "code",
   "execution_count": 2,
   "metadata": {},
   "outputs": [],
   "source": [
    "test = pd.read_csv('D:\\\\big16\\\\final project\\\\DATA\\\\NEWS_DATA\\\\경제_20230705_202522_page100001_99991.csv')"
   ]
  },
  {
   "cell_type": "code",
   "execution_count": 3,
   "metadata": {},
   "outputs": [
    {
     "data": {
      "text/html": [
       "<div>\n",
       "<style scoped>\n",
       "    .dataframe tbody tr th:only-of-type {\n",
       "        vertical-align: middle;\n",
       "    }\n",
       "\n",
       "    .dataframe tbody tr th {\n",
       "        vertical-align: top;\n",
       "    }\n",
       "\n",
       "    .dataframe thead th {\n",
       "        text-align: right;\n",
       "    }\n",
       "</style>\n",
       "<table border=\"1\" class=\"dataframe\">\n",
       "  <thead>\n",
       "    <tr style=\"text-align: right;\">\n",
       "      <th></th>\n",
       "      <th>date</th>\n",
       "      <th>title</th>\n",
       "      <th>link</th>\n",
       "      <th>content</th>\n",
       "    </tr>\n",
       "  </thead>\n",
       "  <tbody>\n",
       "    <tr>\n",
       "      <th>2193</th>\n",
       "      <td>2022-06-16 12:20:37</td>\n",
       "      <td>경제계 한국전 참전국 초청 감사행사 기념촬영</td>\n",
       "      <td>https://n.news.naver.com/mnews/article/003/001...</td>\n",
       "      <td>[\\n\\n\\n\\n\\n[서울=뉴시스] 배훈식 기자 = 허창수(왼쪽 두번째부터) 전국경...</td>\n",
       "    </tr>\n",
       "    <tr>\n",
       "      <th>2194</th>\n",
       "      <td>2022-06-24 11:36:06</td>\n",
       "      <td>경제보다 외교에 승부수 … 기시다, 참의원선거 전략</td>\n",
       "      <td>https://n.news.naver.com/mnews/article/021/000...</td>\n",
       "      <td>[\\n■ 글로벌 피플\\n\\n\\n\\n기시다 후미오(岸田文雄·사진) 일본 총리가 과감한...</td>\n",
       "    </tr>\n",
       "    <tr>\n",
       "      <th>2195</th>\n",
       "      <td>2022-06-23 22:06:12</td>\n",
       "      <td>윤 대통령, '한국 경제학계 거목' 조순 전 부총리 빈소 조문</td>\n",
       "      <td>https://n.news.naver.com/mnews/article/421/000...</td>\n",
       "      <td>[\\n\\n\\n\\n\\n(서울=뉴스1) 안은나 기자 = 윤석열 대통령이 23일 송파구 ...</td>\n",
       "    </tr>\n",
       "    <tr>\n",
       "      <th>2196</th>\n",
       "      <td>2022-06-16 14:07:02</td>\n",
       "      <td>[尹정부 경제정책] 법인세 최고세율 22%로 인하…1주택자 14억까지 종부세 비과세</td>\n",
       "      <td>https://n.news.naver.com/mnews/article/016/000...</td>\n",
       "      <td>[\\nCEO에 몰린 형벌규정, 행정제재로 전환…정년 연장 논의 가시화증권거래세 0....</td>\n",
       "    </tr>\n",
       "    <tr>\n",
       "      <th>2197</th>\n",
       "      <td>2022-06-21 11:24:01</td>\n",
       "      <td>\"모든 역량 결집해야\"…尹대통령, 국무회의서 '경제 위기 대책' 적극 당부</td>\n",
       "      <td>https://n.news.naver.com/mnews/article/119/000...</td>\n",
       "      <td>[\\n\"대통령실 비상경제 대응체제 전환성장 발목 잡는 이권 카르텔 없애야공공기관 방...</td>\n",
       "    </tr>\n",
       "  </tbody>\n",
       "</table>\n",
       "</div>"
      ],
      "text/plain": [
       "                     date                                           title  \\\n",
       "2193  2022-06-16 12:20:37                        경제계 한국전 참전국 초청 감사행사 기념촬영   \n",
       "2194  2022-06-24 11:36:06                    경제보다 외교에 승부수 … 기시다, 참의원선거 전략   \n",
       "2195  2022-06-23 22:06:12              윤 대통령, '한국 경제학계 거목' 조순 전 부총리 빈소 조문   \n",
       "2196  2022-06-16 14:07:02  [尹정부 경제정책] 법인세 최고세율 22%로 인하…1주택자 14억까지 종부세 비과세   \n",
       "2197  2022-06-21 11:24:01       \"모든 역량 결집해야\"…尹대통령, 국무회의서 '경제 위기 대책' 적극 당부   \n",
       "\n",
       "                                                   link  \\\n",
       "2193  https://n.news.naver.com/mnews/article/003/001...   \n",
       "2194  https://n.news.naver.com/mnews/article/021/000...   \n",
       "2195  https://n.news.naver.com/mnews/article/421/000...   \n",
       "2196  https://n.news.naver.com/mnews/article/016/000...   \n",
       "2197  https://n.news.naver.com/mnews/article/119/000...   \n",
       "\n",
       "                                                content  \n",
       "2193  [\\n\\n\\n\\n\\n[서울=뉴시스] 배훈식 기자 = 허창수(왼쪽 두번째부터) 전국경...  \n",
       "2194  [\\n■ 글로벌 피플\\n\\n\\n\\n기시다 후미오(岸田文雄·사진) 일본 총리가 과감한...  \n",
       "2195  [\\n\\n\\n\\n\\n(서울=뉴스1) 안은나 기자 = 윤석열 대통령이 23일 송파구 ...  \n",
       "2196  [\\nCEO에 몰린 형벌규정, 행정제재로 전환…정년 연장 논의 가시화증권거래세 0....  \n",
       "2197  [\\n\"대통령실 비상경제 대응체제 전환성장 발목 잡는 이권 카르텔 없애야공공기관 방...  "
      ]
     },
     "execution_count": 3,
     "metadata": {},
     "output_type": "execute_result"
    }
   ],
   "source": [
    "test.tail()"
   ]
  },
  {
   "cell_type": "code",
   "execution_count": 6,
   "metadata": {},
   "outputs": [
    {
     "data": {
      "text/html": [
       "<div>\n",
       "<style scoped>\n",
       "    .dataframe tbody tr th:only-of-type {\n",
       "        vertical-align: middle;\n",
       "    }\n",
       "\n",
       "    .dataframe tbody tr th {\n",
       "        vertical-align: top;\n",
       "    }\n",
       "\n",
       "    .dataframe thead th {\n",
       "        text-align: right;\n",
       "    }\n",
       "</style>\n",
       "<table border=\"1\" class=\"dataframe\">\n",
       "  <thead>\n",
       "    <tr style=\"text-align: right;\">\n",
       "      <th></th>\n",
       "      <th>date</th>\n",
       "      <th>title</th>\n",
       "      <th>link</th>\n",
       "      <th>content</th>\n",
       "    </tr>\n",
       "  </thead>\n",
       "  <tbody>\n",
       "    <tr>\n",
       "      <th>2193</th>\n",
       "      <td>2022-06-16 12:20:37</td>\n",
       "      <td>경제계 한국전 참전국 초청 감사행사 기념촬영</td>\n",
       "      <td>https://n.news.naver.com/mnews/article/003/001...</td>\n",
       "      <td>[\\n\\n\\n\\n\\n[서울=뉴시스] 배훈식 기자 = 허창수(왼쪽 두번째부터) 전국경...</td>\n",
       "    </tr>\n",
       "    <tr>\n",
       "      <th>2194</th>\n",
       "      <td>2022-06-24 11:36:06</td>\n",
       "      <td>경제보다 외교에 승부수 … 기시다, 참의원선거 전략</td>\n",
       "      <td>https://n.news.naver.com/mnews/article/021/000...</td>\n",
       "      <td>[\\n■ 글로벌 피플\\n\\n\\n\\n기시다 후미오(岸田文雄·사진) 일본 총리가 과감한...</td>\n",
       "    </tr>\n",
       "    <tr>\n",
       "      <th>2195</th>\n",
       "      <td>2022-06-23 22:06:12</td>\n",
       "      <td>윤 대통령, '한국 경제학계 거목' 조순 전 부총리 빈소 조문</td>\n",
       "      <td>https://n.news.naver.com/mnews/article/421/000...</td>\n",
       "      <td>[\\n\\n\\n\\n\\n(서울=뉴스1) 안은나 기자 = 윤석열 대통령이 23일 송파구 ...</td>\n",
       "    </tr>\n",
       "    <tr>\n",
       "      <th>2196</th>\n",
       "      <td>2022-06-16 14:07:02</td>\n",
       "      <td>[尹정부 경제정책] 법인세 최고세율 22%로 인하…1주택자 14억까지 종부세 비과세</td>\n",
       "      <td>https://n.news.naver.com/mnews/article/016/000...</td>\n",
       "      <td>[\\nCEO에 몰린 형벌규정, 행정제재로 전환…정년 연장 논의 가시화증권거래세 0....</td>\n",
       "    </tr>\n",
       "    <tr>\n",
       "      <th>2197</th>\n",
       "      <td>2022-06-21 11:24:01</td>\n",
       "      <td>\"모든 역량 결집해야\"…尹대통령, 국무회의서 '경제 위기 대책' 적극 당부</td>\n",
       "      <td>https://n.news.naver.com/mnews/article/119/000...</td>\n",
       "      <td>[\\n\"대통령실 비상경제 대응체제 전환성장 발목 잡는 이권 카르텔 없애야공공기관 방...</td>\n",
       "    </tr>\n",
       "  </tbody>\n",
       "</table>\n",
       "</div>"
      ],
      "text/plain": [
       "                     date                                           title  \\\n",
       "2193  2022-06-16 12:20:37                        경제계 한국전 참전국 초청 감사행사 기념촬영   \n",
       "2194  2022-06-24 11:36:06                    경제보다 외교에 승부수 … 기시다, 참의원선거 전략   \n",
       "2195  2022-06-23 22:06:12              윤 대통령, '한국 경제학계 거목' 조순 전 부총리 빈소 조문   \n",
       "2196  2022-06-16 14:07:02  [尹정부 경제정책] 법인세 최고세율 22%로 인하…1주택자 14억까지 종부세 비과세   \n",
       "2197  2022-06-21 11:24:01       \"모든 역량 결집해야\"…尹대통령, 국무회의서 '경제 위기 대책' 적극 당부   \n",
       "\n",
       "                                                   link  \\\n",
       "2193  https://n.news.naver.com/mnews/article/003/001...   \n",
       "2194  https://n.news.naver.com/mnews/article/021/000...   \n",
       "2195  https://n.news.naver.com/mnews/article/421/000...   \n",
       "2196  https://n.news.naver.com/mnews/article/016/000...   \n",
       "2197  https://n.news.naver.com/mnews/article/119/000...   \n",
       "\n",
       "                                                content  \n",
       "2193  [\\n\\n\\n\\n\\n[서울=뉴시스] 배훈식 기자 = 허창수(왼쪽 두번째부터) 전국경...  \n",
       "2194  [\\n■ 글로벌 피플\\n\\n\\n\\n기시다 후미오(岸田文雄·사진) 일본 총리가 과감한...  \n",
       "2195  [\\n\\n\\n\\n\\n(서울=뉴스1) 안은나 기자 = 윤석열 대통령이 23일 송파구 ...  \n",
       "2196  [\\nCEO에 몰린 형벌규정, 행정제재로 전환…정년 연장 논의 가시화증권거래세 0....  \n",
       "2197  [\\n\"대통령실 비상경제 대응체제 전환성장 발목 잡는 이권 카르텔 없애야공공기관 방...  "
      ]
     },
     "execution_count": 6,
     "metadata": {},
     "output_type": "execute_result"
    }
   ],
   "source": [
    "test.tail()"
   ]
  },
  {
   "cell_type": "code",
   "execution_count": 7,
   "metadata": {},
   "outputs": [
    {
     "name": "stdout",
     "output_type": "stream",
     "text": [
      "<class 'pandas.core.frame.DataFrame'>\n",
      "RangeIndex: 2198 entries, 0 to 2197\n",
      "Data columns (total 4 columns):\n",
      " #   Column   Non-Null Count  Dtype \n",
      "---  ------   --------------  ----- \n",
      " 0   date     2180 non-null   object\n",
      " 1   title    2180 non-null   object\n",
      " 2   link     2198 non-null   object\n",
      " 3   content  2198 non-null   object\n",
      "dtypes: object(4)\n",
      "memory usage: 68.8+ KB\n"
     ]
    }
   ],
   "source": [
    "test.info()"
   ]
  }
 ],
 "metadata": {
  "kernelspec": {
   "display_name": "trading",
   "language": "python",
   "name": "python3"
  },
  "language_info": {
   "codemirror_mode": {
    "name": "ipython",
    "version": 3
   },
   "file_extension": ".py",
   "mimetype": "text/x-python",
   "name": "python",
   "nbconvert_exporter": "python",
   "pygments_lexer": "ipython3",
   "version": "3.10.0"
  },
  "orig_nbformat": 4
 },
 "nbformat": 4,
 "nbformat_minor": 2
}
