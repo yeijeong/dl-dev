{
 "cells": [
  {
   "attachments": {},
   "cell_type": "markdown",
   "metadata": {},
   "source": [
    "##### 참고 : https://velog.io/@chaeri93/Python-트위터-API로-크롤링하기\n",
    "##### API 발급 참고 : https://codedosa.com/12498\n",
    "##### API 키 확인 : https://developer.twitter.com/en/portal/projects/1672070128111058945/apps/27359577/keys"
   ]
  },
  {
   "cell_type": "code",
   "execution_count": 1,
   "metadata": {},
   "outputs": [],
   "source": [
    "# pip install python-twitter\n",
    "# pip install environ"
   ]
  },
  {
   "cell_type": "code",
   "execution_count": 2,
   "metadata": {},
   "outputs": [],
   "source": [
    "twitter_consumer_key = \"****\"\n",
    "twitter_consumer_secret = \"****\"  \n",
    "twitter_access_token = \"****\"\n",
    "twitter_access_secret = \"****\""
   ]
  },
  {
   "cell_type": "code",
   "execution_count": 4,
   "metadata": {},
   "outputs": [],
   "source": [
    "from pathlib import Path\n",
    "import os\n",
    "# import environ\n",
    "\n",
    "# BASE_DIR = Path(__file__).resolve().parent.parent\n",
    "# env = environ.Env(\n",
    "#     DEBUG=(bool, False)\n",
    "# )\n",
    "# environ.Env.read_env(os.path.join(BASE_DIR, '.env'))\n",
    "\n",
    "# main code start\n",
    "import twitter, time\n",
    "\n",
    "twitter_api = twitter.Api(consumer_key=twitter_consumer_key,\n",
    "                          consumer_secret=twitter_consumer_secret, \n",
    "                          access_token_key=twitter_access_token, \n",
    "                          access_token_secret=twitter_access_secret)"
   ]
  },
  {
   "cell_type": "code",
   "execution_count": 5,
   "metadata": {},
   "outputs": [
    {
     "ename": "TwitterError",
     "evalue": "[{'message': 'You currently have access to a subset of Twitter API v2 endpoints and limited v1.1 endpoints (e.g. media post, oauth) only. If you need access to this endpoint, you may need a different access level. You can learn more here: https://developer.twitter.com/en/portal/product', 'code': 453}]",
     "output_type": "error",
     "traceback": [
      "\u001b[1;31m---------------------------------------------------------------------------\u001b[0m",
      "\u001b[1;31mTwitterError\u001b[0m                              Traceback (most recent call last)",
      "Cell \u001b[1;32mIn[5], line 2\u001b[0m\n\u001b[0;32m      1\u001b[0m account \u001b[39m=\u001b[39m \u001b[39m\"\u001b[39m\u001b[39m@NetflixKR\u001b[39m\u001b[39m\"\u001b[39m\n\u001b[1;32m----> 2\u001b[0m timeline \u001b[39m=\u001b[39m twitter_api\u001b[39m.\u001b[39;49mGetUserTimeline(screen_name\u001b[39m=\u001b[39;49maccount, count\u001b[39m=\u001b[39;49m\u001b[39m5\u001b[39;49m, include_rts\u001b[39m=\u001b[39;49m\u001b[39mTrue\u001b[39;49;00m, exclude_replies\u001b[39m=\u001b[39;49m\u001b[39mFalse\u001b[39;49;00m)\n\u001b[0;32m      3\u001b[0m \u001b[39mprint\u001b[39m(timeline)\n",
      "File \u001b[1;32mc:\\Users\\tj\\anaconda3\\envs\\trading_n\\lib\\site-packages\\twitter\\api.py:812\u001b[0m, in \u001b[0;36mApi.GetUserTimeline\u001b[1;34m(self, user_id, screen_name, since_id, max_id, count, include_rts, trim_user, exclude_replies)\u001b[0m\n\u001b[0;32m    809\u001b[0m parameters[\u001b[39m'\u001b[39m\u001b[39mexclude_replies\u001b[39m\u001b[39m'\u001b[39m] \u001b[39m=\u001b[39m enf_type(\u001b[39m'\u001b[39m\u001b[39mexclude_replies\u001b[39m\u001b[39m'\u001b[39m, \u001b[39mbool\u001b[39m, exclude_replies)\n\u001b[0;32m    811\u001b[0m resp \u001b[39m=\u001b[39m \u001b[39mself\u001b[39m\u001b[39m.\u001b[39m_RequestUrl(url, \u001b[39m'\u001b[39m\u001b[39mGET\u001b[39m\u001b[39m'\u001b[39m, data\u001b[39m=\u001b[39mparameters)\n\u001b[1;32m--> 812\u001b[0m data \u001b[39m=\u001b[39m \u001b[39mself\u001b[39;49m\u001b[39m.\u001b[39;49m_ParseAndCheckTwitter(resp\u001b[39m.\u001b[39;49mcontent\u001b[39m.\u001b[39;49mdecode(\u001b[39m'\u001b[39;49m\u001b[39mutf-8\u001b[39;49m\u001b[39m'\u001b[39;49m))\n\u001b[0;32m    814\u001b[0m \u001b[39mreturn\u001b[39;00m [Status\u001b[39m.\u001b[39mNewFromJsonDict(x) \u001b[39mfor\u001b[39;00m x \u001b[39min\u001b[39;00m data]\n",
      "File \u001b[1;32mc:\\Users\\tj\\anaconda3\\envs\\trading_n\\lib\\site-packages\\twitter\\api.py:4908\u001b[0m, in \u001b[0;36mApi._ParseAndCheckTwitter\u001b[1;34m(self, json_data)\u001b[0m\n\u001b[0;32m   4906\u001b[0m         \u001b[39mraise\u001b[39;00m TwitterError({\u001b[39m'\u001b[39m\u001b[39mmessage\u001b[39m\u001b[39m'\u001b[39m: \u001b[39m\"\u001b[39m\u001b[39mUnauthorized\u001b[39m\u001b[39m\"\u001b[39m})\n\u001b[0;32m   4907\u001b[0m     \u001b[39mraise\u001b[39;00m TwitterError({\u001b[39m'\u001b[39m\u001b[39mUnknown error\u001b[39m\u001b[39m'\u001b[39m: \u001b[39m'\u001b[39m\u001b[39m{0}\u001b[39;00m\u001b[39m'\u001b[39m\u001b[39m.\u001b[39mformat(json_data)})\n\u001b[1;32m-> 4908\u001b[0m \u001b[39mself\u001b[39;49m\u001b[39m.\u001b[39;49m_CheckForTwitterError(data)\n\u001b[0;32m   4909\u001b[0m \u001b[39mreturn\u001b[39;00m data\n",
      "File \u001b[1;32mc:\\Users\\tj\\anaconda3\\envs\\trading_n\\lib\\site-packages\\twitter\\api.py:4928\u001b[0m, in \u001b[0;36mApi._CheckForTwitterError\u001b[1;34m(data)\u001b[0m\n\u001b[0;32m   4926\u001b[0m     \u001b[39mraise\u001b[39;00m TwitterError(data[\u001b[39m'\u001b[39m\u001b[39merror\u001b[39m\u001b[39m'\u001b[39m])\n\u001b[0;32m   4927\u001b[0m \u001b[39mif\u001b[39;00m \u001b[39m'\u001b[39m\u001b[39merrors\u001b[39m\u001b[39m'\u001b[39m \u001b[39min\u001b[39;00m data:\n\u001b[1;32m-> 4928\u001b[0m     \u001b[39mraise\u001b[39;00m TwitterError(data[\u001b[39m'\u001b[39m\u001b[39merrors\u001b[39m\u001b[39m'\u001b[39m])\n",
      "\u001b[1;31mTwitterError\u001b[0m: [{'message': 'You currently have access to a subset of Twitter API v2 endpoints and limited v1.1 endpoints (e.g. media post, oauth) only. If you need access to this endpoint, you may need a different access level. You can learn more here: https://developer.twitter.com/en/portal/product', 'code': 453}]"
     ]
    }
   ],
   "source": [
    "account = \"@NetflixKR\"\n",
    "timeline = twitter_api.GetUserTimeline(screen_name=account, count=5, include_rts=True, exclude_replies=False)\n",
    "print(timeline)"
   ]
  },
  {
   "cell_type": "code",
   "execution_count": null,
   "metadata": {},
   "outputs": [
    {
     "ename": "TwitterError",
     "evalue": "[{'message': 'You currently have access to a subset of Twitter API v2 endpoints and limited v1.1 endpoints (e.g. media post, oauth) only. If you need access to this endpoint, you may need a different access level. You can learn more here: https://developer.twitter.com/en/portal/product', 'code': 453}]",
     "output_type": "error",
     "traceback": [
      "\u001b[0;31m---------------------------------------------------------------------------\u001b[0m",
      "\u001b[0;31mTwitterError\u001b[0m                              Traceback (most recent call last)",
      "Cell \u001b[0;32mIn[10], line 2\u001b[0m\n\u001b[1;32m      1\u001b[0m query \u001b[39m=\u001b[39m \u001b[39m\"\u001b[39m\u001b[39m방탄소년단\u001b[39m\u001b[39m\"\u001b[39m\n\u001b[0;32m----> 2\u001b[0m search \u001b[39m=\u001b[39m twitter_api\u001b[39m.\u001b[39;49mGetSearch(term\u001b[39m=\u001b[39;49mquery, count\u001b[39m=\u001b[39;49m\u001b[39m100\u001b[39;49m)\n\u001b[1;32m      4\u001b[0m \u001b[39mfor\u001b[39;00m i \u001b[39min\u001b[39;00m search:\n\u001b[1;32m      5\u001b[0m     \u001b[39mprint\u001b[39m(i\u001b[39m.\u001b[39mtext) \u001b[39m# 텍스트만 출력하기\u001b[39;00m\n",
      "File \u001b[0;32m~/miniforge3/envs/trading_n/lib/python3.8/site-packages/twitter/api.py:530\u001b[0m, in \u001b[0;36mApi.GetSearch\u001b[0;34m(self, term, raw_query, geocode, since_id, max_id, until, since, count, lang, locale, result_type, include_entities, return_json)\u001b[0m\n\u001b[1;32m    527\u001b[0m \u001b[39melse\u001b[39;00m:\n\u001b[1;32m    528\u001b[0m     resp \u001b[39m=\u001b[39m \u001b[39mself\u001b[39m\u001b[39m.\u001b[39m_RequestUrl(url, \u001b[39m'\u001b[39m\u001b[39mGET\u001b[39m\u001b[39m'\u001b[39m, data\u001b[39m=\u001b[39mparameters)\n\u001b[0;32m--> 530\u001b[0m data \u001b[39m=\u001b[39m \u001b[39mself\u001b[39;49m\u001b[39m.\u001b[39;49m_ParseAndCheckTwitter(resp\u001b[39m.\u001b[39;49mcontent\u001b[39m.\u001b[39;49mdecode(\u001b[39m'\u001b[39;49m\u001b[39mutf-8\u001b[39;49m\u001b[39m'\u001b[39;49m))\n\u001b[1;32m    531\u001b[0m \u001b[39mif\u001b[39;00m return_json:\n\u001b[1;32m    532\u001b[0m     \u001b[39mreturn\u001b[39;00m data\n",
      "File \u001b[0;32m~/miniforge3/envs/trading_n/lib/python3.8/site-packages/twitter/api.py:4908\u001b[0m, in \u001b[0;36mApi._ParseAndCheckTwitter\u001b[0;34m(self, json_data)\u001b[0m\n\u001b[1;32m   4906\u001b[0m         \u001b[39mraise\u001b[39;00m TwitterError({\u001b[39m'\u001b[39m\u001b[39mmessage\u001b[39m\u001b[39m'\u001b[39m: \u001b[39m\"\u001b[39m\u001b[39mUnauthorized\u001b[39m\u001b[39m\"\u001b[39m})\n\u001b[1;32m   4907\u001b[0m     \u001b[39mraise\u001b[39;00m TwitterError({\u001b[39m'\u001b[39m\u001b[39mUnknown error\u001b[39m\u001b[39m'\u001b[39m: \u001b[39m'\u001b[39m\u001b[39m{0}\u001b[39;00m\u001b[39m'\u001b[39m\u001b[39m.\u001b[39mformat(json_data)})\n\u001b[0;32m-> 4908\u001b[0m \u001b[39mself\u001b[39;49m\u001b[39m.\u001b[39;49m_CheckForTwitterError(data)\n\u001b[1;32m   4909\u001b[0m \u001b[39mreturn\u001b[39;00m data\n",
      "File \u001b[0;32m~/miniforge3/envs/trading_n/lib/python3.8/site-packages/twitter/api.py:4928\u001b[0m, in \u001b[0;36mApi._CheckForTwitterError\u001b[0;34m(data)\u001b[0m\n\u001b[1;32m   4926\u001b[0m     \u001b[39mraise\u001b[39;00m TwitterError(data[\u001b[39m'\u001b[39m\u001b[39merror\u001b[39m\u001b[39m'\u001b[39m])\n\u001b[1;32m   4927\u001b[0m \u001b[39mif\u001b[39;00m \u001b[39m'\u001b[39m\u001b[39merrors\u001b[39m\u001b[39m'\u001b[39m \u001b[39min\u001b[39;00m data:\n\u001b[0;32m-> 4928\u001b[0m     \u001b[39mraise\u001b[39;00m TwitterError(data[\u001b[39m'\u001b[39m\u001b[39merrors\u001b[39m\u001b[39m'\u001b[39m])\n",
      "\u001b[0;31mTwitterError\u001b[0m: [{'message': 'You currently have access to a subset of Twitter API v2 endpoints and limited v1.1 endpoints (e.g. media post, oauth) only. If you need access to this endpoint, you may need a different access level. You can learn more here: https://developer.twitter.com/en/portal/product', 'code': 453}]"
     ]
    }
   ],
   "source": [
    "query = \"방탄소년단\"\n",
    "search = twitter_api.GetSearch(term=query, count=100)\n",
    "\n",
    "for i in search:\n",
    "    print(i.text) # 텍스트만 출력하기"
   ]
  },
  {
   "cell_type": "code",
   "execution_count": null,
   "metadata": {},
   "outputs": [],
   "source": [
    "query = [\"방탄소년단\"]\n",
    "stream = twitter_api.GetStreamFilter(track=query)\n",
    "        \n",
    "for tweet in stream:\n",
    "\tprint(tweet['text'])"
   ]
  }
 ],
 "metadata": {
  "kernelspec": {
   "display_name": "trading_n",
   "language": "python",
   "name": "python3"
  },
  "language_info": {
   "codemirror_mode": {
    "name": "ipython",
    "version": 3
   },
   "file_extension": ".py",
   "mimetype": "text/x-python",
   "name": "python",
   "nbconvert_exporter": "python",
   "pygments_lexer": "ipython3",
   "version": "3.8.13"
  },
  "orig_nbformat": 4
 },
 "nbformat": 4,
 "nbformat_minor": 2
}
