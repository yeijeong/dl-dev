{
 "cells": [
  {
   "cell_type": "code",
   "execution_count": 1,
   "metadata": {},
   "outputs": [],
   "source": [
    "import requests\n",
    "from bs4 import BeautifulSoup\n",
    "import bs4.element\n",
    "import datetime\n",
    "import warnings\n",
    "warnings.filterwarnings('ignore')\n",
    "import re\n",
    "import pandas as pd\n",
    "import time\n",
    "from datetime import datetime"
   ]
  },
  {
   "cell_type": "code",
   "execution_count": 2,
   "metadata": {},
   "outputs": [],
   "source": [
    "import pymysql\n",
    "conn = pymysql.connect(\n",
    "    host='34.64.240.96'\n",
    "    , user='root'\n",
    "    , password='tndusWkd1.'\n",
    "    , db='final_project'\n",
    "    , charset='utf8'\n",
    ")\n",
    "cur = conn.cursor()"
   ]
  },
  {
   "cell_type": "code",
   "execution_count": 7,
   "metadata": {},
   "outputs": [],
   "source": [
    "news_df = pd.DataFrame(\n",
    "    data=[{'date':'20230706', 'title':'test1', 'link':'test1', 'content':'test1'}, {'date':'20230706', 'title':'test2', 'link':'test2', 'content':'test2'}, {'date':'20230706', 'title':'test2', 'link':'test2', 'content':'test2'}],\n",
    "    columns=['date','title','link','content']\n",
    ")"
   ]
  },
  {
   "cell_type": "code",
   "execution_count": 8,
   "metadata": {},
   "outputs": [
    {
     "data": {
      "text/html": [
       "<div>\n",
       "<style scoped>\n",
       "    .dataframe tbody tr th:only-of-type {\n",
       "        vertical-align: middle;\n",
       "    }\n",
       "\n",
       "    .dataframe tbody tr th {\n",
       "        vertical-align: top;\n",
       "    }\n",
       "\n",
       "    .dataframe thead th {\n",
       "        text-align: right;\n",
       "    }\n",
       "</style>\n",
       "<table border=\"1\" class=\"dataframe\">\n",
       "  <thead>\n",
       "    <tr style=\"text-align: right;\">\n",
       "      <th></th>\n",
       "      <th>date</th>\n",
       "      <th>title</th>\n",
       "      <th>link</th>\n",
       "      <th>content</th>\n",
       "    </tr>\n",
       "  </thead>\n",
       "  <tbody>\n",
       "    <tr>\n",
       "      <th>0</th>\n",
       "      <td>20230706</td>\n",
       "      <td>test1</td>\n",
       "      <td>test1</td>\n",
       "      <td>test1</td>\n",
       "    </tr>\n",
       "    <tr>\n",
       "      <th>1</th>\n",
       "      <td>20230706</td>\n",
       "      <td>test2</td>\n",
       "      <td>test2</td>\n",
       "      <td>test2</td>\n",
       "    </tr>\n",
       "    <tr>\n",
       "      <th>2</th>\n",
       "      <td>20230706</td>\n",
       "      <td>test2</td>\n",
       "      <td>test2</td>\n",
       "      <td>test2</td>\n",
       "    </tr>\n",
       "  </tbody>\n",
       "</table>\n",
       "</div>"
      ],
      "text/plain": [
       "       date  title   link content\n",
       "0  20230706  test1  test1   test1\n",
       "1  20230706  test2  test2   test2\n",
       "2  20230706  test2  test2   test2"
      ]
     },
     "execution_count": 8,
     "metadata": {},
     "output_type": "execute_result"
    }
   ],
   "source": [
    "news_df.head()"
   ]
  },
  {
   "cell_type": "code",
   "execution_count": 9,
   "metadata": {},
   "outputs": [],
   "source": [
    "NewsDate = news_df['date'].to_list()\n",
    "NewsTItle = news_df['title'].to_list()\n",
    "NewsUrl = news_df['link'].to_list()\n",
    "NewsContent = news_df['content'].to_list()"
   ]
  },
  {
   "cell_type": "code",
   "execution_count": 10,
   "metadata": {},
   "outputs": [
    {
     "name": "stdout",
     "output_type": "stream",
     "text": [
      "INSERT INTO real_news (NewsDates,NewsTitles,NewsUrls,NewsContents) VALUES ('20230706', 'test1', 'test1', 'test1')\n",
      "INSERT INTO real_news (NewsDates,NewsTitles,NewsUrls,NewsContents) VALUES ('20230706', 'test2', 'test2', 'test2')\n",
      "INSERT INTO real_news (NewsDates,NewsTitles,NewsUrls,NewsContents) VALUES ('20230706', 'test2', 'test2', 'test2')\n"
     ]
    }
   ],
   "source": [
    "for date,title,url,content in zip(NewsDate, NewsTItle, NewsUrl, NewsContent):\n",
    "    sql = \"INSERT INTO real_news (NewsDates,NewsTitles,NewsUrls,NewsContents) VALUES (%s, %s, %s, %s)\" % (\"'\"+date+\"'\", \"'\"+title+\"'\", \"'\"+url+\"'\", \"'\"+content+\"'\")\n",
    "    print(sql)\n",
    "    cur.execute(sql)\n",
    "conn.commit()\n",
    "conn.close()"
   ]
  }
 ],
 "metadata": {
  "kernelspec": {
   "display_name": "pandas-dev",
   "language": "python",
   "name": "python3"
  },
  "language_info": {
   "codemirror_mode": {
    "name": "ipython",
    "version": 3
   },
   "file_extension": ".py",
   "mimetype": "text/x-python",
   "name": "python",
   "nbconvert_exporter": "python",
   "pygments_lexer": "ipython3",
   "version": "3.10.11"
  },
  "orig_nbformat": 4
 },
 "nbformat": 4,
 "nbformat_minor": 2
}
